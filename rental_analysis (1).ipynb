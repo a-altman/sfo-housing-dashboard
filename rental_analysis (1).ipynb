{
 "cells": [
  {
   "cell_type": "markdown",
   "metadata": {},
   "source": [
    "# San Francisco Housing Cost Analysis\n",
    "\n",
    "In this assignment, you will perform fundamental analysis for the San Francisco housing market to allow potential real estate investors to choose rental investment properties."
   ]
  },
  {
   "cell_type": "code",
   "execution_count": null,
   "metadata": {},
   "outputs": [],
   "source": [
    "# imports\n",
    "import panel as pn\n",
    "pn.extension('plotly')\n",
    "import plotly.express as px\n",
    "import pandas as pd\n",
    "import hvplot.pandas\n",
    "import matplotlib.pyplot as plt\n",
    "import numpy as np\n",
    "import os\n",
    "from pathlib import Path\n",
    "from dotenv import load_dotenv\n",
    "\n",
    "import warnings\n",
    "warnings.filterwarnings('ignore')"
   ]
  },
  {
   "cell_type": "code",
   "execution_count": 22,
   "metadata": {},
   "outputs": [],
   "source": [
    "# Read the Mapbox API key\n",
    "load_dotenv()\n",
    "mapbox_api = os.getenv(\"MAPBOX_PUBLIC_KEY\")"
   ]
  },
  {
   "cell_type": "markdown",
   "metadata": {},
   "source": [
    "## Load Data"
   ]
  },
  {
   "cell_type": "code",
   "execution_count": 23,
   "metadata": {},
   "outputs": [
    {
     "data": {
      "text/html": [
       "<div>\n",
       "<style scoped>\n",
       "    .dataframe tbody tr th:only-of-type {\n",
       "        vertical-align: middle;\n",
       "    }\n",
       "\n",
       "    .dataframe tbody tr th {\n",
       "        vertical-align: top;\n",
       "    }\n",
       "\n",
       "    .dataframe thead th {\n",
       "        text-align: right;\n",
       "    }\n",
       "</style>\n",
       "<table border=\"1\" class=\"dataframe\">\n",
       "  <thead>\n",
       "    <tr style=\"text-align: right;\">\n",
       "      <th></th>\n",
       "      <th>neighborhood</th>\n",
       "      <th>sale_price_sqr_foot</th>\n",
       "      <th>housing_units</th>\n",
       "      <th>gross_rent</th>\n",
       "    </tr>\n",
       "    <tr>\n",
       "      <th>year</th>\n",
       "      <th></th>\n",
       "      <th></th>\n",
       "      <th></th>\n",
       "      <th></th>\n",
       "    </tr>\n",
       "  </thead>\n",
       "  <tbody>\n",
       "    <tr>\n",
       "      <th>2010</th>\n",
       "      <td>Alamo Square</td>\n",
       "      <td>291.182946</td>\n",
       "      <td>372560</td>\n",
       "      <td>1239</td>\n",
       "    </tr>\n",
       "    <tr>\n",
       "      <th>2010</th>\n",
       "      <td>Anza Vista</td>\n",
       "      <td>267.932583</td>\n",
       "      <td>372560</td>\n",
       "      <td>1239</td>\n",
       "    </tr>\n",
       "    <tr>\n",
       "      <th>2010</th>\n",
       "      <td>Bayview</td>\n",
       "      <td>170.098665</td>\n",
       "      <td>372560</td>\n",
       "      <td>1239</td>\n",
       "    </tr>\n",
       "    <tr>\n",
       "      <th>2010</th>\n",
       "      <td>Buena Vista Park</td>\n",
       "      <td>347.394919</td>\n",
       "      <td>372560</td>\n",
       "      <td>1239</td>\n",
       "    </tr>\n",
       "    <tr>\n",
       "      <th>2010</th>\n",
       "      <td>Central Richmond</td>\n",
       "      <td>319.027623</td>\n",
       "      <td>372560</td>\n",
       "      <td>1239</td>\n",
       "    </tr>\n",
       "  </tbody>\n",
       "</table>\n",
       "</div>"
      ],
      "text/plain": [
       "          neighborhood  sale_price_sqr_foot  housing_units  gross_rent\n",
       "year                                                                  \n",
       "2010      Alamo Square           291.182946         372560        1239\n",
       "2010        Anza Vista           267.932583         372560        1239\n",
       "2010           Bayview           170.098665         372560        1239\n",
       "2010  Buena Vista Park           347.394919         372560        1239\n",
       "2010  Central Richmond           319.027623         372560        1239"
      ]
     },
     "execution_count": 23,
     "metadata": {},
     "output_type": "execute_result"
    }
   ],
   "source": [
    "# Read the census data into a Pandas DataFrame\n",
    "file_path = Path(\"../SFO-HOUSING-DASHBOARD/sfo_neighborhoods_census_data.csv\")\n",
    "sfo_data = pd.read_csv(file_path, index_col=\"year\")\n",
    "sfo_data.head()"
   ]
  },
  {
   "cell_type": "markdown",
   "metadata": {},
   "source": [
    "- - - "
   ]
  },
  {
   "cell_type": "markdown",
   "metadata": {},
   "source": [
    "## Housing Units Per Year\n",
    "\n",
    "In this section, you will calculate the number of housing units per year and visualize the results as a bar chart using the Pandas plot function.\n",
    "\n",
    "**Hint:** Use the Pandas `groupby` function.\n",
    "\n",
    "**Optional challenge:** Use the min, max, and std to scale the y limits of the chart.\n",
    "\n"
   ]
  },
  {
   "cell_type": "code",
   "execution_count": 24,
   "metadata": {},
   "outputs": [
    {
     "data": {
      "text/html": [
       "<div>\n",
       "<style scoped>\n",
       "    .dataframe tbody tr th:only-of-type {\n",
       "        vertical-align: middle;\n",
       "    }\n",
       "\n",
       "    .dataframe tbody tr th {\n",
       "        vertical-align: top;\n",
       "    }\n",
       "\n",
       "    .dataframe thead th {\n",
       "        text-align: right;\n",
       "    }\n",
       "</style>\n",
       "<table border=\"1\" class=\"dataframe\">\n",
       "  <thead>\n",
       "    <tr style=\"text-align: right;\">\n",
       "      <th></th>\n",
       "      <th>housing_units</th>\n",
       "    </tr>\n",
       "    <tr>\n",
       "      <th>year</th>\n",
       "      <th></th>\n",
       "    </tr>\n",
       "  </thead>\n",
       "  <tbody>\n",
       "    <tr>\n",
       "      <th>2010</th>\n",
       "      <td>372560.0</td>\n",
       "    </tr>\n",
       "    <tr>\n",
       "      <th>2011</th>\n",
       "      <td>374507.0</td>\n",
       "    </tr>\n",
       "    <tr>\n",
       "      <th>2012</th>\n",
       "      <td>376454.0</td>\n",
       "    </tr>\n",
       "    <tr>\n",
       "      <th>2013</th>\n",
       "      <td>378401.0</td>\n",
       "    </tr>\n",
       "    <tr>\n",
       "      <th>2014</th>\n",
       "      <td>380348.0</td>\n",
       "    </tr>\n",
       "  </tbody>\n",
       "</table>\n",
       "</div>"
      ],
      "text/plain": [
       "      housing_units\n",
       "year               \n",
       "2010       372560.0\n",
       "2011       374507.0\n",
       "2012       376454.0\n",
       "2013       378401.0\n",
       "2014       380348.0"
      ]
     },
     "execution_count": 24,
     "metadata": {},
     "output_type": "execute_result"
    }
   ],
   "source": [
    "# Calculate the mean number of housing units per year (hint: use groupby) \n",
    "avg_units = sfo_data[['housing_units']].groupby('year').mean()\n",
    "avg_units.head()"
   ]
  },
  {
   "cell_type": "code",
   "execution_count": 25,
   "metadata": {},
   "outputs": [],
   "source": [
    "# Save the dataframe as a csv file\n",
    "avg_units.to_csv(\"../SFO-HOUSING-DASHBOARD/sfo_housing_units.csv\")"
   ]
  },
  {
   "cell_type": "code",
   "execution_count": 26,
   "metadata": {},
   "outputs": [
    {
     "data": {
      "text/plain": [
       "<AxesSubplot:title={'center':'Average Housing Units Sold in San Francisco (2010 - 2016)'}, xlabel='Year', ylabel='Housing Units'>"
      ]
     },
     "execution_count": 26,
     "metadata": {},
     "output_type": "execute_result"
    },
    {
     "data": {
      "image/png": "[encoded data removed]",
      "text/plain": [
       "<Figure size 432x288 with 1 Axes>"
      ]
     },
     "metadata": {
      "needs_background": "light"
     },
     "output_type": "display_data"
    }
   ],
   "source": [
    "# Use the Pandas plot function to plot the average housing units per year.\n",
    "# Note: You will need to manually adjust the y limit of the chart using the min and max values from above.\n",
    "house_std = avg_units[\"housing_units\"].std()\n",
    "house_plot_min = avg_units[\"housing_units\"].min() - house_std\n",
    "house_plot_max = avg_units[\"housing_units\"].max() + house_std\n",
    "\n",
    "avg_units.plot.bar(ylim=(house_plot_min,house_plot_max),title=\"Average Housing Units Sold in San Francisco (2010 - 2016)\",xlabel=\"Year\",ylabel=\"Housing Units\")"
   ]
  },
  {
   "cell_type": "markdown",
   "metadata": {},
   "source": [
    "- - - "
   ]
  },
  {
   "cell_type": "markdown",
   "metadata": {},
   "source": [
    "\n",
    "## Average Housing Costs in San Francisco Per Year\n",
    "\n",
    "In this section, you will calculate the average monthly rent and the average price per square foot for each year. An investor may wish to better understand the sales price of the rental property over time. For example, a customer will want to know if they should expect an increase or decrease in the property value over time so they can determine how long to hold the rental property.  Plot the results as two line charts.\n",
    "\n",
    "**Optional challenge:** Plot each line chart in a different color."
   ]
  },
  {
   "cell_type": "code",
   "execution_count": 27,
   "metadata": {},
   "outputs": [
    {
     "data": {
      "text/html": [
       "<div>\n",
       "<style scoped>\n",
       "    .dataframe tbody tr th:only-of-type {\n",
       "        vertical-align: middle;\n",
       "    }\n",
       "\n",
       "    .dataframe tbody tr th {\n",
       "        vertical-align: top;\n",
       "    }\n",
       "\n",
       "    .dataframe thead th {\n",
       "        text-align: right;\n",
       "    }\n",
       "</style>\n",
       "<table border=\"1\" class=\"dataframe\">\n",
       "  <thead>\n",
       "    <tr style=\"text-align: right;\">\n",
       "      <th></th>\n",
       "      <th>sale_price_sqr_foot</th>\n",
       "      <th>gross_rent</th>\n",
       "    </tr>\n",
       "    <tr>\n",
       "      <th>year</th>\n",
       "      <th></th>\n",
       "      <th></th>\n",
       "    </tr>\n",
       "  </thead>\n",
       "  <tbody>\n",
       "    <tr>\n",
       "      <th>2010</th>\n",
       "      <td>369.344353</td>\n",
       "      <td>1239.0</td>\n",
       "    </tr>\n",
       "    <tr>\n",
       "      <th>2011</th>\n",
       "      <td>341.903429</td>\n",
       "      <td>1530.0</td>\n",
       "    </tr>\n",
       "    <tr>\n",
       "      <th>2012</th>\n",
       "      <td>399.389968</td>\n",
       "      <td>2324.0</td>\n",
       "    </tr>\n",
       "    <tr>\n",
       "      <th>2013</th>\n",
       "      <td>483.600304</td>\n",
       "      <td>2971.0</td>\n",
       "    </tr>\n",
       "    <tr>\n",
       "      <th>2014</th>\n",
       "      <td>556.277273</td>\n",
       "      <td>3528.0</td>\n",
       "    </tr>\n",
       "    <tr>\n",
       "      <th>2015</th>\n",
       "      <td>632.540352</td>\n",
       "      <td>3739.0</td>\n",
       "    </tr>\n",
       "    <tr>\n",
       "      <th>2016</th>\n",
       "      <td>697.643709</td>\n",
       "      <td>4390.0</td>\n",
       "    </tr>\n",
       "  </tbody>\n",
       "</table>\n",
       "</div>"
      ],
      "text/plain": [
       "      sale_price_sqr_foot  gross_rent\n",
       "year                                 \n",
       "2010           369.344353      1239.0\n",
       "2011           341.903429      1530.0\n",
       "2012           399.389968      2324.0\n",
       "2013           483.600304      2971.0\n",
       "2014           556.277273      3528.0\n",
       "2015           632.540352      3739.0\n",
       "2016           697.643709      4390.0"
      ]
     },
     "execution_count": 27,
     "metadata": {},
     "output_type": "execute_result"
    }
   ],
   "source": [
    "# Calculate the average sale price per square foot and average gross rent\n",
    "avg_prices = sfo_data.groupby('year')['sale_price_sqr_foot','gross_rent'].mean()\n",
    "avg_prices"
   ]
  },
  {
   "cell_type": "code",
   "execution_count": 28,
   "metadata": {},
   "outputs": [
    {
     "data": {
      "text/plain": [
       "<AxesSubplot:title={'center':'Average Price per ft^2 San Francisco Homes Sold 2010 - 2016'}, xlabel='Year', ylabel='Price per ft^2 ($USD)'>"
      ]
     },
     "execution_count": 28,
     "metadata": {},
     "output_type": "execute_result"
    },
    {
     "data": {
      "image/png": "[encoded data removed]",
      "text/plain": [
       "<Figure size 432x288 with 1 Axes>"
      ]
     },
     "metadata": {
      "needs_background": "light"
     },
     "output_type": "display_data"
    }
   ],
   "source": [
    "# Create two line charts, one to plot the average sale price per square foot and another for average montly rent\n",
    "\n",
    "# Line chart for average sale price per square foot\n",
    "avg_prices['sale_price_sqr_foot'].plot(title=\"Average Price per ft^2 San Francisco Homes Sold 2010 - 2016\",xlabel=\"Year\",ylabel=\"Price per ft^2 ($USD)\")"
   ]
  },
  {
   "cell_type": "code",
   "execution_count": 29,
   "metadata": {},
   "outputs": [
    {
     "data": {
      "text/plain": [
       "<AxesSubplot:title={'center':'Average San Francisco Rent (2010 - 2016)'}, xlabel='Year', ylabel='Average Rent ($USD)'>"
      ]
     },
     "execution_count": 29,
     "metadata": {},
     "output_type": "execute_result"
    },
    {
     "data": {
      "image/png": "[encoded data removed]",
      "text/plain": [
       "<Figure size 432x288 with 1 Axes>"
      ]
     },
     "metadata": {
      "needs_background": "light"
     },
     "output_type": "display_data"
    }
   ],
   "source": [
    "# Line chart for average montly rent\n",
    "avg_prices['gross_rent'].plot(title=\"Average San Francisco Rent (2010 - 2016)\",xlabel=\"Year\",ylabel=\"Average Rent ($USD)\")"
   ]
  },
  {
   "cell_type": "markdown",
   "metadata": {},
   "source": [
    "- - - "
   ]
  },
  {
   "cell_type": "markdown",
   "metadata": {},
   "source": [
    "## Average Prices by Neighborhood\n",
    "\n",
    "In this section, you will use hvplot to create two interactive visulizations of average prices with a dropdown selector for the neighborhood. The first visualization will be a line plot showing the trend of average price per square foot over time for each neighborhood.  The second will be a line plot showing the trend of average montly rent over time for each neighborhood.\n",
    "\n",
    "**Hint:** It will be easier to create a new DataFrame from grouping the data and calculating the mean prices for each year and neighborhood"
   ]
  },
  {
   "cell_type": "code",
   "execution_count": 30,
   "metadata": {},
   "outputs": [
    {
     "data": {
      "text/html": [
       "<div>\n",
       "<style scoped>\n",
       "    .dataframe tbody tr th:only-of-type {\n",
       "        vertical-align: middle;\n",
       "    }\n",
       "\n",
       "    .dataframe tbody tr th {\n",
       "        vertical-align: top;\n",
       "    }\n",
       "\n",
       "    .dataframe thead th {\n",
       "        text-align: right;\n",
       "    }\n",
       "</style>\n",
       "<table border=\"1\" class=\"dataframe\">\n",
       "  <thead>\n",
       "    <tr style=\"text-align: right;\">\n",
       "      <th></th>\n",
       "      <th></th>\n",
       "      <th>sale_price_sqr_foot</th>\n",
       "      <th>housing_units</th>\n",
       "      <th>gross_rent</th>\n",
       "    </tr>\n",
       "    <tr>\n",
       "      <th>year</th>\n",
       "      <th>neighborhood</th>\n",
       "      <th></th>\n",
       "      <th></th>\n",
       "      <th></th>\n",
       "    </tr>\n",
       "  </thead>\n",
       "  <tbody>\n",
       "    <tr>\n",
       "      <th rowspan=\"5\" valign=\"top\">2010</th>\n",
       "      <th>Alamo Square</th>\n",
       "      <td>291.182946</td>\n",
       "      <td>372560.0</td>\n",
       "      <td>1239.0</td>\n",
       "    </tr>\n",
       "    <tr>\n",
       "      <th>Anza Vista</th>\n",
       "      <td>267.932583</td>\n",
       "      <td>372560.0</td>\n",
       "      <td>1239.0</td>\n",
       "    </tr>\n",
       "    <tr>\n",
       "      <th>Bayview</th>\n",
       "      <td>170.098665</td>\n",
       "      <td>372560.0</td>\n",
       "      <td>1239.0</td>\n",
       "    </tr>\n",
       "    <tr>\n",
       "      <th>Buena Vista Park</th>\n",
       "      <td>347.394919</td>\n",
       "      <td>372560.0</td>\n",
       "      <td>1239.0</td>\n",
       "    </tr>\n",
       "    <tr>\n",
       "      <th>Central Richmond</th>\n",
       "      <td>319.027623</td>\n",
       "      <td>372560.0</td>\n",
       "      <td>1239.0</td>\n",
       "    </tr>\n",
       "    <tr>\n",
       "      <th>...</th>\n",
       "      <th>...</th>\n",
       "      <td>...</td>\n",
       "      <td>...</td>\n",
       "      <td>...</td>\n",
       "    </tr>\n",
       "    <tr>\n",
       "      <th rowspan=\"5\" valign=\"top\">2016</th>\n",
       "      <th>Telegraph Hill</th>\n",
       "      <td>903.049771</td>\n",
       "      <td>384242.0</td>\n",
       "      <td>4390.0</td>\n",
       "    </tr>\n",
       "    <tr>\n",
       "      <th>Twin Peaks</th>\n",
       "      <td>970.085470</td>\n",
       "      <td>384242.0</td>\n",
       "      <td>4390.0</td>\n",
       "    </tr>\n",
       "    <tr>\n",
       "      <th>Van Ness/ Civic Center</th>\n",
       "      <td>552.602567</td>\n",
       "      <td>384242.0</td>\n",
       "      <td>4390.0</td>\n",
       "    </tr>\n",
       "    <tr>\n",
       "      <th>Visitacion Valley</th>\n",
       "      <td>328.319007</td>\n",
       "      <td>384242.0</td>\n",
       "      <td>4390.0</td>\n",
       "    </tr>\n",
       "    <tr>\n",
       "      <th>Westwood Park</th>\n",
       "      <td>631.195426</td>\n",
       "      <td>384242.0</td>\n",
       "      <td>4390.0</td>\n",
       "    </tr>\n",
       "  </tbody>\n",
       "</table>\n",
       "<p>397 rows × 3 columns</p>\n",
       "</div>"
      ],
      "text/plain": [
       "                             sale_price_sqr_foot  housing_units  gross_rent\n",
       "year neighborhood                                                          \n",
       "2010 Alamo Square                     291.182946       372560.0      1239.0\n",
       "     Anza Vista                       267.932583       372560.0      1239.0\n",
       "     Bayview                          170.098665       372560.0      1239.0\n",
       "     Buena Vista Park                 347.394919       372560.0      1239.0\n",
       "     Central Richmond                 319.027623       372560.0      1239.0\n",
       "...                                          ...            ...         ...\n",
       "2016 Telegraph Hill                   903.049771       384242.0      4390.0\n",
       "     Twin Peaks                       970.085470       384242.0      4390.0\n",
       "     Van Ness/ Civic Center           552.602567       384242.0      4390.0\n",
       "     Visitacion Valley                328.319007       384242.0      4390.0\n",
       "     Westwood Park                    631.195426       384242.0      4390.0\n",
       "\n",
       "[397 rows x 3 columns]"
      ]
     },
     "execution_count": 30,
     "metadata": {},
     "output_type": "execute_result"
    }
   ],
   "source": [
    "# Group by year and neighborhood and then create a new dataframe of the mean values\n",
    "neighborhood_avgs = sfo_data.groupby(['year','neighborhood']).mean()\n",
    "neighborhood_avgs"
   ]
  },
  {
   "cell_type": "code",
   "execution_count": 31,
   "metadata": {},
   "outputs": [
    {
     "data": {},
     "metadata": {},
     "output_type": "display_data"
    },
    {
     "data": {
      "application/vnd.holoviews_exec.v0+json": "",
      "text/html": [
       "<div id='1751'>\n",
       "\n",
       "\n",
       "\n",
       "\n",
       "\n",
       "  <div class=\"bk-root\" id=\"e215b7e5-ebf6-43d5-a68f-f702e32b40db\" data-root-id=\"1751\"></div>\n",
       "</div>\n",
       "<script type=\"application/javascript\">(function(root) {\n",
       "  function embed_document(root) {\n",
       "    var docs_json = {\"902f2ade-bd02-4408-a9a8-09ba26009035\":{\"defs\":[{\"extends\":null,\"module\":null,\"name\":\"ReactiveHTML1\",\"overrides\":[],\"properties\":[]},{\"extends\":null,\"module\":null,\"name\":\"FlexBox1\",\"overrides\":[],\"properties\":[{\"default\":\"flex-start\",\"kind\":null,\"name\":\"align_content\"},{\"default\":\"flex-start\",\"kind\":null,\"name\":\"align_items\"},{\"default\":\"row\",\"kind\":null,\"name\":\"flex_direction\"},{\"default\":\"wrap\",\"kind\":null,\"name\":\"flex_wrap\"},{\"default\":\"flex-start\",\"kind\":null,\"name\":\"justify_content\"}]},{\"extends\":null,\"module\":null,\"name\":\"TemplateActions1\",\"overrides\":[],\"properties\":[{\"default\":0,\"kind\":null,\"name\":\"open_modal\"},{\"default\":0,\"kind\":null,\"name\":\"close_modal\"}]},{\"extends\":null,\"module\":null,\"name\":\"MaterialTemplateActions1\",\"overrides\":[],\"properties\":[{\"default\":0,\"kind\":null,\"name\":\"open_modal\"},{\"default\":0,\"kind\":null,\"name\":\"close_modal\"}]}],\"roots\":{\"references\":[{\"attributes\":{},\"id\":\"1771\",\"type\":\"BasicTicker\"},{\"attributes\":{},\"id\":\"1767\",\"type\":\"BasicTicker\"},{\"attributes\":{\"margin\":[5,5,5,5],\"name\":\"HSpacer03069\",\"sizing_mode\":\"stretch_width\"},\"id\":\"1752\",\"type\":\"Spacer\"},{\"attributes\":{\"coordinates\":null,\"group\":null,\"text\":\"Average Home Sale Price per Square Foot\",\"text_color\":\"black\",\"text_font_size\":\"12pt\"},\"id\":\"1758\",\"type\":\"Title\"},{\"attributes\":{\"label\":{\"value\":\"neighborhood\"},\"renderers\":[{\"id\":\"1799\"}]},\"id\":\"1812\",\"type\":\"LegendItem\"},{\"attributes\":{},\"id\":\"1831\",\"type\":\"UnionRenderers\"},{\"attributes\":{},\"id\":\"1762\",\"type\":\"LinearScale\"},{\"attributes\":{\"line_color\":\"#30a2da\",\"line_width\":2,\"x\":{\"field\":\"year\"},\"y\":{\"field\":\"sale_price_sqr_foot\"}},\"id\":\"1813\",\"type\":\"Line\"},{\"attributes\":{\"callback\":null,\"renderers\":[{\"id\":\"1799\"},{\"id\":\"1820\"}],\"tags\":[\"hv_created\"],\"tooltips\":[[\"year\",\"@{year}\"],[\"sale_price_sqr_foot\",\"@{sale_price_sqr_foot}\"]]},\"id\":\"1755\",\"type\":\"HoverTool\"},{\"attributes\":{\"axis\":{\"id\":\"1766\"},\"coordinates\":null,\"grid_line_color\":null,\"group\":null,\"ticker\":null},\"id\":\"1769\",\"type\":\"Grid\"},{\"attributes\":{\"margin\":[5,5,5,5],\"name\":\"VSpacer03067\",\"sizing_mode\":\"stretch_height\"},\"id\":\"1955\",\"type\":\"Spacer\"},{\"attributes\":{\"axis_label\":\"\",\"coordinates\":null,\"formatter\":{\"id\":\"1791\"},\"group\":null,\"major_label_policy\":{\"id\":\"1792\"},\"ticker\":{\"id\":\"1771\"}},\"id\":\"1770\",\"type\":\"LinearAxis\"},{\"attributes\":{\"line_color\":\"#30a2da\",\"line_width\":2,\"x\":{\"field\":\"year\"},\"y\":{\"field\":\"sale_price_sqr_foot\"}},\"id\":\"1796\",\"type\":\"Line\"},{\"attributes\":{\"source\":{\"id\":\"1814\"}},\"id\":\"1821\",\"type\":\"CDSView\"},{\"attributes\":{},\"id\":\"1808\",\"type\":\"UnionRenderers\"},{\"attributes\":{\"axis_label\":\"year\",\"coordinates\":null,\"formatter\":{\"id\":\"1788\"},\"group\":null,\"major_label_policy\":{\"id\":\"1789\"},\"ticker\":{\"id\":\"1767\"}},\"id\":\"1766\",\"type\":\"LinearAxis\"},{\"attributes\":{\"data\":{\"sale_price_sqr_foot\":{\"__ndarray__\":\"2EyjeIIVd0DdWSdydF51QJbGjU899nhAGuyk2Jo5fkDt8CTbN2KBQG/cF6RSxINAI/f5UCbNhUA=\",\"dtype\":\"float64\",\"order\":\"little\",\"shape\":[7]},\"year\":[2010,2011,2012,2013,2014,2015,2016]},\"selected\":{\"id\":\"1815\"},\"selection_policy\":{\"id\":\"1831\"}},\"id\":\"1814\",\"type\":\"ColumnDataSource\"},{\"attributes\":{\"client_comm_id\":\"f31b84a7e9644b73aa97a082d6df6624\",\"comm_id\":\"293b14148472473aa7072ca1a387fdbe\",\"plot_id\":\"1751\"},\"id\":\"1992\",\"type\":\"panel.models.comm_manager.CommManager\"},{\"attributes\":{\"coordinates\":null,\"data_source\":{\"id\":\"1814\"},\"glyph\":{\"id\":\"1817\"},\"group\":null,\"hover_glyph\":null,\"muted_glyph\":{\"id\":\"1819\"},\"nonselection_glyph\":{\"id\":\"1818\"},\"selection_glyph\":{\"id\":\"1835\"},\"view\":{\"id\":\"1821\"}},\"id\":\"1820\",\"type\":\"GlyphRenderer\"},{\"attributes\":{\"line_color\":\"#fc4f30\",\"line_width\":2,\"x\":{\"field\":\"year\"},\"y\":{\"field\":\"sale_price_sqr_foot\"}},\"id\":\"1835\",\"type\":\"Line\"},{\"attributes\":{},\"id\":\"1789\",\"type\":\"AllLabels\"},{\"attributes\":{\"axis\":{\"id\":\"1770\"},\"coordinates\":null,\"dimension\":1,\"grid_line_color\":null,\"group\":null,\"ticker\":null},\"id\":\"1773\",\"type\":\"Grid\"},{\"attributes\":{},\"id\":\"1794\",\"type\":\"Selection\"},{\"attributes\":{\"children\":[{\"id\":\"1752\"},{\"id\":\"1757\"},{\"id\":\"1950\"},{\"id\":\"1951\"}],\"margin\":[0,0,0,0],\"name\":\"Row03060\"},\"id\":\"1751\",\"type\":\"Row\"},{\"attributes\":{\"coordinates\":null,\"data_source\":{\"id\":\"1793\"},\"glyph\":{\"id\":\"1796\"},\"group\":null,\"hover_glyph\":null,\"muted_glyph\":{\"id\":\"1798\"},\"nonselection_glyph\":{\"id\":\"1797\"},\"selection_glyph\":{\"id\":\"1813\"},\"view\":{\"id\":\"1800\"}},\"id\":\"1799\",\"type\":\"GlyphRenderer\"},{\"attributes\":{\"source\":{\"id\":\"1793\"}},\"id\":\"1800\",\"type\":\"CDSView\"},{\"attributes\":{\"label\":{\"value\":\"San Francisco\"},\"renderers\":[{\"id\":\"1820\"}]},\"id\":\"1834\",\"type\":\"LegendItem\"},{\"attributes\":{\"below\":[{\"id\":\"1766\"}],\"center\":[{\"id\":\"1769\"},{\"id\":\"1773\"},{\"id\":\"1811\"}],\"height\":300,\"left\":[{\"id\":\"1770\"}],\"margin\":[5,5,5,5],\"min_border_bottom\":10,\"min_border_left\":10,\"min_border_right\":10,\"min_border_top\":10,\"renderers\":[{\"id\":\"1799\"},{\"id\":\"1820\"}],\"sizing_mode\":\"fixed\",\"title\":{\"id\":\"1758\"},\"toolbar\":{\"id\":\"1780\"},\"width\":700,\"x_range\":{\"id\":\"1753\"},\"x_scale\":{\"id\":\"1762\"},\"y_range\":{\"id\":\"1754\"},\"y_scale\":{\"id\":\"1764\"}},\"id\":\"1757\",\"subtype\":\"Figure\",\"type\":\"Plot\"},{\"attributes\":{\"line_alpha\":0.2,\"line_color\":\"#fc4f30\",\"line_width\":2,\"x\":{\"field\":\"year\"},\"y\":{\"field\":\"sale_price_sqr_foot\"}},\"id\":\"1819\",\"type\":\"Line\"},{\"attributes\":{\"margin\":[5,5,5,5],\"name\":\"HSpacer03070\",\"sizing_mode\":\"stretch_width\"},\"id\":\"1950\",\"type\":\"Spacer\"},{\"attributes\":{},\"id\":\"1788\",\"type\":\"BasicTickFormatter\"},{\"attributes\":{},\"id\":\"1791\",\"type\":\"BasicTickFormatter\"},{\"attributes\":{\"click_policy\":\"mute\",\"coordinates\":null,\"group\":null,\"items\":[{\"id\":\"1812\"},{\"id\":\"1834\"}]},\"id\":\"1811\",\"type\":\"Legend\"},{\"attributes\":{\"margin\":[5,5,5,5],\"name\":\"VSpacer03066\",\"sizing_mode\":\"stretch_height\"},\"id\":\"1952\",\"type\":\"Spacer\"},{\"attributes\":{},\"id\":\"1792\",\"type\":\"AllLabels\"},{\"attributes\":{\"tools\":[{\"id\":\"1755\"},{\"id\":\"1774\"},{\"id\":\"1775\"},{\"id\":\"1776\"},{\"id\":\"1777\"},{\"id\":\"1778\"}]},\"id\":\"1780\",\"type\":\"Toolbar\"},{\"attributes\":{\"line_alpha\":0.2,\"line_color\":\"#30a2da\",\"line_width\":2,\"x\":{\"field\":\"year\"},\"y\":{\"field\":\"sale_price_sqr_foot\"}},\"id\":\"1798\",\"type\":\"Line\"},{\"attributes\":{\"children\":[{\"id\":\"1952\"},{\"id\":\"1953\"},{\"id\":\"1955\"}],\"margin\":[0,0,0,0],\"name\":\"Column03068\"},\"id\":\"1951\",\"type\":\"Column\"},{\"attributes\":{\"end\":2016.0,\"reset_end\":2016.0,\"reset_start\":2010.0,\"start\":2010.0,\"tags\":[[[\"year\",\"year\",null]]]},\"id\":\"1753\",\"type\":\"Range1d\"},{\"attributes\":{\"data\":{\"sale_price_sqr_foot\":{\"__ndarray__\":\"NbdCWO0yckCO/dHcbwhxQBWuopot42ZAIxUh0LQ8eEAaETHKGEd+QOU+3lDt0IJA/KDTmLVPdUA=\",\"dtype\":\"float64\",\"order\":\"little\",\"shape\":[7]},\"year\":[2010,2011,2012,2013,2014,2015,2016]},\"selected\":{\"id\":\"1794\"},\"selection_policy\":{\"id\":\"1808\"}},\"id\":\"1793\",\"type\":\"ColumnDataSource\"},{\"attributes\":{\"bottom_units\":\"screen\",\"coordinates\":null,\"fill_alpha\":0.5,\"fill_color\":\"lightgrey\",\"group\":null,\"left_units\":\"screen\",\"level\":\"overlay\",\"line_alpha\":1.0,\"line_color\":\"black\",\"line_dash\":[4,4],\"line_width\":2,\"right_units\":\"screen\",\"syncable\":false,\"top_units\":\"screen\"},\"id\":\"1779\",\"type\":\"BoxAnnotation\"},{\"attributes\":{\"line_alpha\":0.1,\"line_color\":\"#fc4f30\",\"line_width\":2,\"x\":{\"field\":\"year\"},\"y\":{\"field\":\"sale_price_sqr_foot\"}},\"id\":\"1818\",\"type\":\"Line\"},{\"attributes\":{},\"id\":\"1774\",\"type\":\"SaveTool\"},{\"attributes\":{},\"id\":\"1775\",\"type\":\"PanTool\"},{\"attributes\":{\"line_alpha\":0.1,\"line_color\":\"#30a2da\",\"line_width\":2,\"x\":{\"field\":\"year\"},\"y\":{\"field\":\"sale_price_sqr_foot\"}},\"id\":\"1797\",\"type\":\"Line\"},{\"attributes\":{},\"id\":\"1778\",\"type\":\"ResetTool\"},{\"attributes\":{},\"id\":\"1776\",\"type\":\"WheelZoomTool\"},{\"attributes\":{},\"id\":\"1764\",\"type\":\"LinearScale\"},{\"attributes\":{\"children\":[{\"id\":\"1954\"}],\"css_classes\":[\"panel-widget-box\"],\"margin\":[5,5,5,5],\"name\":\"WidgetBox03061\"},\"id\":\"1953\",\"type\":\"Column\"},{\"attributes\":{\"overlay\":{\"id\":\"1779\"}},\"id\":\"1777\",\"type\":\"BoxZoomTool\"},{\"attributes\":{\"margin\":[20,20,20,20],\"min_width\":250,\"options\":[\"Alamo Square\",\"Anza Vista\",\"Bayview\",\"Buena Vista Park\",\"Central Richmond\",\"Central Sunset\",\"Corona Heights\",\"Cow Hollow\",\"Croker Amazon\",\"Diamond Heights\",\"Downtown \",\"Eureka Valley/Dolores Heights\",\"Excelsior\",\"Financial District North\",\"Financial District South\",\"Forest Knolls\",\"Glen Park\",\"Golden Gate Heights\",\"Haight Ashbury\",\"Hayes Valley\",\"Hunters Point\",\"Ingleside \",\"Inner Mission\",\"Inner Parkside\",\"Inner Richmond\",\"Inner Sunset\",\"Jordan Park/Laurel Heights\",\"Lake --The Presidio\",\"Lone Mountain\",\"Lower Pacific Heights\",\"Marina\",\"Miraloma Park\",\"Mission Bay\",\"Mission Dolores\",\"Mission Terrace\",\"Nob Hill\",\"Noe Valley\",\"Oceanview\",\"Outer Parkside\",\"Outer Richmond \",\"Outer Sunset\",\"Pacific Heights\",\"Park North\",\"Parkside\",\"Parnassus/Ashbury Heights\",\"Portola\",\"Potrero Hill\",\"Presidio Heights\",\"Russian Hill\",\"South Beach\",\"South of Market\",\"Sunnyside\",\"Telegraph Hill\",\"Twin Peaks\",\"Union Square District\",\"Van Ness/ Civic Center\",\"West Portal\",\"Western Addition\",\"Yerba Buena\",\"Bernal Heights \",\"Clarendon Heights\",\"Duboce Triangle\",\"Ingleside Heights\",\"North Beach\",\"North Waterfront\",\"Outer Mission\",\"Westwood Highlands\",\"Merced Heights\",\"Midtown Terrace\",\"Visitacion Valley\",\"Silver Terrace\",\"Westwood Park\",\"Bayview Heights\"],\"title\":\"neighborhood\",\"value\":\"Alamo Square\",\"width\":250},\"id\":\"1954\",\"type\":\"Select\"},{\"attributes\":{},\"id\":\"1815\",\"type\":\"Selection\"},{\"attributes\":{\"line_color\":\"#fc4f30\",\"line_width\":2,\"x\":{\"field\":\"year\"},\"y\":{\"field\":\"sale_price_sqr_foot\"}},\"id\":\"1817\",\"type\":\"Line\"},{\"attributes\":{\"end\":749.0981483615556,\"reset_end\":749.0981483615556,\"reset_start\":131.6448776762222,\"start\":131.6448776762222,\"tags\":[[[\"sale_price_sqr_foot\",\"sale_price_sqr_foot\",null]]]},\"id\":\"1754\",\"type\":\"Range1d\"}],\"root_ids\":[\"1751\",\"1992\"]},\"title\":\"Bokeh Application\",\"version\":\"2.4.2\"}};\n",
       "    var render_items = [{\"docid\":\"902f2ade-bd02-4408-a9a8-09ba26009035\",\"root_ids\":[\"1751\"],\"roots\":{\"1751\":\"e215b7e5-ebf6-43d5-a68f-f702e32b40db\"}}];\n",
       "    root.Bokeh.embed.embed_items_notebook(docs_json, render_items);\n",
       "  }\n",
       "  if (root.Bokeh !== undefined && root.Bokeh.Panel !== undefined && ( root['Plotly'] !== undefined)) {\n",
       "    embed_document(root);\n",
       "  } else {\n",
       "    var attempts = 0;\n",
       "    var timer = setInterval(function(root) {\n",
       "      if (root.Bokeh !== undefined && root.Bokeh.Panel !== undefined && (root['Plotly'] !== undefined)) {\n",
       "        clearInterval(timer);\n",
       "        embed_document(root);\n",
       "      } else if (document.readyState == \"complete\") {\n",
       "        attempts++;\n",
       "        if (attempts > 200) {\n",
       "          clearInterval(timer);\n",
       "          console.log(\"Bokeh: ERROR: Unable to run BokehJS code because BokehJS library is missing\");\n",
       "        }\n",
       "      }\n",
       "    }, 25, root)\n",
       "  }\n",
       "})(window);</script>"
      ],
      "text/plain": [
       ":DynamicMap   [neighborhood]\n",
       "   :Overlay\n",
       "      .Curve.Neighborhood  :Curve   [year]   (sale_price_sqr_foot)\n",
       "      .Curve.San_Francisco :Curve   [year]   (sale_price_sqr_foot)"
      ]
     },
     "execution_count": 31,
     "metadata": {
      "application/vnd.holoviews_exec.v0+json": {
       "id": "1751"
      }
     },
     "output_type": "execute_result"
    }
   ],
   "source": [
    "# Use hvplot to create an interactive line chart of the average price per sq ft.\n",
    "# The plot should have a dropdown selector for the neighborhood\n",
    "neighborhood_avgs['sale_price_sqr_foot'].hvplot.line(title=\"Average Home Sale Price per Square Foot\",groupby='neighborhood',label='neighborhood')*avg_prices['sale_price_sqr_foot'].hvplot.line(label=\"San Francisco\")"
   ]
  },
  {
   "cell_type": "code",
   "execution_count": 32,
   "metadata": {},
   "outputs": [
    {
     "data": {},
     "metadata": {},
     "output_type": "display_data"
    },
    {
     "data": {
      "application/vnd.holoviews_exec.v0+json": "",
      "text/html": [
       "<div id='2053'>\n",
       "\n",
       "\n",
       "\n",
       "\n",
       "\n",
       "  <div class=\"bk-root\" id=\"6be19c22-4075-4387-a373-54da9e0cbf60\" data-root-id=\"2053\"></div>\n",
       "</div>\n",
       "<script type=\"application/javascript\">(function(root) {\n",
       "  function embed_document(root) {\n",
       "    var docs_json = {\"e07b21c3-97da-4085-bb84-45b04663a740\":{\"defs\":[{\"extends\":null,\"module\":null,\"name\":\"ReactiveHTML1\",\"overrides\":[],\"properties\":[]},{\"extends\":null,\"module\":null,\"name\":\"FlexBox1\",\"overrides\":[],\"properties\":[{\"default\":\"flex-start\",\"kind\":null,\"name\":\"align_content\"},{\"default\":\"flex-start\",\"kind\":null,\"name\":\"align_items\"},{\"default\":\"row\",\"kind\":null,\"name\":\"flex_direction\"},{\"default\":\"wrap\",\"kind\":null,\"name\":\"flex_wrap\"},{\"default\":\"flex-start\",\"kind\":null,\"name\":\"justify_content\"}]},{\"extends\":null,\"module\":null,\"name\":\"TemplateActions1\",\"overrides\":[],\"properties\":[{\"default\":0,\"kind\":null,\"name\":\"open_modal\"},{\"default\":0,\"kind\":null,\"name\":\"close_modal\"}]},{\"extends\":null,\"module\":null,\"name\":\"MaterialTemplateActions1\",\"overrides\":[],\"properties\":[{\"default\":0,\"kind\":null,\"name\":\"open_modal\"},{\"default\":0,\"kind\":null,\"name\":\"close_modal\"}]}],\"roots\":{\"references\":[{\"attributes\":{\"children\":[{\"id\":\"2131\"},{\"id\":\"2132\"},{\"id\":\"2134\"}],\"margin\":[0,0,0,0],\"name\":\"Column03657\"},\"id\":\"2130\",\"type\":\"Column\"},{\"attributes\":{\"coordinates\":null,\"data_source\":{\"id\":\"2088\"},\"glyph\":{\"id\":\"2091\"},\"group\":null,\"hover_glyph\":null,\"muted_glyph\":{\"id\":\"2093\"},\"nonselection_glyph\":{\"id\":\"2092\"},\"selection_glyph\":{\"id\":\"2096\"},\"view\":{\"id\":\"2095\"}},\"id\":\"2094\",\"type\":\"GlyphRenderer\"},{\"attributes\":{\"margin\":[20,20,20,20],\"min_width\":250,\"options\":[\"Alamo Square\",\"Anza Vista\",\"Bayview\",\"Buena Vista Park\",\"Central Richmond\",\"Central Sunset\",\"Corona Heights\",\"Cow Hollow\",\"Croker Amazon\",\"Diamond Heights\",\"Downtown \",\"Eureka Valley/Dolores Heights\",\"Excelsior\",\"Financial District North\",\"Financial District South\",\"Forest Knolls\",\"Glen Park\",\"Golden Gate Heights\",\"Haight Ashbury\",\"Hayes Valley\",\"Hunters Point\",\"Ingleside \",\"Inner Mission\",\"Inner Parkside\",\"Inner Richmond\",\"Inner Sunset\",\"Jordan Park/Laurel Heights\",\"Lake --The Presidio\",\"Lone Mountain\",\"Lower Pacific Heights\",\"Marina\",\"Miraloma Park\",\"Mission Bay\",\"Mission Dolores\",\"Mission Terrace\",\"Nob Hill\",\"Noe Valley\",\"Oceanview\",\"Outer Parkside\",\"Outer Richmond \",\"Outer Sunset\",\"Pacific Heights\",\"Park North\",\"Parkside\",\"Parnassus/Ashbury Heights\",\"Portola\",\"Potrero Hill\",\"Presidio Heights\",\"Russian Hill\",\"South Beach\",\"South of Market\",\"Sunnyside\",\"Telegraph Hill\",\"Twin Peaks\",\"Union Square District\",\"Van Ness/ Civic Center\",\"West Portal\",\"Western Addition\",\"Yerba Buena\",\"Bernal Heights \",\"Clarendon Heights\",\"Duboce Triangle\",\"Ingleside Heights\",\"North Beach\",\"North Waterfront\",\"Outer Mission\",\"Westwood Highlands\",\"Merced Heights\",\"Midtown Terrace\",\"Visitacion Valley\",\"Silver Terrace\",\"Westwood Park\",\"Bayview Heights\"],\"title\":\"neighborhood\",\"value\":\"Alamo Square\",\"width\":250},\"id\":\"2133\",\"type\":\"Select\"},{\"attributes\":{},\"id\":\"2072\",\"type\":\"BasicTicker\"},{\"attributes\":{},\"id\":\"2099\",\"type\":\"AllLabels\"},{\"attributes\":{\"margin\":[5,5,5,5],\"name\":\"HSpacer03658\",\"sizing_mode\":\"stretch_width\"},\"id\":\"2054\",\"type\":\"Spacer\"},{\"attributes\":{\"bottom_units\":\"screen\",\"coordinates\":null,\"fill_alpha\":0.5,\"fill_color\":\"lightgrey\",\"group\":null,\"left_units\":\"screen\",\"level\":\"overlay\",\"line_alpha\":1.0,\"line_color\":\"black\",\"line_dash\":[4,4],\"line_width\":2,\"right_units\":\"screen\",\"syncable\":false,\"top_units\":\"screen\"},\"id\":\"2080\",\"type\":\"BoxAnnotation\"},{\"attributes\":{},\"id\":\"2075\",\"type\":\"SaveTool\"},{\"attributes\":{},\"id\":\"2076\",\"type\":\"PanTool\"},{\"attributes\":{\"margin\":[5,5,5,5],\"name\":\"VSpacer03655\",\"sizing_mode\":\"stretch_height\"},\"id\":\"2131\",\"type\":\"Spacer\"},{\"attributes\":{},\"id\":\"2079\",\"type\":\"ResetTool\"},{\"attributes\":{},\"id\":\"2102\",\"type\":\"AllLabels\"},{\"attributes\":{},\"id\":\"2098\",\"type\":\"BasicTickFormatter\"},{\"attributes\":{\"margin\":[5,5,5,5],\"name\":\"VSpacer03656\",\"sizing_mode\":\"stretch_height\"},\"id\":\"2134\",\"type\":\"Spacer\"},{\"attributes\":{},\"id\":\"2077\",\"type\":\"WheelZoomTool\"},{\"attributes\":{\"below\":[{\"id\":\"2067\"}],\"center\":[{\"id\":\"2070\"},{\"id\":\"2074\"}],\"height\":300,\"left\":[{\"id\":\"2071\"}],\"margin\":[5,5,5,5],\"min_border_bottom\":10,\"min_border_left\":10,\"min_border_right\":10,\"min_border_top\":10,\"renderers\":[{\"id\":\"2094\"}],\"sizing_mode\":\"fixed\",\"title\":{\"id\":\"2059\"},\"toolbar\":{\"id\":\"2081\"},\"width\":700,\"x_range\":{\"id\":\"2055\"},\"x_scale\":{\"id\":\"2063\"},\"y_range\":{\"id\":\"2056\"},\"y_scale\":{\"id\":\"2065\"}},\"id\":\"2058\",\"subtype\":\"Figure\",\"type\":\"Plot\"},{\"attributes\":{\"data\":{\"gross_rent\":{\"__ndarray__\":\"AAAAAABck0AAAAAAAOiXQAAAAAAAKKJAAAAAAAA2p0AAAAAAAJCrQAAAAAAANq1AAAAAAAAmsUA=\",\"dtype\":\"float64\",\"order\":\"little\",\"shape\":[7]},\"year\":[2010,2011,2012,2013,2014,2015,2016]},\"selected\":{\"id\":\"2089\"},\"selection_policy\":{\"id\":\"2116\"}},\"id\":\"2088\",\"type\":\"ColumnDataSource\"},{\"attributes\":{\"line_alpha\":0.2,\"line_color\":\"#30a2da\",\"line_width\":2,\"x\":{\"field\":\"year\"},\"y\":{\"field\":\"gross_rent\"}},\"id\":\"2093\",\"type\":\"Line\"},{\"attributes\":{\"client_comm_id\":\"ba9d767910f8417abf15a521d88e4e1e\",\"comm_id\":\"21706c8c90a94680b3cabb4de42893cf\",\"plot_id\":\"2053\"},\"id\":\"2165\",\"type\":\"panel.models.comm_manager.CommManager\"},{\"attributes\":{\"tools\":[{\"id\":\"2057\"},{\"id\":\"2075\"},{\"id\":\"2076\"},{\"id\":\"2077\"},{\"id\":\"2078\"},{\"id\":\"2079\"}]},\"id\":\"2081\",\"type\":\"Toolbar\"},{\"attributes\":{\"overlay\":{\"id\":\"2080\"}},\"id\":\"2078\",\"type\":\"BoxZoomTool\"},{\"attributes\":{},\"id\":\"2089\",\"type\":\"Selection\"},{\"attributes\":{},\"id\":\"2101\",\"type\":\"BasicTickFormatter\"},{\"attributes\":{},\"id\":\"2068\",\"type\":\"BasicTicker\"},{\"attributes\":{},\"id\":\"2063\",\"type\":\"LinearScale\"},{\"attributes\":{\"source\":{\"id\":\"2088\"}},\"id\":\"2095\",\"type\":\"CDSView\"},{\"attributes\":{\"margin\":[5,5,5,5],\"name\":\"HSpacer03659\",\"sizing_mode\":\"stretch_width\"},\"id\":\"2129\",\"type\":\"Spacer\"},{\"attributes\":{\"coordinates\":null,\"group\":null,\"text\":\"Average Monthly Rent\",\"text_color\":\"black\",\"text_font_size\":\"12pt\"},\"id\":\"2059\",\"type\":\"Title\"},{\"attributes\":{\"axis\":{\"id\":\"2067\"},\"coordinates\":null,\"grid_line_color\":null,\"group\":null,\"ticker\":null},\"id\":\"2070\",\"type\":\"Grid\"},{\"attributes\":{},\"id\":\"2116\",\"type\":\"UnionRenderers\"},{\"attributes\":{\"line_color\":\"#30a2da\",\"line_width\":2,\"x\":{\"field\":\"year\"},\"y\":{\"field\":\"gross_rent\"}},\"id\":\"2091\",\"type\":\"Line\"},{\"attributes\":{\"line_alpha\":0.1,\"line_color\":\"#30a2da\",\"line_width\":2,\"x\":{\"field\":\"year\"},\"y\":{\"field\":\"gross_rent\"}},\"id\":\"2092\",\"type\":\"Line\"},{\"attributes\":{},\"id\":\"2065\",\"type\":\"LinearScale\"},{\"attributes\":{\"axis_label\":\"\",\"coordinates\":null,\"formatter\":{\"id\":\"2101\"},\"group\":null,\"major_label_policy\":{\"id\":\"2102\"},\"ticker\":{\"id\":\"2072\"}},\"id\":\"2071\",\"type\":\"LinearAxis\"},{\"attributes\":{\"children\":[{\"id\":\"2133\"}],\"css_classes\":[\"panel-widget-box\"],\"margin\":[5,5,5,5],\"name\":\"WidgetBox03650\"},\"id\":\"2132\",\"type\":\"Column\"},{\"attributes\":{\"axis_label\":\"year\",\"coordinates\":null,\"formatter\":{\"id\":\"2098\"},\"group\":null,\"major_label_policy\":{\"id\":\"2099\"},\"ticker\":{\"id\":\"2068\"}},\"id\":\"2067\",\"type\":\"LinearAxis\"},{\"attributes\":{\"line_color\":\"#30a2da\",\"line_width\":2,\"x\":{\"field\":\"year\"},\"y\":{\"field\":\"gross_rent\"}},\"id\":\"2096\",\"type\":\"Line\"},{\"attributes\":{\"end\":2016.0,\"reset_end\":2016.0,\"reset_start\":2010.0,\"start\":2010.0,\"tags\":[[[\"year\",\"year\",null]]]},\"id\":\"2055\",\"type\":\"Range1d\"},{\"attributes\":{\"axis\":{\"id\":\"2071\"},\"coordinates\":null,\"dimension\":1,\"grid_line_color\":null,\"group\":null,\"ticker\":null},\"id\":\"2074\",\"type\":\"Grid\"},{\"attributes\":{\"callback\":null,\"renderers\":[{\"id\":\"2094\"}],\"tags\":[\"hv_created\"],\"tooltips\":[[\"year\",\"@{year}\"],[\"gross_rent\",\"@{gross_rent}\"]]},\"id\":\"2057\",\"type\":\"HoverTool\"},{\"attributes\":{\"end\":4705.1,\"reset_end\":4705.1,\"reset_start\":923.9,\"start\":923.9,\"tags\":[[[\"gross_rent\",\"gross_rent\",null]]]},\"id\":\"2056\",\"type\":\"Range1d\"},{\"attributes\":{\"children\":[{\"id\":\"2054\"},{\"id\":\"2058\"},{\"id\":\"2129\"},{\"id\":\"2130\"}],\"margin\":[0,0,0,0],\"name\":\"Row03649\"},\"id\":\"2053\",\"type\":\"Row\"}],\"root_ids\":[\"2053\",\"2165\"]},\"title\":\"Bokeh Application\",\"version\":\"2.4.2\"}};\n",
       "    var render_items = [{\"docid\":\"e07b21c3-97da-4085-bb84-45b04663a740\",\"root_ids\":[\"2053\"],\"roots\":{\"2053\":\"6be19c22-4075-4387-a373-54da9e0cbf60\"}}];\n",
       "    root.Bokeh.embed.embed_items_notebook(docs_json, render_items);\n",
       "  }\n",
       "  if (root.Bokeh !== undefined && root.Bokeh.Panel !== undefined && ( root['Plotly'] !== undefined)) {\n",
       "    embed_document(root);\n",
       "  } else {\n",
       "    var attempts = 0;\n",
       "    var timer = setInterval(function(root) {\n",
       "      if (root.Bokeh !== undefined && root.Bokeh.Panel !== undefined && (root['Plotly'] !== undefined)) {\n",
       "        clearInterval(timer);\n",
       "        embed_document(root);\n",
       "      } else if (document.readyState == \"complete\") {\n",
       "        attempts++;\n",
       "        if (attempts > 200) {\n",
       "          clearInterval(timer);\n",
       "          console.log(\"Bokeh: ERROR: Unable to run BokehJS code because BokehJS library is missing\");\n",
       "        }\n",
       "      }\n",
       "    }, 25, root)\n",
       "  }\n",
       "})(window);</script>"
      ],
      "text/plain": [
       ":DynamicMap   [neighborhood]\n",
       "   :Curve   [year]   (gross_rent)"
      ]
     },
     "execution_count": 32,
     "metadata": {
      "application/vnd.holoviews_exec.v0+json": {
       "id": "2053"
      }
     },
     "output_type": "execute_result"
    }
   ],
   "source": [
    "# Use hvplot to create an interactive line chart of the average monthly rent.\n",
    "# The plot should have a dropdown selector for the neighborhood\n",
    "neighborhood_avgs['gross_rent'].hvplot.line(title=\"Average Monthly Rent\",groupby='neighborhood')"
   ]
  },
  {
   "cell_type": "markdown",
   "metadata": {},
   "source": [
    "## The Top 10 Most Expensive Neighborhoods\n",
    "\n",
    "In this section, you will need to calculate the mean sale price per square foot for each neighborhood and then sort the values to obtain the top 10 most expensive neighborhoods on average. Plot the results as a bar chart."
   ]
  },
  {
   "cell_type": "code",
   "execution_count": 33,
   "metadata": {},
   "outputs": [
    {
     "data": {
      "text/html": [
       "<div>\n",
       "<style scoped>\n",
       "    .dataframe tbody tr th:only-of-type {\n",
       "        vertical-align: middle;\n",
       "    }\n",
       "\n",
       "    .dataframe tbody tr th {\n",
       "        vertical-align: top;\n",
       "    }\n",
       "\n",
       "    .dataframe thead th {\n",
       "        text-align: right;\n",
       "    }\n",
       "</style>\n",
       "<table border=\"1\" class=\"dataframe\">\n",
       "  <thead>\n",
       "    <tr style=\"text-align: right;\">\n",
       "      <th></th>\n",
       "      <th>sale_price_sqr_foot</th>\n",
       "      <th>housing_units</th>\n",
       "      <th>gross_rent</th>\n",
       "    </tr>\n",
       "    <tr>\n",
       "      <th>neighborhood</th>\n",
       "      <th></th>\n",
       "      <th></th>\n",
       "      <th></th>\n",
       "    </tr>\n",
       "  </thead>\n",
       "  <tbody>\n",
       "    <tr>\n",
       "      <th>Union Square District</th>\n",
       "      <td>903.993258</td>\n",
       "      <td>377427.50</td>\n",
       "      <td>2555.166667</td>\n",
       "    </tr>\n",
       "    <tr>\n",
       "      <th>Merced Heights</th>\n",
       "      <td>788.844818</td>\n",
       "      <td>380348.00</td>\n",
       "      <td>3414.000000</td>\n",
       "    </tr>\n",
       "    <tr>\n",
       "      <th>Miraloma Park</th>\n",
       "      <td>779.810842</td>\n",
       "      <td>375967.25</td>\n",
       "      <td>2155.250000</td>\n",
       "    </tr>\n",
       "    <tr>\n",
       "      <th>Pacific Heights</th>\n",
       "      <td>689.555817</td>\n",
       "      <td>378401.00</td>\n",
       "      <td>2817.285714</td>\n",
       "    </tr>\n",
       "    <tr>\n",
       "      <th>Westwood Park</th>\n",
       "      <td>687.087575</td>\n",
       "      <td>382295.00</td>\n",
       "      <td>3959.000000</td>\n",
       "    </tr>\n",
       "    <tr>\n",
       "      <th>...</th>\n",
       "      <td>...</td>\n",
       "      <td>...</td>\n",
       "      <td>...</td>\n",
       "    </tr>\n",
       "    <tr>\n",
       "      <th>Visitacion Valley</th>\n",
       "      <td>301.466180</td>\n",
       "      <td>381321.50</td>\n",
       "      <td>3657.000000</td>\n",
       "    </tr>\n",
       "    <tr>\n",
       "      <th>Outer Mission</th>\n",
       "      <td>242.370952</td>\n",
       "      <td>379374.50</td>\n",
       "      <td>2995.750000</td>\n",
       "    </tr>\n",
       "    <tr>\n",
       "      <th>Bayview</th>\n",
       "      <td>204.588623</td>\n",
       "      <td>376454.00</td>\n",
       "      <td>2318.400000</td>\n",
       "    </tr>\n",
       "    <tr>\n",
       "      <th>Hunters Point</th>\n",
       "      <td>170.624920</td>\n",
       "      <td>377427.50</td>\n",
       "      <td>2489.000000</td>\n",
       "    </tr>\n",
       "    <tr>\n",
       "      <th>Silver Terrace</th>\n",
       "      <td>170.292549</td>\n",
       "      <td>380348.00</td>\n",
       "      <td>3528.000000</td>\n",
       "    </tr>\n",
       "  </tbody>\n",
       "</table>\n",
       "<p>73 rows × 3 columns</p>\n",
       "</div>"
      ],
      "text/plain": [
       "                       sale_price_sqr_foot  housing_units   gross_rent\n",
       "neighborhood                                                          \n",
       "Union Square District           903.993258      377427.50  2555.166667\n",
       "Merced Heights                  788.844818      380348.00  3414.000000\n",
       "Miraloma Park                   779.810842      375967.25  2155.250000\n",
       "Pacific Heights                 689.555817      378401.00  2817.285714\n",
       "Westwood Park                   687.087575      382295.00  3959.000000\n",
       "...                                    ...            ...          ...\n",
       "Visitacion Valley               301.466180      381321.50  3657.000000\n",
       "Outer Mission                   242.370952      379374.50  2995.750000\n",
       "Bayview                         204.588623      376454.00  2318.400000\n",
       "Hunters Point                   170.624920      377427.50  2489.000000\n",
       "Silver Terrace                  170.292549      380348.00  3528.000000\n",
       "\n",
       "[73 rows x 3 columns]"
      ]
     },
     "execution_count": 33,
     "metadata": {},
     "output_type": "execute_result"
    }
   ],
   "source": [
    "# Getting the data from the top 10 expensive neighborhoods to own\n",
    "avg_price_by_neighborhood = neighborhood_avgs.groupby('neighborhood').mean().sort_values(\"sale_price_sqr_foot\", ascending=False)\n",
    "avg_price_by_neighborhood"
   ]
  },
  {
   "cell_type": "code",
   "execution_count": 34,
   "metadata": {},
   "outputs": [
    {
     "data": {},
     "metadata": {},
     "output_type": "display_data"
    },
    {
     "data": {
      "application/vnd.holoviews_exec.v0+json": "",
      "text/html": [
       "<div id='2216'>\n",
       "\n",
       "\n",
       "\n",
       "\n",
       "\n",
       "  <div class=\"bk-root\" id=\"d94fcb43-f0e3-4f3b-aafd-e415dcc9b421\" data-root-id=\"2216\"></div>\n",
       "</div>\n",
       "<script type=\"application/javascript\">(function(root) {\n",
       "  function embed_document(root) {\n",
       "    var docs_json = {\"85e26dfe-e107-4956-b0bc-786c330d095d\":{\"defs\":[{\"extends\":null,\"module\":null,\"name\":\"ReactiveHTML1\",\"overrides\":[],\"properties\":[]},{\"extends\":null,\"module\":null,\"name\":\"FlexBox1\",\"overrides\":[],\"properties\":[{\"default\":\"flex-start\",\"kind\":null,\"name\":\"align_content\"},{\"default\":\"flex-start\",\"kind\":null,\"name\":\"align_items\"},{\"default\":\"row\",\"kind\":null,\"name\":\"flex_direction\"},{\"default\":\"wrap\",\"kind\":null,\"name\":\"flex_wrap\"},{\"default\":\"flex-start\",\"kind\":null,\"name\":\"justify_content\"}]},{\"extends\":null,\"module\":null,\"name\":\"TemplateActions1\",\"overrides\":[],\"properties\":[{\"default\":0,\"kind\":null,\"name\":\"open_modal\"},{\"default\":0,\"kind\":null,\"name\":\"close_modal\"}]},{\"extends\":null,\"module\":null,\"name\":\"MaterialTemplateActions1\",\"overrides\":[],\"properties\":[{\"default\":0,\"kind\":null,\"name\":\"open_modal\"},{\"default\":0,\"kind\":null,\"name\":\"close_modal\"}]}],\"roots\":{\"references\":[{\"attributes\":{},\"id\":\"2263\",\"type\":\"BasicTickFormatter\"},{\"attributes\":{\"axis\":{\"id\":\"2233\"},\"coordinates\":null,\"dimension\":1,\"grid_line_color\":null,\"group\":null,\"ticker\":null},\"id\":\"2236\",\"type\":\"Grid\"},{\"attributes\":{\"factors\":[\"Union Square District\",\"Merced Heights\",\"Miraloma Park\",\"Pacific Heights\",\"Westwood Park\",\"Telegraph Hill\",\"Presidio Heights\",\"Cow Hollow\",\"Potrero Hill\",\"South Beach\"],\"tags\":[[[\"neighborhood\",\"neighborhood\",null]]]},\"id\":\"2218\",\"type\":\"FactorRange\"},{\"attributes\":{},\"id\":\"2234\",\"type\":\"BasicTicker\"},{\"attributes\":{\"bottom\":{\"value\":0},\"fill_alpha\":{\"value\":1.0},\"fill_color\":{\"value\":\"#30a2da\"},\"hatch_alpha\":{\"value\":1.0},\"hatch_color\":{\"value\":\"#30a2da\"},\"hatch_scale\":{\"value\":12.0},\"hatch_weight\":{\"value\":1.0},\"line_alpha\":{\"value\":1.0},\"line_cap\":{\"value\":\"butt\"},\"line_color\":{\"value\":\"black\"},\"line_dash\":{\"value\":[]},\"line_dash_offset\":{\"value\":0},\"line_join\":{\"value\":\"bevel\"},\"line_width\":{\"value\":1},\"top\":{\"field\":\"sale_price_sqr_foot\"},\"width\":{\"value\":0.8},\"x\":{\"field\":\"neighborhood\"}},\"id\":\"2258\",\"type\":\"VBar\"},{\"attributes\":{\"margin\":[5,5,5,5],\"name\":\"HSpacer03959\",\"sizing_mode\":\"stretch_width\"},\"id\":\"2217\",\"type\":\"Spacer\"},{\"attributes\":{},\"id\":\"2272\",\"type\":\"UnionRenderers\"},{\"attributes\":{\"coordinates\":null,\"data_source\":{\"id\":\"2250\"},\"glyph\":{\"id\":\"2253\"},\"group\":null,\"hover_glyph\":null,\"muted_glyph\":{\"id\":\"2255\"},\"nonselection_glyph\":{\"id\":\"2254\"},\"selection_glyph\":{\"id\":\"2258\"},\"view\":{\"id\":\"2257\"}},\"id\":\"2256\",\"type\":\"GlyphRenderer\"},{\"attributes\":{},\"id\":\"2264\",\"type\":\"AllLabels\"},{\"attributes\":{\"data\":{\"neighborhood\":[\"Union Square District\",\"Merced Heights\",\"Miraloma Park\",\"Pacific Heights\",\"Westwood Park\",\"Telegraph Hill\",\"Presidio Heights\",\"Cow Hollow\",\"Potrero Hill\",\"South Beach\"],\"sale_price_sqr_foot\":{\"__ndarray__\":\"qwwaMfI/jECoRMgvwqaIQLL76Zp8XohAihQUUHKMhUCyIUlas3iFQNLwhHgNJIVArLjwO80ahUBuAHdbts+EQAXXDOEbsIRAPNQA7/5QhEA=\",\"dtype\":\"float64\",\"order\":\"little\",\"shape\":[10]}},\"selected\":{\"id\":\"2251\"},\"selection_policy\":{\"id\":\"2272\"}},\"id\":\"2250\",\"type\":\"ColumnDataSource\"},{\"attributes\":{\"tools\":[{\"id\":\"2220\"},{\"id\":\"2237\"},{\"id\":\"2238\"},{\"id\":\"2239\"},{\"id\":\"2240\"},{\"id\":\"2241\"}]},\"id\":\"2243\",\"type\":\"Toolbar\"},{\"attributes\":{\"fill_alpha\":{\"value\":0.2},\"fill_color\":{\"value\":\"#30a2da\"},\"hatch_alpha\":{\"value\":0.2},\"hatch_color\":{\"value\":\"#30a2da\"},\"line_alpha\":{\"value\":0.2},\"top\":{\"field\":\"sale_price_sqr_foot\"},\"width\":{\"value\":0.8},\"x\":{\"field\":\"neighborhood\"}},\"id\":\"2255\",\"type\":\"VBar\"},{\"attributes\":{\"bottom_units\":\"screen\",\"coordinates\":null,\"fill_alpha\":0.5,\"fill_color\":\"lightgrey\",\"group\":null,\"left_units\":\"screen\",\"level\":\"overlay\",\"line_alpha\":1.0,\"line_color\":\"black\",\"line_dash\":[4,4],\"line_width\":2,\"right_units\":\"screen\",\"syncable\":false,\"top_units\":\"screen\"},\"id\":\"2242\",\"type\":\"BoxAnnotation\"},{\"attributes\":{},\"id\":\"2237\",\"type\":\"SaveTool\"},{\"attributes\":{},\"id\":\"2238\",\"type\":\"PanTool\"},{\"attributes\":{\"below\":[{\"id\":\"2230\"}],\"center\":[{\"id\":\"2232\"},{\"id\":\"2236\"}],\"height\":300,\"left\":[{\"id\":\"2233\"}],\"margin\":[5,5,5,5],\"min_border_bottom\":10,\"min_border_left\":10,\"min_border_right\":10,\"min_border_top\":10,\"renderers\":[{\"id\":\"2256\"}],\"sizing_mode\":\"fixed\",\"title\":{\"id\":\"2222\"},\"toolbar\":{\"id\":\"2243\"},\"width\":700,\"x_range\":{\"id\":\"2218\"},\"x_scale\":{\"id\":\"2226\"},\"y_range\":{\"id\":\"2219\"},\"y_scale\":{\"id\":\"2228\"}},\"id\":\"2221\",\"subtype\":\"Figure\",\"type\":\"Plot\"},{\"attributes\":{\"end\":929.3801355583334,\"reset_end\":929.3801355583334,\"reset_start\":0.0,\"tags\":[[[\"sale_price_sqr_foot\",\"sale_price_sqr_foot\",null]]]},\"id\":\"2219\",\"type\":\"Range1d\"},{\"attributes\":{\"axis\":{\"id\":\"2230\"},\"coordinates\":null,\"grid_line_color\":null,\"group\":null,\"ticker\":null},\"id\":\"2232\",\"type\":\"Grid\"},{\"attributes\":{},\"id\":\"2241\",\"type\":\"ResetTool\"},{\"attributes\":{},\"id\":\"2239\",\"type\":\"WheelZoomTool\"},{\"attributes\":{},\"id\":\"2251\",\"type\":\"Selection\"},{\"attributes\":{\"fill_color\":{\"value\":\"#30a2da\"},\"hatch_color\":{\"value\":\"#30a2da\"},\"top\":{\"field\":\"sale_price_sqr_foot\"},\"width\":{\"value\":0.8},\"x\":{\"field\":\"neighborhood\"}},\"id\":\"2253\",\"type\":\"VBar\"},{\"attributes\":{\"overlay\":{\"id\":\"2242\"}},\"id\":\"2240\",\"type\":\"BoxZoomTool\"},{\"attributes\":{},\"id\":\"2260\",\"type\":\"CategoricalTickFormatter\"},{\"attributes\":{\"source\":{\"id\":\"2250\"}},\"id\":\"2257\",\"type\":\"CDSView\"},{\"attributes\":{\"axis_label\":\"neighborhood\",\"coordinates\":null,\"formatter\":{\"id\":\"2260\"},\"group\":null,\"major_label_orientation\":0.7853981633974483,\"major_label_policy\":{\"id\":\"2261\"},\"ticker\":{\"id\":\"2231\"}},\"id\":\"2230\",\"type\":\"CategoricalAxis\"},{\"attributes\":{},\"id\":\"2226\",\"type\":\"CategoricalScale\"},{\"attributes\":{\"coordinates\":null,\"group\":null,\"text\":\"Top 10 Most Expensive San Francisco Neighborhoods\",\"text_color\":\"black\",\"text_font_size\":\"12pt\"},\"id\":\"2222\",\"type\":\"Title\"},{\"attributes\":{\"fill_alpha\":{\"value\":0.1},\"fill_color\":{\"value\":\"#30a2da\"},\"hatch_alpha\":{\"value\":0.1},\"hatch_color\":{\"value\":\"#30a2da\"},\"line_alpha\":{\"value\":0.1},\"top\":{\"field\":\"sale_price_sqr_foot\"},\"width\":{\"value\":0.8},\"x\":{\"field\":\"neighborhood\"}},\"id\":\"2254\",\"type\":\"VBar\"},{\"attributes\":{},\"id\":\"2261\",\"type\":\"AllLabels\"},{\"attributes\":{\"children\":[{\"id\":\"2217\"},{\"id\":\"2221\"},{\"id\":\"2285\"}],\"margin\":[0,0,0,0],\"name\":\"Row03955\",\"tags\":[\"embedded\"]},\"id\":\"2216\",\"type\":\"Row\"},{\"attributes\":{},\"id\":\"2228\",\"type\":\"LinearScale\"},{\"attributes\":{\"callback\":null,\"renderers\":[{\"id\":\"2256\"}],\"tags\":[\"hv_created\"],\"tooltips\":[[\"neighborhood\",\"@{neighborhood}\"],[\"sale_price_sqr_foot\",\"@{sale_price_sqr_foot}\"]]},\"id\":\"2220\",\"type\":\"HoverTool\"},{\"attributes\":{},\"id\":\"2231\",\"type\":\"CategoricalTicker\"},{\"attributes\":{\"margin\":[5,5,5,5],\"name\":\"HSpacer03960\",\"sizing_mode\":\"stretch_width\"},\"id\":\"2285\",\"type\":\"Spacer\"},{\"attributes\":{\"axis_label\":\"home price per square foot\",\"coordinates\":null,\"formatter\":{\"id\":\"2263\"},\"group\":null,\"major_label_policy\":{\"id\":\"2264\"},\"ticker\":{\"id\":\"2234\"}},\"id\":\"2233\",\"type\":\"LinearAxis\"}],\"root_ids\":[\"2216\"]},\"title\":\"Bokeh Application\",\"version\":\"2.4.2\"}};\n",
       "    var render_items = [{\"docid\":\"85e26dfe-e107-4956-b0bc-786c330d095d\",\"root_ids\":[\"2216\"],\"roots\":{\"2216\":\"d94fcb43-f0e3-4f3b-aafd-e415dcc9b421\"}}];\n",
       "    root.Bokeh.embed.embed_items_notebook(docs_json, render_items);\n",
       "  }\n",
       "  if (root.Bokeh !== undefined && root.Bokeh.Panel !== undefined && ( root['Plotly'] !== undefined)) {\n",
       "    embed_document(root);\n",
       "  } else {\n",
       "    var attempts = 0;\n",
       "    var timer = setInterval(function(root) {\n",
       "      if (root.Bokeh !== undefined && root.Bokeh.Panel !== undefined && (root['Plotly'] !== undefined)) {\n",
       "        clearInterval(timer);\n",
       "        embed_document(root);\n",
       "      } else if (document.readyState == \"complete\") {\n",
       "        attempts++;\n",
       "        if (attempts > 200) {\n",
       "          clearInterval(timer);\n",
       "          console.log(\"Bokeh: ERROR: Unable to run BokehJS code because BokehJS library is missing\");\n",
       "        }\n",
       "      }\n",
       "    }, 25, root)\n",
       "  }\n",
       "})(window);</script>"
      ],
      "text/plain": [
       ":Bars   [neighborhood]   (sale_price_sqr_foot)"
      ]
     },
     "execution_count": 34,
     "metadata": {
      "application/vnd.holoviews_exec.v0+json": {
       "id": "2216"
      }
     },
     "output_type": "execute_result"
    }
   ],
   "source": [
    "# Plotting the data from the top 10 expensive neighborhoods\n",
    "top_most_expensive_neighborhoods = avg_price_by_neighborhood[['sale_price_sqr_foot']][:10]\n",
    "top_most_expensive_neighborhoods.hvplot.bar(\n",
    "    title='Top 10 Most Expensive San Francisco Neighborhoods',\n",
    "    ylabel='home price per square foot',\n",
    "    rot=45\n",
    ")"
   ]
  },
  {
   "cell_type": "markdown",
   "metadata": {},
   "source": [
    "- - - "
   ]
  },
  {
   "cell_type": "markdown",
   "metadata": {},
   "source": [
    "## Comparing cost to purchase versus rental income\n",
    "\n",
    "In this section, you will use `hvplot` to create an interactive visualization with a dropdown selector for the neighborhood. This visualization will feature a side-by-side comparison of average price per square foot versus average montly rent by year.  \n",
    "\n",
    "**Hint:** Use the `hvplot` parameter, `groupby`, to create a dropdown selector for the neighborhood."
   ]
  },
  {
   "cell_type": "code",
   "execution_count": 35,
   "metadata": {},
   "outputs": [
    {
     "data": {
      "text/html": [
       "<div>\n",
       "<style scoped>\n",
       "    .dataframe tbody tr th:only-of-type {\n",
       "        vertical-align: middle;\n",
       "    }\n",
       "\n",
       "    .dataframe tbody tr th {\n",
       "        vertical-align: top;\n",
       "    }\n",
       "\n",
       "    .dataframe thead th {\n",
       "        text-align: right;\n",
       "    }\n",
       "</style>\n",
       "<table border=\"1\" class=\"dataframe\">\n",
       "  <thead>\n",
       "    <tr style=\"text-align: right;\">\n",
       "      <th></th>\n",
       "      <th></th>\n",
       "      <th>sale_price_sqr_foot</th>\n",
       "      <th>gross_rent</th>\n",
       "    </tr>\n",
       "    <tr>\n",
       "      <th>year</th>\n",
       "      <th>neighborhood</th>\n",
       "      <th></th>\n",
       "      <th></th>\n",
       "    </tr>\n",
       "  </thead>\n",
       "  <tbody>\n",
       "    <tr>\n",
       "      <th rowspan=\"8\" valign=\"top\">2010</th>\n",
       "      <th>Cow Hollow</th>\n",
       "      <td>569.379968</td>\n",
       "      <td>1239.0</td>\n",
       "    </tr>\n",
       "    <tr>\n",
       "      <th>Miraloma Park</th>\n",
       "      <td>680.608729</td>\n",
       "      <td>1239.0</td>\n",
       "    </tr>\n",
       "    <tr>\n",
       "      <th>Pacific Heights</th>\n",
       "      <td>496.516014</td>\n",
       "      <td>1239.0</td>\n",
       "    </tr>\n",
       "    <tr>\n",
       "      <th>Potrero Hill</th>\n",
       "      <td>491.450004</td>\n",
       "      <td>1239.0</td>\n",
       "    </tr>\n",
       "    <tr>\n",
       "      <th>Presidio Heights</th>\n",
       "      <td>549.417931</td>\n",
       "      <td>1239.0</td>\n",
       "    </tr>\n",
       "    <tr>\n",
       "      <th>South Beach</th>\n",
       "      <td>1037.099789</td>\n",
       "      <td>1239.0</td>\n",
       "    </tr>\n",
       "    <tr>\n",
       "      <th>Telegraph Hill</th>\n",
       "      <td>524.793509</td>\n",
       "      <td>1239.0</td>\n",
       "    </tr>\n",
       "    <tr>\n",
       "      <th>Union Square District</th>\n",
       "      <td>569.193448</td>\n",
       "      <td>1239.0</td>\n",
       "    </tr>\n",
       "    <tr>\n",
       "      <th rowspan=\"8\" valign=\"top\">2011</th>\n",
       "      <th>Cow Hollow</th>\n",
       "      <td>390.595653</td>\n",
       "      <td>1530.0</td>\n",
       "    </tr>\n",
       "    <tr>\n",
       "      <th>Miraloma Park</th>\n",
       "      <td>414.676065</td>\n",
       "      <td>1530.0</td>\n",
       "    </tr>\n",
       "    <tr>\n",
       "      <th>Pacific Heights</th>\n",
       "      <td>509.021480</td>\n",
       "      <td>1530.0</td>\n",
       "    </tr>\n",
       "    <tr>\n",
       "      <th>Potrero Hill</th>\n",
       "      <td>503.138505</td>\n",
       "      <td>1530.0</td>\n",
       "    </tr>\n",
       "    <tr>\n",
       "      <th>Presidio Heights</th>\n",
       "      <td>493.814917</td>\n",
       "      <td>1530.0</td>\n",
       "    </tr>\n",
       "    <tr>\n",
       "      <th>South Beach</th>\n",
       "      <td>388.644337</td>\n",
       "      <td>1530.0</td>\n",
       "    </tr>\n",
       "    <tr>\n",
       "      <th>Telegraph Hill</th>\n",
       "      <td>483.405773</td>\n",
       "      <td>1530.0</td>\n",
       "    </tr>\n",
       "    <tr>\n",
       "      <th>Union Square District</th>\n",
       "      <td>302.123253</td>\n",
       "      <td>1530.0</td>\n",
       "    </tr>\n",
       "    <tr>\n",
       "      <th rowspan=\"8\" valign=\"top\">2012</th>\n",
       "      <th>Cow Hollow</th>\n",
       "      <td>644.818307</td>\n",
       "      <td>2324.0</td>\n",
       "    </tr>\n",
       "    <tr>\n",
       "      <th>Merced Heights</th>\n",
       "      <td>421.141245</td>\n",
       "      <td>2324.0</td>\n",
       "    </tr>\n",
       "    <tr>\n",
       "      <th>Miraloma Park</th>\n",
       "      <td>756.192373</td>\n",
       "      <td>2324.0</td>\n",
       "    </tr>\n",
       "    <tr>\n",
       "      <th>Pacific Heights</th>\n",
       "      <td>586.218215</td>\n",
       "      <td>2324.0</td>\n",
       "    </tr>\n",
       "    <tr>\n",
       "      <th>Potrero Hill</th>\n",
       "      <td>466.647840</td>\n",
       "      <td>2324.0</td>\n",
       "    </tr>\n",
       "    <tr>\n",
       "      <th>Presidio Heights</th>\n",
       "      <td>426.608592</td>\n",
       "      <td>2324.0</td>\n",
       "    </tr>\n",
       "    <tr>\n",
       "      <th>Telegraph Hill</th>\n",
       "      <td>465.802122</td>\n",
       "      <td>2324.0</td>\n",
       "    </tr>\n",
       "    <tr>\n",
       "      <th>Union Square District</th>\n",
       "      <td>445.196788</td>\n",
       "      <td>2324.0</td>\n",
       "    </tr>\n",
       "    <tr>\n",
       "      <th rowspan=\"6\" valign=\"top\">2013</th>\n",
       "      <th>Cow Hollow</th>\n",
       "      <td>707.402809</td>\n",
       "      <td>2971.0</td>\n",
       "    </tr>\n",
       "    <tr>\n",
       "      <th>Pacific Heights</th>\n",
       "      <td>503.899261</td>\n",
       "      <td>2971.0</td>\n",
       "    </tr>\n",
       "    <tr>\n",
       "      <th>Potrero Hill</th>\n",
       "      <td>598.704795</td>\n",
       "      <td>2971.0</td>\n",
       "    </tr>\n",
       "    <tr>\n",
       "      <th>Presidio Heights</th>\n",
       "      <td>512.840248</td>\n",
       "      <td>2971.0</td>\n",
       "    </tr>\n",
       "    <tr>\n",
       "      <th>Telegraph Hill</th>\n",
       "      <td>653.311617</td>\n",
       "      <td>2971.0</td>\n",
       "    </tr>\n",
       "    <tr>\n",
       "      <th>Union Square District</th>\n",
       "      <td>1290.472107</td>\n",
       "      <td>2971.0</td>\n",
       "    </tr>\n",
       "    <tr>\n",
       "      <th rowspan=\"10\" valign=\"top\">2014</th>\n",
       "      <th>Cow Hollow</th>\n",
       "      <td>691.865412</td>\n",
       "      <td>3528.0</td>\n",
       "    </tr>\n",
       "    <tr>\n",
       "      <th>Merced Heights</th>\n",
       "      <td>528.726541</td>\n",
       "      <td>3528.0</td>\n",
       "    </tr>\n",
       "    <tr>\n",
       "      <th>Miraloma Park</th>\n",
       "      <td>1267.766203</td>\n",
       "      <td>3528.0</td>\n",
       "    </tr>\n",
       "    <tr>\n",
       "      <th>Pacific Heights</th>\n",
       "      <td>824.658694</td>\n",
       "      <td>3528.0</td>\n",
       "    </tr>\n",
       "    <tr>\n",
       "      <th>Potrero Hill</th>\n",
       "      <td>1045.201546</td>\n",
       "      <td>3528.0</td>\n",
       "    </tr>\n",
       "    <tr>\n",
       "      <th>Presidio Heights</th>\n",
       "      <td>603.450997</td>\n",
       "      <td>3528.0</td>\n",
       "    </tr>\n",
       "    <tr>\n",
       "      <th>South Beach</th>\n",
       "      <td>524.629312</td>\n",
       "      <td>3528.0</td>\n",
       "    </tr>\n",
       "    <tr>\n",
       "      <th>Telegraph Hill</th>\n",
       "      <td>708.193032</td>\n",
       "      <td>3528.0</td>\n",
       "    </tr>\n",
       "    <tr>\n",
       "      <th>Union Square District</th>\n",
       "      <td>558.271119</td>\n",
       "      <td>3528.0</td>\n",
       "    </tr>\n",
       "    <tr>\n",
       "      <th>Westwood Park</th>\n",
       "      <td>742.979723</td>\n",
       "      <td>3528.0</td>\n",
       "    </tr>\n",
       "    <tr>\n",
       "      <th rowspan=\"6\" valign=\"top\">2015</th>\n",
       "      <th>Cow Hollow</th>\n",
       "      <td>598.620541</td>\n",
       "      <td>3739.0</td>\n",
       "    </tr>\n",
       "    <tr>\n",
       "      <th>Pacific Heights</th>\n",
       "      <td>910.187690</td>\n",
       "      <td>3739.0</td>\n",
       "    </tr>\n",
       "    <tr>\n",
       "      <th>Potrero Hill</th>\n",
       "      <td>821.300991</td>\n",
       "      <td>3739.0</td>\n",
       "    </tr>\n",
       "    <tr>\n",
       "      <th>Presidio Heights</th>\n",
       "      <td>NaN</td>\n",
       "      <td>3739.0</td>\n",
       "    </tr>\n",
       "    <tr>\n",
       "      <th>Telegraph Hill</th>\n",
       "      <td>996.990220</td>\n",
       "      <td>3739.0</td>\n",
       "    </tr>\n",
       "    <tr>\n",
       "      <th>Union Square District</th>\n",
       "      <td>2258.702832</td>\n",
       "      <td>3739.0</td>\n",
       "    </tr>\n",
       "    <tr>\n",
       "      <th rowspan=\"7\" valign=\"top\">2016</th>\n",
       "      <th>Cow Hollow</th>\n",
       "      <td>1059.065602</td>\n",
       "      <td>4390.0</td>\n",
       "    </tr>\n",
       "    <tr>\n",
       "      <th>Merced Heights</th>\n",
       "      <td>1416.666667</td>\n",
       "      <td>4390.0</td>\n",
       "    </tr>\n",
       "    <tr>\n",
       "      <th>Pacific Heights</th>\n",
       "      <td>996.389364</td>\n",
       "      <td>4390.0</td>\n",
       "    </tr>\n",
       "    <tr>\n",
       "      <th>Potrero Hill</th>\n",
       "      <td>707.651609</td>\n",
       "      <td>4390.0</td>\n",
       "    </tr>\n",
       "    <tr>\n",
       "      <th>Presidio Heights</th>\n",
       "      <td>1465.968586</td>\n",
       "      <td>4390.0</td>\n",
       "    </tr>\n",
       "    <tr>\n",
       "      <th>Telegraph Hill</th>\n",
       "      <td>903.049771</td>\n",
       "      <td>4390.0</td>\n",
       "    </tr>\n",
       "    <tr>\n",
       "      <th>Westwood Park</th>\n",
       "      <td>631.195426</td>\n",
       "      <td>4390.0</td>\n",
       "    </tr>\n",
       "  </tbody>\n",
       "</table>\n",
       "</div>"
      ],
      "text/plain": [
       "                            sale_price_sqr_foot  gross_rent\n",
       "year neighborhood                                          \n",
       "2010 Cow Hollow                      569.379968      1239.0\n",
       "     Miraloma Park                   680.608729      1239.0\n",
       "     Pacific Heights                 496.516014      1239.0\n",
       "     Potrero Hill                    491.450004      1239.0\n",
       "     Presidio Heights                549.417931      1239.0\n",
       "     South Beach                    1037.099789      1239.0\n",
       "     Telegraph Hill                  524.793509      1239.0\n",
       "     Union Square District           569.193448      1239.0\n",
       "2011 Cow Hollow                      390.595653      1530.0\n",
       "     Miraloma Park                   414.676065      1530.0\n",
       "     Pacific Heights                 509.021480      1530.0\n",
       "     Potrero Hill                    503.138505      1530.0\n",
       "     Presidio Heights                493.814917      1530.0\n",
       "     South Beach                     388.644337      1530.0\n",
       "     Telegraph Hill                  483.405773      1530.0\n",
       "     Union Square District           302.123253      1530.0\n",
       "2012 Cow Hollow                      644.818307      2324.0\n",
       "     Merced Heights                  421.141245      2324.0\n",
       "     Miraloma Park                   756.192373      2324.0\n",
       "     Pacific Heights                 586.218215      2324.0\n",
       "     Potrero Hill                    466.647840      2324.0\n",
       "     Presidio Heights                426.608592      2324.0\n",
       "     Telegraph Hill                  465.802122      2324.0\n",
       "     Union Square District           445.196788      2324.0\n",
       "2013 Cow Hollow                      707.402809      2971.0\n",
       "     Pacific Heights                 503.899261      2971.0\n",
       "     Potrero Hill                    598.704795      2971.0\n",
       "     Presidio Heights                512.840248      2971.0\n",
       "     Telegraph Hill                  653.311617      2971.0\n",
       "     Union Square District          1290.472107      2971.0\n",
       "2014 Cow Hollow                      691.865412      3528.0\n",
       "     Merced Heights                  528.726541      3528.0\n",
       "     Miraloma Park                  1267.766203      3528.0\n",
       "     Pacific Heights                 824.658694      3528.0\n",
       "     Potrero Hill                   1045.201546      3528.0\n",
       "     Presidio Heights                603.450997      3528.0\n",
       "     South Beach                     524.629312      3528.0\n",
       "     Telegraph Hill                  708.193032      3528.0\n",
       "     Union Square District           558.271119      3528.0\n",
       "     Westwood Park                   742.979723      3528.0\n",
       "2015 Cow Hollow                      598.620541      3739.0\n",
       "     Pacific Heights                 910.187690      3739.0\n",
       "     Potrero Hill                    821.300991      3739.0\n",
       "     Presidio Heights                       NaN      3739.0\n",
       "     Telegraph Hill                  996.990220      3739.0\n",
       "     Union Square District          2258.702832      3739.0\n",
       "2016 Cow Hollow                     1059.065602      4390.0\n",
       "     Merced Heights                 1416.666667      4390.0\n",
       "     Pacific Heights                 996.389364      4390.0\n",
       "     Potrero Hill                    707.651609      4390.0\n",
       "     Presidio Heights               1465.968586      4390.0\n",
       "     Telegraph Hill                  903.049771      4390.0\n",
       "     Westwood Park                   631.195426      4390.0"
      ]
     },
     "execution_count": 35,
     "metadata": {},
     "output_type": "execute_result"
    }
   ],
   "source": [
    "# Fetch the previously generated DataFrame that was grouped by year and neighborhood\n",
    "top_ten = top_most_expensive_neighborhoods.index\n",
    "top_most_expensive_by_year = neighborhood_avgs.reset_index()\n",
    "top_most_expensive_by_year = top_most_expensive_by_year[top_most_expensive_by_year['neighborhood'].isin(top_ten)]\n",
    "top_most_expensive_by_year.drop(columns='housing_units',inplace=True)\n",
    "top_price_and_rent = top_most_expensive_by_year.groupby(['year','neighborhood']).mean()\n",
    "top_price_and_rent"
   ]
  },
  {
   "cell_type": "code",
   "execution_count": 36,
   "metadata": {},
   "outputs": [
    {
     "data": {},
     "metadata": {},
     "output_type": "display_data"
    },
    {
     "data": {
      "application/vnd.holoviews_exec.v0+json": "",
      "text/html": [
       "<div id='2337'>\n",
       "\n",
       "\n",
       "\n",
       "\n",
       "\n",
       "  <div class=\"bk-root\" id=\"bf2e2a89-16ea-4a2a-a7fd-a5a38900cbed\" data-root-id=\"2337\"></div>\n",
       "</div>\n",
       "<script type=\"application/javascript\">(function(root) {\n",
       "  function embed_document(root) {\n",
       "    var docs_json = {\"ca589be4-9a46-4fa6-b71d-5e3a58c689e0\":{\"defs\":[{\"extends\":null,\"module\":null,\"name\":\"ReactiveHTML1\",\"overrides\":[],\"properties\":[]},{\"extends\":null,\"module\":null,\"name\":\"FlexBox1\",\"overrides\":[],\"properties\":[{\"default\":\"flex-start\",\"kind\":null,\"name\":\"align_content\"},{\"default\":\"flex-start\",\"kind\":null,\"name\":\"align_items\"},{\"default\":\"row\",\"kind\":null,\"name\":\"flex_direction\"},{\"default\":\"wrap\",\"kind\":null,\"name\":\"flex_wrap\"},{\"default\":\"flex-start\",\"kind\":null,\"name\":\"justify_content\"}]},{\"extends\":null,\"module\":null,\"name\":\"TemplateActions1\",\"overrides\":[],\"properties\":[{\"default\":0,\"kind\":null,\"name\":\"open_modal\"},{\"default\":0,\"kind\":null,\"name\":\"close_modal\"}]},{\"extends\":null,\"module\":null,\"name\":\"MaterialTemplateActions1\",\"overrides\":[],\"properties\":[{\"default\":0,\"kind\":null,\"name\":\"open_modal\"},{\"default\":0,\"kind\":null,\"name\":\"close_modal\"}]}],\"roots\":{\"references\":[{\"attributes\":{\"coordinates\":null,\"data_source\":{\"id\":\"2372\"},\"glyph\":{\"id\":\"2375\"},\"group\":null,\"hover_glyph\":null,\"muted_glyph\":{\"id\":\"2377\"},\"nonselection_glyph\":{\"id\":\"2376\"},\"selection_glyph\":{\"id\":\"2380\"},\"view\":{\"id\":\"2379\"}},\"id\":\"2378\",\"type\":\"GlyphRenderer\"},{\"attributes\":{\"tools\":[{\"id\":\"2341\"},{\"id\":\"2358\"},{\"id\":\"2359\"},{\"id\":\"2360\"},{\"id\":\"2361\"},{\"id\":\"2362\"}]},\"id\":\"2364\",\"type\":\"Toolbar\"},{\"attributes\":{\"margin\":[5,5,5,5],\"name\":\"HSpacer04064\",\"sizing_mode\":\"stretch_width\"},\"id\":\"2413\",\"type\":\"Spacer\"},{\"attributes\":{\"bottom_units\":\"screen\",\"coordinates\":null,\"fill_alpha\":0.5,\"fill_color\":\"lightgrey\",\"group\":null,\"left_units\":\"screen\",\"level\":\"overlay\",\"line_alpha\":1.0,\"line_color\":\"black\",\"line_dash\":[4,4],\"line_width\":2,\"right_units\":\"screen\",\"syncable\":false,\"top_units\":\"screen\"},\"id\":\"2363\",\"type\":\"BoxAnnotation\"},{\"attributes\":{},\"id\":\"2358\",\"type\":\"SaveTool\"},{\"attributes\":{},\"id\":\"2349\",\"type\":\"LinearScale\"},{\"attributes\":{},\"id\":\"2359\",\"type\":\"PanTool\"},{\"attributes\":{},\"id\":\"2362\",\"type\":\"ResetTool\"},{\"attributes\":{\"factors\":[[\"2010\",\"gross_rent\"],[\"2010\",\"sale_price_sqr_foot\"],[\"2011\",\"gross_rent\"],[\"2011\",\"sale_price_sqr_foot\"],[\"2012\",\"gross_rent\"],[\"2012\",\"sale_price_sqr_foot\"],[\"2013\",\"gross_rent\"],[\"2013\",\"sale_price_sqr_foot\"],[\"2014\",\"gross_rent\"],[\"2014\",\"sale_price_sqr_foot\"],[\"2015\",\"gross_rent\"],[\"2015\",\"sale_price_sqr_foot\"],[\"2016\",\"gross_rent\"],[\"2016\",\"sale_price_sqr_foot\"]],\"tags\":[[[\"year\",\"year\",null],[\"Variable\",\"Variable\",null]]]},\"id\":\"2339\",\"type\":\"FactorRange\"},{\"attributes\":{\"fill_color\":{\"field\":\"Variable\",\"transform\":{\"id\":\"2371\"}},\"hatch_color\":{\"field\":\"Variable\",\"transform\":{\"id\":\"2371\"}},\"top\":{\"field\":\"value\"},\"width\":{\"value\":0.8},\"x\":{\"field\":\"xoffsets\"}},\"id\":\"2375\",\"type\":\"VBar\"},{\"attributes\":{},\"id\":\"2360\",\"type\":\"WheelZoomTool\"},{\"attributes\":{},\"id\":\"2385\",\"type\":\"BasicTickFormatter\"},{\"attributes\":{\"overlay\":{\"id\":\"2363\"}},\"id\":\"2361\",\"type\":\"BoxZoomTool\"},{\"attributes\":{},\"id\":\"2386\",\"type\":\"AllLabels\"},{\"attributes\":{\"coordinates\":null,\"group\":null,\"text\":\"Most Expensive San Francisco Neighborhoods\",\"text_color\":\"black\",\"text_font_size\":\"12pt\"},\"id\":\"2343\",\"type\":\"Title\"},{\"attributes\":{\"client_comm_id\":\"a2ede17b1d7a4b4f901b59a09c930ed4\",\"comm_id\":\"e0d75717dbab4ada94baaa2cfdcf5ee7\",\"plot_id\":\"2337\"},\"id\":\"2449\",\"type\":\"panel.models.comm_manager.CommManager\"},{\"attributes\":{\"below\":[{\"id\":\"2351\"}],\"center\":[{\"id\":\"2353\"},{\"id\":\"2357\"}],\"height\":500,\"left\":[{\"id\":\"2354\"}],\"margin\":[5,5,5,5],\"min_border_bottom\":10,\"min_border_left\":10,\"min_border_right\":10,\"min_border_top\":10,\"renderers\":[{\"id\":\"2378\"}],\"sizing_mode\":\"fixed\",\"title\":{\"id\":\"2343\"},\"toolbar\":{\"id\":\"2364\"},\"width\":700,\"x_range\":{\"id\":\"2339\"},\"x_scale\":{\"id\":\"2347\"},\"y_range\":{\"id\":\"2340\"},\"y_scale\":{\"id\":\"2349\"}},\"id\":\"2342\",\"subtype\":\"Figure\",\"type\":\"Plot\"},{\"attributes\":{\"margin\":[5,5,5,5],\"name\":\"VSpacer04061\",\"sizing_mode\":\"stretch_height\"},\"id\":\"2418\",\"type\":\"Spacer\"},{\"attributes\":{},\"id\":\"2352\",\"type\":\"CategoricalTicker\"},{\"attributes\":{\"children\":[{\"id\":\"2415\"},{\"id\":\"2416\"},{\"id\":\"2418\"}],\"margin\":[0,0,0,0],\"name\":\"Column04062\"},\"id\":\"2414\",\"type\":\"Column\"},{\"attributes\":{},\"id\":\"2355\",\"type\":\"BasicTicker\"},{\"attributes\":{\"source\":{\"id\":\"2372\"}},\"id\":\"2379\",\"type\":\"CDSView\"},{\"attributes\":{\"fill_alpha\":{\"value\":0.2},\"fill_color\":{\"field\":\"Variable\",\"transform\":{\"id\":\"2371\"}},\"hatch_alpha\":{\"value\":0.2},\"hatch_color\":{\"field\":\"Variable\",\"transform\":{\"id\":\"2371\"}},\"line_alpha\":{\"value\":0.2},\"top\":{\"field\":\"value\"},\"width\":{\"value\":0.8},\"x\":{\"field\":\"xoffsets\"}},\"id\":\"2377\",\"type\":\"VBar\"},{\"attributes\":{\"axis\":{\"id\":\"2351\"},\"coordinates\":null,\"grid_line_color\":null,\"group\":null,\"ticker\":null},\"id\":\"2353\",\"type\":\"Grid\"},{\"attributes\":{\"margin\":[5,5,5,5],\"name\":\"VSpacer04060\",\"sizing_mode\":\"stretch_height\"},\"id\":\"2415\",\"type\":\"Spacer\"},{\"attributes\":{\"margin\":[20,20,20,20],\"min_width\":250,\"options\":[\"Cow Hollow\",\"Miraloma Park\",\"Pacific Heights\",\"Potrero Hill\",\"Presidio Heights\",\"South Beach\",\"Telegraph Hill\",\"Union Square District\",\"Merced Heights\",\"Westwood Park\"],\"title\":\"neighborhood\",\"value\":\"Cow Hollow\",\"width\":250},\"id\":\"2417\",\"type\":\"Select\"},{\"attributes\":{\"children\":[{\"id\":\"2417\"}],\"css_classes\":[\"panel-widget-box\"],\"margin\":[5,5,5,5],\"name\":\"WidgetBox04055\"},\"id\":\"2416\",\"type\":\"Column\"},{\"attributes\":{\"axis_label\":\"\",\"coordinates\":null,\"formatter\":{\"id\":\"2382\"},\"group\":null,\"major_label_orientation\":1.5707963267948966,\"major_label_policy\":{\"id\":\"2383\"},\"ticker\":{\"id\":\"2352\"}},\"id\":\"2351\",\"type\":\"CategoricalAxis\"},{\"attributes\":{},\"id\":\"2382\",\"type\":\"CategoricalTickFormatter\"},{\"attributes\":{},\"id\":\"2373\",\"type\":\"Selection\"},{\"attributes\":{\"axis_label\":\"$USD\",\"coordinates\":null,\"formatter\":{\"id\":\"2385\"},\"group\":null,\"major_label_policy\":{\"id\":\"2386\"},\"ticker\":{\"id\":\"2355\"}},\"id\":\"2354\",\"type\":\"LinearAxis\"},{\"attributes\":{\"children\":[{\"id\":\"2338\"},{\"id\":\"2342\"},{\"id\":\"2413\"},{\"id\":\"2414\"}],\"margin\":[0,0,0,0],\"name\":\"Row04054\"},\"id\":\"2337\",\"type\":\"Row\"},{\"attributes\":{\"bottom\":{\"value\":0},\"fill_alpha\":{\"value\":1.0},\"fill_color\":{\"field\":\"Variable\",\"transform\":{\"id\":\"2371\"}},\"hatch_alpha\":{\"value\":1.0},\"hatch_color\":{\"field\":\"Variable\",\"transform\":{\"id\":\"2371\"}},\"hatch_scale\":{\"value\":12.0},\"hatch_weight\":{\"value\":1.0},\"line_alpha\":{\"value\":1.0},\"line_cap\":{\"value\":\"butt\"},\"line_color\":{\"value\":\"black\"},\"line_dash\":{\"value\":[]},\"line_dash_offset\":{\"value\":0},\"line_join\":{\"value\":\"bevel\"},\"line_width\":{\"value\":1},\"top\":{\"field\":\"value\"},\"width\":{\"value\":0.8},\"x\":{\"field\":\"xoffsets\"}},\"id\":\"2380\",\"type\":\"VBar\"},{\"attributes\":{\"end\":4789.9404347,\"reset_end\":4789.9404347,\"reset_start\":0.0,\"tags\":[[[\"value\",\"value\",null]]]},\"id\":\"2340\",\"type\":\"Range1d\"},{\"attributes\":{},\"id\":\"2347\",\"type\":\"CategoricalScale\"},{\"attributes\":{\"axis\":{\"id\":\"2354\"},\"coordinates\":null,\"dimension\":1,\"grid_line_color\":null,\"group\":null,\"ticker\":null},\"id\":\"2357\",\"type\":\"Grid\"},{\"attributes\":{},\"id\":\"2400\",\"type\":\"UnionRenderers\"},{\"attributes\":{\"data\":{\"Variable\":[\"sale_price_sqr_foot\",\"sale_price_sqr_foot\",\"sale_price_sqr_foot\",\"sale_price_sqr_foot\",\"sale_price_sqr_foot\",\"sale_price_sqr_foot\",\"sale_price_sqr_foot\",\"gross_rent\",\"gross_rent\",\"gross_rent\",\"gross_rent\",\"gross_rent\",\"gross_rent\",\"gross_rent\"],\"value\":{\"__ndarray__\":\"PUCcLArLgUA7rHDLh2l4QMgUYuSLJoRATWDf8zgbhkCpUN1c7J6FQHxCdt72tIJANbIrLUOMkEAAAAAAAFyTQAAAAAAA6JdAAAAAAAAookAAAAAAADanQAAAAAAAkKtAAAAAAAA2rUAAAAAAACaxQA==\",\"dtype\":\"float64\",\"order\":\"little\",\"shape\":[14]},\"xoffsets\":[[\"2010\",\"sale_price_sqr_foot\"],[\"2011\",\"sale_price_sqr_foot\"],[\"2012\",\"sale_price_sqr_foot\"],[\"2013\",\"sale_price_sqr_foot\"],[\"2014\",\"sale_price_sqr_foot\"],[\"2015\",\"sale_price_sqr_foot\"],[\"2016\",\"sale_price_sqr_foot\"],[\"2010\",\"gross_rent\"],[\"2011\",\"gross_rent\"],[\"2012\",\"gross_rent\"],[\"2013\",\"gross_rent\"],[\"2014\",\"gross_rent\"],[\"2015\",\"gross_rent\"],[\"2016\",\"gross_rent\"]],\"year\":[\"2010\",\"2011\",\"2012\",\"2013\",\"2014\",\"2015\",\"2016\",\"2010\",\"2011\",\"2012\",\"2013\",\"2014\",\"2015\",\"2016\"]},\"selected\":{\"id\":\"2373\"},\"selection_policy\":{\"id\":\"2400\"}},\"id\":\"2372\",\"type\":\"ColumnDataSource\"},{\"attributes\":{\"fill_alpha\":{\"value\":0.1},\"fill_color\":{\"field\":\"Variable\",\"transform\":{\"id\":\"2371\"}},\"hatch_alpha\":{\"value\":0.1},\"hatch_color\":{\"field\":\"Variable\",\"transform\":{\"id\":\"2371\"}},\"line_alpha\":{\"value\":0.1},\"top\":{\"field\":\"value\"},\"width\":{\"value\":0.8},\"x\":{\"field\":\"xoffsets\"}},\"id\":\"2376\",\"type\":\"VBar\"},{\"attributes\":{\"callback\":null,\"renderers\":[{\"id\":\"2378\"}],\"tags\":[\"hv_created\"],\"tooltips\":[[\"year\",\"@{year}\"],[\"Variable\",\"@{Variable}\"],[\"value\",\"@{value}\"]]},\"id\":\"2341\",\"type\":\"HoverTool\"},{\"attributes\":{\"margin\":[5,5,5,5],\"name\":\"HSpacer04063\",\"sizing_mode\":\"stretch_width\"},\"id\":\"2338\",\"type\":\"Spacer\"},{\"attributes\":{\"factors\":[\"sale_price_sqr_foot\",\"gross_rent\"],\"palette\":[\"#30a2da\",\"#fc4f30\"]},\"id\":\"2371\",\"type\":\"CategoricalColorMapper\"},{\"attributes\":{},\"id\":\"2383\",\"type\":\"AllLabels\"}],\"root_ids\":[\"2337\",\"2449\"]},\"title\":\"Bokeh Application\",\"version\":\"2.4.2\"}};\n",
       "    var render_items = [{\"docid\":\"ca589be4-9a46-4fa6-b71d-5e3a58c689e0\",\"root_ids\":[\"2337\"],\"roots\":{\"2337\":\"bf2e2a89-16ea-4a2a-a7fd-a5a38900cbed\"}}];\n",
       "    root.Bokeh.embed.embed_items_notebook(docs_json, render_items);\n",
       "  }\n",
       "  if (root.Bokeh !== undefined && root.Bokeh.Panel !== undefined && ( root['Plotly'] !== undefined)) {\n",
       "    embed_document(root);\n",
       "  } else {\n",
       "    var attempts = 0;\n",
       "    var timer = setInterval(function(root) {\n",
       "      if (root.Bokeh !== undefined && root.Bokeh.Panel !== undefined && (root['Plotly'] !== undefined)) {\n",
       "        clearInterval(timer);\n",
       "        embed_document(root);\n",
       "      } else if (document.readyState == \"complete\") {\n",
       "        attempts++;\n",
       "        if (attempts > 200) {\n",
       "          clearInterval(timer);\n",
       "          console.log(\"Bokeh: ERROR: Unable to run BokehJS code because BokehJS library is missing\");\n",
       "        }\n",
       "      }\n",
       "    }, 25, root)\n",
       "  }\n",
       "})(window);</script>"
      ],
      "text/plain": [
       ":DynamicMap   [neighborhood]\n",
       "   :Bars   [year,Variable]   (value)"
      ]
     },
     "execution_count": 36,
     "metadata": {
      "application/vnd.holoviews_exec.v0+json": {
       "id": "2337"
      }
     },
     "output_type": "execute_result"
    }
   ],
   "source": [
    "# Plotting the data from the top 10 expensive neighborhoods\n",
    "top_price_and_rent.hvplot.bar(\n",
    "    x='year',\n",
    "    groupby='neighborhood',\n",
    "    title=\"Most Expensive San Francisco Neighborhoods\",\n",
    "    xlabel=\"\",ylabel=\"$USD\",\n",
    "    stacked=False, rot=90, height=500\n",
    ")"
   ]
  },
  {
   "cell_type": "markdown",
   "metadata": {},
   "source": [
    "- - - "
   ]
  },
  {
   "cell_type": "markdown",
   "metadata": {},
   "source": [
    "## Neighborhood Map\n",
    "\n",
    "In this section, you will read in neighborhoods location data and build an interactive map with the average house value per neighborhood. Use a `scatter_mapbox` from Plotly express to create the visualization. Remember, you will need your Mapbox API key for this."
   ]
  },
  {
   "cell_type": "markdown",
   "metadata": {},
   "source": [
    "### Load Location Data"
   ]
  },
  {
   "cell_type": "code",
   "execution_count": 37,
   "metadata": {},
   "outputs": [],
   "source": [
    "# Load neighborhoods coordinates data\n",
    "px.set_mapbox_access_token(mapbox_api)"
   ]
  },
  {
   "cell_type": "markdown",
   "metadata": {},
   "source": [
    "### Data Preparation\n",
    "\n",
    "You will need to join the location data with the mean values per neighborhood.\n",
    "\n",
    "1. Calculate the mean values for each neighborhood.\n",
    "\n",
    "2. Join the average values with the neighborhood locations."
   ]
  },
  {
   "cell_type": "code",
   "execution_count": 38,
   "metadata": {},
   "outputs": [
    {
     "data": {
      "text/html": [
       "<div>\n",
       "<style scoped>\n",
       "    .dataframe tbody tr th:only-of-type {\n",
       "        vertical-align: middle;\n",
       "    }\n",
       "\n",
       "    .dataframe tbody tr th {\n",
       "        vertical-align: top;\n",
       "    }\n",
       "\n",
       "    .dataframe thead th {\n",
       "        text-align: right;\n",
       "    }\n",
       "</style>\n",
       "<table border=\"1\" class=\"dataframe\">\n",
       "  <thead>\n",
       "    <tr style=\"text-align: right;\">\n",
       "      <th></th>\n",
       "      <th>sale_price_sqr_foot</th>\n",
       "      <th>housing_units</th>\n",
       "      <th>gross_rent</th>\n",
       "    </tr>\n",
       "    <tr>\n",
       "      <th>neighborhood</th>\n",
       "      <th></th>\n",
       "      <th></th>\n",
       "      <th></th>\n",
       "    </tr>\n",
       "  </thead>\n",
       "  <tbody>\n",
       "    <tr>\n",
       "      <th>Union Square District</th>\n",
       "      <td>903.993258</td>\n",
       "      <td>377427.50</td>\n",
       "      <td>2555.166667</td>\n",
       "    </tr>\n",
       "    <tr>\n",
       "      <th>Merced Heights</th>\n",
       "      <td>788.844818</td>\n",
       "      <td>380348.00</td>\n",
       "      <td>3414.000000</td>\n",
       "    </tr>\n",
       "    <tr>\n",
       "      <th>Miraloma Park</th>\n",
       "      <td>779.810842</td>\n",
       "      <td>375967.25</td>\n",
       "      <td>2155.250000</td>\n",
       "    </tr>\n",
       "    <tr>\n",
       "      <th>Pacific Heights</th>\n",
       "      <td>689.555817</td>\n",
       "      <td>378401.00</td>\n",
       "      <td>2817.285714</td>\n",
       "    </tr>\n",
       "    <tr>\n",
       "      <th>Westwood Park</th>\n",
       "      <td>687.087575</td>\n",
       "      <td>382295.00</td>\n",
       "      <td>3959.000000</td>\n",
       "    </tr>\n",
       "    <tr>\n",
       "      <th>...</th>\n",
       "      <td>...</td>\n",
       "      <td>...</td>\n",
       "      <td>...</td>\n",
       "    </tr>\n",
       "    <tr>\n",
       "      <th>Visitacion Valley</th>\n",
       "      <td>301.466180</td>\n",
       "      <td>381321.50</td>\n",
       "      <td>3657.000000</td>\n",
       "    </tr>\n",
       "    <tr>\n",
       "      <th>Outer Mission</th>\n",
       "      <td>242.370952</td>\n",
       "      <td>379374.50</td>\n",
       "      <td>2995.750000</td>\n",
       "    </tr>\n",
       "    <tr>\n",
       "      <th>Bayview</th>\n",
       "      <td>204.588623</td>\n",
       "      <td>376454.00</td>\n",
       "      <td>2318.400000</td>\n",
       "    </tr>\n",
       "    <tr>\n",
       "      <th>Hunters Point</th>\n",
       "      <td>170.624920</td>\n",
       "      <td>377427.50</td>\n",
       "      <td>2489.000000</td>\n",
       "    </tr>\n",
       "    <tr>\n",
       "      <th>Silver Terrace</th>\n",
       "      <td>170.292549</td>\n",
       "      <td>380348.00</td>\n",
       "      <td>3528.000000</td>\n",
       "    </tr>\n",
       "  </tbody>\n",
       "</table>\n",
       "<p>73 rows × 3 columns</p>\n",
       "</div>"
      ],
      "text/plain": [
       "                       sale_price_sqr_foot  housing_units   gross_rent\n",
       "neighborhood                                                          \n",
       "Union Square District           903.993258      377427.50  2555.166667\n",
       "Merced Heights                  788.844818      380348.00  3414.000000\n",
       "Miraloma Park                   779.810842      375967.25  2155.250000\n",
       "Pacific Heights                 689.555817      378401.00  2817.285714\n",
       "Westwood Park                   687.087575      382295.00  3959.000000\n",
       "...                                    ...            ...          ...\n",
       "Visitacion Valley               301.466180      381321.50  3657.000000\n",
       "Outer Mission                   242.370952      379374.50  2995.750000\n",
       "Bayview                         204.588623      376454.00  2318.400000\n",
       "Hunters Point                   170.624920      377427.50  2489.000000\n",
       "Silver Terrace                  170.292549      380348.00  3528.000000\n",
       "\n",
       "[73 rows x 3 columns]"
      ]
     },
     "execution_count": 38,
     "metadata": {},
     "output_type": "execute_result"
    }
   ],
   "source": [
    "# Calculate the mean values for each neighborhood\n",
    "avg_price_by_neighborhood"
   ]
  },
  {
   "cell_type": "code",
   "execution_count": 39,
   "metadata": {},
   "outputs": [
    {
     "data": {
      "text/html": [
       "<div>\n",
       "<style scoped>\n",
       "    .dataframe tbody tr th:only-of-type {\n",
       "        vertical-align: middle;\n",
       "    }\n",
       "\n",
       "    .dataframe tbody tr th {\n",
       "        vertical-align: top;\n",
       "    }\n",
       "\n",
       "    .dataframe thead th {\n",
       "        text-align: right;\n",
       "    }\n",
       "</style>\n",
       "<table border=\"1\" class=\"dataframe\">\n",
       "  <thead>\n",
       "    <tr style=\"text-align: right;\">\n",
       "      <th></th>\n",
       "      <th>neighborhood</th>\n",
       "      <th>sale_price_sqr_foot</th>\n",
       "      <th>housing_units</th>\n",
       "      <th>gross_rent</th>\n",
       "      <th>Lat</th>\n",
       "      <th>Lon</th>\n",
       "    </tr>\n",
       "  </thead>\n",
       "  <tbody>\n",
       "    <tr>\n",
       "      <th>0</th>\n",
       "      <td>Union Square District</td>\n",
       "      <td>903.993258</td>\n",
       "      <td>377427.50</td>\n",
       "      <td>2555.166667</td>\n",
       "      <td>37.79101</td>\n",
       "      <td>-122.40210</td>\n",
       "    </tr>\n",
       "    <tr>\n",
       "      <th>1</th>\n",
       "      <td>Merced Heights</td>\n",
       "      <td>788.844818</td>\n",
       "      <td>380348.00</td>\n",
       "      <td>3414.000000</td>\n",
       "      <td>37.71993</td>\n",
       "      <td>-122.46595</td>\n",
       "    </tr>\n",
       "    <tr>\n",
       "      <th>2</th>\n",
       "      <td>Miraloma Park</td>\n",
       "      <td>779.810842</td>\n",
       "      <td>375967.25</td>\n",
       "      <td>2155.250000</td>\n",
       "      <td>37.73415</td>\n",
       "      <td>-122.45700</td>\n",
       "    </tr>\n",
       "    <tr>\n",
       "      <th>3</th>\n",
       "      <td>Pacific Heights</td>\n",
       "      <td>689.555817</td>\n",
       "      <td>378401.00</td>\n",
       "      <td>2817.285714</td>\n",
       "      <td>37.79298</td>\n",
       "      <td>-122.43579</td>\n",
       "    </tr>\n",
       "    <tr>\n",
       "      <th>4</th>\n",
       "      <td>Westwood Park</td>\n",
       "      <td>687.087575</td>\n",
       "      <td>382295.00</td>\n",
       "      <td>3959.000000</td>\n",
       "      <td>37.73415</td>\n",
       "      <td>-122.45700</td>\n",
       "    </tr>\n",
       "    <tr>\n",
       "      <th>...</th>\n",
       "      <td>...</td>\n",
       "      <td>...</td>\n",
       "      <td>...</td>\n",
       "      <td>...</td>\n",
       "      <td>...</td>\n",
       "      <td>...</td>\n",
       "    </tr>\n",
       "    <tr>\n",
       "      <th>64</th>\n",
       "      <td>Visitacion Valley</td>\n",
       "      <td>301.466180</td>\n",
       "      <td>381321.50</td>\n",
       "      <td>3657.000000</td>\n",
       "      <td>37.72874</td>\n",
       "      <td>-122.41098</td>\n",
       "    </tr>\n",
       "    <tr>\n",
       "      <th>65</th>\n",
       "      <td>Outer Mission</td>\n",
       "      <td>242.370952</td>\n",
       "      <td>379374.50</td>\n",
       "      <td>2995.750000</td>\n",
       "      <td>37.72280</td>\n",
       "      <td>-122.43869</td>\n",
       "    </tr>\n",
       "    <tr>\n",
       "      <th>66</th>\n",
       "      <td>Bayview</td>\n",
       "      <td>204.588623</td>\n",
       "      <td>376454.00</td>\n",
       "      <td>2318.400000</td>\n",
       "      <td>37.73467</td>\n",
       "      <td>-122.40106</td>\n",
       "    </tr>\n",
       "    <tr>\n",
       "      <th>67</th>\n",
       "      <td>Hunters Point</td>\n",
       "      <td>170.624920</td>\n",
       "      <td>377427.50</td>\n",
       "      <td>2489.000000</td>\n",
       "      <td>37.72551</td>\n",
       "      <td>-122.37178</td>\n",
       "    </tr>\n",
       "    <tr>\n",
       "      <th>68</th>\n",
       "      <td>Silver Terrace</td>\n",
       "      <td>170.292549</td>\n",
       "      <td>380348.00</td>\n",
       "      <td>3528.000000</td>\n",
       "      <td>37.73467</td>\n",
       "      <td>-122.40106</td>\n",
       "    </tr>\n",
       "  </tbody>\n",
       "</table>\n",
       "<p>69 rows × 6 columns</p>\n",
       "</div>"
      ],
      "text/plain": [
       "             neighborhood  sale_price_sqr_foot  housing_units   gross_rent  \\\n",
       "0   Union Square District           903.993258      377427.50  2555.166667   \n",
       "1          Merced Heights           788.844818      380348.00  3414.000000   \n",
       "2           Miraloma Park           779.810842      375967.25  2155.250000   \n",
       "3         Pacific Heights           689.555817      378401.00  2817.285714   \n",
       "4           Westwood Park           687.087575      382295.00  3959.000000   \n",
       "..                    ...                  ...            ...          ...   \n",
       "64      Visitacion Valley           301.466180      381321.50  3657.000000   \n",
       "65          Outer Mission           242.370952      379374.50  2995.750000   \n",
       "66                Bayview           204.588623      376454.00  2318.400000   \n",
       "67          Hunters Point           170.624920      377427.50  2489.000000   \n",
       "68         Silver Terrace           170.292549      380348.00  3528.000000   \n",
       "\n",
       "         Lat        Lon  \n",
       "0   37.79101 -122.40210  \n",
       "1   37.71993 -122.46595  \n",
       "2   37.73415 -122.45700  \n",
       "3   37.79298 -122.43579  \n",
       "4   37.73415 -122.45700  \n",
       "..       ...        ...  \n",
       "64  37.72874 -122.41098  \n",
       "65  37.72280 -122.43869  \n",
       "66  37.73467 -122.40106  \n",
       "67  37.72551 -122.37178  \n",
       "68  37.73467 -122.40106  \n",
       "\n",
       "[69 rows x 6 columns]"
      ]
     },
     "execution_count": 39,
     "metadata": {},
     "output_type": "execute_result"
    }
   ],
   "source": [
    "# Join the average values with the neighborhood locations\n",
    "neighborhood_coords = pd.read_csv(\"../sfo-housing-dashboard/sfo_neighborhoods_coordinates.csv\",index_col='Neighborhood')\n",
    "neighborhood_avgs_coords = pd.concat([avg_price_by_neighborhood,neighborhood_coords],axis='columns',join='inner')\n",
    "neighborhood_avgs_coords.index.rename('neighborhood',inplace=True)\n",
    "neighborhood_avgs_coords.reset_index(inplace=True)\n",
    "neighborhood_avgs_coords"
   ]
  },
  {
   "cell_type": "markdown",
   "metadata": {},
   "source": [
    "### Mapbox Visualization\n",
    "\n",
    "Plot the average values per neighborhood using a Plotly express `scatter_mapbox` visualization."
   ]
  },
  {
   "cell_type": "code",
   "execution_count": 40,
   "metadata": {},
   "outputs": [
    {
     "data": {
      "application/vnd.plotly.v1+json": {
       "config": {
        "plotlyServerURL": "https://plot.ly"
       },
       "data": [
        {
         "customdata": [
          [
           "Union Square District",
           903.9932577166668,
           2555.1666666666665
          ]
         ],
         "hovertemplate": "neighborhood=%{customdata[0]}<br>sale_price_sqr_foot=%{customdata[1]}<br>Lat=%{lat}<br>Lon=%{lon}<br>gross_rent=%{customdata[2]}<extra></extra>",
         "lat": [
          37.79101
         ],
         "legendgroup": "Union Square District",
         "lon": [
          -122.4021
         ],
         "marker": {
          "color": "#636efa",
          "size": [
           903.9932577166668
          ],
          "sizemode": "area",
          "sizeref": 2.259983144291667
         },
         "mode": "markers",
         "name": "Union Square District",
         "showlegend": true,
         "subplot": "mapbox",
         "type": "scattermapbox"
        },
        {
         "customdata": [
          [
           "Merced Heights",
           788.8448177,
           3414
          ]
         ],
         "hovertemplate": "neighborhood=%{customdata[0]}<br>sale_price_sqr_foot=%{customdata[1]}<br>Lat=%{lat}<br>Lon=%{lon}<br>gross_rent=%{customdata[2]}<extra></extra>",
         "lat": [
          37.71993
         ],
         "legendgroup": "Merced Heights",
         "lon": [
          -122.46595
         ],
         "marker": {
          "color": "#EF553B",
          "size": [
           788.8448177
          ],
          "sizemode": "area",
          "sizeref": 2.259983144291667
         },
         "mode": "markers",
         "name": "Merced Heights",
         "showlegend": true,
         "subplot": "mapbox",
         "type": "scattermapbox"
        },
        {
         "customdata": [
          [
           "Miraloma Park",
           779.81084235,
           2155.25
          ]
         ],
         "hovertemplate": "neighborhood=%{customdata[0]}<br>sale_price_sqr_foot=%{customdata[1]}<br>Lat=%{lat}<br>Lon=%{lon}<br>gross_rent=%{customdata[2]}<extra></extra>",
         "lat": [
          37.73415
         ],
         "legendgroup": "Miraloma Park",
         "lon": [
          -122.457
         ],
         "marker": {
          "color": "#00cc96",
          "size": [
           779.81084235
          ],
          "sizemode": "area",
          "sizeref": 2.259983144291667
         },
         "mode": "markers",
         "name": "Miraloma Park",
         "showlegend": true,
         "subplot": "mapbox",
         "type": "scattermapbox"
        },
        {
         "customdata": [
          [
           "Pacific Heights",
           689.5558168,
           2817.285714285714
          ]
         ],
         "hovertemplate": "neighborhood=%{customdata[0]}<br>sale_price_sqr_foot=%{customdata[1]}<br>Lat=%{lat}<br>Lon=%{lon}<br>gross_rent=%{customdata[2]}<extra></extra>",
         "lat": [
          37.79298
         ],
         "legendgroup": "Pacific Heights",
         "lon": [
          -122.43579
         ],
         "marker": {
          "color": "#ab63fa",
          "size": [
           689.5558168
          ],
          "sizemode": "area",
          "sizeref": 2.259983144291667
         },
         "mode": "markers",
         "name": "Pacific Heights",
         "showlegend": true,
         "subplot": "mapbox",
         "type": "scattermapbox"
        },
        {
         "customdata": [
          [
           "Westwood Park",
           687.08757455,
           3959
          ]
         ],
         "hovertemplate": "neighborhood=%{customdata[0]}<br>sale_price_sqr_foot=%{customdata[1]}<br>Lat=%{lat}<br>Lon=%{lon}<br>gross_rent=%{customdata[2]}<extra></extra>",
         "lat": [
          37.73415
         ],
         "legendgroup": "Westwood Park",
         "lon": [
          -122.457
         ],
         "marker": {
          "color": "#FFA15A",
          "size": [
           687.08757455
          ],
          "sizemode": "area",
          "sizeref": 2.259983144291667
         },
         "mode": "markers",
         "name": "Westwood Park",
         "showlegend": true,
         "subplot": "mapbox",
         "type": "scattermapbox"
        },
        {
         "customdata": [
          [
           "Telegraph Hill",
           676.5065775285714,
           2817.285714285714
          ]
         ],
         "hovertemplate": "neighborhood=%{customdata[0]}<br>sale_price_sqr_foot=%{customdata[1]}<br>Lat=%{lat}<br>Lon=%{lon}<br>gross_rent=%{customdata[2]}<extra></extra>",
         "lat": [
          37.80055
         ],
         "legendgroup": "Telegraph Hill",
         "lon": [
          -122.40433
         ],
         "marker": {
          "color": "#19d3f3",
          "size": [
           676.5065775285714
          ],
          "sizemode": "area",
          "sizeref": 2.259983144291667
         },
         "mode": "markers",
         "name": "Telegraph Hill",
         "showlegend": true,
         "subplot": "mapbox",
         "type": "scattermapbox"
        },
        {
         "customdata": [
          [
           "Presidio Heights",
           675.3502119833333,
           2817.285714285714
          ]
         ],
         "hovertemplate": "neighborhood=%{customdata[0]}<br>sale_price_sqr_foot=%{customdata[1]}<br>Lat=%{lat}<br>Lon=%{lon}<br>gross_rent=%{customdata[2]}<extra></extra>",
         "lat": [
          37.78553
         ],
         "legendgroup": "Presidio Heights",
         "lon": [
          -122.456
         ],
         "marker": {
          "color": "#FF6692",
          "size": [
           675.3502119833333
          ],
          "sizemode": "area",
          "sizeref": 2.259983144291667
         },
         "mode": "markers",
         "name": "Presidio Heights",
         "showlegend": true,
         "subplot": "mapbox",
         "type": "scattermapbox"
        },
        {
         "customdata": [
          [
           "Cow Hollow",
           665.9640416428572,
           2817.285714285714
          ]
         ],
         "hovertemplate": "neighborhood=%{customdata[0]}<br>sale_price_sqr_foot=%{customdata[1]}<br>Lat=%{lat}<br>Lon=%{lon}<br>gross_rent=%{customdata[2]}<extra></extra>",
         "lat": [
          37.79298
         ],
         "legendgroup": "Cow Hollow",
         "lon": [
          -122.43579
         ],
         "marker": {
          "color": "#B6E880",
          "size": [
           665.9640416428572
          ],
          "sizemode": "area",
          "sizeref": 2.259983144291667
         },
         "mode": "markers",
         "name": "Cow Hollow",
         "showlegend": true,
         "subplot": "mapbox",
         "type": "scattermapbox"
        },
        {
         "customdata": [
          [
           "Potrero Hill",
           662.0136128428572,
           2817.285714285714
          ]
         ],
         "hovertemplate": "neighborhood=%{customdata[0]}<br>sale_price_sqr_foot=%{customdata[1]}<br>Lat=%{lat}<br>Lon=%{lon}<br>gross_rent=%{customdata[2]}<extra></extra>",
         "lat": [
          37.73196
         ],
         "legendgroup": "Potrero Hill",
         "lon": [
          -122.38324
         ],
         "marker": {
          "color": "#FF97FF",
          "size": [
           662.0136128428572
          ],
          "sizemode": "area",
          "sizeref": 2.259983144291667
         },
         "mode": "markers",
         "name": "Potrero Hill",
         "showlegend": true,
         "subplot": "mapbox",
         "type": "scattermapbox"
        },
        {
         "customdata": [
          [
           "South Beach",
           650.1244793000001,
           2099
          ]
         ],
         "hovertemplate": "neighborhood=%{customdata[0]}<br>sale_price_sqr_foot=%{customdata[1]}<br>Lat=%{lat}<br>Lon=%{lon}<br>gross_rent=%{customdata[2]}<extra></extra>",
         "lat": [
          37.78323
         ],
         "legendgroup": "South Beach",
         "lon": [
          -122.40065
         ],
         "marker": {
          "color": "#FECB52",
          "size": [
           650.1244793000001
          ],
          "sizemode": "area",
          "sizeref": 2.259983144291667
         },
         "mode": "markers",
         "name": "South Beach",
         "showlegend": true,
         "subplot": "mapbox",
         "type": "scattermapbox"
        },
        {
         "customdata": [
          [
           "Eureka Valley/Dolores Heights",
           642.2486706857143,
           2817.285714285714
          ]
         ],
         "hovertemplate": "neighborhood=%{customdata[0]}<br>sale_price_sqr_foot=%{customdata[1]}<br>Lat=%{lat}<br>Lon=%{lon}<br>gross_rent=%{customdata[2]}<extra></extra>",
         "lat": [
          37.75554
         ],
         "legendgroup": "Eureka Valley/Dolores Heights",
         "lon": [
          -122.43779
         ],
         "marker": {
          "color": "#636efa",
          "size": [
           642.2486706857143
          ],
          "sizemode": "area",
          "sizeref": 2.259983144291667
         },
         "mode": "markers",
         "name": "Eureka Valley/Dolores Heights",
         "showlegend": true,
         "subplot": "mapbox",
         "type": "scattermapbox"
        },
        {
         "customdata": [
          [
           "Golden Gate Heights",
           639.39355748,
           2601.4
          ]
         ],
         "hovertemplate": "neighborhood=%{customdata[0]}<br>sale_price_sqr_foot=%{customdata[1]}<br>Lat=%{lat}<br>Lon=%{lon}<br>gross_rent=%{customdata[2]}<extra></extra>",
         "lat": [
          37.757912
         ],
         "legendgroup": "Golden Gate Heights",
         "lon": [
          -122.46402
         ],
         "marker": {
          "color": "#EF553B",
          "size": [
           639.39355748
          ],
          "sizemode": "area",
          "sizeref": 2.259983144291667
         },
         "mode": "markers",
         "name": "Golden Gate Heights",
         "showlegend": true,
         "subplot": "mapbox",
         "type": "scattermapbox"
        },
        {
         "customdata": [
          [
           "Parnassus/Ashbury Heights",
           632.7404535428572,
           2817.285714285714
          ]
         ],
         "hovertemplate": "neighborhood=%{customdata[0]}<br>sale_price_sqr_foot=%{customdata[1]}<br>Lat=%{lat}<br>Lon=%{lon}<br>gross_rent=%{customdata[2]}<extra></extra>",
         "lat": [
          37.76355
         ],
         "legendgroup": "Parnassus/Ashbury Heights",
         "lon": [
          -122.45765
         ],
         "marker": {
          "color": "#00cc96",
          "size": [
           632.7404535428572
          ],
          "sizemode": "area",
          "sizeref": 2.259983144291667
         },
         "mode": "markers",
         "name": "Parnassus/Ashbury Heights",
         "showlegend": true,
         "subplot": "mapbox",
         "type": "scattermapbox"
        },
        {
         "customdata": [
          [
           "Glen Park",
           623.82617755,
           2899.5
          ]
         ],
         "hovertemplate": "neighborhood=%{customdata[0]}<br>sale_price_sqr_foot=%{customdata[1]}<br>Lat=%{lat}<br>Lon=%{lon}<br>gross_rent=%{customdata[2]}<extra></extra>",
         "lat": [
          37.72863
         ],
         "legendgroup": "Glen Park",
         "lon": [
          -122.44305
         ],
         "marker": {
          "color": "#ab63fa",
          "size": [
           623.82617755
          ],
          "sizemode": "area",
          "sizeref": 2.259983144291667
         },
         "mode": "markers",
         "name": "Glen Park",
         "showlegend": true,
         "subplot": "mapbox",
         "type": "scattermapbox"
        },
        {
         "customdata": [
          [
           "Russian Hill",
           608.9832172285714,
           2817.285714285714
          ]
         ],
         "hovertemplate": "neighborhood=%{customdata[0]}<br>sale_price_sqr_foot=%{customdata[1]}<br>Lat=%{lat}<br>Lon=%{lon}<br>gross_rent=%{customdata[2]}<extra></extra>",
         "lat": [
          37.79298
         ],
         "legendgroup": "Russian Hill",
         "lon": [
          -122.43579
         ],
         "marker": {
          "color": "#FFA15A",
          "size": [
           608.9832172285714
          ],
          "sizemode": "area",
          "sizeref": 2.259983144291667
         },
         "mode": "markers",
         "name": "Russian Hill",
         "showlegend": true,
         "subplot": "mapbox",
         "type": "scattermapbox"
        },
        {
         "customdata": [
          [
           "Bayview Heights",
           590.7928389,
           3739
          ]
         ],
         "hovertemplate": "neighborhood=%{customdata[0]}<br>sale_price_sqr_foot=%{customdata[1]}<br>Lat=%{lat}<br>Lon=%{lon}<br>gross_rent=%{customdata[2]}<extra></extra>",
         "lat": [
          37.72874
         ],
         "legendgroup": "Bayview Heights",
         "lon": [
          -122.41098
         ],
         "marker": {
          "color": "#19d3f3",
          "size": [
           590.7928389
          ],
          "sizemode": "area",
          "sizeref": 2.259983144291667
         },
         "mode": "markers",
         "name": "Bayview Heights",
         "showlegend": true,
         "subplot": "mapbox",
         "type": "scattermapbox"
        },
        {
         "customdata": [
          [
           "Corona Heights",
           587.53906742,
           2472
          ]
         ],
         "hovertemplate": "neighborhood=%{customdata[0]}<br>sale_price_sqr_foot=%{customdata[1]}<br>Lat=%{lat}<br>Lon=%{lon}<br>gross_rent=%{customdata[2]}<extra></extra>",
         "lat": [
          37.78553
         ],
         "legendgroup": "Corona Heights",
         "lon": [
          -122.456
         ],
         "marker": {
          "color": "#FF6692",
          "size": [
           587.53906742
          ],
          "sizemode": "area",
          "sizeref": 2.259983144291667
         },
         "mode": "markers",
         "name": "Corona Heights",
         "showlegend": true,
         "subplot": "mapbox",
         "type": "scattermapbox"
        },
        {
         "customdata": [
          [
           "Marina",
           583.7492695428572,
           2817.285714285714
          ]
         ],
         "hovertemplate": "neighborhood=%{customdata[0]}<br>sale_price_sqr_foot=%{customdata[1]}<br>Lat=%{lat}<br>Lon=%{lon}<br>gross_rent=%{customdata[2]}<extra></extra>",
         "lat": [
          37.79972
         ],
         "legendgroup": "Marina",
         "lon": [
          -122.46689
         ],
         "marker": {
          "color": "#B6E880",
          "size": [
           583.7492695428572
          ],
          "sizemode": "area",
          "sizeref": 2.259983144291667
         },
         "mode": "markers",
         "name": "Marina",
         "showlegend": true,
         "subplot": "mapbox",
         "type": "scattermapbox"
        },
        {
         "customdata": [
          [
           "Yerba Buena",
           576.7098483833333,
           2555.1666666666665
          ]
         ],
         "hovertemplate": "neighborhood=%{customdata[0]}<br>sale_price_sqr_foot=%{customdata[1]}<br>Lat=%{lat}<br>Lon=%{lon}<br>gross_rent=%{customdata[2]}<extra></extra>",
         "lat": [
          37.79298
         ],
         "legendgroup": "Yerba Buena",
         "lon": [
          -122.39636
         ],
         "marker": {
          "color": "#FF97FF",
          "size": [
           576.7098483833333
          ],
          "sizemode": "area",
          "sizeref": 2.259983144291667
         },
         "mode": "markers",
         "name": "Yerba Buena",
         "showlegend": true,
         "subplot": "mapbox",
         "type": "scattermapbox"
        },
        {
         "customdata": [
          [
           "South of Market",
           570.2714266428571,
           2817.285714285714
          ]
         ],
         "hovertemplate": "neighborhood=%{customdata[0]}<br>sale_price_sqr_foot=%{customdata[1]}<br>Lat=%{lat}<br>Lon=%{lon}<br>gross_rent=%{customdata[2]}<extra></extra>",
         "lat": [
          37.79101
         ],
         "legendgroup": "South of Market",
         "lon": [
          -122.4021
         ],
         "marker": {
          "color": "#FECB52",
          "size": [
           570.2714266428571
          ],
          "sizemode": "area",
          "sizeref": 2.259983144291667
         },
         "mode": "markers",
         "name": "South of Market",
         "showlegend": true,
         "subplot": "mapbox",
         "type": "scattermapbox"
        },
        {
         "customdata": [
          [
           "Mission Bay",
           566.19221356,
           2663.6666666666665
          ]
         ],
         "hovertemplate": "neighborhood=%{customdata[0]}<br>sale_price_sqr_foot=%{customdata[1]}<br>Lat=%{lat}<br>Lon=%{lon}<br>gross_rent=%{customdata[2]}<extra></extra>",
         "lat": [
          37.78323
         ],
         "legendgroup": "Mission Bay",
         "lon": [
          -122.40065
         ],
         "marker": {
          "color": "#636efa",
          "size": [
           566.19221356
          ],
          "sizemode": "area",
          "sizeref": 2.259983144291667
         },
         "mode": "markers",
         "name": "Mission Bay",
         "showlegend": true,
         "subplot": "mapbox",
         "type": "scattermapbox"
        },
        {
         "customdata": [
          [
           "Midtown Terrace",
           550.5103483,
           2647.5
          ]
         ],
         "hovertemplate": "neighborhood=%{customdata[0]}<br>sale_price_sqr_foot=%{customdata[1]}<br>Lat=%{lat}<br>Lon=%{lon}<br>gross_rent=%{customdata[2]}<extra></extra>",
         "lat": [
          37.75331
         ],
         "legendgroup": "Midtown Terrace",
         "lon": [
          -122.44703
         ],
         "marker": {
          "color": "#EF553B",
          "size": [
           550.5103483
          ],
          "sizemode": "area",
          "sizeref": 2.259983144291667
         },
         "mode": "markers",
         "name": "Midtown Terrace",
         "showlegend": true,
         "subplot": "mapbox",
         "type": "scattermapbox"
        },
        {
         "customdata": [
          [
           "Noe Valley",
           542.4429128142857,
           2817.285714285714
          ]
         ],
         "hovertemplate": "neighborhood=%{customdata[0]}<br>sale_price_sqr_foot=%{customdata[1]}<br>Lat=%{lat}<br>Lon=%{lon}<br>gross_rent=%{customdata[2]}<extra></extra>",
         "lat": [
          37.75331
         ],
         "legendgroup": "Noe Valley",
         "lon": [
          -122.44703
         ],
         "marker": {
          "color": "#00cc96",
          "size": [
           542.4429128142857
          ],
          "sizemode": "area",
          "sizeref": 2.259983144291667
         },
         "mode": "markers",
         "name": "Noe Valley",
         "showlegend": true,
         "subplot": "mapbox",
         "type": "scattermapbox"
        },
        {
         "customdata": [
          [
           "Lower Pacific Heights",
           539.2379688714285,
           2817.285714285714
          ]
         ],
         "hovertemplate": "neighborhood=%{customdata[0]}<br>sale_price_sqr_foot=%{customdata[1]}<br>Lat=%{lat}<br>Lon=%{lon}<br>gross_rent=%{customdata[2]}<extra></extra>",
         "lat": [
          37.79298
         ],
         "legendgroup": "Lower Pacific Heights",
         "lon": [
          -122.43579
         ],
         "marker": {
          "color": "#ab63fa",
          "size": [
           539.2379688714285
          ],
          "sizemode": "area",
          "sizeref": 2.259983144291667
         },
         "mode": "markers",
         "name": "Lower Pacific Heights",
         "showlegend": true,
         "subplot": "mapbox",
         "type": "scattermapbox"
        },
        {
         "customdata": [
          [
           "Westwood Highlands",
           533.70393545,
           2250.5
          ]
         ],
         "hovertemplate": "neighborhood=%{customdata[0]}<br>sale_price_sqr_foot=%{customdata[1]}<br>Lat=%{lat}<br>Lon=%{lon}<br>gross_rent=%{customdata[2]}<extra></extra>",
         "lat": [
          37.7347
         ],
         "legendgroup": "Westwood Highlands",
         "lon": [
          -122.456854
         ],
         "marker": {
          "color": "#FFA15A",
          "size": [
           533.70393545
          ],
          "sizemode": "area",
          "sizeref": 2.259983144291667
         },
         "mode": "markers",
         "name": "Westwood Highlands",
         "showlegend": true,
         "subplot": "mapbox",
         "type": "scattermapbox"
        },
        {
         "customdata": [
          [
           "Jordan Park/Laurel Heights",
           529.3841850714285,
           2817.285714285714
          ]
         ],
         "hovertemplate": "neighborhood=%{customdata[0]}<br>sale_price_sqr_foot=%{customdata[1]}<br>Lat=%{lat}<br>Lon=%{lon}<br>gross_rent=%{customdata[2]}<extra></extra>",
         "lat": [
          37.78553
         ],
         "legendgroup": "Jordan Park/Laurel Heights",
         "lon": [
          -122.456
         ],
         "marker": {
          "color": "#19d3f3",
          "size": [
           529.3841850714285
          ],
          "sizemode": "area",
          "sizeref": 2.259983144291667
         },
         "mode": "markers",
         "name": "Jordan Park/Laurel Heights",
         "showlegend": true,
         "subplot": "mapbox",
         "type": "scattermapbox"
        },
        {
         "customdata": [
          [
           "Sunnyside",
           528.3183316999999,
           2899.5
          ]
         ],
         "hovertemplate": "neighborhood=%{customdata[0]}<br>sale_price_sqr_foot=%{customdata[1]}<br>Lat=%{lat}<br>Lon=%{lon}<br>gross_rent=%{customdata[2]}<extra></extra>",
         "lat": [
          37.73415
         ],
         "legendgroup": "Sunnyside",
         "lon": [
          -122.457
         ],
         "marker": {
          "color": "#FF6692",
          "size": [
           528.3183316999999
          ],
          "sizemode": "area",
          "sizeref": 2.259983144291667
         },
         "mode": "markers",
         "name": "Sunnyside",
         "showlegend": true,
         "subplot": "mapbox",
         "type": "scattermapbox"
        },
        {
         "customdata": [
          [
           "Mission Terrace",
           523.4662013,
           3173.4
          ]
         ],
         "hovertemplate": "neighborhood=%{customdata[0]}<br>sale_price_sqr_foot=%{customdata[1]}<br>Lat=%{lat}<br>Lon=%{lon}<br>gross_rent=%{customdata[2]}<extra></extra>",
         "lat": [
          37.72863
         ],
         "legendgroup": "Mission Terrace",
         "lon": [
          -122.44305
         ],
         "marker": {
          "color": "#B6E880",
          "size": [
           523.4662013
          ],
          "sizemode": "area",
          "sizeref": 2.259983144291667
         },
         "mode": "markers",
         "name": "Mission Terrace",
         "showlegend": true,
         "subplot": "mapbox",
         "type": "scattermapbox"
        },
        {
         "customdata": [
          [
           "Inner Parkside",
           519.38560385,
           3224
          ]
         ],
         "hovertemplate": "neighborhood=%{customdata[0]}<br>sale_price_sqr_foot=%{customdata[1]}<br>Lat=%{lat}<br>Lon=%{lon}<br>gross_rent=%{customdata[2]}<extra></extra>",
         "lat": [
          37.74961
         ],
         "legendgroup": "Inner Parkside",
         "lon": [
          -122.48999
         ],
         "marker": {
          "color": "#FF97FF",
          "size": [
           519.38560385
          ],
          "sizemode": "area",
          "sizeref": 2.259983144291667
         },
         "mode": "markers",
         "name": "Inner Parkside",
         "showlegend": true,
         "subplot": "mapbox",
         "type": "scattermapbox"
        },
        {
         "customdata": [
          [
           "Duboce Triangle",
           502.599155525,
           2780.25
          ]
         ],
         "hovertemplate": "neighborhood=%{customdata[0]}<br>sale_price_sqr_foot=%{customdata[1]}<br>Lat=%{lat}<br>Lon=%{lon}<br>gross_rent=%{customdata[2]}<extra></extra>",
         "lat": [
          37.76964
         ],
         "legendgroup": "Duboce Triangle",
         "lon": [
          -122.42611
         ],
         "marker": {
          "color": "#FECB52",
          "size": [
           502.599155525
          ],
          "sizemode": "area",
          "sizeref": 2.259983144291667
         },
         "mode": "markers",
         "name": "Duboce Triangle",
         "showlegend": true,
         "subplot": "mapbox",
         "type": "scattermapbox"
        },
        {
         "customdata": [
          [
           "West Portal",
           498.48848484999996,
           2515.5
          ]
         ],
         "hovertemplate": "neighborhood=%{customdata[0]}<br>sale_price_sqr_foot=%{customdata[1]}<br>Lat=%{lat}<br>Lon=%{lon}<br>gross_rent=%{customdata[2]}<extra></extra>",
         "lat": [
          37.74026
         ],
         "legendgroup": "West Portal",
         "lon": [
          -122.46388
         ],
         "marker": {
          "color": "#636efa",
          "size": [
           498.48848484999996
          ],
          "sizemode": "area",
          "sizeref": 2.259983144291667
         },
         "mode": "markers",
         "name": "West Portal",
         "showlegend": true,
         "subplot": "mapbox",
         "type": "scattermapbox"
        },
        {
         "customdata": [
          [
           "North Waterfront",
           498.269755,
           2818.4
          ]
         ],
         "hovertemplate": "neighborhood=%{customdata[0]}<br>sale_price_sqr_foot=%{customdata[1]}<br>Lat=%{lat}<br>Lon=%{lon}<br>gross_rent=%{customdata[2]}<extra></extra>",
         "lat": [
          37.80055
         ],
         "legendgroup": "North Waterfront",
         "lon": [
          -122.40433
         ],
         "marker": {
          "color": "#EF553B",
          "size": [
           498.269755
          ],
          "sizemode": "area",
          "sizeref": 2.259983144291667
         },
         "mode": "markers",
         "name": "North Waterfront",
         "showlegend": true,
         "subplot": "mapbox",
         "type": "scattermapbox"
        },
        {
         "customdata": [
          [
           "Clarendon Heights",
           487.24488600000006,
           2250.5
          ]
         ],
         "hovertemplate": "neighborhood=%{customdata[0]}<br>sale_price_sqr_foot=%{customdata[1]}<br>Lat=%{lat}<br>Lon=%{lon}<br>gross_rent=%{customdata[2]}<extra></extra>",
         "lat": [
          37.75331
         ],
         "legendgroup": "Clarendon Heights",
         "lon": [
          -122.44703
         ],
         "marker": {
          "color": "#00cc96",
          "size": [
           487.24488600000006
          ],
          "sizemode": "area",
          "sizeref": 2.259983144291667
         },
         "mode": "markers",
         "name": "Clarendon Heights",
         "showlegend": true,
         "subplot": "mapbox",
         "type": "scattermapbox"
        },
        {
         "customdata": [
          [
           "Outer Parkside",
           485.02701261428575,
           2817.285714285714
          ]
         ],
         "hovertemplate": "neighborhood=%{customdata[0]}<br>sale_price_sqr_foot=%{customdata[1]}<br>Lat=%{lat}<br>Lon=%{lon}<br>gross_rent=%{customdata[2]}<extra></extra>",
         "lat": [
          37.7517
         ],
         "legendgroup": "Outer Parkside",
         "lon": [
          -122.446
         ],
         "marker": {
          "color": "#ab63fa",
          "size": [
           485.02701261428575
          ],
          "sizemode": "area",
          "sizeref": 2.259983144291667
         },
         "mode": "markers",
         "name": "Outer Parkside",
         "showlegend": true,
         "subplot": "mapbox",
         "type": "scattermapbox"
        },
        {
         "customdata": [
          [
           "Lone Mountain",
           478.228553,
           2555.1666666666665
          ]
         ],
         "hovertemplate": "neighborhood=%{customdata[0]}<br>sale_price_sqr_foot=%{customdata[1]}<br>Lat=%{lat}<br>Lon=%{lon}<br>gross_rent=%{customdata[2]}<extra></extra>",
         "lat": [
          37.7789
         ],
         "legendgroup": "Lone Mountain",
         "lon": [
          -122.45496
         ],
         "marker": {
          "color": "#FFA15A",
          "size": [
           478.228553
          ],
          "sizemode": "area",
          "sizeref": 2.259983144291667
         },
         "mode": "markers",
         "name": "Lone Mountain",
         "showlegend": true,
         "subplot": "mapbox",
         "type": "scattermapbox"
        },
        {
         "customdata": [
          [
           "Twin Peaks",
           469.3986264857143,
           2817.285714285714
          ]
         ],
         "hovertemplate": "neighborhood=%{customdata[0]}<br>sale_price_sqr_foot=%{customdata[1]}<br>Lat=%{lat}<br>Lon=%{lon}<br>gross_rent=%{customdata[2]}<extra></extra>",
         "lat": [
          37.753311
         ],
         "legendgroup": "Twin Peaks",
         "lon": [
          -122.447029
         ],
         "marker": {
          "color": "#19d3f3",
          "size": [
           469.3986264857143
          ],
          "sizemode": "area",
          "sizeref": 2.259983144291667
         },
         "mode": "markers",
         "name": "Twin Peaks",
         "showlegend": true,
         "subplot": "mapbox",
         "type": "scattermapbox"
        },
        {
         "customdata": [
          [
           "Nob Hill",
           458.20409448571434,
           2817.285714285714
          ]
         ],
         "hovertemplate": "neighborhood=%{customdata[0]}<br>sale_price_sqr_foot=%{customdata[1]}<br>Lat=%{lat}<br>Lon=%{lon}<br>gross_rent=%{customdata[2]}<extra></extra>",
         "lat": [
          37.79298
         ],
         "legendgroup": "Nob Hill",
         "lon": [
          -122.43579
         ],
         "marker": {
          "color": "#FF6692",
          "size": [
           458.20409448571434
          ],
          "sizemode": "area",
          "sizeref": 2.259983144291667
         },
         "mode": "markers",
         "name": "Nob Hill",
         "showlegend": true,
         "subplot": "mapbox",
         "type": "scattermapbox"
        },
        {
         "customdata": [
          [
           "Financial District South",
           455.83621222,
           2472
          ]
         ],
         "hovertemplate": "neighborhood=%{customdata[0]}<br>sale_price_sqr_foot=%{customdata[1]}<br>Lat=%{lat}<br>Lon=%{lon}<br>gross_rent=%{customdata[2]}<extra></extra>",
         "lat": [
          37.79101
         ],
         "legendgroup": "Financial District South",
         "lon": [
          -122.4021
         ],
         "marker": {
          "color": "#B6E880",
          "size": [
           455.83621222
          ],
          "sizemode": "area",
          "sizeref": 2.259983144291667
         },
         "mode": "markers",
         "name": "Financial District South",
         "showlegend": true,
         "subplot": "mapbox",
         "type": "scattermapbox"
        },
        {
         "customdata": [
          [
           "Buena Vista Park",
           452.6805909166667,
           2698.8333333333335
          ]
         ],
         "hovertemplate": "neighborhood=%{customdata[0]}<br>sale_price_sqr_foot=%{customdata[1]}<br>Lat=%{lat}<br>Lon=%{lon}<br>gross_rent=%{customdata[2]}<extra></extra>",
         "lat": [
          37.76816
         ],
         "legendgroup": "Buena Vista Park",
         "lon": [
          -122.43933
         ],
         "marker": {
          "color": "#FF97FF",
          "size": [
           452.6805909166667
          ],
          "sizemode": "area",
          "sizeref": 2.259983144291667
         },
         "mode": "markers",
         "name": "Buena Vista Park",
         "showlegend": true,
         "subplot": "mapbox",
         "type": "scattermapbox"
        },
        {
         "customdata": [
          [
           "Haight Ashbury",
           449.54476227142857,
           2817.285714285714
          ]
         ],
         "hovertemplate": "neighborhood=%{customdata[0]}<br>sale_price_sqr_foot=%{customdata[1]}<br>Lat=%{lat}<br>Lon=%{lon}<br>gross_rent=%{customdata[2]}<extra></extra>",
         "lat": [
          37.76525
         ],
         "legendgroup": "Haight Ashbury",
         "lon": [
          -122.43596
         ],
         "marker": {
          "color": "#FECB52",
          "size": [
           449.54476227142857
          ],
          "sizemode": "area",
          "sizeref": 2.259983144291667
         },
         "mode": "markers",
         "name": "Haight Ashbury",
         "showlegend": true,
         "subplot": "mapbox",
         "type": "scattermapbox"
        },
        {
         "customdata": [
          [
           "Diamond Heights",
           434.99173945,
           2016
          ]
         ],
         "hovertemplate": "neighborhood=%{customdata[0]}<br>sale_price_sqr_foot=%{customdata[1]}<br>Lat=%{lat}<br>Lon=%{lon}<br>gross_rent=%{customdata[2]}<extra></extra>",
         "lat": [
          37.72863
         ],
         "legendgroup": "Diamond Heights",
         "lon": [
          -122.44305
         ],
         "marker": {
          "color": "#636efa",
          "size": [
           434.99173945
          ],
          "sizemode": "area",
          "sizeref": 2.259983144291667
         },
         "mode": "markers",
         "name": "Diamond Heights",
         "showlegend": true,
         "subplot": "mapbox",
         "type": "scattermapbox"
        },
        {
         "customdata": [
          [
           "Central Sunset",
           423.6879277,
           2817.285714285714
          ]
         ],
         "hovertemplate": "neighborhood=%{customdata[0]}<br>sale_price_sqr_foot=%{customdata[1]}<br>Lat=%{lat}<br>Lon=%{lon}<br>gross_rent=%{customdata[2]}<extra></extra>",
         "lat": [
          37.74961
         ],
         "legendgroup": "Central Sunset",
         "lon": [
          -122.48999
         ],
         "marker": {
          "color": "#EF553B",
          "size": [
           423.6879277
          ],
          "sizemode": "area",
          "sizeref": 2.259983144291667
         },
         "mode": "markers",
         "name": "Central Sunset",
         "showlegend": true,
         "subplot": "mapbox",
         "type": "scattermapbox"
        },
        {
         "customdata": [
          [
           "Mission Dolores",
           418.9156225,
           2555.1666666666665
          ]
         ],
         "hovertemplate": "neighborhood=%{customdata[0]}<br>sale_price_sqr_foot=%{customdata[1]}<br>Lat=%{lat}<br>Lon=%{lon}<br>gross_rent=%{customdata[2]}<extra></extra>",
         "lat": [
          37.75184
         ],
         "legendgroup": "Mission Dolores",
         "lon": [
          -122.42522
         ],
         "marker": {
          "color": "#00cc96",
          "size": [
           418.9156225
          ],
          "sizemode": "area",
          "sizeref": 2.259983144291667
         },
         "mode": "markers",
         "name": "Mission Dolores",
         "showlegend": true,
         "subplot": "mapbox",
         "type": "scattermapbox"
        },
        {
         "customdata": [
          [
           "Inner Sunset",
           413.6675154857143,
           2817.285714285714
          ]
         ],
         "hovertemplate": "neighborhood=%{customdata[0]}<br>sale_price_sqr_foot=%{customdata[1]}<br>Lat=%{lat}<br>Lon=%{lon}<br>gross_rent=%{customdata[2]}<extra></extra>",
         "lat": [
          37.74961
         ],
         "legendgroup": "Inner Sunset",
         "lon": [
          -122.48997
         ],
         "marker": {
          "color": "#ab63fa",
          "size": [
           413.6675154857143
          ],
          "sizemode": "area",
          "sizeref": 2.259983144291667
         },
         "mode": "markers",
         "name": "Inner Sunset",
         "showlegend": true,
         "subplot": "mapbox",
         "type": "scattermapbox"
        },
        {
         "customdata": [
          [
           "North Beach",
           411.64687588,
           2990.8
          ]
         ],
         "hovertemplate": "neighborhood=%{customdata[0]}<br>sale_price_sqr_foot=%{customdata[1]}<br>Lat=%{lat}<br>Lon=%{lon}<br>gross_rent=%{customdata[2]}<extra></extra>",
         "lat": [
          37.80055
         ],
         "legendgroup": "North Beach",
         "lon": [
          -122.40433
         ],
         "marker": {
          "color": "#FFA15A",
          "size": [
           411.64687588
          ],
          "sizemode": "area",
          "sizeref": 2.259983144291667
         },
         "mode": "markers",
         "name": "North Beach",
         "showlegend": true,
         "subplot": "mapbox",
         "type": "scattermapbox"
        },
        {
         "customdata": [
          [
           "Lake --The Presidio",
           409.9543522166667,
           2555.1666666666665
          ]
         ],
         "hovertemplate": "neighborhood=%{customdata[0]}<br>sale_price_sqr_foot=%{customdata[1]}<br>Lat=%{lat}<br>Lon=%{lon}<br>gross_rent=%{customdata[2]}<extra></extra>",
         "lat": [
          37.80152
         ],
         "legendgroup": "Lake --The Presidio",
         "lon": [
          -122.45457
         ],
         "marker": {
          "color": "#19d3f3",
          "size": [
           409.9543522166667
          ],
          "sizemode": "area",
          "sizeref": 2.259983144291667
         },
         "mode": "markers",
         "name": "Lake --The Presidio",
         "showlegend": true,
         "subplot": "mapbox",
         "type": "scattermapbox"
        },
        {
         "customdata": [
          [
           "Van Ness/ Civic Center",
           404.1501801571429,
           2817.285714285714
          ]
         ],
         "hovertemplate": "neighborhood=%{customdata[0]}<br>sale_price_sqr_foot=%{customdata[1]}<br>Lat=%{lat}<br>Lon=%{lon}<br>gross_rent=%{customdata[2]}<extra></extra>",
         "lat": [
          37.77951
         ],
         "legendgroup": "Van Ness/ Civic Center",
         "lon": [
          -122.42022
         ],
         "marker": {
          "color": "#FF6692",
          "size": [
           404.1501801571429
          ],
          "sizemode": "area",
          "sizeref": 2.259983144291667
         },
         "mode": "markers",
         "name": "Van Ness/ Civic Center",
         "showlegend": true,
         "subplot": "mapbox",
         "type": "scattermapbox"
        },
        {
         "customdata": [
          [
           "Inner Mission",
           397.67371474285716,
           2817.285714285714
          ]
         ],
         "hovertemplate": "neighborhood=%{customdata[0]}<br>sale_price_sqr_foot=%{customdata[1]}<br>Lat=%{lat}<br>Lon=%{lon}<br>gross_rent=%{customdata[2]}<extra></extra>",
         "lat": [
          37.75416
         ],
         "legendgroup": "Inner Mission",
         "lon": [
          -122.41947
         ],
         "marker": {
          "color": "#B6E880",
          "size": [
           397.67371474285716
          ],
          "sizemode": "area",
          "sizeref": 2.259983144291667
         },
         "mode": "markers",
         "name": "Inner Mission",
         "showlegend": true,
         "subplot": "mapbox",
         "type": "scattermapbox"
        },
        {
         "customdata": [
          [
           "Central Richmond",
           394.4223987857143,
           2817.285714285714
          ]
         ],
         "hovertemplate": "neighborhood=%{customdata[0]}<br>sale_price_sqr_foot=%{customdata[1]}<br>Lat=%{lat}<br>Lon=%{lon}<br>gross_rent=%{customdata[2]}<extra></extra>",
         "lat": [
          37.77789
         ],
         "legendgroup": "Central Richmond",
         "lon": [
          -122.44517
         ],
         "marker": {
          "color": "#FF97FF",
          "size": [
           394.4223987857143
          ],
          "sizemode": "area",
          "sizeref": 2.259983144291667
         },
         "mode": "markers",
         "name": "Central Richmond",
         "showlegend": true,
         "subplot": "mapbox",
         "type": "scattermapbox"
        },
        {
         "customdata": [
          [
           "Outer Sunset",
           394.21903227142855,
           2817.285714285714
          ]
         ],
         "hovertemplate": "neighborhood=%{customdata[0]}<br>sale_price_sqr_foot=%{customdata[1]}<br>Lat=%{lat}<br>Lon=%{lon}<br>gross_rent=%{customdata[2]}<extra></extra>",
         "lat": [
          37.74961
         ],
         "legendgroup": "Outer Sunset",
         "lon": [
          -122.48999
         ],
         "marker": {
          "color": "#FECB52",
          "size": [
           394.21903227142855
          ],
          "sizemode": "area",
          "sizeref": 2.259983144291667
         },
         "mode": "markers",
         "name": "Outer Sunset",
         "showlegend": true,
         "subplot": "mapbox",
         "type": "scattermapbox"
        },
        {
         "customdata": [
          [
           "Financial District North",
           391.3625331,
           2817.285714285714
          ]
         ],
         "hovertemplate": "neighborhood=%{customdata[0]}<br>sale_price_sqr_foot=%{customdata[1]}<br>Lat=%{lat}<br>Lon=%{lon}<br>gross_rent=%{customdata[2]}<extra></extra>",
         "lat": [
          37.79101
         ],
         "legendgroup": "Financial District North",
         "lon": [
          -122.4021
         ],
         "marker": {
          "color": "#636efa",
          "size": [
           391.3625331
          ],
          "sizemode": "area",
          "sizeref": 2.259983144291667
         },
         "mode": "markers",
         "name": "Financial District North",
         "showlegend": true,
         "subplot": "mapbox",
         "type": "scattermapbox"
        },
        {
         "customdata": [
          [
           "Excelsior",
           388.765927,
           3031.8333333333335
          ]
         ],
         "hovertemplate": "neighborhood=%{customdata[0]}<br>sale_price_sqr_foot=%{customdata[1]}<br>Lat=%{lat}<br>Lon=%{lon}<br>gross_rent=%{customdata[2]}<extra></extra>",
         "lat": [
          37.72874
         ],
         "legendgroup": "Excelsior",
         "lon": [
          -122.41098
         ],
         "marker": {
          "color": "#EF553B",
          "size": [
           388.765927
          ],
          "sizemode": "area",
          "sizeref": 2.259983144291667
         },
         "mode": "markers",
         "name": "Excelsior",
         "showlegend": true,
         "subplot": "mapbox",
         "type": "scattermapbox"
        },
        {
         "customdata": [
          [
           "Ingleside Heights",
           384.7979281,
           2960
          ]
         ],
         "hovertemplate": "neighborhood=%{customdata[0]}<br>sale_price_sqr_foot=%{customdata[1]}<br>Lat=%{lat}<br>Lon=%{lon}<br>gross_rent=%{customdata[2]}<extra></extra>",
         "lat": [
          37.72116
         ],
         "legendgroup": "Ingleside Heights",
         "lon": [
          -122.48707
         ],
         "marker": {
          "color": "#00cc96",
          "size": [
           384.7979281
          ],
          "sizemode": "area",
          "sizeref": 2.259983144291667
         },
         "mode": "markers",
         "name": "Ingleside Heights",
         "showlegend": true,
         "subplot": "mapbox",
         "type": "scattermapbox"
        },
        {
         "customdata": [
          [
           "Inner Richmond",
           378.5943139428572,
           2817.285714285714
          ]
         ],
         "hovertemplate": "neighborhood=%{customdata[0]}<br>sale_price_sqr_foot=%{customdata[1]}<br>Lat=%{lat}<br>Lon=%{lon}<br>gross_rent=%{customdata[2]}<extra></extra>",
         "lat": [
          37.769112
         ],
         "legendgroup": "Inner Richmond",
         "lon": [
          -122.483566
         ],
         "marker": {
          "color": "#ab63fa",
          "size": [
           378.5943139428572
          ],
          "sizemode": "area",
          "sizeref": 2.259983144291667
         },
         "mode": "markers",
         "name": "Inner Richmond",
         "showlegend": true,
         "subplot": "mapbox",
         "type": "scattermapbox"
        },
        {
         "customdata": [
          [
           "Park North",
           373.73285638571423,
           2817.285714285714
          ]
         ],
         "hovertemplate": "neighborhood=%{customdata[0]}<br>sale_price_sqr_foot=%{customdata[1]}<br>Lat=%{lat}<br>Lon=%{lon}<br>gross_rent=%{customdata[2]}<extra></extra>",
         "lat": [
          37.72838
         ],
         "legendgroup": "Park North",
         "lon": [
          -122.47851
         ],
         "marker": {
          "color": "#FFA15A",
          "size": [
           373.73285638571423
          ],
          "sizemode": "area",
          "sizeref": 2.259983144291667
         },
         "mode": "markers",
         "name": "Park North",
         "showlegend": true,
         "subplot": "mapbox",
         "type": "scattermapbox"
        },
        {
         "customdata": [
          [
           "Anza Vista",
           373.3821978416667,
           3031.8333333333335
          ]
         ],
         "hovertemplate": "neighborhood=%{customdata[0]}<br>sale_price_sqr_foot=%{customdata[1]}<br>Lat=%{lat}<br>Lon=%{lon}<br>gross_rent=%{customdata[2]}<extra></extra>",
         "lat": [
          37.779598
         ],
         "legendgroup": "Anza Vista",
         "lon": [
          -122.443451
         ],
         "marker": {
          "color": "#19d3f3",
          "size": [
           373.3821978416667
          ],
          "sizemode": "area",
          "sizeref": 2.259983144291667
         },
         "mode": "markers",
         "name": "Anza Vista",
         "showlegend": true,
         "subplot": "mapbox",
         "type": "scattermapbox"
        },
        {
         "customdata": [
          [
           "Alamo Square",
           366.02071152857144,
           2817.285714285714
          ]
         ],
         "hovertemplate": "neighborhood=%{customdata[0]}<br>sale_price_sqr_foot=%{customdata[1]}<br>Lat=%{lat}<br>Lon=%{lon}<br>gross_rent=%{customdata[2]}<extra></extra>",
         "lat": [
          37.791012
         ],
         "legendgroup": "Alamo Square",
         "lon": [
          -122.4021
         ],
         "marker": {
          "color": "#FF6692",
          "size": [
           366.02071152857144
          ],
          "sizemode": "area",
          "sizeref": 2.259983144291667
         },
         "mode": "markers",
         "name": "Alamo Square",
         "showlegend": true,
         "subplot": "mapbox",
         "type": "scattermapbox"
        },
        {
         "customdata": [
          [
           "Hayes Valley",
           355.9328279714286,
           2817.285714285714
          ]
         ],
         "hovertemplate": "neighborhood=%{customdata[0]}<br>sale_price_sqr_foot=%{customdata[1]}<br>Lat=%{lat}<br>Lon=%{lon}<br>gross_rent=%{customdata[2]}<extra></extra>",
         "lat": [
          37.76525
         ],
         "legendgroup": "Hayes Valley",
         "lon": [
          -122.43596
         ],
         "marker": {
          "color": "#B6E880",
          "size": [
           355.9328279714286
          ],
          "sizemode": "area",
          "sizeref": 2.259983144291667
         },
         "mode": "markers",
         "name": "Hayes Valley",
         "showlegend": true,
         "subplot": "mapbox",
         "type": "scattermapbox"
        },
        {
         "customdata": [
          [
           "Parkside",
           336.17266102,
           2555.1666666666665
          ]
         ],
         "hovertemplate": "neighborhood=%{customdata[0]}<br>sale_price_sqr_foot=%{customdata[1]}<br>Lat=%{lat}<br>Lon=%{lon}<br>gross_rent=%{customdata[2]}<extra></extra>",
         "lat": [
          37.74961
         ],
         "legendgroup": "Parkside",
         "lon": [
          -122.48999
         ],
         "marker": {
          "color": "#FF97FF",
          "size": [
           336.17266102
          ],
          "sizemode": "area",
          "sizeref": 2.259983144291667
         },
         "mode": "markers",
         "name": "Parkside",
         "showlegend": true,
         "subplot": "mapbox",
         "type": "scattermapbox"
        },
        {
         "customdata": [
          [
           "Oceanview",
           330.09738466666664,
           2434
          ]
         ],
         "hovertemplate": "neighborhood=%{customdata[0]}<br>sale_price_sqr_foot=%{customdata[1]}<br>Lat=%{lat}<br>Lon=%{lon}<br>gross_rent=%{customdata[2]}<extra></extra>",
         "lat": [
          37.71993
         ],
         "legendgroup": "Oceanview",
         "lon": [
          -122.46595
         ],
         "marker": {
          "color": "#FECB52",
          "size": [
           330.09738466666664
          ],
          "sizemode": "area",
          "sizeref": 2.259983144291667
         },
         "mode": "markers",
         "name": "Oceanview",
         "showlegend": true,
         "subplot": "mapbox",
         "type": "scattermapbox"
        },
        {
         "customdata": [
          [
           "Portola",
           327.11392534000004,
           2318.4
          ]
         ],
         "hovertemplate": "neighborhood=%{customdata[0]}<br>sale_price_sqr_foot=%{customdata[1]}<br>Lat=%{lat}<br>Lon=%{lon}<br>gross_rent=%{customdata[2]}<extra></extra>",
         "lat": [
          37.73467
         ],
         "legendgroup": "Portola",
         "lon": [
          -122.40106
         ],
         "marker": {
          "color": "#636efa",
          "size": [
           327.11392534000004
          ],
          "sizemode": "area",
          "sizeref": 2.259983144291667
         },
         "mode": "markers",
         "name": "Portola",
         "showlegend": true,
         "subplot": "mapbox",
         "type": "scattermapbox"
        },
        {
         "customdata": [
          [
           "Forest Knolls",
           321.84083655,
           1781.5
          ]
         ],
         "hovertemplate": "neighborhood=%{customdata[0]}<br>sale_price_sqr_foot=%{customdata[1]}<br>Lat=%{lat}<br>Lon=%{lon}<br>gross_rent=%{customdata[2]}<extra></extra>",
         "lat": [
          37.75706
         ],
         "legendgroup": "Forest Knolls",
         "lon": [
          -122.45509
         ],
         "marker": {
          "color": "#EF553B",
          "size": [
           321.84083655
          ],
          "sizemode": "area",
          "sizeref": 2.259983144291667
         },
         "mode": "markers",
         "name": "Forest Knolls",
         "showlegend": true,
         "subplot": "mapbox",
         "type": "scattermapbox"
        },
        {
         "customdata": [
          [
           "Western Addition",
           307.5622009833333,
           2555.1666666666665
          ]
         ],
         "hovertemplate": "neighborhood=%{customdata[0]}<br>sale_price_sqr_foot=%{customdata[1]}<br>Lat=%{lat}<br>Lon=%{lon}<br>gross_rent=%{customdata[2]}<extra></extra>",
         "lat": [
          37.79298
         ],
         "legendgroup": "Western Addition",
         "lon": [
          -122.43579
         ],
         "marker": {
          "color": "#00cc96",
          "size": [
           307.5622009833333
          ],
          "sizemode": "area",
          "sizeref": 2.259983144291667
         },
         "mode": "markers",
         "name": "Western Addition",
         "showlegend": true,
         "subplot": "mapbox",
         "type": "scattermapbox"
        },
        {
         "customdata": [
          [
           "Croker Amazon",
           303.00418441666665,
           2698.8333333333335
          ]
         ],
         "hovertemplate": "neighborhood=%{customdata[0]}<br>sale_price_sqr_foot=%{customdata[1]}<br>Lat=%{lat}<br>Lon=%{lon}<br>gross_rent=%{customdata[2]}<extra></extra>",
         "lat": [
          37.7228
         ],
         "legendgroup": "Croker Amazon",
         "lon": [
          -122.43869
         ],
         "marker": {
          "color": "#ab63fa",
          "size": [
           303.00418441666665
          ],
          "sizemode": "area",
          "sizeref": 2.259983144291667
         },
         "mode": "markers",
         "name": "Croker Amazon",
         "showlegend": true,
         "subplot": "mapbox",
         "type": "scattermapbox"
        },
        {
         "customdata": [
          [
           "Visitacion Valley",
           301.466179975,
           3657
          ]
         ],
         "hovertemplate": "neighborhood=%{customdata[0]}<br>sale_price_sqr_foot=%{customdata[1]}<br>Lat=%{lat}<br>Lon=%{lon}<br>gross_rent=%{customdata[2]}<extra></extra>",
         "lat": [
          37.72874
         ],
         "legendgroup": "Visitacion Valley",
         "lon": [
          -122.41098
         ],
         "marker": {
          "color": "#FFA15A",
          "size": [
           301.466179975
          ],
          "sizemode": "area",
          "sizeref": 2.259983144291667
         },
         "mode": "markers",
         "name": "Visitacion Valley",
         "showlegend": true,
         "subplot": "mapbox",
         "type": "scattermapbox"
        },
        {
         "customdata": [
          [
           "Outer Mission",
           242.3709520125,
           2995.75
          ]
         ],
         "hovertemplate": "neighborhood=%{customdata[0]}<br>sale_price_sqr_foot=%{customdata[1]}<br>Lat=%{lat}<br>Lon=%{lon}<br>gross_rent=%{customdata[2]}<extra></extra>",
         "lat": [
          37.7228
         ],
         "legendgroup": "Outer Mission",
         "lon": [
          -122.43869
         ],
         "marker": {
          "color": "#19d3f3",
          "size": [
           242.3709520125
          ],
          "sizemode": "area",
          "sizeref": 2.259983144291667
         },
         "mode": "markers",
         "name": "Outer Mission",
         "showlegend": true,
         "subplot": "mapbox",
         "type": "scattermapbox"
        },
        {
         "customdata": [
          [
           "Bayview",
           204.58862288,
           2318.4
          ]
         ],
         "hovertemplate": "neighborhood=%{customdata[0]}<br>sale_price_sqr_foot=%{customdata[1]}<br>Lat=%{lat}<br>Lon=%{lon}<br>gross_rent=%{customdata[2]}<extra></extra>",
         "lat": [
          37.73467
         ],
         "legendgroup": "Bayview",
         "lon": [
          -122.40106
         ],
         "marker": {
          "color": "#FF6692",
          "size": [
           204.58862288
          ],
          "sizemode": "area",
          "sizeref": 2.259983144291667
         },
         "mode": "markers",
         "name": "Bayview",
         "showlegend": true,
         "subplot": "mapbox",
         "type": "scattermapbox"
        },
        {
         "customdata": [
          [
           "Hunters Point",
           170.6249199,
           2489
          ]
         ],
         "hovertemplate": "neighborhood=%{customdata[0]}<br>sale_price_sqr_foot=%{customdata[1]}<br>Lat=%{lat}<br>Lon=%{lon}<br>gross_rent=%{customdata[2]}<extra></extra>",
         "lat": [
          37.72551
         ],
         "legendgroup": "Hunters Point",
         "lon": [
          -122.37178
         ],
         "marker": {
          "color": "#B6E880",
          "size": [
           170.6249199
          ],
          "sizemode": "area",
          "sizeref": 2.259983144291667
         },
         "mode": "markers",
         "name": "Hunters Point",
         "showlegend": true,
         "subplot": "mapbox",
         "type": "scattermapbox"
        },
        {
         "customdata": [
          [
           "Silver Terrace",
           170.2925485,
           3528
          ]
         ],
         "hovertemplate": "neighborhood=%{customdata[0]}<br>sale_price_sqr_foot=%{customdata[1]}<br>Lat=%{lat}<br>Lon=%{lon}<br>gross_rent=%{customdata[2]}<extra></extra>",
         "lat": [
          37.73467
         ],
         "legendgroup": "Silver Terrace",
         "lon": [
          -122.40106
         ],
         "marker": {
          "color": "#FF97FF",
          "size": [
           170.2925485
          ],
          "sizemode": "area",
          "sizeref": 2.259983144291667
         },
         "mode": "markers",
         "name": "Silver Terrace",
         "showlegend": true,
         "subplot": "mapbox",
         "type": "scattermapbox"
        }
       ],
       "layout": {
        "autosize": true,
        "legend": {
         "itemsizing": "constant",
         "title": {
          "text": "neighborhood"
         },
         "tracegroupgap": 0
        },
        "mapbox": {
         "accesstoken": "pk.eyJ1IjoiYS1hbHRtYW4iLCJhIjoiY2wwdTR2Mm1mMGpwdjNpcGZ6dmc2OTBjMyJ9.5lgrxg5rFxYvyH_az91QpA",
         "bearing": 0,
         "center": {
          "lat": 37.80940760931979,
          "lon": -122.66514363018126
         },
         "domain": {
          "x": [
           0,
           1
          ],
          "y": [
           0,
           1
          ]
         },
         "pitch": 0,
         "zoom": 10.087162625293644
        },
        "margin": {
         "t": 60
        },
        "template": {
         "data": {
          "bar": [
           {
            "error_x": {
             "color": "#2a3f5f"
            },
            "error_y": {
             "color": "#2a3f5f"
            },
            "marker": {
             "line": {
              "color": "#E5ECF6",
              "width": 0.5
             },
             "pattern": {
              "fillmode": "overlay",
              "size": 10,
              "solidity": 0.2
             }
            },
            "type": "bar"
           }
          ],
          "barpolar": [
           {
            "marker": {
             "line": {
              "color": "#E5ECF6",
              "width": 0.5
             },
             "pattern": {
              "fillmode": "overlay",
              "size": 10,
              "solidity": 0.2
             }
            },
            "type": "barpolar"
           }
          ],
          "carpet": [
           {
            "aaxis": {
             "endlinecolor": "#2a3f5f",
             "gridcolor": "white",
             "linecolor": "white",
             "minorgridcolor": "white",
             "startlinecolor": "#2a3f5f"
            },
            "baxis": {
             "endlinecolor": "#2a3f5f",
             "gridcolor": "white",
             "linecolor": "white",
             "minorgridcolor": "white",
             "startlinecolor": "#2a3f5f"
            },
            "type": "carpet"
           }
          ],
          "choropleth": [
           {
            "colorbar": {
             "outlinewidth": 0,
             "ticks": ""
            },
            "type": "choropleth"
           }
          ],
          "contour": [
           {
            "colorbar": {
             "outlinewidth": 0,
             "ticks": ""
            },
            "colorscale": [
             [
              0,
              "#0d0887"
             ],
             [
              0.1111111111111111,
              "#46039f"
             ],
             [
              0.2222222222222222,
              "#7201a8"
             ],
             [
              0.3333333333333333,
              "#9c179e"
             ],
             [
              0.4444444444444444,
              "#bd3786"
             ],
             [
              0.5555555555555556,
              "#d8576b"
             ],
             [
              0.6666666666666666,
              "#ed7953"
             ],
             [
              0.7777777777777778,
              "#fb9f3a"
             ],
             [
              0.8888888888888888,
              "#fdca26"
             ],
             [
              1,
              "#f0f921"
             ]
            ],
            "type": "contour"
           }
          ],
          "contourcarpet": [
           {
            "colorbar": {
             "outlinewidth": 0,
             "ticks": ""
            },
            "type": "contourcarpet"
           }
          ],
          "heatmap": [
           {
            "colorbar": {
             "outlinewidth": 0,
             "ticks": ""
            },
            "colorscale": [
             [
              0,
              "#0d0887"
             ],
             [
              0.1111111111111111,
              "#46039f"
             ],
             [
              0.2222222222222222,
              "#7201a8"
             ],
             [
              0.3333333333333333,
              "#9c179e"
             ],
             [
              0.4444444444444444,
              "#bd3786"
             ],
             [
              0.5555555555555556,
              "#d8576b"
             ],
             [
              0.6666666666666666,
              "#ed7953"
             ],
             [
              0.7777777777777778,
              "#fb9f3a"
             ],
             [
              0.8888888888888888,
              "#fdca26"
             ],
             [
              1,
              "#f0f921"
             ]
            ],
            "type": "heatmap"
           }
          ],
          "heatmapgl": [
           {
            "colorbar": {
             "outlinewidth": 0,
             "ticks": ""
            },
            "colorscale": [
             [
              0,
              "#0d0887"
             ],
             [
              0.1111111111111111,
              "#46039f"
             ],
             [
              0.2222222222222222,
              "#7201a8"
             ],
             [
              0.3333333333333333,
              "#9c179e"
             ],
             [
              0.4444444444444444,
              "#bd3786"
             ],
             [
              0.5555555555555556,
              "#d8576b"
             ],
             [
              0.6666666666666666,
              "#ed7953"
             ],
             [
              0.7777777777777778,
              "#fb9f3a"
             ],
             [
              0.8888888888888888,
              "#fdca26"
             ],
             [
              1,
              "#f0f921"
             ]
            ],
            "type": "heatmapgl"
           }
          ],
          "histogram": [
           {
            "marker": {
             "pattern": {
              "fillmode": "overlay",
              "size": 10,
              "solidity": 0.2
             }
            },
            "type": "histogram"
           }
          ],
          "histogram2d": [
           {
            "colorbar": {
             "outlinewidth": 0,
             "ticks": ""
            },
            "colorscale": [
             [
              0,
              "#0d0887"
             ],
             [
              0.1111111111111111,
              "#46039f"
             ],
             [
              0.2222222222222222,
              "#7201a8"
             ],
             [
              0.3333333333333333,
              "#9c179e"
             ],
             [
              0.4444444444444444,
              "#bd3786"
             ],
             [
              0.5555555555555556,
              "#d8576b"
             ],
             [
              0.6666666666666666,
              "#ed7953"
             ],
             [
              0.7777777777777778,
              "#fb9f3a"
             ],
             [
              0.8888888888888888,
              "#fdca26"
             ],
             [
              1,
              "#f0f921"
             ]
            ],
            "type": "histogram2d"
           }
          ],
          "histogram2dcontour": [
           {
            "colorbar": {
             "outlinewidth": 0,
             "ticks": ""
            },
            "colorscale": [
             [
              0,
              "#0d0887"
             ],
             [
              0.1111111111111111,
              "#46039f"
             ],
             [
              0.2222222222222222,
              "#7201a8"
             ],
             [
              0.3333333333333333,
              "#9c179e"
             ],
             [
              0.4444444444444444,
              "#bd3786"
             ],
             [
              0.5555555555555556,
              "#d8576b"
             ],
             [
              0.6666666666666666,
              "#ed7953"
             ],
             [
              0.7777777777777778,
              "#fb9f3a"
             ],
             [
              0.8888888888888888,
              "#fdca26"
             ],
             [
              1,
              "#f0f921"
             ]
            ],
            "type": "histogram2dcontour"
           }
          ],
          "mesh3d": [
           {
            "colorbar": {
             "outlinewidth": 0,
             "ticks": ""
            },
            "type": "mesh3d"
           }
          ],
          "parcoords": [
           {
            "line": {
             "colorbar": {
              "outlinewidth": 0,
              "ticks": ""
             }
            },
            "type": "parcoords"
           }
          ],
          "pie": [
           {
            "automargin": true,
            "type": "pie"
           }
          ],
          "scatter": [
           {
            "marker": {
             "colorbar": {
              "outlinewidth": 0,
              "ticks": ""
             }
            },
            "type": "scatter"
           }
          ],
          "scatter3d": [
           {
            "line": {
             "colorbar": {
              "outlinewidth": 0,
              "ticks": ""
             }
            },
            "marker": {
             "colorbar": {
              "outlinewidth": 0,
              "ticks": ""
             }
            },
            "type": "scatter3d"
           }
          ],
          "scattercarpet": [
           {
            "marker": {
             "colorbar": {
              "outlinewidth": 0,
              "ticks": ""
             }
            },
            "type": "scattercarpet"
           }
          ],
          "scattergeo": [
           {
            "marker": {
             "colorbar": {
              "outlinewidth": 0,
              "ticks": ""
             }
            },
            "type": "scattergeo"
           }
          ],
          "scattergl": [
           {
            "marker": {
             "colorbar": {
              "outlinewidth": 0,
              "ticks": ""
             }
            },
            "type": "scattergl"
           }
          ],
          "scattermapbox": [
           {
            "marker": {
             "colorbar": {
              "outlinewidth": 0,
              "ticks": ""
             }
            },
            "type": "scattermapbox"
           }
          ],
          "scatterpolar": [
           {
            "marker": {
             "colorbar": {
              "outlinewidth": 0,
              "ticks": ""
             }
            },
            "type": "scatterpolar"
           }
          ],
          "scatterpolargl": [
           {
            "marker": {
             "colorbar": {
              "outlinewidth": 0,
              "ticks": ""
             }
            },
            "type": "scatterpolargl"
           }
          ],
          "scatterternary": [
           {
            "marker": {
             "colorbar": {
              "outlinewidth": 0,
              "ticks": ""
             }
            },
            "type": "scatterternary"
           }
          ],
          "surface": [
           {
            "colorbar": {
             "outlinewidth": 0,
             "ticks": ""
            },
            "colorscale": [
             [
              0,
              "#0d0887"
             ],
             [
              0.1111111111111111,
              "#46039f"
             ],
             [
              0.2222222222222222,
              "#7201a8"
             ],
             [
              0.3333333333333333,
              "#9c179e"
             ],
             [
              0.4444444444444444,
              "#bd3786"
             ],
             [
              0.5555555555555556,
              "#d8576b"
             ],
             [
              0.6666666666666666,
              "#ed7953"
             ],
             [
              0.7777777777777778,
              "#fb9f3a"
             ],
             [
              0.8888888888888888,
              "#fdca26"
             ],
             [
              1,
              "#f0f921"
             ]
            ],
            "type": "surface"
           }
          ],
          "table": [
           {
            "cells": {
             "fill": {
              "color": "#EBF0F8"
             },
             "line": {
              "color": "white"
             }
            },
            "header": {
             "fill": {
              "color": "#C8D4E3"
             },
             "line": {
              "color": "white"
             }
            },
            "type": "table"
           }
          ]
         },
         "layout": {
          "annotationdefaults": {
           "arrowcolor": "#2a3f5f",
           "arrowhead": 0,
           "arrowwidth": 1
          },
          "autotypenumbers": "strict",
          "coloraxis": {
           "colorbar": {
            "outlinewidth": 0,
            "ticks": ""
           }
          },
          "colorscale": {
           "diverging": [
            [
             0,
             "#8e0152"
            ],
            [
             0.1,
             "#c51b7d"
            ],
            [
             0.2,
             "#de77ae"
            ],
            [
             0.3,
             "#f1b6da"
            ],
            [
             0.4,
             "#fde0ef"
            ],
            [
             0.5,
             "#f7f7f7"
            ],
            [
             0.6,
             "#e6f5d0"
            ],
            [
             0.7,
             "#b8e186"
            ],
            [
             0.8,
             "#7fbc41"
            ],
            [
             0.9,
             "#4d9221"
            ],
            [
             1,
             "#276419"
            ]
           ],
           "sequential": [
            [
             0,
             "#0d0887"
            ],
            [
             0.1111111111111111,
             "#46039f"
            ],
            [
             0.2222222222222222,
             "#7201a8"
            ],
            [
             0.3333333333333333,
             "#9c179e"
            ],
            [
             0.4444444444444444,
             "#bd3786"
            ],
            [
             0.5555555555555556,
             "#d8576b"
            ],
            [
             0.6666666666666666,
             "#ed7953"
            ],
            [
             0.7777777777777778,
             "#fb9f3a"
            ],
            [
             0.8888888888888888,
             "#fdca26"
            ],
            [
             1,
             "#f0f921"
            ]
           ],
           "sequentialminus": [
            [
             0,
             "#0d0887"
            ],
            [
             0.1111111111111111,
             "#46039f"
            ],
            [
             0.2222222222222222,
             "#7201a8"
            ],
            [
             0.3333333333333333,
             "#9c179e"
            ],
            [
             0.4444444444444444,
             "#bd3786"
            ],
            [
             0.5555555555555556,
             "#d8576b"
            ],
            [
             0.6666666666666666,
             "#ed7953"
            ],
            [
             0.7777777777777778,
             "#fb9f3a"
            ],
            [
             0.8888888888888888,
             "#fdca26"
            ],
            [
             1,
             "#f0f921"
            ]
           ]
          },
          "colorway": [
           "#636efa",
           "#EF553B",
           "#00cc96",
           "#ab63fa",
           "#FFA15A",
           "#19d3f3",
           "#FF6692",
           "#B6E880",
           "#FF97FF",
           "#FECB52"
          ],
          "font": {
           "color": "#2a3f5f"
          },
          "geo": {
           "bgcolor": "white",
           "lakecolor": "white",
           "landcolor": "#E5ECF6",
           "showlakes": true,
           "showland": true,
           "subunitcolor": "white"
          },
          "hoverlabel": {
           "align": "left"
          },
          "hovermode": "closest",
          "mapbox": {
           "style": "light"
          },
          "paper_bgcolor": "white",
          "plot_bgcolor": "#E5ECF6",
          "polar": {
           "angularaxis": {
            "gridcolor": "white",
            "linecolor": "white",
            "ticks": ""
           },
           "bgcolor": "#E5ECF6",
           "radialaxis": {
            "gridcolor": "white",
            "linecolor": "white",
            "ticks": ""
           }
          },
          "scene": {
           "xaxis": {
            "backgroundcolor": "#E5ECF6",
            "gridcolor": "white",
            "gridwidth": 2,
            "linecolor": "white",
            "showbackground": true,
            "ticks": "",
            "zerolinecolor": "white"
           },
           "yaxis": {
            "backgroundcolor": "#E5ECF6",
            "gridcolor": "white",
            "gridwidth": 2,
            "linecolor": "white",
            "showbackground": true,
            "ticks": "",
            "zerolinecolor": "white"
           },
           "zaxis": {
            "backgroundcolor": "#E5ECF6",
            "gridcolor": "white",
            "gridwidth": 2,
            "linecolor": "white",
            "showbackground": true,
            "ticks": "",
            "zerolinecolor": "white"
           }
          },
          "shapedefaults": {
           "line": {
            "color": "#2a3f5f"
           }
          },
          "ternary": {
           "aaxis": {
            "gridcolor": "white",
            "linecolor": "white",
            "ticks": ""
           },
           "baxis": {
            "gridcolor": "white",
            "linecolor": "white",
            "ticks": ""
           },
           "bgcolor": "#E5ECF6",
           "caxis": {
            "gridcolor": "white",
            "linecolor": "white",
            "ticks": ""
           }
          },
          "title": {
           "x": 0.05
          },
          "xaxis": {
           "automargin": true,
           "gridcolor": "white",
           "linecolor": "white",
           "ticks": "",
           "title": {
            "standoff": 15
           },
           "zerolinecolor": "white",
           "zerolinewidth": 2
          },
          "yaxis": {
           "automargin": true,
           "gridcolor": "white",
           "linecolor": "white",
           "ticks": "",
           "title": {
            "standoff": 15
           },
           "zerolinecolor": "white",
           "zerolinewidth": 2
          }
         }
        }
       }
      },
      "image/png": "[encoded data removed]",
      "text/html": [
       "<div>                            <div id=\"f83e0258-57db-41a1-8546-ce6ab34a23af\" class=\"plotly-graph-div\" style=\"height:525px; width:100%;\"></div>            <script type=\"text/javascript\">                require([\"plotly\"], function(Plotly) {                    window.PLOTLYENV=window.PLOTLYENV || {};                                    if (document.getElementById(\"f83e0258-57db-41a1-8546-ce6ab34a23af\")) {                    Plotly.newPlot(                        \"f83e0258-57db-41a1-8546-ce6ab34a23af\",                        [{\"customdata\":[[\"Union Square District\",903.9932577166668,2555.1666666666665]],\"hovertemplate\":\"neighborhood=%{customdata[0]}<br>sale_price_sqr_foot=%{customdata[1]}<br>Lat=%{lat}<br>Lon=%{lon}<br>gross_rent=%{customdata[2]}<extra></extra>\",\"lat\":[37.79101],\"legendgroup\":\"Union Square District\",\"lon\":[-122.4021],\"marker\":{\"color\":\"#636efa\",\"size\":[903.9932577166668],\"sizemode\":\"area\",\"sizeref\":2.259983144291667},\"mode\":\"markers\",\"name\":\"Union Square District\",\"showlegend\":true,\"subplot\":\"mapbox\",\"type\":\"scattermapbox\"},{\"customdata\":[[\"Merced Heights\",788.8448177,3414.0]],\"hovertemplate\":\"neighborhood=%{customdata[0]}<br>sale_price_sqr_foot=%{customdata[1]}<br>Lat=%{lat}<br>Lon=%{lon}<br>gross_rent=%{customdata[2]}<extra></extra>\",\"lat\":[37.71993],\"legendgroup\":\"Merced Heights\",\"lon\":[-122.46595],\"marker\":{\"color\":\"#EF553B\",\"size\":[788.8448177],\"sizemode\":\"area\",\"sizeref\":2.259983144291667},\"mode\":\"markers\",\"name\":\"Merced Heights\",\"showlegend\":true,\"subplot\":\"mapbox\",\"type\":\"scattermapbox\"},{\"customdata\":[[\"Miraloma Park\",779.81084235,2155.25]],\"hovertemplate\":\"neighborhood=%{customdata[0]}<br>sale_price_sqr_foot=%{customdata[1]}<br>Lat=%{lat}<br>Lon=%{lon}<br>gross_rent=%{customdata[2]}<extra></extra>\",\"lat\":[37.73415],\"legendgroup\":\"Miraloma Park\",\"lon\":[-122.457],\"marker\":{\"color\":\"#00cc96\",\"size\":[779.81084235],\"sizemode\":\"area\",\"sizeref\":2.259983144291667},\"mode\":\"markers\",\"name\":\"Miraloma Park\",\"showlegend\":true,\"subplot\":\"mapbox\",\"type\":\"scattermapbox\"},{\"customdata\":[[\"Pacific Heights\",689.5558168,2817.285714285714]],\"hovertemplate\":\"neighborhood=%{customdata[0]}<br>sale_price_sqr_foot=%{customdata[1]}<br>Lat=%{lat}<br>Lon=%{lon}<br>gross_rent=%{customdata[2]}<extra></extra>\",\"lat\":[37.79298],\"legendgroup\":\"Pacific Heights\",\"lon\":[-122.43579],\"marker\":{\"color\":\"#ab63fa\",\"size\":[689.5558168],\"sizemode\":\"area\",\"sizeref\":2.259983144291667},\"mode\":\"markers\",\"name\":\"Pacific Heights\",\"showlegend\":true,\"subplot\":\"mapbox\",\"type\":\"scattermapbox\"},{\"customdata\":[[\"Westwood Park\",687.08757455,3959.0]],\"hovertemplate\":\"neighborhood=%{customdata[0]}<br>sale_price_sqr_foot=%{customdata[1]}<br>Lat=%{lat}<br>Lon=%{lon}<br>gross_rent=%{customdata[2]}<extra></extra>\",\"lat\":[37.73415],\"legendgroup\":\"Westwood Park\",\"lon\":[-122.457],\"marker\":{\"color\":\"#FFA15A\",\"size\":[687.08757455],\"sizemode\":\"area\",\"sizeref\":2.259983144291667},\"mode\":\"markers\",\"name\":\"Westwood Park\",\"showlegend\":true,\"subplot\":\"mapbox\",\"type\":\"scattermapbox\"},{\"customdata\":[[\"Telegraph Hill\",676.5065775285714,2817.285714285714]],\"hovertemplate\":\"neighborhood=%{customdata[0]}<br>sale_price_sqr_foot=%{customdata[1]}<br>Lat=%{lat}<br>Lon=%{lon}<br>gross_rent=%{customdata[2]}<extra></extra>\",\"lat\":[37.80055],\"legendgroup\":\"Telegraph Hill\",\"lon\":[-122.40433],\"marker\":{\"color\":\"#19d3f3\",\"size\":[676.5065775285714],\"sizemode\":\"area\",\"sizeref\":2.259983144291667},\"mode\":\"markers\",\"name\":\"Telegraph Hill\",\"showlegend\":true,\"subplot\":\"mapbox\",\"type\":\"scattermapbox\"},{\"customdata\":[[\"Presidio Heights\",675.3502119833333,2817.285714285714]],\"hovertemplate\":\"neighborhood=%{customdata[0]}<br>sale_price_sqr_foot=%{customdata[1]}<br>Lat=%{lat}<br>Lon=%{lon}<br>gross_rent=%{customdata[2]}<extra></extra>\",\"lat\":[37.78553],\"legendgroup\":\"Presidio Heights\",\"lon\":[-122.456],\"marker\":{\"color\":\"#FF6692\",\"size\":[675.3502119833333],\"sizemode\":\"area\",\"sizeref\":2.259983144291667},\"mode\":\"markers\",\"name\":\"Presidio Heights\",\"showlegend\":true,\"subplot\":\"mapbox\",\"type\":\"scattermapbox\"},{\"customdata\":[[\"Cow Hollow\",665.9640416428572,2817.285714285714]],\"hovertemplate\":\"neighborhood=%{customdata[0]}<br>sale_price_sqr_foot=%{customdata[1]}<br>Lat=%{lat}<br>Lon=%{lon}<br>gross_rent=%{customdata[2]}<extra></extra>\",\"lat\":[37.79298],\"legendgroup\":\"Cow Hollow\",\"lon\":[-122.43579],\"marker\":{\"color\":\"#B6E880\",\"size\":[665.9640416428572],\"sizemode\":\"area\",\"sizeref\":2.259983144291667},\"mode\":\"markers\",\"name\":\"Cow Hollow\",\"showlegend\":true,\"subplot\":\"mapbox\",\"type\":\"scattermapbox\"},{\"customdata\":[[\"Potrero Hill\",662.0136128428572,2817.285714285714]],\"hovertemplate\":\"neighborhood=%{customdata[0]}<br>sale_price_sqr_foot=%{customdata[1]}<br>Lat=%{lat}<br>Lon=%{lon}<br>gross_rent=%{customdata[2]}<extra></extra>\",\"lat\":[37.73196],\"legendgroup\":\"Potrero Hill\",\"lon\":[-122.38324],\"marker\":{\"color\":\"#FF97FF\",\"size\":[662.0136128428572],\"sizemode\":\"area\",\"sizeref\":2.259983144291667},\"mode\":\"markers\",\"name\":\"Potrero Hill\",\"showlegend\":true,\"subplot\":\"mapbox\",\"type\":\"scattermapbox\"},{\"customdata\":[[\"South Beach\",650.1244793000001,2099.0]],\"hovertemplate\":\"neighborhood=%{customdata[0]}<br>sale_price_sqr_foot=%{customdata[1]}<br>Lat=%{lat}<br>Lon=%{lon}<br>gross_rent=%{customdata[2]}<extra></extra>\",\"lat\":[37.78323],\"legendgroup\":\"South Beach\",\"lon\":[-122.40065],\"marker\":{\"color\":\"#FECB52\",\"size\":[650.1244793000001],\"sizemode\":\"area\",\"sizeref\":2.259983144291667},\"mode\":\"markers\",\"name\":\"South Beach\",\"showlegend\":true,\"subplot\":\"mapbox\",\"type\":\"scattermapbox\"},{\"customdata\":[[\"Eureka Valley/Dolores Heights\",642.2486706857143,2817.285714285714]],\"hovertemplate\":\"neighborhood=%{customdata[0]}<br>sale_price_sqr_foot=%{customdata[1]}<br>Lat=%{lat}<br>Lon=%{lon}<br>gross_rent=%{customdata[2]}<extra></extra>\",\"lat\":[37.75554],\"legendgroup\":\"Eureka Valley/Dolores Heights\",\"lon\":[-122.43779],\"marker\":{\"color\":\"#636efa\",\"size\":[642.2486706857143],\"sizemode\":\"area\",\"sizeref\":2.259983144291667},\"mode\":\"markers\",\"name\":\"Eureka Valley/Dolores Heights\",\"showlegend\":true,\"subplot\":\"mapbox\",\"type\":\"scattermapbox\"},{\"customdata\":[[\"Golden Gate Heights\",639.39355748,2601.4]],\"hovertemplate\":\"neighborhood=%{customdata[0]}<br>sale_price_sqr_foot=%{customdata[1]}<br>Lat=%{lat}<br>Lon=%{lon}<br>gross_rent=%{customdata[2]}<extra></extra>\",\"lat\":[37.757912],\"legendgroup\":\"Golden Gate Heights\",\"lon\":[-122.46402],\"marker\":{\"color\":\"#EF553B\",\"size\":[639.39355748],\"sizemode\":\"area\",\"sizeref\":2.259983144291667},\"mode\":\"markers\",\"name\":\"Golden Gate Heights\",\"showlegend\":true,\"subplot\":\"mapbox\",\"type\":\"scattermapbox\"},{\"customdata\":[[\"Parnassus/Ashbury Heights\",632.7404535428572,2817.285714285714]],\"hovertemplate\":\"neighborhood=%{customdata[0]}<br>sale_price_sqr_foot=%{customdata[1]}<br>Lat=%{lat}<br>Lon=%{lon}<br>gross_rent=%{customdata[2]}<extra></extra>\",\"lat\":[37.76355],\"legendgroup\":\"Parnassus/Ashbury Heights\",\"lon\":[-122.45765],\"marker\":{\"color\":\"#00cc96\",\"size\":[632.7404535428572],\"sizemode\":\"area\",\"sizeref\":2.259983144291667},\"mode\":\"markers\",\"name\":\"Parnassus/Ashbury Heights\",\"showlegend\":true,\"subplot\":\"mapbox\",\"type\":\"scattermapbox\"},{\"customdata\":[[\"Glen Park\",623.82617755,2899.5]],\"hovertemplate\":\"neighborhood=%{customdata[0]}<br>sale_price_sqr_foot=%{customdata[1]}<br>Lat=%{lat}<br>Lon=%{lon}<br>gross_rent=%{customdata[2]}<extra></extra>\",\"lat\":[37.72863],\"legendgroup\":\"Glen Park\",\"lon\":[-122.44305],\"marker\":{\"color\":\"#ab63fa\",\"size\":[623.82617755],\"sizemode\":\"area\",\"sizeref\":2.259983144291667},\"mode\":\"markers\",\"name\":\"Glen Park\",\"showlegend\":true,\"subplot\":\"mapbox\",\"type\":\"scattermapbox\"},{\"customdata\":[[\"Russian Hill\",608.9832172285714,2817.285714285714]],\"hovertemplate\":\"neighborhood=%{customdata[0]}<br>sale_price_sqr_foot=%{customdata[1]}<br>Lat=%{lat}<br>Lon=%{lon}<br>gross_rent=%{customdata[2]}<extra></extra>\",\"lat\":[37.79298],\"legendgroup\":\"Russian Hill\",\"lon\":[-122.43579],\"marker\":{\"color\":\"#FFA15A\",\"size\":[608.9832172285714],\"sizemode\":\"area\",\"sizeref\":2.259983144291667},\"mode\":\"markers\",\"name\":\"Russian Hill\",\"showlegend\":true,\"subplot\":\"mapbox\",\"type\":\"scattermapbox\"},{\"customdata\":[[\"Bayview Heights\",590.7928389,3739.0]],\"hovertemplate\":\"neighborhood=%{customdata[0]}<br>sale_price_sqr_foot=%{customdata[1]}<br>Lat=%{lat}<br>Lon=%{lon}<br>gross_rent=%{customdata[2]}<extra></extra>\",\"lat\":[37.72874],\"legendgroup\":\"Bayview Heights\",\"lon\":[-122.41098],\"marker\":{\"color\":\"#19d3f3\",\"size\":[590.7928389],\"sizemode\":\"area\",\"sizeref\":2.259983144291667},\"mode\":\"markers\",\"name\":\"Bayview Heights\",\"showlegend\":true,\"subplot\":\"mapbox\",\"type\":\"scattermapbox\"},{\"customdata\":[[\"Corona Heights\",587.53906742,2472.0]],\"hovertemplate\":\"neighborhood=%{customdata[0]}<br>sale_price_sqr_foot=%{customdata[1]}<br>Lat=%{lat}<br>Lon=%{lon}<br>gross_rent=%{customdata[2]}<extra></extra>\",\"lat\":[37.78553],\"legendgroup\":\"Corona Heights\",\"lon\":[-122.456],\"marker\":{\"color\":\"#FF6692\",\"size\":[587.53906742],\"sizemode\":\"area\",\"sizeref\":2.259983144291667},\"mode\":\"markers\",\"name\":\"Corona Heights\",\"showlegend\":true,\"subplot\":\"mapbox\",\"type\":\"scattermapbox\"},{\"customdata\":[[\"Marina\",583.7492695428572,2817.285714285714]],\"hovertemplate\":\"neighborhood=%{customdata[0]}<br>sale_price_sqr_foot=%{customdata[1]}<br>Lat=%{lat}<br>Lon=%{lon}<br>gross_rent=%{customdata[2]}<extra></extra>\",\"lat\":[37.79972],\"legendgroup\":\"Marina\",\"lon\":[-122.46689],\"marker\":{\"color\":\"#B6E880\",\"size\":[583.7492695428572],\"sizemode\":\"area\",\"sizeref\":2.259983144291667},\"mode\":\"markers\",\"name\":\"Marina\",\"showlegend\":true,\"subplot\":\"mapbox\",\"type\":\"scattermapbox\"},{\"customdata\":[[\"Yerba Buena\",576.7098483833333,2555.1666666666665]],\"hovertemplate\":\"neighborhood=%{customdata[0]}<br>sale_price_sqr_foot=%{customdata[1]}<br>Lat=%{lat}<br>Lon=%{lon}<br>gross_rent=%{customdata[2]}<extra></extra>\",\"lat\":[37.79298],\"legendgroup\":\"Yerba Buena\",\"lon\":[-122.39636],\"marker\":{\"color\":\"#FF97FF\",\"size\":[576.7098483833333],\"sizemode\":\"area\",\"sizeref\":2.259983144291667},\"mode\":\"markers\",\"name\":\"Yerba Buena\",\"showlegend\":true,\"subplot\":\"mapbox\",\"type\":\"scattermapbox\"},{\"customdata\":[[\"South of Market\",570.2714266428571,2817.285714285714]],\"hovertemplate\":\"neighborhood=%{customdata[0]}<br>sale_price_sqr_foot=%{customdata[1]}<br>Lat=%{lat}<br>Lon=%{lon}<br>gross_rent=%{customdata[2]}<extra></extra>\",\"lat\":[37.79101],\"legendgroup\":\"South of Market\",\"lon\":[-122.4021],\"marker\":{\"color\":\"#FECB52\",\"size\":[570.2714266428571],\"sizemode\":\"area\",\"sizeref\":2.259983144291667},\"mode\":\"markers\",\"name\":\"South of Market\",\"showlegend\":true,\"subplot\":\"mapbox\",\"type\":\"scattermapbox\"},{\"customdata\":[[\"Mission Bay\",566.19221356,2663.6666666666665]],\"hovertemplate\":\"neighborhood=%{customdata[0]}<br>sale_price_sqr_foot=%{customdata[1]}<br>Lat=%{lat}<br>Lon=%{lon}<br>gross_rent=%{customdata[2]}<extra></extra>\",\"lat\":[37.78323],\"legendgroup\":\"Mission Bay\",\"lon\":[-122.40065],\"marker\":{\"color\":\"#636efa\",\"size\":[566.19221356],\"sizemode\":\"area\",\"sizeref\":2.259983144291667},\"mode\":\"markers\",\"name\":\"Mission Bay\",\"showlegend\":true,\"subplot\":\"mapbox\",\"type\":\"scattermapbox\"},{\"customdata\":[[\"Midtown Terrace\",550.5103483,2647.5]],\"hovertemplate\":\"neighborhood=%{customdata[0]}<br>sale_price_sqr_foot=%{customdata[1]}<br>Lat=%{lat}<br>Lon=%{lon}<br>gross_rent=%{customdata[2]}<extra></extra>\",\"lat\":[37.75331],\"legendgroup\":\"Midtown Terrace\",\"lon\":[-122.44703],\"marker\":{\"color\":\"#EF553B\",\"size\":[550.5103483],\"sizemode\":\"area\",\"sizeref\":2.259983144291667},\"mode\":\"markers\",\"name\":\"Midtown Terrace\",\"showlegend\":true,\"subplot\":\"mapbox\",\"type\":\"scattermapbox\"},{\"customdata\":[[\"Noe Valley\",542.4429128142857,2817.285714285714]],\"hovertemplate\":\"neighborhood=%{customdata[0]}<br>sale_price_sqr_foot=%{customdata[1]}<br>Lat=%{lat}<br>Lon=%{lon}<br>gross_rent=%{customdata[2]}<extra></extra>\",\"lat\":[37.75331],\"legendgroup\":\"Noe Valley\",\"lon\":[-122.44703],\"marker\":{\"color\":\"#00cc96\",\"size\":[542.4429128142857],\"sizemode\":\"area\",\"sizeref\":2.259983144291667},\"mode\":\"markers\",\"name\":\"Noe Valley\",\"showlegend\":true,\"subplot\":\"mapbox\",\"type\":\"scattermapbox\"},{\"customdata\":[[\"Lower Pacific Heights\",539.2379688714285,2817.285714285714]],\"hovertemplate\":\"neighborhood=%{customdata[0]}<br>sale_price_sqr_foot=%{customdata[1]}<br>Lat=%{lat}<br>Lon=%{lon}<br>gross_rent=%{customdata[2]}<extra></extra>\",\"lat\":[37.79298],\"legendgroup\":\"Lower Pacific Heights\",\"lon\":[-122.43579],\"marker\":{\"color\":\"#ab63fa\",\"size\":[539.2379688714285],\"sizemode\":\"area\",\"sizeref\":2.259983144291667},\"mode\":\"markers\",\"name\":\"Lower Pacific Heights\",\"showlegend\":true,\"subplot\":\"mapbox\",\"type\":\"scattermapbox\"},{\"customdata\":[[\"Westwood Highlands\",533.70393545,2250.5]],\"hovertemplate\":\"neighborhood=%{customdata[0]}<br>sale_price_sqr_foot=%{customdata[1]}<br>Lat=%{lat}<br>Lon=%{lon}<br>gross_rent=%{customdata[2]}<extra></extra>\",\"lat\":[37.7347],\"legendgroup\":\"Westwood Highlands\",\"lon\":[-122.456854],\"marker\":{\"color\":\"#FFA15A\",\"size\":[533.70393545],\"sizemode\":\"area\",\"sizeref\":2.259983144291667},\"mode\":\"markers\",\"name\":\"Westwood Highlands\",\"showlegend\":true,\"subplot\":\"mapbox\",\"type\":\"scattermapbox\"},{\"customdata\":[[\"Jordan Park/Laurel Heights\",529.3841850714285,2817.285714285714]],\"hovertemplate\":\"neighborhood=%{customdata[0]}<br>sale_price_sqr_foot=%{customdata[1]}<br>Lat=%{lat}<br>Lon=%{lon}<br>gross_rent=%{customdata[2]}<extra></extra>\",\"lat\":[37.78553],\"legendgroup\":\"Jordan Park/Laurel Heights\",\"lon\":[-122.456],\"marker\":{\"color\":\"#19d3f3\",\"size\":[529.3841850714285],\"sizemode\":\"area\",\"sizeref\":2.259983144291667},\"mode\":\"markers\",\"name\":\"Jordan Park/Laurel Heights\",\"showlegend\":true,\"subplot\":\"mapbox\",\"type\":\"scattermapbox\"},{\"customdata\":[[\"Sunnyside\",528.3183316999999,2899.5]],\"hovertemplate\":\"neighborhood=%{customdata[0]}<br>sale_price_sqr_foot=%{customdata[1]}<br>Lat=%{lat}<br>Lon=%{lon}<br>gross_rent=%{customdata[2]}<extra></extra>\",\"lat\":[37.73415],\"legendgroup\":\"Sunnyside\",\"lon\":[-122.457],\"marker\":{\"color\":\"#FF6692\",\"size\":[528.3183316999999],\"sizemode\":\"area\",\"sizeref\":2.259983144291667},\"mode\":\"markers\",\"name\":\"Sunnyside\",\"showlegend\":true,\"subplot\":\"mapbox\",\"type\":\"scattermapbox\"},{\"customdata\":[[\"Mission Terrace\",523.4662013,3173.4]],\"hovertemplate\":\"neighborhood=%{customdata[0]}<br>sale_price_sqr_foot=%{customdata[1]}<br>Lat=%{lat}<br>Lon=%{lon}<br>gross_rent=%{customdata[2]}<extra></extra>\",\"lat\":[37.72863],\"legendgroup\":\"Mission Terrace\",\"lon\":[-122.44305],\"marker\":{\"color\":\"#B6E880\",\"size\":[523.4662013],\"sizemode\":\"area\",\"sizeref\":2.259983144291667},\"mode\":\"markers\",\"name\":\"Mission Terrace\",\"showlegend\":true,\"subplot\":\"mapbox\",\"type\":\"scattermapbox\"},{\"customdata\":[[\"Inner Parkside\",519.38560385,3224.0]],\"hovertemplate\":\"neighborhood=%{customdata[0]}<br>sale_price_sqr_foot=%{customdata[1]}<br>Lat=%{lat}<br>Lon=%{lon}<br>gross_rent=%{customdata[2]}<extra></extra>\",\"lat\":[37.74961],\"legendgroup\":\"Inner Parkside\",\"lon\":[-122.48999],\"marker\":{\"color\":\"#FF97FF\",\"size\":[519.38560385],\"sizemode\":\"area\",\"sizeref\":2.259983144291667},\"mode\":\"markers\",\"name\":\"Inner Parkside\",\"showlegend\":true,\"subplot\":\"mapbox\",\"type\":\"scattermapbox\"},{\"customdata\":[[\"Duboce Triangle\",502.599155525,2780.25]],\"hovertemplate\":\"neighborhood=%{customdata[0]}<br>sale_price_sqr_foot=%{customdata[1]}<br>Lat=%{lat}<br>Lon=%{lon}<br>gross_rent=%{customdata[2]}<extra></extra>\",\"lat\":[37.76964],\"legendgroup\":\"Duboce Triangle\",\"lon\":[-122.42611],\"marker\":{\"color\":\"#FECB52\",\"size\":[502.599155525],\"sizemode\":\"area\",\"sizeref\":2.259983144291667},\"mode\":\"markers\",\"name\":\"Duboce Triangle\",\"showlegend\":true,\"subplot\":\"mapbox\",\"type\":\"scattermapbox\"},{\"customdata\":[[\"West Portal\",498.48848484999996,2515.5]],\"hovertemplate\":\"neighborhood=%{customdata[0]}<br>sale_price_sqr_foot=%{customdata[1]}<br>Lat=%{lat}<br>Lon=%{lon}<br>gross_rent=%{customdata[2]}<extra></extra>\",\"lat\":[37.74026],\"legendgroup\":\"West Portal\",\"lon\":[-122.46388],\"marker\":{\"color\":\"#636efa\",\"size\":[498.48848484999996],\"sizemode\":\"area\",\"sizeref\":2.259983144291667},\"mode\":\"markers\",\"name\":\"West Portal\",\"showlegend\":true,\"subplot\":\"mapbox\",\"type\":\"scattermapbox\"},{\"customdata\":[[\"North Waterfront\",498.269755,2818.4]],\"hovertemplate\":\"neighborhood=%{customdata[0]}<br>sale_price_sqr_foot=%{customdata[1]}<br>Lat=%{lat}<br>Lon=%{lon}<br>gross_rent=%{customdata[2]}<extra></extra>\",\"lat\":[37.80055],\"legendgroup\":\"North Waterfront\",\"lon\":[-122.40433],\"marker\":{\"color\":\"#EF553B\",\"size\":[498.269755],\"sizemode\":\"area\",\"sizeref\":2.259983144291667},\"mode\":\"markers\",\"name\":\"North Waterfront\",\"showlegend\":true,\"subplot\":\"mapbox\",\"type\":\"scattermapbox\"},{\"customdata\":[[\"Clarendon Heights\",487.24488600000006,2250.5]],\"hovertemplate\":\"neighborhood=%{customdata[0]}<br>sale_price_sqr_foot=%{customdata[1]}<br>Lat=%{lat}<br>Lon=%{lon}<br>gross_rent=%{customdata[2]}<extra></extra>\",\"lat\":[37.75331],\"legendgroup\":\"Clarendon Heights\",\"lon\":[-122.44703],\"marker\":{\"color\":\"#00cc96\",\"size\":[487.24488600000006],\"sizemode\":\"area\",\"sizeref\":2.259983144291667},\"mode\":\"markers\",\"name\":\"Clarendon Heights\",\"showlegend\":true,\"subplot\":\"mapbox\",\"type\":\"scattermapbox\"},{\"customdata\":[[\"Outer Parkside\",485.02701261428575,2817.285714285714]],\"hovertemplate\":\"neighborhood=%{customdata[0]}<br>sale_price_sqr_foot=%{customdata[1]}<br>Lat=%{lat}<br>Lon=%{lon}<br>gross_rent=%{customdata[2]}<extra></extra>\",\"lat\":[37.7517],\"legendgroup\":\"Outer Parkside\",\"lon\":[-122.446],\"marker\":{\"color\":\"#ab63fa\",\"size\":[485.02701261428575],\"sizemode\":\"area\",\"sizeref\":2.259983144291667},\"mode\":\"markers\",\"name\":\"Outer Parkside\",\"showlegend\":true,\"subplot\":\"mapbox\",\"type\":\"scattermapbox\"},{\"customdata\":[[\"Lone Mountain\",478.228553,2555.1666666666665]],\"hovertemplate\":\"neighborhood=%{customdata[0]}<br>sale_price_sqr_foot=%{customdata[1]}<br>Lat=%{lat}<br>Lon=%{lon}<br>gross_rent=%{customdata[2]}<extra></extra>\",\"lat\":[37.7789],\"legendgroup\":\"Lone Mountain\",\"lon\":[-122.45496],\"marker\":{\"color\":\"#FFA15A\",\"size\":[478.228553],\"sizemode\":\"area\",\"sizeref\":2.259983144291667},\"mode\":\"markers\",\"name\":\"Lone Mountain\",\"showlegend\":true,\"subplot\":\"mapbox\",\"type\":\"scattermapbox\"},{\"customdata\":[[\"Twin Peaks\",469.3986264857143,2817.285714285714]],\"hovertemplate\":\"neighborhood=%{customdata[0]}<br>sale_price_sqr_foot=%{customdata[1]}<br>Lat=%{lat}<br>Lon=%{lon}<br>gross_rent=%{customdata[2]}<extra></extra>\",\"lat\":[37.753311],\"legendgroup\":\"Twin Peaks\",\"lon\":[-122.447029],\"marker\":{\"color\":\"#19d3f3\",\"size\":[469.3986264857143],\"sizemode\":\"area\",\"sizeref\":2.259983144291667},\"mode\":\"markers\",\"name\":\"Twin Peaks\",\"showlegend\":true,\"subplot\":\"mapbox\",\"type\":\"scattermapbox\"},{\"customdata\":[[\"Nob Hill\",458.20409448571434,2817.285714285714]],\"hovertemplate\":\"neighborhood=%{customdata[0]}<br>sale_price_sqr_foot=%{customdata[1]}<br>Lat=%{lat}<br>Lon=%{lon}<br>gross_rent=%{customdata[2]}<extra></extra>\",\"lat\":[37.79298],\"legendgroup\":\"Nob Hill\",\"lon\":[-122.43579],\"marker\":{\"color\":\"#FF6692\",\"size\":[458.20409448571434],\"sizemode\":\"area\",\"sizeref\":2.259983144291667},\"mode\":\"markers\",\"name\":\"Nob Hill\",\"showlegend\":true,\"subplot\":\"mapbox\",\"type\":\"scattermapbox\"},{\"customdata\":[[\"Financial District South\",455.83621222,2472.0]],\"hovertemplate\":\"neighborhood=%{customdata[0]}<br>sale_price_sqr_foot=%{customdata[1]}<br>Lat=%{lat}<br>Lon=%{lon}<br>gross_rent=%{customdata[2]}<extra></extra>\",\"lat\":[37.79101],\"legendgroup\":\"Financial District South\",\"lon\":[-122.4021],\"marker\":{\"color\":\"#B6E880\",\"size\":[455.83621222],\"sizemode\":\"area\",\"sizeref\":2.259983144291667},\"mode\":\"markers\",\"name\":\"Financial District South\",\"showlegend\":true,\"subplot\":\"mapbox\",\"type\":\"scattermapbox\"},{\"customdata\":[[\"Buena Vista Park\",452.6805909166667,2698.8333333333335]],\"hovertemplate\":\"neighborhood=%{customdata[0]}<br>sale_price_sqr_foot=%{customdata[1]}<br>Lat=%{lat}<br>Lon=%{lon}<br>gross_rent=%{customdata[2]}<extra></extra>\",\"lat\":[37.76816],\"legendgroup\":\"Buena Vista Park\",\"lon\":[-122.43933],\"marker\":{\"color\":\"#FF97FF\",\"size\":[452.6805909166667],\"sizemode\":\"area\",\"sizeref\":2.259983144291667},\"mode\":\"markers\",\"name\":\"Buena Vista Park\",\"showlegend\":true,\"subplot\":\"mapbox\",\"type\":\"scattermapbox\"},{\"customdata\":[[\"Haight Ashbury\",449.54476227142857,2817.285714285714]],\"hovertemplate\":\"neighborhood=%{customdata[0]}<br>sale_price_sqr_foot=%{customdata[1]}<br>Lat=%{lat}<br>Lon=%{lon}<br>gross_rent=%{customdata[2]}<extra></extra>\",\"lat\":[37.76525],\"legendgroup\":\"Haight Ashbury\",\"lon\":[-122.43596],\"marker\":{\"color\":\"#FECB52\",\"size\":[449.54476227142857],\"sizemode\":\"area\",\"sizeref\":2.259983144291667},\"mode\":\"markers\",\"name\":\"Haight Ashbury\",\"showlegend\":true,\"subplot\":\"mapbox\",\"type\":\"scattermapbox\"},{\"customdata\":[[\"Diamond Heights\",434.99173945,2016.0]],\"hovertemplate\":\"neighborhood=%{customdata[0]}<br>sale_price_sqr_foot=%{customdata[1]}<br>Lat=%{lat}<br>Lon=%{lon}<br>gross_rent=%{customdata[2]}<extra></extra>\",\"lat\":[37.72863],\"legendgroup\":\"Diamond Heights\",\"lon\":[-122.44305],\"marker\":{\"color\":\"#636efa\",\"size\":[434.99173945],\"sizemode\":\"area\",\"sizeref\":2.259983144291667},\"mode\":\"markers\",\"name\":\"Diamond Heights\",\"showlegend\":true,\"subplot\":\"mapbox\",\"type\":\"scattermapbox\"},{\"customdata\":[[\"Central Sunset\",423.6879277,2817.285714285714]],\"hovertemplate\":\"neighborhood=%{customdata[0]}<br>sale_price_sqr_foot=%{customdata[1]}<br>Lat=%{lat}<br>Lon=%{lon}<br>gross_rent=%{customdata[2]}<extra></extra>\",\"lat\":[37.74961],\"legendgroup\":\"Central Sunset\",\"lon\":[-122.48999],\"marker\":{\"color\":\"#EF553B\",\"size\":[423.6879277],\"sizemode\":\"area\",\"sizeref\":2.259983144291667},\"mode\":\"markers\",\"name\":\"Central Sunset\",\"showlegend\":true,\"subplot\":\"mapbox\",\"type\":\"scattermapbox\"},{\"customdata\":[[\"Mission Dolores\",418.9156225,2555.1666666666665]],\"hovertemplate\":\"neighborhood=%{customdata[0]}<br>sale_price_sqr_foot=%{customdata[1]}<br>Lat=%{lat}<br>Lon=%{lon}<br>gross_rent=%{customdata[2]}<extra></extra>\",\"lat\":[37.75184],\"legendgroup\":\"Mission Dolores\",\"lon\":[-122.42522],\"marker\":{\"color\":\"#00cc96\",\"size\":[418.9156225],\"sizemode\":\"area\",\"sizeref\":2.259983144291667},\"mode\":\"markers\",\"name\":\"Mission Dolores\",\"showlegend\":true,\"subplot\":\"mapbox\",\"type\":\"scattermapbox\"},{\"customdata\":[[\"Inner Sunset\",413.6675154857143,2817.285714285714]],\"hovertemplate\":\"neighborhood=%{customdata[0]}<br>sale_price_sqr_foot=%{customdata[1]}<br>Lat=%{lat}<br>Lon=%{lon}<br>gross_rent=%{customdata[2]}<extra></extra>\",\"lat\":[37.74961],\"legendgroup\":\"Inner Sunset\",\"lon\":[-122.48997],\"marker\":{\"color\":\"#ab63fa\",\"size\":[413.6675154857143],\"sizemode\":\"area\",\"sizeref\":2.259983144291667},\"mode\":\"markers\",\"name\":\"Inner Sunset\",\"showlegend\":true,\"subplot\":\"mapbox\",\"type\":\"scattermapbox\"},{\"customdata\":[[\"North Beach\",411.64687588,2990.8]],\"hovertemplate\":\"neighborhood=%{customdata[0]}<br>sale_price_sqr_foot=%{customdata[1]}<br>Lat=%{lat}<br>Lon=%{lon}<br>gross_rent=%{customdata[2]}<extra></extra>\",\"lat\":[37.80055],\"legendgroup\":\"North Beach\",\"lon\":[-122.40433],\"marker\":{\"color\":\"#FFA15A\",\"size\":[411.64687588],\"sizemode\":\"area\",\"sizeref\":2.259983144291667},\"mode\":\"markers\",\"name\":\"North Beach\",\"showlegend\":true,\"subplot\":\"mapbox\",\"type\":\"scattermapbox\"},{\"customdata\":[[\"Lake --The Presidio\",409.9543522166667,2555.1666666666665]],\"hovertemplate\":\"neighborhood=%{customdata[0]}<br>sale_price_sqr_foot=%{customdata[1]}<br>Lat=%{lat}<br>Lon=%{lon}<br>gross_rent=%{customdata[2]}<extra></extra>\",\"lat\":[37.80152],\"legendgroup\":\"Lake --The Presidio\",\"lon\":[-122.45457],\"marker\":{\"color\":\"#19d3f3\",\"size\":[409.9543522166667],\"sizemode\":\"area\",\"sizeref\":2.259983144291667},\"mode\":\"markers\",\"name\":\"Lake --The Presidio\",\"showlegend\":true,\"subplot\":\"mapbox\",\"type\":\"scattermapbox\"},{\"customdata\":[[\"Van Ness/ Civic Center\",404.1501801571429,2817.285714285714]],\"hovertemplate\":\"neighborhood=%{customdata[0]}<br>sale_price_sqr_foot=%{customdata[1]}<br>Lat=%{lat}<br>Lon=%{lon}<br>gross_rent=%{customdata[2]}<extra></extra>\",\"lat\":[37.77951],\"legendgroup\":\"Van Ness/ Civic Center\",\"lon\":[-122.42022],\"marker\":{\"color\":\"#FF6692\",\"size\":[404.1501801571429],\"sizemode\":\"area\",\"sizeref\":2.259983144291667},\"mode\":\"markers\",\"name\":\"Van Ness/ Civic Center\",\"showlegend\":true,\"subplot\":\"mapbox\",\"type\":\"scattermapbox\"},{\"customdata\":[[\"Inner Mission\",397.67371474285716,2817.285714285714]],\"hovertemplate\":\"neighborhood=%{customdata[0]}<br>sale_price_sqr_foot=%{customdata[1]}<br>Lat=%{lat}<br>Lon=%{lon}<br>gross_rent=%{customdata[2]}<extra></extra>\",\"lat\":[37.75416],\"legendgroup\":\"Inner Mission\",\"lon\":[-122.41947],\"marker\":{\"color\":\"#B6E880\",\"size\":[397.67371474285716],\"sizemode\":\"area\",\"sizeref\":2.259983144291667},\"mode\":\"markers\",\"name\":\"Inner Mission\",\"showlegend\":true,\"subplot\":\"mapbox\",\"type\":\"scattermapbox\"},{\"customdata\":[[\"Central Richmond\",394.4223987857143,2817.285714285714]],\"hovertemplate\":\"neighborhood=%{customdata[0]}<br>sale_price_sqr_foot=%{customdata[1]}<br>Lat=%{lat}<br>Lon=%{lon}<br>gross_rent=%{customdata[2]}<extra></extra>\",\"lat\":[37.77789],\"legendgroup\":\"Central Richmond\",\"lon\":[-122.44517],\"marker\":{\"color\":\"#FF97FF\",\"size\":[394.4223987857143],\"sizemode\":\"area\",\"sizeref\":2.259983144291667},\"mode\":\"markers\",\"name\":\"Central Richmond\",\"showlegend\":true,\"subplot\":\"mapbox\",\"type\":\"scattermapbox\"},{\"customdata\":[[\"Outer Sunset\",394.21903227142855,2817.285714285714]],\"hovertemplate\":\"neighborhood=%{customdata[0]}<br>sale_price_sqr_foot=%{customdata[1]}<br>Lat=%{lat}<br>Lon=%{lon}<br>gross_rent=%{customdata[2]}<extra></extra>\",\"lat\":[37.74961],\"legendgroup\":\"Outer Sunset\",\"lon\":[-122.48999],\"marker\":{\"color\":\"#FECB52\",\"size\":[394.21903227142855],\"sizemode\":\"area\",\"sizeref\":2.259983144291667},\"mode\":\"markers\",\"name\":\"Outer Sunset\",\"showlegend\":true,\"subplot\":\"mapbox\",\"type\":\"scattermapbox\"},{\"customdata\":[[\"Financial District North\",391.3625331,2817.285714285714]],\"hovertemplate\":\"neighborhood=%{customdata[0]}<br>sale_price_sqr_foot=%{customdata[1]}<br>Lat=%{lat}<br>Lon=%{lon}<br>gross_rent=%{customdata[2]}<extra></extra>\",\"lat\":[37.79101],\"legendgroup\":\"Financial District North\",\"lon\":[-122.4021],\"marker\":{\"color\":\"#636efa\",\"size\":[391.3625331],\"sizemode\":\"area\",\"sizeref\":2.259983144291667},\"mode\":\"markers\",\"name\":\"Financial District North\",\"showlegend\":true,\"subplot\":\"mapbox\",\"type\":\"scattermapbox\"},{\"customdata\":[[\"Excelsior\",388.765927,3031.8333333333335]],\"hovertemplate\":\"neighborhood=%{customdata[0]}<br>sale_price_sqr_foot=%{customdata[1]}<br>Lat=%{lat}<br>Lon=%{lon}<br>gross_rent=%{customdata[2]}<extra></extra>\",\"lat\":[37.72874],\"legendgroup\":\"Excelsior\",\"lon\":[-122.41098],\"marker\":{\"color\":\"#EF553B\",\"size\":[388.765927],\"sizemode\":\"area\",\"sizeref\":2.259983144291667},\"mode\":\"markers\",\"name\":\"Excelsior\",\"showlegend\":true,\"subplot\":\"mapbox\",\"type\":\"scattermapbox\"},{\"customdata\":[[\"Ingleside Heights\",384.7979281,2960.0]],\"hovertemplate\":\"neighborhood=%{customdata[0]}<br>sale_price_sqr_foot=%{customdata[1]}<br>Lat=%{lat}<br>Lon=%{lon}<br>gross_rent=%{customdata[2]}<extra></extra>\",\"lat\":[37.72116],\"legendgroup\":\"Ingleside Heights\",\"lon\":[-122.48707],\"marker\":{\"color\":\"#00cc96\",\"size\":[384.7979281],\"sizemode\":\"area\",\"sizeref\":2.259983144291667},\"mode\":\"markers\",\"name\":\"Ingleside Heights\",\"showlegend\":true,\"subplot\":\"mapbox\",\"type\":\"scattermapbox\"},{\"customdata\":[[\"Inner Richmond\",378.5943139428572,2817.285714285714]],\"hovertemplate\":\"neighborhood=%{customdata[0]}<br>sale_price_sqr_foot=%{customdata[1]}<br>Lat=%{lat}<br>Lon=%{lon}<br>gross_rent=%{customdata[2]}<extra></extra>\",\"lat\":[37.769112],\"legendgroup\":\"Inner Richmond\",\"lon\":[-122.483566],\"marker\":{\"color\":\"#ab63fa\",\"size\":[378.5943139428572],\"sizemode\":\"area\",\"sizeref\":2.259983144291667},\"mode\":\"markers\",\"name\":\"Inner Richmond\",\"showlegend\":true,\"subplot\":\"mapbox\",\"type\":\"scattermapbox\"},{\"customdata\":[[\"Park North\",373.73285638571423,2817.285714285714]],\"hovertemplate\":\"neighborhood=%{customdata[0]}<br>sale_price_sqr_foot=%{customdata[1]}<br>Lat=%{lat}<br>Lon=%{lon}<br>gross_rent=%{customdata[2]}<extra></extra>\",\"lat\":[37.72838],\"legendgroup\":\"Park North\",\"lon\":[-122.47851],\"marker\":{\"color\":\"#FFA15A\",\"size\":[373.73285638571423],\"sizemode\":\"area\",\"sizeref\":2.259983144291667},\"mode\":\"markers\",\"name\":\"Park North\",\"showlegend\":true,\"subplot\":\"mapbox\",\"type\":\"scattermapbox\"},{\"customdata\":[[\"Anza Vista\",373.3821978416667,3031.8333333333335]],\"hovertemplate\":\"neighborhood=%{customdata[0]}<br>sale_price_sqr_foot=%{customdata[1]}<br>Lat=%{lat}<br>Lon=%{lon}<br>gross_rent=%{customdata[2]}<extra></extra>\",\"lat\":[37.779598],\"legendgroup\":\"Anza Vista\",\"lon\":[-122.443451],\"marker\":{\"color\":\"#19d3f3\",\"size\":[373.3821978416667],\"sizemode\":\"area\",\"sizeref\":2.259983144291667},\"mode\":\"markers\",\"name\":\"Anza Vista\",\"showlegend\":true,\"subplot\":\"mapbox\",\"type\":\"scattermapbox\"},{\"customdata\":[[\"Alamo Square\",366.02071152857144,2817.285714285714]],\"hovertemplate\":\"neighborhood=%{customdata[0]}<br>sale_price_sqr_foot=%{customdata[1]}<br>Lat=%{lat}<br>Lon=%{lon}<br>gross_rent=%{customdata[2]}<extra></extra>\",\"lat\":[37.791012],\"legendgroup\":\"Alamo Square\",\"lon\":[-122.4021],\"marker\":{\"color\":\"#FF6692\",\"size\":[366.02071152857144],\"sizemode\":\"area\",\"sizeref\":2.259983144291667},\"mode\":\"markers\",\"name\":\"Alamo Square\",\"showlegend\":true,\"subplot\":\"mapbox\",\"type\":\"scattermapbox\"},{\"customdata\":[[\"Hayes Valley\",355.9328279714286,2817.285714285714]],\"hovertemplate\":\"neighborhood=%{customdata[0]}<br>sale_price_sqr_foot=%{customdata[1]}<br>Lat=%{lat}<br>Lon=%{lon}<br>gross_rent=%{customdata[2]}<extra></extra>\",\"lat\":[37.76525],\"legendgroup\":\"Hayes Valley\",\"lon\":[-122.43596],\"marker\":{\"color\":\"#B6E880\",\"size\":[355.9328279714286],\"sizemode\":\"area\",\"sizeref\":2.259983144291667},\"mode\":\"markers\",\"name\":\"Hayes Valley\",\"showlegend\":true,\"subplot\":\"mapbox\",\"type\":\"scattermapbox\"},{\"customdata\":[[\"Parkside\",336.17266102,2555.1666666666665]],\"hovertemplate\":\"neighborhood=%{customdata[0]}<br>sale_price_sqr_foot=%{customdata[1]}<br>Lat=%{lat}<br>Lon=%{lon}<br>gross_rent=%{customdata[2]}<extra></extra>\",\"lat\":[37.74961],\"legendgroup\":\"Parkside\",\"lon\":[-122.48999],\"marker\":{\"color\":\"#FF97FF\",\"size\":[336.17266102],\"sizemode\":\"area\",\"sizeref\":2.259983144291667},\"mode\":\"markers\",\"name\":\"Parkside\",\"showlegend\":true,\"subplot\":\"mapbox\",\"type\":\"scattermapbox\"},{\"customdata\":[[\"Oceanview\",330.09738466666664,2434.0]],\"hovertemplate\":\"neighborhood=%{customdata[0]}<br>sale_price_sqr_foot=%{customdata[1]}<br>Lat=%{lat}<br>Lon=%{lon}<br>gross_rent=%{customdata[2]}<extra></extra>\",\"lat\":[37.71993],\"legendgroup\":\"Oceanview\",\"lon\":[-122.46595],\"marker\":{\"color\":\"#FECB52\",\"size\":[330.09738466666664],\"sizemode\":\"area\",\"sizeref\":2.259983144291667},\"mode\":\"markers\",\"name\":\"Oceanview\",\"showlegend\":true,\"subplot\":\"mapbox\",\"type\":\"scattermapbox\"},{\"customdata\":[[\"Portola\",327.11392534000004,2318.4]],\"hovertemplate\":\"neighborhood=%{customdata[0]}<br>sale_price_sqr_foot=%{customdata[1]}<br>Lat=%{lat}<br>Lon=%{lon}<br>gross_rent=%{customdata[2]}<extra></extra>\",\"lat\":[37.73467],\"legendgroup\":\"Portola\",\"lon\":[-122.40106],\"marker\":{\"color\":\"#636efa\",\"size\":[327.11392534000004],\"sizemode\":\"area\",\"sizeref\":2.259983144291667},\"mode\":\"markers\",\"name\":\"Portola\",\"showlegend\":true,\"subplot\":\"mapbox\",\"type\":\"scattermapbox\"},{\"customdata\":[[\"Forest Knolls\",321.84083655,1781.5]],\"hovertemplate\":\"neighborhood=%{customdata[0]}<br>sale_price_sqr_foot=%{customdata[1]}<br>Lat=%{lat}<br>Lon=%{lon}<br>gross_rent=%{customdata[2]}<extra></extra>\",\"lat\":[37.75706],\"legendgroup\":\"Forest Knolls\",\"lon\":[-122.45509],\"marker\":{\"color\":\"#EF553B\",\"size\":[321.84083655],\"sizemode\":\"area\",\"sizeref\":2.259983144291667},\"mode\":\"markers\",\"name\":\"Forest Knolls\",\"showlegend\":true,\"subplot\":\"mapbox\",\"type\":\"scattermapbox\"},{\"customdata\":[[\"Western Addition\",307.5622009833333,2555.1666666666665]],\"hovertemplate\":\"neighborhood=%{customdata[0]}<br>sale_price_sqr_foot=%{customdata[1]}<br>Lat=%{lat}<br>Lon=%{lon}<br>gross_rent=%{customdata[2]}<extra></extra>\",\"lat\":[37.79298],\"legendgroup\":\"Western Addition\",\"lon\":[-122.43579],\"marker\":{\"color\":\"#00cc96\",\"size\":[307.5622009833333],\"sizemode\":\"area\",\"sizeref\":2.259983144291667},\"mode\":\"markers\",\"name\":\"Western Addition\",\"showlegend\":true,\"subplot\":\"mapbox\",\"type\":\"scattermapbox\"},{\"customdata\":[[\"Croker Amazon\",303.00418441666665,2698.8333333333335]],\"hovertemplate\":\"neighborhood=%{customdata[0]}<br>sale_price_sqr_foot=%{customdata[1]}<br>Lat=%{lat}<br>Lon=%{lon}<br>gross_rent=%{customdata[2]}<extra></extra>\",\"lat\":[37.7228],\"legendgroup\":\"Croker Amazon\",\"lon\":[-122.43869],\"marker\":{\"color\":\"#ab63fa\",\"size\":[303.00418441666665],\"sizemode\":\"area\",\"sizeref\":2.259983144291667},\"mode\":\"markers\",\"name\":\"Croker Amazon\",\"showlegend\":true,\"subplot\":\"mapbox\",\"type\":\"scattermapbox\"},{\"customdata\":[[\"Visitacion Valley\",301.466179975,3657.0]],\"hovertemplate\":\"neighborhood=%{customdata[0]}<br>sale_price_sqr_foot=%{customdata[1]}<br>Lat=%{lat}<br>Lon=%{lon}<br>gross_rent=%{customdata[2]}<extra></extra>\",\"lat\":[37.72874],\"legendgroup\":\"Visitacion Valley\",\"lon\":[-122.41098],\"marker\":{\"color\":\"#FFA15A\",\"size\":[301.466179975],\"sizemode\":\"area\",\"sizeref\":2.259983144291667},\"mode\":\"markers\",\"name\":\"Visitacion Valley\",\"showlegend\":true,\"subplot\":\"mapbox\",\"type\":\"scattermapbox\"},{\"customdata\":[[\"Outer Mission\",242.3709520125,2995.75]],\"hovertemplate\":\"neighborhood=%{customdata[0]}<br>sale_price_sqr_foot=%{customdata[1]}<br>Lat=%{lat}<br>Lon=%{lon}<br>gross_rent=%{customdata[2]}<extra></extra>\",\"lat\":[37.7228],\"legendgroup\":\"Outer Mission\",\"lon\":[-122.43869],\"marker\":{\"color\":\"#19d3f3\",\"size\":[242.3709520125],\"sizemode\":\"area\",\"sizeref\":2.259983144291667},\"mode\":\"markers\",\"name\":\"Outer Mission\",\"showlegend\":true,\"subplot\":\"mapbox\",\"type\":\"scattermapbox\"},{\"customdata\":[[\"Bayview\",204.58862288,2318.4]],\"hovertemplate\":\"neighborhood=%{customdata[0]}<br>sale_price_sqr_foot=%{customdata[1]}<br>Lat=%{lat}<br>Lon=%{lon}<br>gross_rent=%{customdata[2]}<extra></extra>\",\"lat\":[37.73467],\"legendgroup\":\"Bayview\",\"lon\":[-122.40106],\"marker\":{\"color\":\"#FF6692\",\"size\":[204.58862288],\"sizemode\":\"area\",\"sizeref\":2.259983144291667},\"mode\":\"markers\",\"name\":\"Bayview\",\"showlegend\":true,\"subplot\":\"mapbox\",\"type\":\"scattermapbox\"},{\"customdata\":[[\"Hunters Point\",170.6249199,2489.0]],\"hovertemplate\":\"neighborhood=%{customdata[0]}<br>sale_price_sqr_foot=%{customdata[1]}<br>Lat=%{lat}<br>Lon=%{lon}<br>gross_rent=%{customdata[2]}<extra></extra>\",\"lat\":[37.72551],\"legendgroup\":\"Hunters Point\",\"lon\":[-122.37178],\"marker\":{\"color\":\"#B6E880\",\"size\":[170.6249199],\"sizemode\":\"area\",\"sizeref\":2.259983144291667},\"mode\":\"markers\",\"name\":\"Hunters Point\",\"showlegend\":true,\"subplot\":\"mapbox\",\"type\":\"scattermapbox\"},{\"customdata\":[[\"Silver Terrace\",170.2925485,3528.0]],\"hovertemplate\":\"neighborhood=%{customdata[0]}<br>sale_price_sqr_foot=%{customdata[1]}<br>Lat=%{lat}<br>Lon=%{lon}<br>gross_rent=%{customdata[2]}<extra></extra>\",\"lat\":[37.73467],\"legendgroup\":\"Silver Terrace\",\"lon\":[-122.40106],\"marker\":{\"color\":\"#FF97FF\",\"size\":[170.2925485],\"sizemode\":\"area\",\"sizeref\":2.259983144291667},\"mode\":\"markers\",\"name\":\"Silver Terrace\",\"showlegend\":true,\"subplot\":\"mapbox\",\"type\":\"scattermapbox\"}],                        {\"template\":{\"data\":{\"bar\":[{\"error_x\":{\"color\":\"#2a3f5f\"},\"error_y\":{\"color\":\"#2a3f5f\"},\"marker\":{\"line\":{\"color\":\"#E5ECF6\",\"width\":0.5},\"pattern\":{\"fillmode\":\"overlay\",\"size\":10,\"solidity\":0.2}},\"type\":\"bar\"}],\"barpolar\":[{\"marker\":{\"line\":{\"color\":\"#E5ECF6\",\"width\":0.5},\"pattern\":{\"fillmode\":\"overlay\",\"size\":10,\"solidity\":0.2}},\"type\":\"barpolar\"}],\"carpet\":[{\"aaxis\":{\"endlinecolor\":\"#2a3f5f\",\"gridcolor\":\"white\",\"linecolor\":\"white\",\"minorgridcolor\":\"white\",\"startlinecolor\":\"#2a3f5f\"},\"baxis\":{\"endlinecolor\":\"#2a3f5f\",\"gridcolor\":\"white\",\"linecolor\":\"white\",\"minorgridcolor\":\"white\",\"startlinecolor\":\"#2a3f5f\"},\"type\":\"carpet\"}],\"choropleth\":[{\"colorbar\":{\"outlinewidth\":0,\"ticks\":\"\"},\"type\":\"choropleth\"}],\"contour\":[{\"colorbar\":{\"outlinewidth\":0,\"ticks\":\"\"},\"colorscale\":[[0.0,\"#0d0887\"],[0.1111111111111111,\"#46039f\"],[0.2222222222222222,\"#7201a8\"],[0.3333333333333333,\"#9c179e\"],[0.4444444444444444,\"#bd3786\"],[0.5555555555555556,\"#d8576b\"],[0.6666666666666666,\"#ed7953\"],[0.7777777777777778,\"#fb9f3a\"],[0.8888888888888888,\"#fdca26\"],[1.0,\"#f0f921\"]],\"type\":\"contour\"}],\"contourcarpet\":[{\"colorbar\":{\"outlinewidth\":0,\"ticks\":\"\"},\"type\":\"contourcarpet\"}],\"heatmap\":[{\"colorbar\":{\"outlinewidth\":0,\"ticks\":\"\"},\"colorscale\":[[0.0,\"#0d0887\"],[0.1111111111111111,\"#46039f\"],[0.2222222222222222,\"#7201a8\"],[0.3333333333333333,\"#9c179e\"],[0.4444444444444444,\"#bd3786\"],[0.5555555555555556,\"#d8576b\"],[0.6666666666666666,\"#ed7953\"],[0.7777777777777778,\"#fb9f3a\"],[0.8888888888888888,\"#fdca26\"],[1.0,\"#f0f921\"]],\"type\":\"heatmap\"}],\"heatmapgl\":[{\"colorbar\":{\"outlinewidth\":0,\"ticks\":\"\"},\"colorscale\":[[0.0,\"#0d0887\"],[0.1111111111111111,\"#46039f\"],[0.2222222222222222,\"#7201a8\"],[0.3333333333333333,\"#9c179e\"],[0.4444444444444444,\"#bd3786\"],[0.5555555555555556,\"#d8576b\"],[0.6666666666666666,\"#ed7953\"],[0.7777777777777778,\"#fb9f3a\"],[0.8888888888888888,\"#fdca26\"],[1.0,\"#f0f921\"]],\"type\":\"heatmapgl\"}],\"histogram\":[{\"marker\":{\"pattern\":{\"fillmode\":\"overlay\",\"size\":10,\"solidity\":0.2}},\"type\":\"histogram\"}],\"histogram2d\":[{\"colorbar\":{\"outlinewidth\":0,\"ticks\":\"\"},\"colorscale\":[[0.0,\"#0d0887\"],[0.1111111111111111,\"#46039f\"],[0.2222222222222222,\"#7201a8\"],[0.3333333333333333,\"#9c179e\"],[0.4444444444444444,\"#bd3786\"],[0.5555555555555556,\"#d8576b\"],[0.6666666666666666,\"#ed7953\"],[0.7777777777777778,\"#fb9f3a\"],[0.8888888888888888,\"#fdca26\"],[1.0,\"#f0f921\"]],\"type\":\"histogram2d\"}],\"histogram2dcontour\":[{\"colorbar\":{\"outlinewidth\":0,\"ticks\":\"\"},\"colorscale\":[[0.0,\"#0d0887\"],[0.1111111111111111,\"#46039f\"],[0.2222222222222222,\"#7201a8\"],[0.3333333333333333,\"#9c179e\"],[0.4444444444444444,\"#bd3786\"],[0.5555555555555556,\"#d8576b\"],[0.6666666666666666,\"#ed7953\"],[0.7777777777777778,\"#fb9f3a\"],[0.8888888888888888,\"#fdca26\"],[1.0,\"#f0f921\"]],\"type\":\"histogram2dcontour\"}],\"mesh3d\":[{\"colorbar\":{\"outlinewidth\":0,\"ticks\":\"\"},\"type\":\"mesh3d\"}],\"parcoords\":[{\"line\":{\"colorbar\":{\"outlinewidth\":0,\"ticks\":\"\"}},\"type\":\"parcoords\"}],\"pie\":[{\"automargin\":true,\"type\":\"pie\"}],\"scatter\":[{\"marker\":{\"colorbar\":{\"outlinewidth\":0,\"ticks\":\"\"}},\"type\":\"scatter\"}],\"scatter3d\":[{\"line\":{\"colorbar\":{\"outlinewidth\":0,\"ticks\":\"\"}},\"marker\":{\"colorbar\":{\"outlinewidth\":0,\"ticks\":\"\"}},\"type\":\"scatter3d\"}],\"scattercarpet\":[{\"marker\":{\"colorbar\":{\"outlinewidth\":0,\"ticks\":\"\"}},\"type\":\"scattercarpet\"}],\"scattergeo\":[{\"marker\":{\"colorbar\":{\"outlinewidth\":0,\"ticks\":\"\"}},\"type\":\"scattergeo\"}],\"scattergl\":[{\"marker\":{\"colorbar\":{\"outlinewidth\":0,\"ticks\":\"\"}},\"type\":\"scattergl\"}],\"scattermapbox\":[{\"marker\":{\"colorbar\":{\"outlinewidth\":0,\"ticks\":\"\"}},\"type\":\"scattermapbox\"}],\"scatterpolar\":[{\"marker\":{\"colorbar\":{\"outlinewidth\":0,\"ticks\":\"\"}},\"type\":\"scatterpolar\"}],\"scatterpolargl\":[{\"marker\":{\"colorbar\":{\"outlinewidth\":0,\"ticks\":\"\"}},\"type\":\"scatterpolargl\"}],\"scatterternary\":[{\"marker\":{\"colorbar\":{\"outlinewidth\":0,\"ticks\":\"\"}},\"type\":\"scatterternary\"}],\"surface\":[{\"colorbar\":{\"outlinewidth\":0,\"ticks\":\"\"},\"colorscale\":[[0.0,\"#0d0887\"],[0.1111111111111111,\"#46039f\"],[0.2222222222222222,\"#7201a8\"],[0.3333333333333333,\"#9c179e\"],[0.4444444444444444,\"#bd3786\"],[0.5555555555555556,\"#d8576b\"],[0.6666666666666666,\"#ed7953\"],[0.7777777777777778,\"#fb9f3a\"],[0.8888888888888888,\"#fdca26\"],[1.0,\"#f0f921\"]],\"type\":\"surface\"}],\"table\":[{\"cells\":{\"fill\":{\"color\":\"#EBF0F8\"},\"line\":{\"color\":\"white\"}},\"header\":{\"fill\":{\"color\":\"#C8D4E3\"},\"line\":{\"color\":\"white\"}},\"type\":\"table\"}]},\"layout\":{\"annotationdefaults\":{\"arrowcolor\":\"#2a3f5f\",\"arrowhead\":0,\"arrowwidth\":1},\"autotypenumbers\":\"strict\",\"coloraxis\":{\"colorbar\":{\"outlinewidth\":0,\"ticks\":\"\"}},\"colorscale\":{\"diverging\":[[0,\"#8e0152\"],[0.1,\"#c51b7d\"],[0.2,\"#de77ae\"],[0.3,\"#f1b6da\"],[0.4,\"#fde0ef\"],[0.5,\"#f7f7f7\"],[0.6,\"#e6f5d0\"],[0.7,\"#b8e186\"],[0.8,\"#7fbc41\"],[0.9,\"#4d9221\"],[1,\"#276419\"]],\"sequential\":[[0.0,\"#0d0887\"],[0.1111111111111111,\"#46039f\"],[0.2222222222222222,\"#7201a8\"],[0.3333333333333333,\"#9c179e\"],[0.4444444444444444,\"#bd3786\"],[0.5555555555555556,\"#d8576b\"],[0.6666666666666666,\"#ed7953\"],[0.7777777777777778,\"#fb9f3a\"],[0.8888888888888888,\"#fdca26\"],[1.0,\"#f0f921\"]],\"sequentialminus\":[[0.0,\"#0d0887\"],[0.1111111111111111,\"#46039f\"],[0.2222222222222222,\"#7201a8\"],[0.3333333333333333,\"#9c179e\"],[0.4444444444444444,\"#bd3786\"],[0.5555555555555556,\"#d8576b\"],[0.6666666666666666,\"#ed7953\"],[0.7777777777777778,\"#fb9f3a\"],[0.8888888888888888,\"#fdca26\"],[1.0,\"#f0f921\"]]},\"colorway\":[\"#636efa\",\"#EF553B\",\"#00cc96\",\"#ab63fa\",\"#FFA15A\",\"#19d3f3\",\"#FF6692\",\"#B6E880\",\"#FF97FF\",\"#FECB52\"],\"font\":{\"color\":\"#2a3f5f\"},\"geo\":{\"bgcolor\":\"white\",\"lakecolor\":\"white\",\"landcolor\":\"#E5ECF6\",\"showlakes\":true,\"showland\":true,\"subunitcolor\":\"white\"},\"hoverlabel\":{\"align\":\"left\"},\"hovermode\":\"closest\",\"mapbox\":{\"style\":\"light\"},\"paper_bgcolor\":\"white\",\"plot_bgcolor\":\"#E5ECF6\",\"polar\":{\"angularaxis\":{\"gridcolor\":\"white\",\"linecolor\":\"white\",\"ticks\":\"\"},\"bgcolor\":\"#E5ECF6\",\"radialaxis\":{\"gridcolor\":\"white\",\"linecolor\":\"white\",\"ticks\":\"\"}},\"scene\":{\"xaxis\":{\"backgroundcolor\":\"#E5ECF6\",\"gridcolor\":\"white\",\"gridwidth\":2,\"linecolor\":\"white\",\"showbackground\":true,\"ticks\":\"\",\"zerolinecolor\":\"white\"},\"yaxis\":{\"backgroundcolor\":\"#E5ECF6\",\"gridcolor\":\"white\",\"gridwidth\":2,\"linecolor\":\"white\",\"showbackground\":true,\"ticks\":\"\",\"zerolinecolor\":\"white\"},\"zaxis\":{\"backgroundcolor\":\"#E5ECF6\",\"gridcolor\":\"white\",\"gridwidth\":2,\"linecolor\":\"white\",\"showbackground\":true,\"ticks\":\"\",\"zerolinecolor\":\"white\"}},\"shapedefaults\":{\"line\":{\"color\":\"#2a3f5f\"}},\"ternary\":{\"aaxis\":{\"gridcolor\":\"white\",\"linecolor\":\"white\",\"ticks\":\"\"},\"baxis\":{\"gridcolor\":\"white\",\"linecolor\":\"white\",\"ticks\":\"\"},\"bgcolor\":\"#E5ECF6\",\"caxis\":{\"gridcolor\":\"white\",\"linecolor\":\"white\",\"ticks\":\"\"}},\"title\":{\"x\":0.05},\"xaxis\":{\"automargin\":true,\"gridcolor\":\"white\",\"linecolor\":\"white\",\"ticks\":\"\",\"title\":{\"standoff\":15},\"zerolinecolor\":\"white\",\"zerolinewidth\":2},\"yaxis\":{\"automargin\":true,\"gridcolor\":\"white\",\"linecolor\":\"white\",\"ticks\":\"\",\"title\":{\"standoff\":15},\"zerolinecolor\":\"white\",\"zerolinewidth\":2}}},\"mapbox\":{\"domain\":{\"x\":[0.0,1.0],\"y\":[0.0,1.0]},\"center\":{\"lat\":37.76064079710145,\"lon\":-122.4382644927536},\"accesstoken\":\"pk.eyJ1IjoiYS1hbHRtYW4iLCJhIjoiY2wwdTR2Mm1mMGpwdjNpcGZ6dmc2OTBjMyJ9.5lgrxg5rFxYvyH_az91QpA\",\"zoom\":10},\"legend\":{\"title\":{\"text\":\"neighborhood\"},\"tracegroupgap\":0,\"itemsizing\":\"constant\"},\"margin\":{\"t\":60}},                        {\"responsive\": true}                    ).then(function(){\n",
       "                            \n",
       "var gd = document.getElementById('f83e0258-57db-41a1-8546-ce6ab34a23af');\n",
       "var x = new MutationObserver(function (mutations, observer) {{\n",
       "        var display = window.getComputedStyle(gd).display;\n",
       "        if (!display || display === 'none') {{\n",
       "            console.log([gd, 'removed!']);\n",
       "            Plotly.purge(gd);\n",
       "            observer.disconnect();\n",
       "        }}\n",
       "}});\n",
       "\n",
       "// Listen for the removal of the full notebook cells\n",
       "var notebookContainer = gd.closest('#notebook-container');\n",
       "if (notebookContainer) {{\n",
       "    x.observe(notebookContainer, {childList: true});\n",
       "}}\n",
       "\n",
       "// Listen for the clearing of the current output cell\n",
       "var outputEl = gd.closest('.output');\n",
       "if (outputEl) {{\n",
       "    x.observe(outputEl, {childList: true});\n",
       "}}\n",
       "\n",
       "                        })                };                });            </script>        </div>"
      ]
     },
     "metadata": {},
     "output_type": "display_data"
    }
   ],
   "source": [
    "# Create a scatter mapbox to analyze neighborhood info\n",
    "neighborhood_mapbox_plot = px.scatter_mapbox(neighborhood_avgs_coords,lat='Lat',lon='Lon',size='sale_price_sqr_foot',color='neighborhood',hover_data=['neighborhood','sale_price_sqr_foot','gross_rent'],zoom=10)\n",
    "neighborhood_mapbox_plot"
   ]
  },
  {
   "cell_type": "markdown",
   "metadata": {},
   "source": [
    "- - -"
   ]
  },
  {
   "cell_type": "markdown",
   "metadata": {},
   "source": [
    "## Cost Analysis - Optional Challenge\n",
    "\n",
    "In this section, you will use Plotly express to create visualizations that investors can use to interactively filter and explore various factors related to the house value of the San Francisco's neighborhoods. \n",
    "\n",
    "### Create a DataFrame showing the most expensive neighborhoods in San Francisco by year"
   ]
  },
  {
   "cell_type": "code",
   "execution_count": 112,
   "metadata": {},
   "outputs": [
    {
     "data": {
      "text/html": [
       "<div>\n",
       "<style scoped>\n",
       "    .dataframe tbody tr th:only-of-type {\n",
       "        vertical-align: middle;\n",
       "    }\n",
       "\n",
       "    .dataframe tbody tr th {\n",
       "        vertical-align: top;\n",
       "    }\n",
       "\n",
       "    .dataframe thead th {\n",
       "        text-align: right;\n",
       "    }\n",
       "</style>\n",
       "<table border=\"1\" class=\"dataframe\">\n",
       "  <thead>\n",
       "    <tr style=\"text-align: right;\">\n",
       "      <th></th>\n",
       "      <th>year</th>\n",
       "      <th>neighborhood</th>\n",
       "      <th>sale_price_sqr_foot</th>\n",
       "      <th>housing_units</th>\n",
       "      <th>gross_rent</th>\n",
       "    </tr>\n",
       "  </thead>\n",
       "  <tbody>\n",
       "    <tr>\n",
       "      <th>7</th>\n",
       "      <td>2010</td>\n",
       "      <td>Cow Hollow</td>\n",
       "      <td>569.379968</td>\n",
       "      <td>372560.0</td>\n",
       "      <td>1239.0</td>\n",
       "    </tr>\n",
       "    <tr>\n",
       "      <th>31</th>\n",
       "      <td>2010</td>\n",
       "      <td>Miraloma Park</td>\n",
       "      <td>680.608729</td>\n",
       "      <td>372560.0</td>\n",
       "      <td>1239.0</td>\n",
       "    </tr>\n",
       "    <tr>\n",
       "      <th>41</th>\n",
       "      <td>2010</td>\n",
       "      <td>Pacific Heights</td>\n",
       "      <td>496.516014</td>\n",
       "      <td>372560.0</td>\n",
       "      <td>1239.0</td>\n",
       "    </tr>\n",
       "    <tr>\n",
       "      <th>46</th>\n",
       "      <td>2010</td>\n",
       "      <td>Potrero Hill</td>\n",
       "      <td>491.450004</td>\n",
       "      <td>372560.0</td>\n",
       "      <td>1239.0</td>\n",
       "    </tr>\n",
       "    <tr>\n",
       "      <th>47</th>\n",
       "      <td>2010</td>\n",
       "      <td>Presidio Heights</td>\n",
       "      <td>549.417931</td>\n",
       "      <td>372560.0</td>\n",
       "      <td>1239.0</td>\n",
       "    </tr>\n",
       "    <tr>\n",
       "      <th>49</th>\n",
       "      <td>2010</td>\n",
       "      <td>South Beach</td>\n",
       "      <td>1037.099789</td>\n",
       "      <td>372560.0</td>\n",
       "      <td>1239.0</td>\n",
       "    </tr>\n",
       "    <tr>\n",
       "      <th>52</th>\n",
       "      <td>2010</td>\n",
       "      <td>Telegraph Hill</td>\n",
       "      <td>524.793509</td>\n",
       "      <td>372560.0</td>\n",
       "      <td>1239.0</td>\n",
       "    </tr>\n",
       "    <tr>\n",
       "      <th>54</th>\n",
       "      <td>2010</td>\n",
       "      <td>Union Square District</td>\n",
       "      <td>569.193448</td>\n",
       "      <td>372560.0</td>\n",
       "      <td>1239.0</td>\n",
       "    </tr>\n",
       "    <tr>\n",
       "      <th>67</th>\n",
       "      <td>2011</td>\n",
       "      <td>Cow Hollow</td>\n",
       "      <td>390.595653</td>\n",
       "      <td>374507.0</td>\n",
       "      <td>1530.0</td>\n",
       "    </tr>\n",
       "    <tr>\n",
       "      <th>89</th>\n",
       "      <td>2011</td>\n",
       "      <td>Miraloma Park</td>\n",
       "      <td>414.676065</td>\n",
       "      <td>374507.0</td>\n",
       "      <td>1530.0</td>\n",
       "    </tr>\n",
       "    <tr>\n",
       "      <th>100</th>\n",
       "      <td>2011</td>\n",
       "      <td>Pacific Heights</td>\n",
       "      <td>509.021480</td>\n",
       "      <td>374507.0</td>\n",
       "      <td>1530.0</td>\n",
       "    </tr>\n",
       "    <tr>\n",
       "      <th>105</th>\n",
       "      <td>2011</td>\n",
       "      <td>Potrero Hill</td>\n",
       "      <td>503.138505</td>\n",
       "      <td>374507.0</td>\n",
       "      <td>1530.0</td>\n",
       "    </tr>\n",
       "    <tr>\n",
       "      <th>106</th>\n",
       "      <td>2011</td>\n",
       "      <td>Presidio Heights</td>\n",
       "      <td>493.814917</td>\n",
       "      <td>374507.0</td>\n",
       "      <td>1530.0</td>\n",
       "    </tr>\n",
       "    <tr>\n",
       "      <th>108</th>\n",
       "      <td>2011</td>\n",
       "      <td>South Beach</td>\n",
       "      <td>388.644337</td>\n",
       "      <td>374507.0</td>\n",
       "      <td>1530.0</td>\n",
       "    </tr>\n",
       "    <tr>\n",
       "      <th>111</th>\n",
       "      <td>2011</td>\n",
       "      <td>Telegraph Hill</td>\n",
       "      <td>483.405773</td>\n",
       "      <td>374507.0</td>\n",
       "      <td>1530.0</td>\n",
       "    </tr>\n",
       "    <tr>\n",
       "      <th>113</th>\n",
       "      <td>2011</td>\n",
       "      <td>Union Square District</td>\n",
       "      <td>302.123253</td>\n",
       "      <td>374507.0</td>\n",
       "      <td>1530.0</td>\n",
       "    </tr>\n",
       "    <tr>\n",
       "      <th>126</th>\n",
       "      <td>2012</td>\n",
       "      <td>Cow Hollow</td>\n",
       "      <td>644.818307</td>\n",
       "      <td>376454.0</td>\n",
       "      <td>2324.0</td>\n",
       "    </tr>\n",
       "    <tr>\n",
       "      <th>146</th>\n",
       "      <td>2012</td>\n",
       "      <td>Merced Heights</td>\n",
       "      <td>421.141245</td>\n",
       "      <td>376454.0</td>\n",
       "      <td>2324.0</td>\n",
       "    </tr>\n",
       "    <tr>\n",
       "      <th>148</th>\n",
       "      <td>2012</td>\n",
       "      <td>Miraloma Park</td>\n",
       "      <td>756.192373</td>\n",
       "      <td>376454.0</td>\n",
       "      <td>2324.0</td>\n",
       "    </tr>\n",
       "    <tr>\n",
       "      <th>160</th>\n",
       "      <td>2012</td>\n",
       "      <td>Pacific Heights</td>\n",
       "      <td>586.218215</td>\n",
       "      <td>376454.0</td>\n",
       "      <td>2324.0</td>\n",
       "    </tr>\n",
       "    <tr>\n",
       "      <th>165</th>\n",
       "      <td>2012</td>\n",
       "      <td>Potrero Hill</td>\n",
       "      <td>466.647840</td>\n",
       "      <td>376454.0</td>\n",
       "      <td>2324.0</td>\n",
       "    </tr>\n",
       "    <tr>\n",
       "      <th>166</th>\n",
       "      <td>2012</td>\n",
       "      <td>Presidio Heights</td>\n",
       "      <td>426.608592</td>\n",
       "      <td>376454.0</td>\n",
       "      <td>2324.0</td>\n",
       "    </tr>\n",
       "    <tr>\n",
       "      <th>169</th>\n",
       "      <td>2012</td>\n",
       "      <td>Telegraph Hill</td>\n",
       "      <td>465.802122</td>\n",
       "      <td>376454.0</td>\n",
       "      <td>2324.0</td>\n",
       "    </tr>\n",
       "    <tr>\n",
       "      <th>171</th>\n",
       "      <td>2012</td>\n",
       "      <td>Union Square District</td>\n",
       "      <td>445.196788</td>\n",
       "      <td>376454.0</td>\n",
       "      <td>2324.0</td>\n",
       "    </tr>\n",
       "    <tr>\n",
       "      <th>184</th>\n",
       "      <td>2013</td>\n",
       "      <td>Cow Hollow</td>\n",
       "      <td>707.402809</td>\n",
       "      <td>378401.0</td>\n",
       "      <td>2971.0</td>\n",
       "    </tr>\n",
       "    <tr>\n",
       "      <th>214</th>\n",
       "      <td>2013</td>\n",
       "      <td>Pacific Heights</td>\n",
       "      <td>503.899261</td>\n",
       "      <td>378401.0</td>\n",
       "      <td>2971.0</td>\n",
       "    </tr>\n",
       "    <tr>\n",
       "      <th>219</th>\n",
       "      <td>2013</td>\n",
       "      <td>Potrero Hill</td>\n",
       "      <td>598.704795</td>\n",
       "      <td>378401.0</td>\n",
       "      <td>2971.0</td>\n",
       "    </tr>\n",
       "    <tr>\n",
       "      <th>220</th>\n",
       "      <td>2013</td>\n",
       "      <td>Presidio Heights</td>\n",
       "      <td>512.840248</td>\n",
       "      <td>378401.0</td>\n",
       "      <td>2971.0</td>\n",
       "    </tr>\n",
       "    <tr>\n",
       "      <th>224</th>\n",
       "      <td>2013</td>\n",
       "      <td>Telegraph Hill</td>\n",
       "      <td>653.311617</td>\n",
       "      <td>378401.0</td>\n",
       "      <td>2971.0</td>\n",
       "    </tr>\n",
       "    <tr>\n",
       "      <th>226</th>\n",
       "      <td>2013</td>\n",
       "      <td>Union Square District</td>\n",
       "      <td>1290.472107</td>\n",
       "      <td>378401.0</td>\n",
       "      <td>2971.0</td>\n",
       "    </tr>\n",
       "    <tr>\n",
       "      <th>240</th>\n",
       "      <td>2014</td>\n",
       "      <td>Cow Hollow</td>\n",
       "      <td>691.865412</td>\n",
       "      <td>380348.0</td>\n",
       "      <td>3528.0</td>\n",
       "    </tr>\n",
       "    <tr>\n",
       "      <th>261</th>\n",
       "      <td>2014</td>\n",
       "      <td>Merced Heights</td>\n",
       "      <td>528.726541</td>\n",
       "      <td>380348.0</td>\n",
       "      <td>3528.0</td>\n",
       "    </tr>\n",
       "    <tr>\n",
       "      <th>262</th>\n",
       "      <td>2014</td>\n",
       "      <td>Miraloma Park</td>\n",
       "      <td>1267.766203</td>\n",
       "      <td>380348.0</td>\n",
       "      <td>3528.0</td>\n",
       "    </tr>\n",
       "    <tr>\n",
       "      <th>272</th>\n",
       "      <td>2014</td>\n",
       "      <td>Pacific Heights</td>\n",
       "      <td>824.658694</td>\n",
       "      <td>380348.0</td>\n",
       "      <td>3528.0</td>\n",
       "    </tr>\n",
       "    <tr>\n",
       "      <th>277</th>\n",
       "      <td>2014</td>\n",
       "      <td>Potrero Hill</td>\n",
       "      <td>1045.201546</td>\n",
       "      <td>380348.0</td>\n",
       "      <td>3528.0</td>\n",
       "    </tr>\n",
       "    <tr>\n",
       "      <th>278</th>\n",
       "      <td>2014</td>\n",
       "      <td>Presidio Heights</td>\n",
       "      <td>603.450997</td>\n",
       "      <td>380348.0</td>\n",
       "      <td>3528.0</td>\n",
       "    </tr>\n",
       "    <tr>\n",
       "      <th>281</th>\n",
       "      <td>2014</td>\n",
       "      <td>South Beach</td>\n",
       "      <td>524.629312</td>\n",
       "      <td>380348.0</td>\n",
       "      <td>3528.0</td>\n",
       "    </tr>\n",
       "    <tr>\n",
       "      <th>284</th>\n",
       "      <td>2014</td>\n",
       "      <td>Telegraph Hill</td>\n",
       "      <td>708.193032</td>\n",
       "      <td>380348.0</td>\n",
       "      <td>3528.0</td>\n",
       "    </tr>\n",
       "    <tr>\n",
       "      <th>286</th>\n",
       "      <td>2014</td>\n",
       "      <td>Union Square District</td>\n",
       "      <td>558.271119</td>\n",
       "      <td>380348.0</td>\n",
       "      <td>3528.0</td>\n",
       "    </tr>\n",
       "    <tr>\n",
       "      <th>291</th>\n",
       "      <td>2014</td>\n",
       "      <td>Westwood Park</td>\n",
       "      <td>742.979723</td>\n",
       "      <td>380348.0</td>\n",
       "      <td>3528.0</td>\n",
       "    </tr>\n",
       "    <tr>\n",
       "      <th>301</th>\n",
       "      <td>2015</td>\n",
       "      <td>Cow Hollow</td>\n",
       "      <td>598.620541</td>\n",
       "      <td>382295.0</td>\n",
       "      <td>3739.0</td>\n",
       "    </tr>\n",
       "    <tr>\n",
       "      <th>335</th>\n",
       "      <td>2015</td>\n",
       "      <td>Pacific Heights</td>\n",
       "      <td>910.187690</td>\n",
       "      <td>382295.0</td>\n",
       "      <td>3739.0</td>\n",
       "    </tr>\n",
       "    <tr>\n",
       "      <th>339</th>\n",
       "      <td>2015</td>\n",
       "      <td>Potrero Hill</td>\n",
       "      <td>821.300991</td>\n",
       "      <td>382295.0</td>\n",
       "      <td>3739.0</td>\n",
       "    </tr>\n",
       "    <tr>\n",
       "      <th>340</th>\n",
       "      <td>2015</td>\n",
       "      <td>Presidio Heights</td>\n",
       "      <td>NaN</td>\n",
       "      <td>382295.0</td>\n",
       "      <td>3739.0</td>\n",
       "    </tr>\n",
       "    <tr>\n",
       "      <th>344</th>\n",
       "      <td>2015</td>\n",
       "      <td>Telegraph Hill</td>\n",
       "      <td>996.990220</td>\n",
       "      <td>382295.0</td>\n",
       "      <td>3739.0</td>\n",
       "    </tr>\n",
       "    <tr>\n",
       "      <th>346</th>\n",
       "      <td>2015</td>\n",
       "      <td>Union Square District</td>\n",
       "      <td>2258.702832</td>\n",
       "      <td>382295.0</td>\n",
       "      <td>3739.0</td>\n",
       "    </tr>\n",
       "    <tr>\n",
       "      <th>357</th>\n",
       "      <td>2016</td>\n",
       "      <td>Cow Hollow</td>\n",
       "      <td>1059.065602</td>\n",
       "      <td>384242.0</td>\n",
       "      <td>4390.0</td>\n",
       "    </tr>\n",
       "    <tr>\n",
       "      <th>374</th>\n",
       "      <td>2016</td>\n",
       "      <td>Merced Heights</td>\n",
       "      <td>1416.666667</td>\n",
       "      <td>384242.0</td>\n",
       "      <td>4390.0</td>\n",
       "    </tr>\n",
       "    <tr>\n",
       "      <th>384</th>\n",
       "      <td>2016</td>\n",
       "      <td>Pacific Heights</td>\n",
       "      <td>996.389364</td>\n",
       "      <td>384242.0</td>\n",
       "      <td>4390.0</td>\n",
       "    </tr>\n",
       "    <tr>\n",
       "      <th>387</th>\n",
       "      <td>2016</td>\n",
       "      <td>Potrero Hill</td>\n",
       "      <td>707.651609</td>\n",
       "      <td>384242.0</td>\n",
       "      <td>4390.0</td>\n",
       "    </tr>\n",
       "    <tr>\n",
       "      <th>388</th>\n",
       "      <td>2016</td>\n",
       "      <td>Presidio Heights</td>\n",
       "      <td>1465.968586</td>\n",
       "      <td>384242.0</td>\n",
       "      <td>4390.0</td>\n",
       "    </tr>\n",
       "    <tr>\n",
       "      <th>392</th>\n",
       "      <td>2016</td>\n",
       "      <td>Telegraph Hill</td>\n",
       "      <td>903.049771</td>\n",
       "      <td>384242.0</td>\n",
       "      <td>4390.0</td>\n",
       "    </tr>\n",
       "    <tr>\n",
       "      <th>396</th>\n",
       "      <td>2016</td>\n",
       "      <td>Westwood Park</td>\n",
       "      <td>631.195426</td>\n",
       "      <td>384242.0</td>\n",
       "      <td>4390.0</td>\n",
       "    </tr>\n",
       "  </tbody>\n",
       "</table>\n",
       "</div>"
      ],
      "text/plain": [
       "     year           neighborhood  sale_price_sqr_foot  housing_units  \\\n",
       "7    2010             Cow Hollow           569.379968       372560.0   \n",
       "31   2010          Miraloma Park           680.608729       372560.0   \n",
       "41   2010        Pacific Heights           496.516014       372560.0   \n",
       "46   2010           Potrero Hill           491.450004       372560.0   \n",
       "47   2010       Presidio Heights           549.417931       372560.0   \n",
       "49   2010            South Beach          1037.099789       372560.0   \n",
       "52   2010         Telegraph Hill           524.793509       372560.0   \n",
       "54   2010  Union Square District           569.193448       372560.0   \n",
       "67   2011             Cow Hollow           390.595653       374507.0   \n",
       "89   2011          Miraloma Park           414.676065       374507.0   \n",
       "100  2011        Pacific Heights           509.021480       374507.0   \n",
       "105  2011           Potrero Hill           503.138505       374507.0   \n",
       "106  2011       Presidio Heights           493.814917       374507.0   \n",
       "108  2011            South Beach           388.644337       374507.0   \n",
       "111  2011         Telegraph Hill           483.405773       374507.0   \n",
       "113  2011  Union Square District           302.123253       374507.0   \n",
       "126  2012             Cow Hollow           644.818307       376454.0   \n",
       "146  2012         Merced Heights           421.141245       376454.0   \n",
       "148  2012          Miraloma Park           756.192373       376454.0   \n",
       "160  2012        Pacific Heights           586.218215       376454.0   \n",
       "165  2012           Potrero Hill           466.647840       376454.0   \n",
       "166  2012       Presidio Heights           426.608592       376454.0   \n",
       "169  2012         Telegraph Hill           465.802122       376454.0   \n",
       "171  2012  Union Square District           445.196788       376454.0   \n",
       "184  2013             Cow Hollow           707.402809       378401.0   \n",
       "214  2013        Pacific Heights           503.899261       378401.0   \n",
       "219  2013           Potrero Hill           598.704795       378401.0   \n",
       "220  2013       Presidio Heights           512.840248       378401.0   \n",
       "224  2013         Telegraph Hill           653.311617       378401.0   \n",
       "226  2013  Union Square District          1290.472107       378401.0   \n",
       "240  2014             Cow Hollow           691.865412       380348.0   \n",
       "261  2014         Merced Heights           528.726541       380348.0   \n",
       "262  2014          Miraloma Park          1267.766203       380348.0   \n",
       "272  2014        Pacific Heights           824.658694       380348.0   \n",
       "277  2014           Potrero Hill          1045.201546       380348.0   \n",
       "278  2014       Presidio Heights           603.450997       380348.0   \n",
       "281  2014            South Beach           524.629312       380348.0   \n",
       "284  2014         Telegraph Hill           708.193032       380348.0   \n",
       "286  2014  Union Square District           558.271119       380348.0   \n",
       "291  2014          Westwood Park           742.979723       380348.0   \n",
       "301  2015             Cow Hollow           598.620541       382295.0   \n",
       "335  2015        Pacific Heights           910.187690       382295.0   \n",
       "339  2015           Potrero Hill           821.300991       382295.0   \n",
       "340  2015       Presidio Heights                  NaN       382295.0   \n",
       "344  2015         Telegraph Hill           996.990220       382295.0   \n",
       "346  2015  Union Square District          2258.702832       382295.0   \n",
       "357  2016             Cow Hollow          1059.065602       384242.0   \n",
       "374  2016         Merced Heights          1416.666667       384242.0   \n",
       "384  2016        Pacific Heights           996.389364       384242.0   \n",
       "387  2016           Potrero Hill           707.651609       384242.0   \n",
       "388  2016       Presidio Heights          1465.968586       384242.0   \n",
       "392  2016         Telegraph Hill           903.049771       384242.0   \n",
       "396  2016          Westwood Park           631.195426       384242.0   \n",
       "\n",
       "     gross_rent  \n",
       "7        1239.0  \n",
       "31       1239.0  \n",
       "41       1239.0  \n",
       "46       1239.0  \n",
       "47       1239.0  \n",
       "49       1239.0  \n",
       "52       1239.0  \n",
       "54       1239.0  \n",
       "67       1530.0  \n",
       "89       1530.0  \n",
       "100      1530.0  \n",
       "105      1530.0  \n",
       "106      1530.0  \n",
       "108      1530.0  \n",
       "111      1530.0  \n",
       "113      1530.0  \n",
       "126      2324.0  \n",
       "146      2324.0  \n",
       "148      2324.0  \n",
       "160      2324.0  \n",
       "165      2324.0  \n",
       "166      2324.0  \n",
       "169      2324.0  \n",
       "171      2324.0  \n",
       "184      2971.0  \n",
       "214      2971.0  \n",
       "219      2971.0  \n",
       "220      2971.0  \n",
       "224      2971.0  \n",
       "226      2971.0  \n",
       "240      3528.0  \n",
       "261      3528.0  \n",
       "262      3528.0  \n",
       "272      3528.0  \n",
       "277      3528.0  \n",
       "278      3528.0  \n",
       "281      3528.0  \n",
       "284      3528.0  \n",
       "286      3528.0  \n",
       "291      3528.0  \n",
       "301      3739.0  \n",
       "335      3739.0  \n",
       "339      3739.0  \n",
       "340      3739.0  \n",
       "344      3739.0  \n",
       "346      3739.0  \n",
       "357      4390.0  \n",
       "374      4390.0  \n",
       "384      4390.0  \n",
       "387      4390.0  \n",
       "388      4390.0  \n",
       "392      4390.0  \n",
       "396      4390.0  "
      ]
     },
     "execution_count": 112,
     "metadata": {},
     "output_type": "execute_result"
    }
   ],
   "source": [
    "# Fetch the data from all expensive neighborhoods per year.\n",
    "sfo_grouped = sfo_data.groupby(['year','neighborhood']).mean()\n",
    "sfo_grouped.reset_index(inplace=True)\n",
    "\n",
    "most_expensive_df = sfo_grouped[sfo_grouped['neighborhood'].isin(top_ten)]\n",
    "most_expensive_df"
   ]
  },
  {
   "cell_type": "markdown",
   "metadata": {},
   "source": [
    "### Create a parallel coordinates plot and parallel categories plot of most expensive neighborhoods in San Francisco per year\n"
   ]
  },
  {
   "cell_type": "code",
   "execution_count": 123,
   "metadata": {},
   "outputs": [
    {
     "data": {
      "application/vnd.plotly.v1+json": {
       "config": {
        "plotlyServerURL": "https://plot.ly"
       },
       "data": [
        {
         "dimensions": [
          {
           "label": "neighborhood",
           "values": [
            "Union Square District",
            "Merced Heights",
            "Miraloma Park",
            "Pacific Heights",
            "Westwood Park",
            "Telegraph Hill",
            "Presidio Heights",
            "Cow Hollow",
            "Potrero Hill",
            "South Beach"
           ]
          },
          {
           "label": "price per square foot",
           "values": [
            903.9932577166668,
            788.8448177,
            779.81084235,
            689.5558168,
            687.08757455,
            676.5065775285714,
            675.3502119833333,
            665.9640416428572,
            662.0136128428572,
            650.1244793000001
           ]
          },
          {
           "label": "housing units",
           "values": [
            377427.5,
            380348,
            375967.25,
            378401,
            382295,
            378401,
            378401,
            378401,
            378401,
            375805
           ]
          },
          {
           "label": "gross rent",
           "values": [
            2555.1666666666665,
            3414,
            2155.25,
            2817.285714285714,
            3959,
            2817.285714285714,
            2817.285714285714,
            2817.285714285714,
            2817.285714285714,
            2099
           ]
          }
         ],
         "domain": {
          "x": [
           0,
           1
          ],
          "y": [
           0,
           1
          ]
         },
         "line": {
          "color": [
           903.9932577166668,
           788.8448177,
           779.81084235,
           689.5558168,
           687.08757455,
           676.5065775285714,
           675.3502119833333,
           665.9640416428572,
           662.0136128428572,
           650.1244793000001
          ],
          "coloraxis": "coloraxis"
         },
         "name": "",
         "type": "parcats"
        }
       ],
       "layout": {
        "autosize": true,
        "coloraxis": {
         "colorbar": {
          "title": {
           "text": "price per square foot"
          }
         },
         "colorscale": [
          [
           0,
           "#000004"
          ],
          [
           0.1111111111111111,
           "#1b0c41"
          ],
          [
           0.2222222222222222,
           "#4a0c6b"
          ],
          [
           0.3333333333333333,
           "#781c6d"
          ],
          [
           0.4444444444444444,
           "#a52c60"
          ],
          [
           0.5555555555555556,
           "#cf4446"
          ],
          [
           0.6666666666666666,
           "#ed6925"
          ],
          [
           0.7777777777777778,
           "#fb9b06"
          ],
          [
           0.8888888888888888,
           "#f7d13d"
          ],
          [
           1,
           "#fcffa4"
          ]
         ]
        },
        "legend": {
         "tracegroupgap": 0
        },
        "margin": {
         "t": 60
        },
        "template": {
         "data": {
          "bar": [
           {
            "error_x": {
             "color": "#2a3f5f"
            },
            "error_y": {
             "color": "#2a3f5f"
            },
            "marker": {
             "line": {
              "color": "#E5ECF6",
              "width": 0.5
             },
             "pattern": {
              "fillmode": "overlay",
              "size": 10,
              "solidity": 0.2
             }
            },
            "type": "bar"
           }
          ],
          "barpolar": [
           {
            "marker": {
             "line": {
              "color": "#E5ECF6",
              "width": 0.5
             },
             "pattern": {
              "fillmode": "overlay",
              "size": 10,
              "solidity": 0.2
             }
            },
            "type": "barpolar"
           }
          ],
          "carpet": [
           {
            "aaxis": {
             "endlinecolor": "#2a3f5f",
             "gridcolor": "white",
             "linecolor": "white",
             "minorgridcolor": "white",
             "startlinecolor": "#2a3f5f"
            },
            "baxis": {
             "endlinecolor": "#2a3f5f",
             "gridcolor": "white",
             "linecolor": "white",
             "minorgridcolor": "white",
             "startlinecolor": "#2a3f5f"
            },
            "type": "carpet"
           }
          ],
          "choropleth": [
           {
            "colorbar": {
             "outlinewidth": 0,
             "ticks": ""
            },
            "type": "choropleth"
           }
          ],
          "contour": [
           {
            "colorbar": {
             "outlinewidth": 0,
             "ticks": ""
            },
            "colorscale": [
             [
              0,
              "#0d0887"
             ],
             [
              0.1111111111111111,
              "#46039f"
             ],
             [
              0.2222222222222222,
              "#7201a8"
             ],
             [
              0.3333333333333333,
              "#9c179e"
             ],
             [
              0.4444444444444444,
              "#bd3786"
             ],
             [
              0.5555555555555556,
              "#d8576b"
             ],
             [
              0.6666666666666666,
              "#ed7953"
             ],
             [
              0.7777777777777778,
              "#fb9f3a"
             ],
             [
              0.8888888888888888,
              "#fdca26"
             ],
             [
              1,
              "#f0f921"
             ]
            ],
            "type": "contour"
           }
          ],
          "contourcarpet": [
           {
            "colorbar": {
             "outlinewidth": 0,
             "ticks": ""
            },
            "type": "contourcarpet"
           }
          ],
          "heatmap": [
           {
            "colorbar": {
             "outlinewidth": 0,
             "ticks": ""
            },
            "colorscale": [
             [
              0,
              "#0d0887"
             ],
             [
              0.1111111111111111,
              "#46039f"
             ],
             [
              0.2222222222222222,
              "#7201a8"
             ],
             [
              0.3333333333333333,
              "#9c179e"
             ],
             [
              0.4444444444444444,
              "#bd3786"
             ],
             [
              0.5555555555555556,
              "#d8576b"
             ],
             [
              0.6666666666666666,
              "#ed7953"
             ],
             [
              0.7777777777777778,
              "#fb9f3a"
             ],
             [
              0.8888888888888888,
              "#fdca26"
             ],
             [
              1,
              "#f0f921"
             ]
            ],
            "type": "heatmap"
           }
          ],
          "heatmapgl": [
           {
            "colorbar": {
             "outlinewidth": 0,
             "ticks": ""
            },
            "colorscale": [
             [
              0,
              "#0d0887"
             ],
             [
              0.1111111111111111,
              "#46039f"
             ],
             [
              0.2222222222222222,
              "#7201a8"
             ],
             [
              0.3333333333333333,
              "#9c179e"
             ],
             [
              0.4444444444444444,
              "#bd3786"
             ],
             [
              0.5555555555555556,
              "#d8576b"
             ],
             [
              0.6666666666666666,
              "#ed7953"
             ],
             [
              0.7777777777777778,
              "#fb9f3a"
             ],
             [
              0.8888888888888888,
              "#fdca26"
             ],
             [
              1,
              "#f0f921"
             ]
            ],
            "type": "heatmapgl"
           }
          ],
          "histogram": [
           {
            "marker": {
             "pattern": {
              "fillmode": "overlay",
              "size": 10,
              "solidity": 0.2
             }
            },
            "type": "histogram"
           }
          ],
          "histogram2d": [
           {
            "colorbar": {
             "outlinewidth": 0,
             "ticks": ""
            },
            "colorscale": [
             [
              0,
              "#0d0887"
             ],
             [
              0.1111111111111111,
              "#46039f"
             ],
             [
              0.2222222222222222,
              "#7201a8"
             ],
             [
              0.3333333333333333,
              "#9c179e"
             ],
             [
              0.4444444444444444,
              "#bd3786"
             ],
             [
              0.5555555555555556,
              "#d8576b"
             ],
             [
              0.6666666666666666,
              "#ed7953"
             ],
             [
              0.7777777777777778,
              "#fb9f3a"
             ],
             [
              0.8888888888888888,
              "#fdca26"
             ],
             [
              1,
              "#f0f921"
             ]
            ],
            "type": "histogram2d"
           }
          ],
          "histogram2dcontour": [
           {
            "colorbar": {
             "outlinewidth": 0,
             "ticks": ""
            },
            "colorscale": [
             [
              0,
              "#0d0887"
             ],
             [
              0.1111111111111111,
              "#46039f"
             ],
             [
              0.2222222222222222,
              "#7201a8"
             ],
             [
              0.3333333333333333,
              "#9c179e"
             ],
             [
              0.4444444444444444,
              "#bd3786"
             ],
             [
              0.5555555555555556,
              "#d8576b"
             ],
             [
              0.6666666666666666,
              "#ed7953"
             ],
             [
              0.7777777777777778,
              "#fb9f3a"
             ],
             [
              0.8888888888888888,
              "#fdca26"
             ],
             [
              1,
              "#f0f921"
             ]
            ],
            "type": "histogram2dcontour"
           }
          ],
          "mesh3d": [
           {
            "colorbar": {
             "outlinewidth": 0,
             "ticks": ""
            },
            "type": "mesh3d"
           }
          ],
          "parcoords": [
           {
            "line": {
             "colorbar": {
              "outlinewidth": 0,
              "ticks": ""
             }
            },
            "type": "parcoords"
           }
          ],
          "pie": [
           {
            "automargin": true,
            "type": "pie"
           }
          ],
          "scatter": [
           {
            "marker": {
             "colorbar": {
              "outlinewidth": 0,
              "ticks": ""
             }
            },
            "type": "scatter"
           }
          ],
          "scatter3d": [
           {
            "line": {
             "colorbar": {
              "outlinewidth": 0,
              "ticks": ""
             }
            },
            "marker": {
             "colorbar": {
              "outlinewidth": 0,
              "ticks": ""
             }
            },
            "type": "scatter3d"
           }
          ],
          "scattercarpet": [
           {
            "marker": {
             "colorbar": {
              "outlinewidth": 0,
              "ticks": ""
             }
            },
            "type": "scattercarpet"
           }
          ],
          "scattergeo": [
           {
            "marker": {
             "colorbar": {
              "outlinewidth": 0,
              "ticks": ""
             }
            },
            "type": "scattergeo"
           }
          ],
          "scattergl": [
           {
            "marker": {
             "colorbar": {
              "outlinewidth": 0,
              "ticks": ""
             }
            },
            "type": "scattergl"
           }
          ],
          "scattermapbox": [
           {
            "marker": {
             "colorbar": {
              "outlinewidth": 0,
              "ticks": ""
             }
            },
            "type": "scattermapbox"
           }
          ],
          "scatterpolar": [
           {
            "marker": {
             "colorbar": {
              "outlinewidth": 0,
              "ticks": ""
             }
            },
            "type": "scatterpolar"
           }
          ],
          "scatterpolargl": [
           {
            "marker": {
             "colorbar": {
              "outlinewidth": 0,
              "ticks": ""
             }
            },
            "type": "scatterpolargl"
           }
          ],
          "scatterternary": [
           {
            "marker": {
             "colorbar": {
              "outlinewidth": 0,
              "ticks": ""
             }
            },
            "type": "scatterternary"
           }
          ],
          "surface": [
           {
            "colorbar": {
             "outlinewidth": 0,
             "ticks": ""
            },
            "colorscale": [
             [
              0,
              "#0d0887"
             ],
             [
              0.1111111111111111,
              "#46039f"
             ],
             [
              0.2222222222222222,
              "#7201a8"
             ],
             [
              0.3333333333333333,
              "#9c179e"
             ],
             [
              0.4444444444444444,
              "#bd3786"
             ],
             [
              0.5555555555555556,
              "#d8576b"
             ],
             [
              0.6666666666666666,
              "#ed7953"
             ],
             [
              0.7777777777777778,
              "#fb9f3a"
             ],
             [
              0.8888888888888888,
              "#fdca26"
             ],
             [
              1,
              "#f0f921"
             ]
            ],
            "type": "surface"
           }
          ],
          "table": [
           {
            "cells": {
             "fill": {
              "color": "#EBF0F8"
             },
             "line": {
              "color": "white"
             }
            },
            "header": {
             "fill": {
              "color": "#C8D4E3"
             },
             "line": {
              "color": "white"
             }
            },
            "type": "table"
           }
          ]
         },
         "layout": {
          "annotationdefaults": {
           "arrowcolor": "#2a3f5f",
           "arrowhead": 0,
           "arrowwidth": 1
          },
          "autotypenumbers": "strict",
          "coloraxis": {
           "colorbar": {
            "outlinewidth": 0,
            "ticks": ""
           }
          },
          "colorscale": {
           "diverging": [
            [
             0,
             "#8e0152"
            ],
            [
             0.1,
             "#c51b7d"
            ],
            [
             0.2,
             "#de77ae"
            ],
            [
             0.3,
             "#f1b6da"
            ],
            [
             0.4,
             "#fde0ef"
            ],
            [
             0.5,
             "#f7f7f7"
            ],
            [
             0.6,
             "#e6f5d0"
            ],
            [
             0.7,
             "#b8e186"
            ],
            [
             0.8,
             "#7fbc41"
            ],
            [
             0.9,
             "#4d9221"
            ],
            [
             1,
             "#276419"
            ]
           ],
           "sequential": [
            [
             0,
             "#0d0887"
            ],
            [
             0.1111111111111111,
             "#46039f"
            ],
            [
             0.2222222222222222,
             "#7201a8"
            ],
            [
             0.3333333333333333,
             "#9c179e"
            ],
            [
             0.4444444444444444,
             "#bd3786"
            ],
            [
             0.5555555555555556,
             "#d8576b"
            ],
            [
             0.6666666666666666,
             "#ed7953"
            ],
            [
             0.7777777777777778,
             "#fb9f3a"
            ],
            [
             0.8888888888888888,
             "#fdca26"
            ],
            [
             1,
             "#f0f921"
            ]
           ],
           "sequentialminus": [
            [
             0,
             "#0d0887"
            ],
            [
             0.1111111111111111,
             "#46039f"
            ],
            [
             0.2222222222222222,
             "#7201a8"
            ],
            [
             0.3333333333333333,
             "#9c179e"
            ],
            [
             0.4444444444444444,
             "#bd3786"
            ],
            [
             0.5555555555555556,
             "#d8576b"
            ],
            [
             0.6666666666666666,
             "#ed7953"
            ],
            [
             0.7777777777777778,
             "#fb9f3a"
            ],
            [
             0.8888888888888888,
             "#fdca26"
            ],
            [
             1,
             "#f0f921"
            ]
           ]
          },
          "colorway": [
           "#636efa",
           "#EF553B",
           "#00cc96",
           "#ab63fa",
           "#FFA15A",
           "#19d3f3",
           "#FF6692",
           "#B6E880",
           "#FF97FF",
           "#FECB52"
          ],
          "font": {
           "color": "#2a3f5f"
          },
          "geo": {
           "bgcolor": "white",
           "lakecolor": "white",
           "landcolor": "#E5ECF6",
           "showlakes": true,
           "showland": true,
           "subunitcolor": "white"
          },
          "hoverlabel": {
           "align": "left"
          },
          "hovermode": "closest",
          "mapbox": {
           "style": "light"
          },
          "paper_bgcolor": "white",
          "plot_bgcolor": "#E5ECF6",
          "polar": {
           "angularaxis": {
            "gridcolor": "white",
            "linecolor": "white",
            "ticks": ""
           },
           "bgcolor": "#E5ECF6",
           "radialaxis": {
            "gridcolor": "white",
            "linecolor": "white",
            "ticks": ""
           }
          },
          "scene": {
           "xaxis": {
            "backgroundcolor": "#E5ECF6",
            "gridcolor": "white",
            "gridwidth": 2,
            "linecolor": "white",
            "showbackground": true,
            "ticks": "",
            "zerolinecolor": "white"
           },
           "yaxis": {
            "backgroundcolor": "#E5ECF6",
            "gridcolor": "white",
            "gridwidth": 2,
            "linecolor": "white",
            "showbackground": true,
            "ticks": "",
            "zerolinecolor": "white"
           },
           "zaxis": {
            "backgroundcolor": "#E5ECF6",
            "gridcolor": "white",
            "gridwidth": 2,
            "linecolor": "white",
            "showbackground": true,
            "ticks": "",
            "zerolinecolor": "white"
           }
          },
          "shapedefaults": {
           "line": {
            "color": "#2a3f5f"
           }
          },
          "ternary": {
           "aaxis": {
            "gridcolor": "white",
            "linecolor": "white",
            "ticks": ""
           },
           "baxis": {
            "gridcolor": "white",
            "linecolor": "white",
            "ticks": ""
           },
           "bgcolor": "#E5ECF6",
           "caxis": {
            "gridcolor": "white",
            "linecolor": "white",
            "ticks": ""
           }
          },
          "title": {
           "x": 0.05
          },
          "xaxis": {
           "automargin": true,
           "gridcolor": "white",
           "linecolor": "white",
           "ticks": "",
           "title": {
            "standoff": 15
           },
           "zerolinecolor": "white",
           "zerolinewidth": 2
          },
          "yaxis": {
           "automargin": true,
           "gridcolor": "white",
           "linecolor": "white",
           "ticks": "",
           "title": {
            "standoff": 15
           },
           "zerolinecolor": "white",
           "zerolinewidth": 2
          }
         }
        }
       }
      },
      "image/png": "[encoded data removed]",
      "text/html": [
       "<div>                            <div id=\"a6fa94b8-82c9-4688-9961-0baccc4ead76\" class=\"plotly-graph-div\" style=\"height:525px; width:100%;\"></div>            <script type=\"text/javascript\">                require([\"plotly\"], function(Plotly) {                    window.PLOTLYENV=window.PLOTLYENV || {};                                    if (document.getElementById(\"a6fa94b8-82c9-4688-9961-0baccc4ead76\")) {                    Plotly.newPlot(                        \"a6fa94b8-82c9-4688-9961-0baccc4ead76\",                        [{\"dimensions\":[{\"label\":\"neighborhood\",\"values\":[\"Union Square District\",\"Merced Heights\",\"Miraloma Park\",\"Pacific Heights\",\"Westwood Park\",\"Telegraph Hill\",\"Presidio Heights\",\"Cow Hollow\",\"Potrero Hill\",\"South Beach\"]},{\"label\":\"price per square foot\",\"values\":[903.9932577166668,788.8448177,779.81084235,689.5558168,687.08757455,676.5065775285714,675.3502119833333,665.9640416428572,662.0136128428572,650.1244793000001]},{\"label\":\"housing units\",\"values\":[377427.5,380348.0,375967.25,378401.0,382295.0,378401.0,378401.0,378401.0,378401.0,375805.0]},{\"label\":\"gross rent\",\"values\":[2555.1666666666665,3414.0,2155.25,2817.285714285714,3959.0,2817.285714285714,2817.285714285714,2817.285714285714,2817.285714285714,2099.0]}],\"domain\":{\"x\":[0.0,1.0],\"y\":[0.0,1.0]},\"line\":{\"color\":[903.9932577166668,788.8448177,779.81084235,689.5558168,687.08757455,676.5065775285714,675.3502119833333,665.9640416428572,662.0136128428572,650.1244793000001],\"coloraxis\":\"coloraxis\"},\"name\":\"\",\"type\":\"parcats\"}],                        {\"template\":{\"data\":{\"bar\":[{\"error_x\":{\"color\":\"#2a3f5f\"},\"error_y\":{\"color\":\"#2a3f5f\"},\"marker\":{\"line\":{\"color\":\"#E5ECF6\",\"width\":0.5},\"pattern\":{\"fillmode\":\"overlay\",\"size\":10,\"solidity\":0.2}},\"type\":\"bar\"}],\"barpolar\":[{\"marker\":{\"line\":{\"color\":\"#E5ECF6\",\"width\":0.5},\"pattern\":{\"fillmode\":\"overlay\",\"size\":10,\"solidity\":0.2}},\"type\":\"barpolar\"}],\"carpet\":[{\"aaxis\":{\"endlinecolor\":\"#2a3f5f\",\"gridcolor\":\"white\",\"linecolor\":\"white\",\"minorgridcolor\":\"white\",\"startlinecolor\":\"#2a3f5f\"},\"baxis\":{\"endlinecolor\":\"#2a3f5f\",\"gridcolor\":\"white\",\"linecolor\":\"white\",\"minorgridcolor\":\"white\",\"startlinecolor\":\"#2a3f5f\"},\"type\":\"carpet\"}],\"choropleth\":[{\"colorbar\":{\"outlinewidth\":0,\"ticks\":\"\"},\"type\":\"choropleth\"}],\"contour\":[{\"colorbar\":{\"outlinewidth\":0,\"ticks\":\"\"},\"colorscale\":[[0.0,\"#0d0887\"],[0.1111111111111111,\"#46039f\"],[0.2222222222222222,\"#7201a8\"],[0.3333333333333333,\"#9c179e\"],[0.4444444444444444,\"#bd3786\"],[0.5555555555555556,\"#d8576b\"],[0.6666666666666666,\"#ed7953\"],[0.7777777777777778,\"#fb9f3a\"],[0.8888888888888888,\"#fdca26\"],[1.0,\"#f0f921\"]],\"type\":\"contour\"}],\"contourcarpet\":[{\"colorbar\":{\"outlinewidth\":0,\"ticks\":\"\"},\"type\":\"contourcarpet\"}],\"heatmap\":[{\"colorbar\":{\"outlinewidth\":0,\"ticks\":\"\"},\"colorscale\":[[0.0,\"#0d0887\"],[0.1111111111111111,\"#46039f\"],[0.2222222222222222,\"#7201a8\"],[0.3333333333333333,\"#9c179e\"],[0.4444444444444444,\"#bd3786\"],[0.5555555555555556,\"#d8576b\"],[0.6666666666666666,\"#ed7953\"],[0.7777777777777778,\"#fb9f3a\"],[0.8888888888888888,\"#fdca26\"],[1.0,\"#f0f921\"]],\"type\":\"heatmap\"}],\"heatmapgl\":[{\"colorbar\":{\"outlinewidth\":0,\"ticks\":\"\"},\"colorscale\":[[0.0,\"#0d0887\"],[0.1111111111111111,\"#46039f\"],[0.2222222222222222,\"#7201a8\"],[0.3333333333333333,\"#9c179e\"],[0.4444444444444444,\"#bd3786\"],[0.5555555555555556,\"#d8576b\"],[0.6666666666666666,\"#ed7953\"],[0.7777777777777778,\"#fb9f3a\"],[0.8888888888888888,\"#fdca26\"],[1.0,\"#f0f921\"]],\"type\":\"heatmapgl\"}],\"histogram\":[{\"marker\":{\"pattern\":{\"fillmode\":\"overlay\",\"size\":10,\"solidity\":0.2}},\"type\":\"histogram\"}],\"histogram2d\":[{\"colorbar\":{\"outlinewidth\":0,\"ticks\":\"\"},\"colorscale\":[[0.0,\"#0d0887\"],[0.1111111111111111,\"#46039f\"],[0.2222222222222222,\"#7201a8\"],[0.3333333333333333,\"#9c179e\"],[0.4444444444444444,\"#bd3786\"],[0.5555555555555556,\"#d8576b\"],[0.6666666666666666,\"#ed7953\"],[0.7777777777777778,\"#fb9f3a\"],[0.8888888888888888,\"#fdca26\"],[1.0,\"#f0f921\"]],\"type\":\"histogram2d\"}],\"histogram2dcontour\":[{\"colorbar\":{\"outlinewidth\":0,\"ticks\":\"\"},\"colorscale\":[[0.0,\"#0d0887\"],[0.1111111111111111,\"#46039f\"],[0.2222222222222222,\"#7201a8\"],[0.3333333333333333,\"#9c179e\"],[0.4444444444444444,\"#bd3786\"],[0.5555555555555556,\"#d8576b\"],[0.6666666666666666,\"#ed7953\"],[0.7777777777777778,\"#fb9f3a\"],[0.8888888888888888,\"#fdca26\"],[1.0,\"#f0f921\"]],\"type\":\"histogram2dcontour\"}],\"mesh3d\":[{\"colorbar\":{\"outlinewidth\":0,\"ticks\":\"\"},\"type\":\"mesh3d\"}],\"parcoords\":[{\"line\":{\"colorbar\":{\"outlinewidth\":0,\"ticks\":\"\"}},\"type\":\"parcoords\"}],\"pie\":[{\"automargin\":true,\"type\":\"pie\"}],\"scatter\":[{\"marker\":{\"colorbar\":{\"outlinewidth\":0,\"ticks\":\"\"}},\"type\":\"scatter\"}],\"scatter3d\":[{\"line\":{\"colorbar\":{\"outlinewidth\":0,\"ticks\":\"\"}},\"marker\":{\"colorbar\":{\"outlinewidth\":0,\"ticks\":\"\"}},\"type\":\"scatter3d\"}],\"scattercarpet\":[{\"marker\":{\"colorbar\":{\"outlinewidth\":0,\"ticks\":\"\"}},\"type\":\"scattercarpet\"}],\"scattergeo\":[{\"marker\":{\"colorbar\":{\"outlinewidth\":0,\"ticks\":\"\"}},\"type\":\"scattergeo\"}],\"scattergl\":[{\"marker\":{\"colorbar\":{\"outlinewidth\":0,\"ticks\":\"\"}},\"type\":\"scattergl\"}],\"scattermapbox\":[{\"marker\":{\"colorbar\":{\"outlinewidth\":0,\"ticks\":\"\"}},\"type\":\"scattermapbox\"}],\"scatterpolar\":[{\"marker\":{\"colorbar\":{\"outlinewidth\":0,\"ticks\":\"\"}},\"type\":\"scatterpolar\"}],\"scatterpolargl\":[{\"marker\":{\"colorbar\":{\"outlinewidth\":0,\"ticks\":\"\"}},\"type\":\"scatterpolargl\"}],\"scatterternary\":[{\"marker\":{\"colorbar\":{\"outlinewidth\":0,\"ticks\":\"\"}},\"type\":\"scatterternary\"}],\"surface\":[{\"colorbar\":{\"outlinewidth\":0,\"ticks\":\"\"},\"colorscale\":[[0.0,\"#0d0887\"],[0.1111111111111111,\"#46039f\"],[0.2222222222222222,\"#7201a8\"],[0.3333333333333333,\"#9c179e\"],[0.4444444444444444,\"#bd3786\"],[0.5555555555555556,\"#d8576b\"],[0.6666666666666666,\"#ed7953\"],[0.7777777777777778,\"#fb9f3a\"],[0.8888888888888888,\"#fdca26\"],[1.0,\"#f0f921\"]],\"type\":\"surface\"}],\"table\":[{\"cells\":{\"fill\":{\"color\":\"#EBF0F8\"},\"line\":{\"color\":\"white\"}},\"header\":{\"fill\":{\"color\":\"#C8D4E3\"},\"line\":{\"color\":\"white\"}},\"type\":\"table\"}]},\"layout\":{\"annotationdefaults\":{\"arrowcolor\":\"#2a3f5f\",\"arrowhead\":0,\"arrowwidth\":1},\"autotypenumbers\":\"strict\",\"coloraxis\":{\"colorbar\":{\"outlinewidth\":0,\"ticks\":\"\"}},\"colorscale\":{\"diverging\":[[0,\"#8e0152\"],[0.1,\"#c51b7d\"],[0.2,\"#de77ae\"],[0.3,\"#f1b6da\"],[0.4,\"#fde0ef\"],[0.5,\"#f7f7f7\"],[0.6,\"#e6f5d0\"],[0.7,\"#b8e186\"],[0.8,\"#7fbc41\"],[0.9,\"#4d9221\"],[1,\"#276419\"]],\"sequential\":[[0.0,\"#0d0887\"],[0.1111111111111111,\"#46039f\"],[0.2222222222222222,\"#7201a8\"],[0.3333333333333333,\"#9c179e\"],[0.4444444444444444,\"#bd3786\"],[0.5555555555555556,\"#d8576b\"],[0.6666666666666666,\"#ed7953\"],[0.7777777777777778,\"#fb9f3a\"],[0.8888888888888888,\"#fdca26\"],[1.0,\"#f0f921\"]],\"sequentialminus\":[[0.0,\"#0d0887\"],[0.1111111111111111,\"#46039f\"],[0.2222222222222222,\"#7201a8\"],[0.3333333333333333,\"#9c179e\"],[0.4444444444444444,\"#bd3786\"],[0.5555555555555556,\"#d8576b\"],[0.6666666666666666,\"#ed7953\"],[0.7777777777777778,\"#fb9f3a\"],[0.8888888888888888,\"#fdca26\"],[1.0,\"#f0f921\"]]},\"colorway\":[\"#636efa\",\"#EF553B\",\"#00cc96\",\"#ab63fa\",\"#FFA15A\",\"#19d3f3\",\"#FF6692\",\"#B6E880\",\"#FF97FF\",\"#FECB52\"],\"font\":{\"color\":\"#2a3f5f\"},\"geo\":{\"bgcolor\":\"white\",\"lakecolor\":\"white\",\"landcolor\":\"#E5ECF6\",\"showlakes\":true,\"showland\":true,\"subunitcolor\":\"white\"},\"hoverlabel\":{\"align\":\"left\"},\"hovermode\":\"closest\",\"mapbox\":{\"style\":\"light\"},\"paper_bgcolor\":\"white\",\"plot_bgcolor\":\"#E5ECF6\",\"polar\":{\"angularaxis\":{\"gridcolor\":\"white\",\"linecolor\":\"white\",\"ticks\":\"\"},\"bgcolor\":\"#E5ECF6\",\"radialaxis\":{\"gridcolor\":\"white\",\"linecolor\":\"white\",\"ticks\":\"\"}},\"scene\":{\"xaxis\":{\"backgroundcolor\":\"#E5ECF6\",\"gridcolor\":\"white\",\"gridwidth\":2,\"linecolor\":\"white\",\"showbackground\":true,\"ticks\":\"\",\"zerolinecolor\":\"white\"},\"yaxis\":{\"backgroundcolor\":\"#E5ECF6\",\"gridcolor\":\"white\",\"gridwidth\":2,\"linecolor\":\"white\",\"showbackground\":true,\"ticks\":\"\",\"zerolinecolor\":\"white\"},\"zaxis\":{\"backgroundcolor\":\"#E5ECF6\",\"gridcolor\":\"white\",\"gridwidth\":2,\"linecolor\":\"white\",\"showbackground\":true,\"ticks\":\"\",\"zerolinecolor\":\"white\"}},\"shapedefaults\":{\"line\":{\"color\":\"#2a3f5f\"}},\"ternary\":{\"aaxis\":{\"gridcolor\":\"white\",\"linecolor\":\"white\",\"ticks\":\"\"},\"baxis\":{\"gridcolor\":\"white\",\"linecolor\":\"white\",\"ticks\":\"\"},\"bgcolor\":\"#E5ECF6\",\"caxis\":{\"gridcolor\":\"white\",\"linecolor\":\"white\",\"ticks\":\"\"}},\"title\":{\"x\":0.05},\"xaxis\":{\"automargin\":true,\"gridcolor\":\"white\",\"linecolor\":\"white\",\"ticks\":\"\",\"title\":{\"standoff\":15},\"zerolinecolor\":\"white\",\"zerolinewidth\":2},\"yaxis\":{\"automargin\":true,\"gridcolor\":\"white\",\"linecolor\":\"white\",\"ticks\":\"\",\"title\":{\"standoff\":15},\"zerolinecolor\":\"white\",\"zerolinewidth\":2}}},\"coloraxis\":{\"colorbar\":{\"title\":{\"text\":\"price per square foot\"}},\"colorscale\":[[0.0,\"#000004\"],[0.1111111111111111,\"#1b0c41\"],[0.2222222222222222,\"#4a0c6b\"],[0.3333333333333333,\"#781c6d\"],[0.4444444444444444,\"#a52c60\"],[0.5555555555555556,\"#cf4446\"],[0.6666666666666666,\"#ed6925\"],[0.7777777777777778,\"#fb9b06\"],[0.8888888888888888,\"#f7d13d\"],[1.0,\"#fcffa4\"]]},\"legend\":{\"tracegroupgap\":0},\"margin\":{\"t\":60}},                        {\"responsive\": true}                    ).then(function(){\n",
       "                            \n",
       "var gd = document.getElementById('a6fa94b8-82c9-4688-9961-0baccc4ead76');\n",
       "var x = new MutationObserver(function (mutations, observer) {{\n",
       "        var display = window.getComputedStyle(gd).display;\n",
       "        if (!display || display === 'none') {{\n",
       "            console.log([gd, 'removed!']);\n",
       "            Plotly.purge(gd);\n",
       "            observer.disconnect();\n",
       "        }}\n",
       "}});\n",
       "\n",
       "// Listen for the removal of the full notebook cells\n",
       "var notebookContainer = gd.closest('#notebook-container');\n",
       "if (notebookContainer) {{\n",
       "    x.observe(notebookContainer, {childList: true});\n",
       "}}\n",
       "\n",
       "// Listen for the clearing of the current output cell\n",
       "var outputEl = gd.closest('.output');\n",
       "if (outputEl) {{\n",
       "    x.observe(outputEl, {childList: true});\n",
       "}}\n",
       "\n",
       "                        })                };                });            </script>        </div>"
      ]
     },
     "metadata": {},
     "output_type": "display_data"
    }
   ],
   "source": [
    "# Parallel Categories Plot\n",
    "most_expensive_avg = most_expensive_df.groupby('neighborhood').mean()\n",
    "most_expensive_avg.reset_index(inplace=True)\n",
    "most_expensive_avg.sort_values('sale_price_sqr_foot',ascending=False,inplace=True)\n",
    "\n",
    "px.parallel_categories(\n",
    "    most_expensive_avg,\n",
    "    dimensions=['neighborhood','sale_price_sqr_foot','housing_units','gross_rent'],\n",
    "    color='sale_price_sqr_foot',\n",
    "    color_continuous_scale=px.colors.sequential.Inferno,\n",
    "    labels={\n",
    "        \"neighborhood\":\"neighborhood\",\n",
    "        \"sale_price_sqr_foot\":\"price per square foot\",\n",
    "        \"housing_units\":\"housing units\",\n",
    "        \"gross_rent\":\"gross rent\",\n",
    "    },\n",
    ")"
   ]
  },
  {
   "cell_type": "code",
   "execution_count": 126,
   "metadata": {},
   "outputs": [
    {
     "data": {
      "application/vnd.plotly.v1+json": {
       "config": {
        "plotlyServerURL": "https://plot.ly"
       },
       "data": [
        {
         "dimensions": [
          {
           "label": "price per square foot",
           "values": [
            903.9932577166668,
            788.8448177,
            779.81084235,
            689.5558168,
            687.08757455,
            676.5065775285714,
            675.3502119833333,
            665.9640416428572,
            662.0136128428572,
            650.1244793000001
           ]
          },
          {
           "label": "housing units",
           "values": [
            377427.5,
            380348,
            375967.25,
            378401,
            382295,
            378401,
            378401,
            378401,
            378401,
            375805
           ]
          },
          {
           "label": "gross rent",
           "values": [
            2555.1666666666665,
            3414,
            2155.25,
            2817.285714285714,
            3959,
            2817.285714285714,
            2817.285714285714,
            2817.285714285714,
            2817.285714285714,
            2099
           ]
          }
         ],
         "domain": {
          "x": [
           0,
           1
          ],
          "y": [
           0,
           1
          ]
         },
         "line": {
          "color": [
           903.9932577166668,
           788.8448177,
           779.81084235,
           689.5558168,
           687.08757455,
           676.5065775285714,
           675.3502119833333,
           665.9640416428572,
           662.0136128428572,
           650.1244793000001
          ],
          "coloraxis": "coloraxis"
         },
         "name": "",
         "type": "parcoords"
        }
       ],
       "layout": {
        "autosize": true,
        "coloraxis": {
         "colorbar": {
          "title": {
           "text": "price per square foot"
          }
         },
         "colorscale": [
          [
           0,
           "#0d0887"
          ],
          [
           0.1111111111111111,
           "#46039f"
          ],
          [
           0.2222222222222222,
           "#7201a8"
          ],
          [
           0.3333333333333333,
           "#9c179e"
          ],
          [
           0.4444444444444444,
           "#bd3786"
          ],
          [
           0.5555555555555556,
           "#d8576b"
          ],
          [
           0.6666666666666666,
           "#ed7953"
          ],
          [
           0.7777777777777778,
           "#fb9f3a"
          ],
          [
           0.8888888888888888,
           "#fdca26"
          ],
          [
           1,
           "#f0f921"
          ]
         ]
        },
        "legend": {
         "tracegroupgap": 0
        },
        "margin": {
         "t": 60
        },
        "template": {
         "data": {
          "bar": [
           {
            "error_x": {
             "color": "#2a3f5f"
            },
            "error_y": {
             "color": "#2a3f5f"
            },
            "marker": {
             "line": {
              "color": "#E5ECF6",
              "width": 0.5
             },
             "pattern": {
              "fillmode": "overlay",
              "size": 10,
              "solidity": 0.2
             }
            },
            "type": "bar"
           }
          ],
          "barpolar": [
           {
            "marker": {
             "line": {
              "color": "#E5ECF6",
              "width": 0.5
             },
             "pattern": {
              "fillmode": "overlay",
              "size": 10,
              "solidity": 0.2
             }
            },
            "type": "barpolar"
           }
          ],
          "carpet": [
           {
            "aaxis": {
             "endlinecolor": "#2a3f5f",
             "gridcolor": "white",
             "linecolor": "white",
             "minorgridcolor": "white",
             "startlinecolor": "#2a3f5f"
            },
            "baxis": {
             "endlinecolor": "#2a3f5f",
             "gridcolor": "white",
             "linecolor": "white",
             "minorgridcolor": "white",
             "startlinecolor": "#2a3f5f"
            },
            "type": "carpet"
           }
          ],
          "choropleth": [
           {
            "colorbar": {
             "outlinewidth": 0,
             "ticks": ""
            },
            "type": "choropleth"
           }
          ],
          "contour": [
           {
            "colorbar": {
             "outlinewidth": 0,
             "ticks": ""
            },
            "colorscale": [
             [
              0,
              "#0d0887"
             ],
             [
              0.1111111111111111,
              "#46039f"
             ],
             [
              0.2222222222222222,
              "#7201a8"
             ],
             [
              0.3333333333333333,
              "#9c179e"
             ],
             [
              0.4444444444444444,
              "#bd3786"
             ],
             [
              0.5555555555555556,
              "#d8576b"
             ],
             [
              0.6666666666666666,
              "#ed7953"
             ],
             [
              0.7777777777777778,
              "#fb9f3a"
             ],
             [
              0.8888888888888888,
              "#fdca26"
             ],
             [
              1,
              "#f0f921"
             ]
            ],
            "type": "contour"
           }
          ],
          "contourcarpet": [
           {
            "colorbar": {
             "outlinewidth": 0,
             "ticks": ""
            },
            "type": "contourcarpet"
           }
          ],
          "heatmap": [
           {
            "colorbar": {
             "outlinewidth": 0,
             "ticks": ""
            },
            "colorscale": [
             [
              0,
              "#0d0887"
             ],
             [
              0.1111111111111111,
              "#46039f"
             ],
             [
              0.2222222222222222,
              "#7201a8"
             ],
             [
              0.3333333333333333,
              "#9c179e"
             ],
             [
              0.4444444444444444,
              "#bd3786"
             ],
             [
              0.5555555555555556,
              "#d8576b"
             ],
             [
              0.6666666666666666,
              "#ed7953"
             ],
             [
              0.7777777777777778,
              "#fb9f3a"
             ],
             [
              0.8888888888888888,
              "#fdca26"
             ],
             [
              1,
              "#f0f921"
             ]
            ],
            "type": "heatmap"
           }
          ],
          "heatmapgl": [
           {
            "colorbar": {
             "outlinewidth": 0,
             "ticks": ""
            },
            "colorscale": [
             [
              0,
              "#0d0887"
             ],
             [
              0.1111111111111111,
              "#46039f"
             ],
             [
              0.2222222222222222,
              "#7201a8"
             ],
             [
              0.3333333333333333,
              "#9c179e"
             ],
             [
              0.4444444444444444,
              "#bd3786"
             ],
             [
              0.5555555555555556,
              "#d8576b"
             ],
             [
              0.6666666666666666,
              "#ed7953"
             ],
             [
              0.7777777777777778,
              "#fb9f3a"
             ],
             [
              0.8888888888888888,
              "#fdca26"
             ],
             [
              1,
              "#f0f921"
             ]
            ],
            "type": "heatmapgl"
           }
          ],
          "histogram": [
           {
            "marker": {
             "pattern": {
              "fillmode": "overlay",
              "size": 10,
              "solidity": 0.2
             }
            },
            "type": "histogram"
           }
          ],
          "histogram2d": [
           {
            "colorbar": {
             "outlinewidth": 0,
             "ticks": ""
            },
            "colorscale": [
             [
              0,
              "#0d0887"
             ],
             [
              0.1111111111111111,
              "#46039f"
             ],
             [
              0.2222222222222222,
              "#7201a8"
             ],
             [
              0.3333333333333333,
              "#9c179e"
             ],
             [
              0.4444444444444444,
              "#bd3786"
             ],
             [
              0.5555555555555556,
              "#d8576b"
             ],
             [
              0.6666666666666666,
              "#ed7953"
             ],
             [
              0.7777777777777778,
              "#fb9f3a"
             ],
             [
              0.8888888888888888,
              "#fdca26"
             ],
             [
              1,
              "#f0f921"
             ]
            ],
            "type": "histogram2d"
           }
          ],
          "histogram2dcontour": [
           {
            "colorbar": {
             "outlinewidth": 0,
             "ticks": ""
            },
            "colorscale": [
             [
              0,
              "#0d0887"
             ],
             [
              0.1111111111111111,
              "#46039f"
             ],
             [
              0.2222222222222222,
              "#7201a8"
             ],
             [
              0.3333333333333333,
              "#9c179e"
             ],
             [
              0.4444444444444444,
              "#bd3786"
             ],
             [
              0.5555555555555556,
              "#d8576b"
             ],
             [
              0.6666666666666666,
              "#ed7953"
             ],
             [
              0.7777777777777778,
              "#fb9f3a"
             ],
             [
              0.8888888888888888,
              "#fdca26"
             ],
             [
              1,
              "#f0f921"
             ]
            ],
            "type": "histogram2dcontour"
           }
          ],
          "mesh3d": [
           {
            "colorbar": {
             "outlinewidth": 0,
             "ticks": ""
            },
            "type": "mesh3d"
           }
          ],
          "parcoords": [
           {
            "line": {
             "colorbar": {
              "outlinewidth": 0,
              "ticks": ""
             }
            },
            "type": "parcoords"
           }
          ],
          "pie": [
           {
            "automargin": true,
            "type": "pie"
           }
          ],
          "scatter": [
           {
            "marker": {
             "colorbar": {
              "outlinewidth": 0,
              "ticks": ""
             }
            },
            "type": "scatter"
           }
          ],
          "scatter3d": [
           {
            "line": {
             "colorbar": {
              "outlinewidth": 0,
              "ticks": ""
             }
            },
            "marker": {
             "colorbar": {
              "outlinewidth": 0,
              "ticks": ""
             }
            },
            "type": "scatter3d"
           }
          ],
          "scattercarpet": [
           {
            "marker": {
             "colorbar": {
              "outlinewidth": 0,
              "ticks": ""
             }
            },
            "type": "scattercarpet"
           }
          ],
          "scattergeo": [
           {
            "marker": {
             "colorbar": {
              "outlinewidth": 0,
              "ticks": ""
             }
            },
            "type": "scattergeo"
           }
          ],
          "scattergl": [
           {
            "marker": {
             "colorbar": {
              "outlinewidth": 0,
              "ticks": ""
             }
            },
            "type": "scattergl"
           }
          ],
          "scattermapbox": [
           {
            "marker": {
             "colorbar": {
              "outlinewidth": 0,
              "ticks": ""
             }
            },
            "type": "scattermapbox"
           }
          ],
          "scatterpolar": [
           {
            "marker": {
             "colorbar": {
              "outlinewidth": 0,
              "ticks": ""
             }
            },
            "type": "scatterpolar"
           }
          ],
          "scatterpolargl": [
           {
            "marker": {
             "colorbar": {
              "outlinewidth": 0,
              "ticks": ""
             }
            },
            "type": "scatterpolargl"
           }
          ],
          "scatterternary": [
           {
            "marker": {
             "colorbar": {
              "outlinewidth": 0,
              "ticks": ""
             }
            },
            "type": "scatterternary"
           }
          ],
          "surface": [
           {
            "colorbar": {
             "outlinewidth": 0,
             "ticks": ""
            },
            "colorscale": [
             [
              0,
              "#0d0887"
             ],
             [
              0.1111111111111111,
              "#46039f"
             ],
             [
              0.2222222222222222,
              "#7201a8"
             ],
             [
              0.3333333333333333,
              "#9c179e"
             ],
             [
              0.4444444444444444,
              "#bd3786"
             ],
             [
              0.5555555555555556,
              "#d8576b"
             ],
             [
              0.6666666666666666,
              "#ed7953"
             ],
             [
              0.7777777777777778,
              "#fb9f3a"
             ],
             [
              0.8888888888888888,
              "#fdca26"
             ],
             [
              1,
              "#f0f921"
             ]
            ],
            "type": "surface"
           }
          ],
          "table": [
           {
            "cells": {
             "fill": {
              "color": "#EBF0F8"
             },
             "line": {
              "color": "white"
             }
            },
            "header": {
             "fill": {
              "color": "#C8D4E3"
             },
             "line": {
              "color": "white"
             }
            },
            "type": "table"
           }
          ]
         },
         "layout": {
          "annotationdefaults": {
           "arrowcolor": "#2a3f5f",
           "arrowhead": 0,
           "arrowwidth": 1
          },
          "autotypenumbers": "strict",
          "coloraxis": {
           "colorbar": {
            "outlinewidth": 0,
            "ticks": ""
           }
          },
          "colorscale": {
           "diverging": [
            [
             0,
             "#8e0152"
            ],
            [
             0.1,
             "#c51b7d"
            ],
            [
             0.2,
             "#de77ae"
            ],
            [
             0.3,
             "#f1b6da"
            ],
            [
             0.4,
             "#fde0ef"
            ],
            [
             0.5,
             "#f7f7f7"
            ],
            [
             0.6,
             "#e6f5d0"
            ],
            [
             0.7,
             "#b8e186"
            ],
            [
             0.8,
             "#7fbc41"
            ],
            [
             0.9,
             "#4d9221"
            ],
            [
             1,
             "#276419"
            ]
           ],
           "sequential": [
            [
             0,
             "#0d0887"
            ],
            [
             0.1111111111111111,
             "#46039f"
            ],
            [
             0.2222222222222222,
             "#7201a8"
            ],
            [
             0.3333333333333333,
             "#9c179e"
            ],
            [
             0.4444444444444444,
             "#bd3786"
            ],
            [
             0.5555555555555556,
             "#d8576b"
            ],
            [
             0.6666666666666666,
             "#ed7953"
            ],
            [
             0.7777777777777778,
             "#fb9f3a"
            ],
            [
             0.8888888888888888,
             "#fdca26"
            ],
            [
             1,
             "#f0f921"
            ]
           ],
           "sequentialminus": [
            [
             0,
             "#0d0887"
            ],
            [
             0.1111111111111111,
             "#46039f"
            ],
            [
             0.2222222222222222,
             "#7201a8"
            ],
            [
             0.3333333333333333,
             "#9c179e"
            ],
            [
             0.4444444444444444,
             "#bd3786"
            ],
            [
             0.5555555555555556,
             "#d8576b"
            ],
            [
             0.6666666666666666,
             "#ed7953"
            ],
            [
             0.7777777777777778,
             "#fb9f3a"
            ],
            [
             0.8888888888888888,
             "#fdca26"
            ],
            [
             1,
             "#f0f921"
            ]
           ]
          },
          "colorway": [
           "#636efa",
           "#EF553B",
           "#00cc96",
           "#ab63fa",
           "#FFA15A",
           "#19d3f3",
           "#FF6692",
           "#B6E880",
           "#FF97FF",
           "#FECB52"
          ],
          "font": {
           "color": "#2a3f5f"
          },
          "geo": {
           "bgcolor": "white",
           "lakecolor": "white",
           "landcolor": "#E5ECF6",
           "showlakes": true,
           "showland": true,
           "subunitcolor": "white"
          },
          "hoverlabel": {
           "align": "left"
          },
          "hovermode": "closest",
          "mapbox": {
           "style": "light"
          },
          "paper_bgcolor": "white",
          "plot_bgcolor": "#E5ECF6",
          "polar": {
           "angularaxis": {
            "gridcolor": "white",
            "linecolor": "white",
            "ticks": ""
           },
           "bgcolor": "#E5ECF6",
           "radialaxis": {
            "gridcolor": "white",
            "linecolor": "white",
            "ticks": ""
           }
          },
          "scene": {
           "xaxis": {
            "backgroundcolor": "#E5ECF6",
            "gridcolor": "white",
            "gridwidth": 2,
            "linecolor": "white",
            "showbackground": true,
            "ticks": "",
            "zerolinecolor": "white"
           },
           "yaxis": {
            "backgroundcolor": "#E5ECF6",
            "gridcolor": "white",
            "gridwidth": 2,
            "linecolor": "white",
            "showbackground": true,
            "ticks": "",
            "zerolinecolor": "white"
           },
           "zaxis": {
            "backgroundcolor": "#E5ECF6",
            "gridcolor": "white",
            "gridwidth": 2,
            "linecolor": "white",
            "showbackground": true,
            "ticks": "",
            "zerolinecolor": "white"
           }
          },
          "shapedefaults": {
           "line": {
            "color": "#2a3f5f"
           }
          },
          "ternary": {
           "aaxis": {
            "gridcolor": "white",
            "linecolor": "white",
            "ticks": ""
           },
           "baxis": {
            "gridcolor": "white",
            "linecolor": "white",
            "ticks": ""
           },
           "bgcolor": "#E5ECF6",
           "caxis": {
            "gridcolor": "white",
            "linecolor": "white",
            "ticks": ""
           }
          },
          "title": {
           "x": 0.05
          },
          "xaxis": {
           "automargin": true,
           "gridcolor": "white",
           "linecolor": "white",
           "ticks": "",
           "title": {
            "standoff": 15
           },
           "zerolinecolor": "white",
           "zerolinewidth": 2
          },
          "yaxis": {
           "automargin": true,
           "gridcolor": "white",
           "linecolor": "white",
           "ticks": "",
           "title": {
            "standoff": 15
           },
           "zerolinecolor": "white",
           "zerolinewidth": 2
          }
         }
        }
       }
      },
      "image/png": "[encoded data removed]",
      "text/html": [
       "<div>                            <div id=\"07db2608-9911-49ce-a28e-91968c8ce450\" class=\"plotly-graph-div\" style=\"height:525px; width:100%;\"></div>            <script type=\"text/javascript\">                require([\"plotly\"], function(Plotly) {                    window.PLOTLYENV=window.PLOTLYENV || {};                                    if (document.getElementById(\"07db2608-9911-49ce-a28e-91968c8ce450\")) {                    Plotly.newPlot(                        \"07db2608-9911-49ce-a28e-91968c8ce450\",                        [{\"dimensions\":[{\"label\":\"price per square foot\",\"values\":[903.9932577166668,788.8448177,779.81084235,689.5558168,687.08757455,676.5065775285714,675.3502119833333,665.9640416428572,662.0136128428572,650.1244793000001]},{\"label\":\"housing units\",\"values\":[377427.5,380348.0,375967.25,378401.0,382295.0,378401.0,378401.0,378401.0,378401.0,375805.0]},{\"label\":\"gross rent\",\"values\":[2555.1666666666665,3414.0,2155.25,2817.285714285714,3959.0,2817.285714285714,2817.285714285714,2817.285714285714,2817.285714285714,2099.0]}],\"domain\":{\"x\":[0.0,1.0],\"y\":[0.0,1.0]},\"line\":{\"color\":[903.9932577166668,788.8448177,779.81084235,689.5558168,687.08757455,676.5065775285714,675.3502119833333,665.9640416428572,662.0136128428572,650.1244793000001],\"coloraxis\":\"coloraxis\"},\"name\":\"\",\"type\":\"parcoords\"}],                        {\"template\":{\"data\":{\"bar\":[{\"error_x\":{\"color\":\"#2a3f5f\"},\"error_y\":{\"color\":\"#2a3f5f\"},\"marker\":{\"line\":{\"color\":\"#E5ECF6\",\"width\":0.5},\"pattern\":{\"fillmode\":\"overlay\",\"size\":10,\"solidity\":0.2}},\"type\":\"bar\"}],\"barpolar\":[{\"marker\":{\"line\":{\"color\":\"#E5ECF6\",\"width\":0.5},\"pattern\":{\"fillmode\":\"overlay\",\"size\":10,\"solidity\":0.2}},\"type\":\"barpolar\"}],\"carpet\":[{\"aaxis\":{\"endlinecolor\":\"#2a3f5f\",\"gridcolor\":\"white\",\"linecolor\":\"white\",\"minorgridcolor\":\"white\",\"startlinecolor\":\"#2a3f5f\"},\"baxis\":{\"endlinecolor\":\"#2a3f5f\",\"gridcolor\":\"white\",\"linecolor\":\"white\",\"minorgridcolor\":\"white\",\"startlinecolor\":\"#2a3f5f\"},\"type\":\"carpet\"}],\"choropleth\":[{\"colorbar\":{\"outlinewidth\":0,\"ticks\":\"\"},\"type\":\"choropleth\"}],\"contour\":[{\"colorbar\":{\"outlinewidth\":0,\"ticks\":\"\"},\"colorscale\":[[0.0,\"#0d0887\"],[0.1111111111111111,\"#46039f\"],[0.2222222222222222,\"#7201a8\"],[0.3333333333333333,\"#9c179e\"],[0.4444444444444444,\"#bd3786\"],[0.5555555555555556,\"#d8576b\"],[0.6666666666666666,\"#ed7953\"],[0.7777777777777778,\"#fb9f3a\"],[0.8888888888888888,\"#fdca26\"],[1.0,\"#f0f921\"]],\"type\":\"contour\"}],\"contourcarpet\":[{\"colorbar\":{\"outlinewidth\":0,\"ticks\":\"\"},\"type\":\"contourcarpet\"}],\"heatmap\":[{\"colorbar\":{\"outlinewidth\":0,\"ticks\":\"\"},\"colorscale\":[[0.0,\"#0d0887\"],[0.1111111111111111,\"#46039f\"],[0.2222222222222222,\"#7201a8\"],[0.3333333333333333,\"#9c179e\"],[0.4444444444444444,\"#bd3786\"],[0.5555555555555556,\"#d8576b\"],[0.6666666666666666,\"#ed7953\"],[0.7777777777777778,\"#fb9f3a\"],[0.8888888888888888,\"#fdca26\"],[1.0,\"#f0f921\"]],\"type\":\"heatmap\"}],\"heatmapgl\":[{\"colorbar\":{\"outlinewidth\":0,\"ticks\":\"\"},\"colorscale\":[[0.0,\"#0d0887\"],[0.1111111111111111,\"#46039f\"],[0.2222222222222222,\"#7201a8\"],[0.3333333333333333,\"#9c179e\"],[0.4444444444444444,\"#bd3786\"],[0.5555555555555556,\"#d8576b\"],[0.6666666666666666,\"#ed7953\"],[0.7777777777777778,\"#fb9f3a\"],[0.8888888888888888,\"#fdca26\"],[1.0,\"#f0f921\"]],\"type\":\"heatmapgl\"}],\"histogram\":[{\"marker\":{\"pattern\":{\"fillmode\":\"overlay\",\"size\":10,\"solidity\":0.2}},\"type\":\"histogram\"}],\"histogram2d\":[{\"colorbar\":{\"outlinewidth\":0,\"ticks\":\"\"},\"colorscale\":[[0.0,\"#0d0887\"],[0.1111111111111111,\"#46039f\"],[0.2222222222222222,\"#7201a8\"],[0.3333333333333333,\"#9c179e\"],[0.4444444444444444,\"#bd3786\"],[0.5555555555555556,\"#d8576b\"],[0.6666666666666666,\"#ed7953\"],[0.7777777777777778,\"#fb9f3a\"],[0.8888888888888888,\"#fdca26\"],[1.0,\"#f0f921\"]],\"type\":\"histogram2d\"}],\"histogram2dcontour\":[{\"colorbar\":{\"outlinewidth\":0,\"ticks\":\"\"},\"colorscale\":[[0.0,\"#0d0887\"],[0.1111111111111111,\"#46039f\"],[0.2222222222222222,\"#7201a8\"],[0.3333333333333333,\"#9c179e\"],[0.4444444444444444,\"#bd3786\"],[0.5555555555555556,\"#d8576b\"],[0.6666666666666666,\"#ed7953\"],[0.7777777777777778,\"#fb9f3a\"],[0.8888888888888888,\"#fdca26\"],[1.0,\"#f0f921\"]],\"type\":\"histogram2dcontour\"}],\"mesh3d\":[{\"colorbar\":{\"outlinewidth\":0,\"ticks\":\"\"},\"type\":\"mesh3d\"}],\"parcoords\":[{\"line\":{\"colorbar\":{\"outlinewidth\":0,\"ticks\":\"\"}},\"type\":\"parcoords\"}],\"pie\":[{\"automargin\":true,\"type\":\"pie\"}],\"scatter\":[{\"marker\":{\"colorbar\":{\"outlinewidth\":0,\"ticks\":\"\"}},\"type\":\"scatter\"}],\"scatter3d\":[{\"line\":{\"colorbar\":{\"outlinewidth\":0,\"ticks\":\"\"}},\"marker\":{\"colorbar\":{\"outlinewidth\":0,\"ticks\":\"\"}},\"type\":\"scatter3d\"}],\"scattercarpet\":[{\"marker\":{\"colorbar\":{\"outlinewidth\":0,\"ticks\":\"\"}},\"type\":\"scattercarpet\"}],\"scattergeo\":[{\"marker\":{\"colorbar\":{\"outlinewidth\":0,\"ticks\":\"\"}},\"type\":\"scattergeo\"}],\"scattergl\":[{\"marker\":{\"colorbar\":{\"outlinewidth\":0,\"ticks\":\"\"}},\"type\":\"scattergl\"}],\"scattermapbox\":[{\"marker\":{\"colorbar\":{\"outlinewidth\":0,\"ticks\":\"\"}},\"type\":\"scattermapbox\"}],\"scatterpolar\":[{\"marker\":{\"colorbar\":{\"outlinewidth\":0,\"ticks\":\"\"}},\"type\":\"scatterpolar\"}],\"scatterpolargl\":[{\"marker\":{\"colorbar\":{\"outlinewidth\":0,\"ticks\":\"\"}},\"type\":\"scatterpolargl\"}],\"scatterternary\":[{\"marker\":{\"colorbar\":{\"outlinewidth\":0,\"ticks\":\"\"}},\"type\":\"scatterternary\"}],\"surface\":[{\"colorbar\":{\"outlinewidth\":0,\"ticks\":\"\"},\"colorscale\":[[0.0,\"#0d0887\"],[0.1111111111111111,\"#46039f\"],[0.2222222222222222,\"#7201a8\"],[0.3333333333333333,\"#9c179e\"],[0.4444444444444444,\"#bd3786\"],[0.5555555555555556,\"#d8576b\"],[0.6666666666666666,\"#ed7953\"],[0.7777777777777778,\"#fb9f3a\"],[0.8888888888888888,\"#fdca26\"],[1.0,\"#f0f921\"]],\"type\":\"surface\"}],\"table\":[{\"cells\":{\"fill\":{\"color\":\"#EBF0F8\"},\"line\":{\"color\":\"white\"}},\"header\":{\"fill\":{\"color\":\"#C8D4E3\"},\"line\":{\"color\":\"white\"}},\"type\":\"table\"}]},\"layout\":{\"annotationdefaults\":{\"arrowcolor\":\"#2a3f5f\",\"arrowhead\":0,\"arrowwidth\":1},\"autotypenumbers\":\"strict\",\"coloraxis\":{\"colorbar\":{\"outlinewidth\":0,\"ticks\":\"\"}},\"colorscale\":{\"diverging\":[[0,\"#8e0152\"],[0.1,\"#c51b7d\"],[0.2,\"#de77ae\"],[0.3,\"#f1b6da\"],[0.4,\"#fde0ef\"],[0.5,\"#f7f7f7\"],[0.6,\"#e6f5d0\"],[0.7,\"#b8e186\"],[0.8,\"#7fbc41\"],[0.9,\"#4d9221\"],[1,\"#276419\"]],\"sequential\":[[0.0,\"#0d0887\"],[0.1111111111111111,\"#46039f\"],[0.2222222222222222,\"#7201a8\"],[0.3333333333333333,\"#9c179e\"],[0.4444444444444444,\"#bd3786\"],[0.5555555555555556,\"#d8576b\"],[0.6666666666666666,\"#ed7953\"],[0.7777777777777778,\"#fb9f3a\"],[0.8888888888888888,\"#fdca26\"],[1.0,\"#f0f921\"]],\"sequentialminus\":[[0.0,\"#0d0887\"],[0.1111111111111111,\"#46039f\"],[0.2222222222222222,\"#7201a8\"],[0.3333333333333333,\"#9c179e\"],[0.4444444444444444,\"#bd3786\"],[0.5555555555555556,\"#d8576b\"],[0.6666666666666666,\"#ed7953\"],[0.7777777777777778,\"#fb9f3a\"],[0.8888888888888888,\"#fdca26\"],[1.0,\"#f0f921\"]]},\"colorway\":[\"#636efa\",\"#EF553B\",\"#00cc96\",\"#ab63fa\",\"#FFA15A\",\"#19d3f3\",\"#FF6692\",\"#B6E880\",\"#FF97FF\",\"#FECB52\"],\"font\":{\"color\":\"#2a3f5f\"},\"geo\":{\"bgcolor\":\"white\",\"lakecolor\":\"white\",\"landcolor\":\"#E5ECF6\",\"showlakes\":true,\"showland\":true,\"subunitcolor\":\"white\"},\"hoverlabel\":{\"align\":\"left\"},\"hovermode\":\"closest\",\"mapbox\":{\"style\":\"light\"},\"paper_bgcolor\":\"white\",\"plot_bgcolor\":\"#E5ECF6\",\"polar\":{\"angularaxis\":{\"gridcolor\":\"white\",\"linecolor\":\"white\",\"ticks\":\"\"},\"bgcolor\":\"#E5ECF6\",\"radialaxis\":{\"gridcolor\":\"white\",\"linecolor\":\"white\",\"ticks\":\"\"}},\"scene\":{\"xaxis\":{\"backgroundcolor\":\"#E5ECF6\",\"gridcolor\":\"white\",\"gridwidth\":2,\"linecolor\":\"white\",\"showbackground\":true,\"ticks\":\"\",\"zerolinecolor\":\"white\"},\"yaxis\":{\"backgroundcolor\":\"#E5ECF6\",\"gridcolor\":\"white\",\"gridwidth\":2,\"linecolor\":\"white\",\"showbackground\":true,\"ticks\":\"\",\"zerolinecolor\":\"white\"},\"zaxis\":{\"backgroundcolor\":\"#E5ECF6\",\"gridcolor\":\"white\",\"gridwidth\":2,\"linecolor\":\"white\",\"showbackground\":true,\"ticks\":\"\",\"zerolinecolor\":\"white\"}},\"shapedefaults\":{\"line\":{\"color\":\"#2a3f5f\"}},\"ternary\":{\"aaxis\":{\"gridcolor\":\"white\",\"linecolor\":\"white\",\"ticks\":\"\"},\"baxis\":{\"gridcolor\":\"white\",\"linecolor\":\"white\",\"ticks\":\"\"},\"bgcolor\":\"#E5ECF6\",\"caxis\":{\"gridcolor\":\"white\",\"linecolor\":\"white\",\"ticks\":\"\"}},\"title\":{\"x\":0.05},\"xaxis\":{\"automargin\":true,\"gridcolor\":\"white\",\"linecolor\":\"white\",\"ticks\":\"\",\"title\":{\"standoff\":15},\"zerolinecolor\":\"white\",\"zerolinewidth\":2},\"yaxis\":{\"automargin\":true,\"gridcolor\":\"white\",\"linecolor\":\"white\",\"ticks\":\"\",\"title\":{\"standoff\":15},\"zerolinecolor\":\"white\",\"zerolinewidth\":2}}},\"coloraxis\":{\"colorbar\":{\"title\":{\"text\":\"price per square foot\"}},\"colorscale\":[[0.0,\"#0d0887\"],[0.1111111111111111,\"#46039f\"],[0.2222222222222222,\"#7201a8\"],[0.3333333333333333,\"#9c179e\"],[0.4444444444444444,\"#bd3786\"],[0.5555555555555556,\"#d8576b\"],[0.6666666666666666,\"#ed7953\"],[0.7777777777777778,\"#fb9f3a\"],[0.8888888888888888,\"#fdca26\"],[1.0,\"#f0f921\"]]},\"legend\":{\"tracegroupgap\":0},\"margin\":{\"t\":60}},                        {\"responsive\": true}                    ).then(function(){\n",
       "                            \n",
       "var gd = document.getElementById('07db2608-9911-49ce-a28e-91968c8ce450');\n",
       "var x = new MutationObserver(function (mutations, observer) {{\n",
       "        var display = window.getComputedStyle(gd).display;\n",
       "        if (!display || display === 'none') {{\n",
       "            console.log([gd, 'removed!']);\n",
       "            Plotly.purge(gd);\n",
       "            observer.disconnect();\n",
       "        }}\n",
       "}});\n",
       "\n",
       "// Listen for the removal of the full notebook cells\n",
       "var notebookContainer = gd.closest('#notebook-container');\n",
       "if (notebookContainer) {{\n",
       "    x.observe(notebookContainer, {childList: true});\n",
       "}}\n",
       "\n",
       "// Listen for the clearing of the current output cell\n",
       "var outputEl = gd.closest('.output');\n",
       "if (outputEl) {{\n",
       "    x.observe(outputEl, {childList: true});\n",
       "}}\n",
       "\n",
       "                        })                };                });            </script>        </div>"
      ]
     },
     "metadata": {},
     "output_type": "display_data"
    }
   ],
   "source": [
    "# Parallel Coordinates Plot\n",
    "px.parallel_coordinates(most_expensive_avg,\n",
    "    dimensions=['sale_price_sqr_foot','housing_units','gross_rent'],\n",
    "    color='sale_price_sqr_foot',\n",
    "    labels={\n",
    "        \"housing_units\":\"housing units\",\n",
    "        \"sale_price_sqr_foot\":\"price per square foot\",\n",
    "        \"gross_rent\":\"gross rent\",\n",
    "    },\n",
    ")"
   ]
  }
 ],
 "metadata": {
  "file_extension": ".py",
  "interpreter": {
   "hash": "c2f91e5b446ce7e2abfb6f29afdb564cc027f59bec2d1990068dfe077e1898da"
  },
  "kernelspec": {
   "display_name": "Python 3",
   "language": "python",
   "name": "python3"
  },
  "language_info": {
   "codemirror_mode": {
    "name": "ipython",
    "version": 3
   },
   "file_extension": ".py",
   "mimetype": "text/x-python",
   "name": "python",
   "nbconvert_exporter": "python",
   "pygments_lexer": "ipython3",
   "version": "3.7.11"
  },
  "mimetype": "text/x-python",
  "name": "python",
  "npconvert_exporter": "python",
  "pygments_lexer": "ipython3",
  "version": 3
 },
 "nbformat": 4,
 "nbformat_minor": 4
}
