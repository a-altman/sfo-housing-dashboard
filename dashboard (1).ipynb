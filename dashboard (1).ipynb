{
 "cells": [
  {
   "cell_type": "markdown",
   "metadata": {},
   "source": [
    "# San Francisco Rental Prices Dashboard\n",
    "\n",
    "In this notebook, you will compile the visualizations from the previous analysis into functions that can be used for a Panel dashboard."
   ]
  },
  {
   "cell_type": "code",
   "execution_count": 18,
   "metadata": {},
   "outputs": [],
   "source": [
    "# imports\n",
    "import panel as pn\n",
    "pn.extension('plotly')\n",
    "import plotly.express as px\n",
    "import pandas as pd\n",
    "import hvplot.pandas\n",
    "import matplotlib.pyplot as plt\n",
    "import os\n",
    "from pathlib import Path\n",
    "from dotenv import load_dotenv"
   ]
  },
  {
   "cell_type": "code",
   "execution_count": 19,
   "metadata": {},
   "outputs": [],
   "source": [
    "# Read the Mapbox API key\n",
    "load_dotenv()\n",
    "mapbox_api = os.getenv(\"MAPBOX_API_KEY\")\n",
    "px.set_mapbox_access_token(mapbox_api)"
   ]
  },
  {
   "cell_type": "markdown",
   "metadata": {},
   "source": [
    "# Import Data"
   ]
  },
  {
   "cell_type": "code",
   "execution_count": 68,
   "metadata": {},
   "outputs": [],
   "source": [
    "# Import the necessary CSVs to Pandas DataFrames\n",
    "\n",
    "census_df = pd.read_csv(\"sfo_neighborhoods_census_data.csv\")\n",
    "coords_df = pd.read_csv(\"sfo_neighborhoods_coordinates.csv\", index_col='Neighborhood')\n",
    "\n",
    "\n",
    "neighborhood_avgs = census_df.groupby('neighborhood').mean()\n",
    "top_ten_expensive_neighborhoods = neighborhood_avgs['sale_price_sqr_foot'].sort_values(ascending=False)[:10]\n",
    "    "
   ]
  },
  {
   "cell_type": "markdown",
   "metadata": {},
   "source": [
    "- - -"
   ]
  },
  {
   "cell_type": "markdown",
   "metadata": {},
   "source": [
    "## Panel Visualizations\n",
    "\n",
    "In this section, you will copy the code for each plot type from your analysis notebook and place it into separate functions that Panel can use to create panes for the dashboard. \n",
    "\n",
    "These functions will convert the plot object to a Panel pane.\n",
    "\n",
    "Be sure to include any DataFrame transformation/manipulation code required along with the plotting code.\n",
    "\n",
    "Return a Panel pane object from each function that can be used to build the dashboard.\n",
    "\n",
    "Note: Remove any `.show()` lines from the code. We want to return the plots instead of showing them. The Panel dashboard will then display the plots."
   ]
  },
  {
   "cell_type": "code",
   "execution_count": 75,
   "metadata": {},
   "outputs": [],
   "source": [
    "# Define Panel Visualization Functions\n",
    "def housing_units_per_year(census_df):\n",
    "    \"\"\"Housing Units Per Year.\"\"\"\n",
    "    \n",
    "    housing_units_per_year_df = census_df.groupby('year')['housing_units'].mean()\n",
    "    \n",
    "    house_std = housing_units_per_year_df.std()\n",
    "    house_plot_min = housing_units_per_year_df.min() - house_std\n",
    "    house_plot_max = housing_units_per_year_df.max() + house_std\n",
    "\n",
    "    housing_units_per_year_plot = housing_units_per_year_df.plot.bar(ylim=(house_plot_min,house_plot_max),title=\"Average Housing Units Sold in San Francisco (2010 - 2016)\",xlabel=\"Year\",ylabel=\"Housing Units\")\n",
    "\n",
    "    return housing_units_per_year_plot\n",
    "\n",
    "def average_gross_rent(census_df):\n",
    "    \"\"\"Average Gross Rent in San Francisco Per Year.\"\"\"\n",
    "    \n",
    "    average_gross_rent_df = census_df.groupby('year')['gross_rent'].mean()\n",
    "    average_gross_rent_plot = average_gross_rent_df.plot(title=\"Average San Francisco Rent (2010 - 2016)\",xlabel=\"Year\",ylabel=\"Average Rent ($USD)\")\n",
    "\n",
    "    return average_gross_rent_plot\n",
    "\n",
    "\n",
    "\n",
    "def average_sales_price(census_df):\n",
    "    \"\"\"Average Sales Price Per Year.\"\"\"\n",
    "    \n",
    "    avg_sales_price_df = census_df.groupby('year')['sale_price_sqr_foot'].mean()\n",
    "    avg_sales_price_plot = avg_sales_price_df.plot(title=\"Average Price per ft^2 San Francisco Homes Sold 2010 - 2016\",xlabel=\"Year\",ylabel=\"Price per ft^2 ($USD)\")\n",
    "\n",
    "    return avg_sales_price_plot\n",
    "\n",
    "\n",
    "\n",
    "def average_price_by_neighborhood(census_df):\n",
    "    \"\"\"Average Prices by Neighborhood.\"\"\"\n",
    "    sfo_avg_price = census_df.groupby('year')['sale_price_sqr_foot'].mean()\n",
    "    average_price_by_neighborhood_df = census_df.groupby(['year','neighborhood'])['sale_price_sqr_foot'].mean()\n",
    "    avgerage_price_byb_neighborhood_plot = average_price_by_neighborhood_df.hvplot.line(title=\"Average Home Sale Price per Square Foot\",groupby='neighborhood',label='neighborhood') * sfo_avg_price.hvplot.line(label=\"San Francisco\")\n",
    "    return avgerage_price_byb_neighborhood_plot\n",
    "\n",
    "\n",
    "\n",
    "def top_most_expensive_neighborhoods(census_df):\n",
    "    \"\"\"Top 10 Most Expensive Neighborhoods.\"\"\"\n",
    "\n",
    "    avg_price_by_nbd_year = census_df.groupby(['year','neighborhood'])['sale_price_sqr_foot'].mean()\n",
    "    top_most_expensive_by_year = avg_price_by_nbd_year.reset_index()\n",
    "    top_most_expensive_by_year = top_most_expensive_by_year[top_most_expensive_by_year['neighborhood'].isin(top_ten_expensive_neighborhoods.index)]\n",
    "\n",
    "    top_most_expensive_by_year_plot = top_most_expensive_by_year.hvplot.bar(\n",
    "        x='year',\n",
    "        groupby='neighborhood',\n",
    "        title=\"Most Expensive San Francisco Neighborhoods to Buy Homes\",\n",
    "        xlabel=\"year\",ylabel=\"home price per sq ft ($USD)\",\n",
    "        stacked=False, rot=90, height=500\n",
    "    )\n",
    "\n",
    "    return top_most_expensive_by_year_plot\n",
    "\n",
    "def most_expensive_neighborhoods_rent_sales(census_df):\n",
    "    \"\"\"Comparison of Rent and Sales Prices of Most Expensive Neighborhoods.\"\"\"   \n",
    "    \n",
    "    top_prices_plot = top_most_expensive_neighborhoods(census_df)\n",
    "\n",
    "    avg_rent_by_nbd_year = census_df.groupby(['year','neighborhood'])['gross_rent'].mean()\n",
    "    top_most_expensive_by_year = avg_rent_by_nbd_year.reset_index()\n",
    "    top_most_expensive_by_year = top_most_expensive_by_year[top_most_expensive_by_year['neighborhood'].isin(top_ten_expensive_neighborhoods.index)]\n",
    "\n",
    "    top_gross_rent_plot = top_most_expensive_by_year.hvplot.bar(\n",
    "        x='year',\n",
    "        groupby='neighborhood',\n",
    "        title=\"Most Expensive San Francisco Neighborhoods to Rent\",\n",
    "        xlabel=\"year\",ylabel=\"gross rent ($USD)\",\n",
    "        stacked=False, rot=90, height=500\n",
    "    )\n",
    "\n",
    "    most_expensive_neighborhoods_rent_sales_plot = top_prices_plot + top_gross_rent_plot\n",
    "    return most_expensive_neighborhoods_rent_sales_plot\n",
    "    \n",
    "    \n",
    "def parallel_coordinates(census_df):\n",
    "    \"\"\"Parallel Coordinates Plot.\"\"\"\n",
    "\n",
    "    sfo_grouped = census_df.groupby(['year','neighborhood']).mean()\n",
    "    sfo_grouped.reset_index(inplace=True)\n",
    "\n",
    "    most_expensive_df = sfo_grouped[sfo_grouped['neighborhood'].isin(top_ten_expensive_neighborhoods.index)]\n",
    "\n",
    "    most_expensive_avg = most_expensive_df.groupby('neighborhood').mean()\n",
    "    most_expensive_avg.reset_index(inplace=True)\n",
    "    most_expensive_avg.sort_values('sale_price_sqr_foot',ascending=False,inplace=True)\n",
    "\n",
    "    parallel_coordinates_plot = px.parallel_coordinates(most_expensive_avg,\n",
    "        dimensions=['sale_price_sqr_foot','housing_units','gross_rent'],\n",
    "        color='sale_price_sqr_foot',\n",
    "        labels={\n",
    "            \"housing_units\":\"housing units\",\n",
    "            \"sale_price_sqr_foot\":\"price per square foot\",\n",
    "            \"gross_rent\":\"gross rent\",\n",
    "        },\n",
    "    )\n",
    "\n",
    "    return parallel_coordinates_plot\n",
    "\n",
    "def parallel_categories(census_df):\n",
    "    \"\"\"Parallel Categories Plot.\"\"\"\n",
    "    \n",
    "    sfo_grouped = census_df.groupby(['year','neighborhood']).mean()\n",
    "    sfo_grouped.reset_index(inplace=True)\n",
    "\n",
    "    most_expensive_df = sfo_grouped[sfo_grouped['neighborhood'].isin(top_ten_expensive_neighborhoods.index)]\n",
    "\n",
    "    most_expensive_avg = most_expensive_df.groupby('neighborhood').mean()\n",
    "    most_expensive_avg.reset_index(inplace=True)\n",
    "    most_expensive_avg.sort_values('sale_price_sqr_foot',ascending=False,inplace=True)\n",
    "\n",
    "    parallel_categories_plot = px.parallel_categories(\n",
    "        most_expensive_avg,\n",
    "        dimensions=['neighborhood','sale_price_sqr_foot','housing_units','gross_rent'],\n",
    "        color='sale_price_sqr_foot',\n",
    "        color_continuous_scale=px.colors.sequential.Inferno,\n",
    "        labels={\n",
    "            \"neighborhood\":\"neighborhood\",\n",
    "            \"sale_price_sqr_foot\":\"price per square foot\",\n",
    "            \"housing_units\":\"housing units\",\n",
    "            \"gross_rent\":\"gross rent\",\n",
    "        },\n",
    "    )\n",
    "\n",
    "    return parallel_categories_plot\n",
    "\n",
    "\n",
    "\n",
    "def neighborhood_map(coords_df):\n",
    "    \"\"\"Neighborhood Map.\"\"\"\n",
    "\n",
    "    neighborhood_map_df = pd.concat([neighborhood_avgs,coords_df],axis='columns',join='inner')\n",
    "    neighborhood_map_df.index.rename('neighborhood',inplace=True)\n",
    "    neighborhood_map_df.reset_index(inplace=True)\n",
    "    \n",
    "    neighborhood_mapbox_plot = px.scatter_mapbox(neighborhood_map_df,lat='Lat',lon='Lon',size='sale_price_sqr_foot',color='neighborhood',hover_data=['neighborhood','sale_price_sqr_foot','gross_rent'],zoom=10)\n",
    "\n",
    "    return neighborhood_mapbox_plot\n"
   ]
  },
  {
   "cell_type": "markdown",
   "metadata": {},
   "source": [
    "## Panel Dashboard\n",
    "\n",
    "In this section, you will combine all of the plots into a single dashboard view using Panel. Be creative with your dashboard design!"
   ]
  },
  {
   "cell_type": "code",
   "execution_count": null,
   "metadata": {},
   "outputs": [],
   "source": [
    "# Create a Title for the Dashboard\n",
    "dash_title = 'San Francisco Housing Data'\n",
    "\n",
    "\n",
    "# Create a tab layout for the dashboard\n",
    "\n",
    "units_price_rent = pn.Column('## Housing Units, Average Home Price, and Average Rent',\n",
    "    housing_units_per_year(census_df),\n",
    "    average_gross_rent(census_df),\n",
    "    average_sales_price(census_df)\n",
    ")\n",
    "\n",
    "neighborhood_data = pn.Column('## Neighborhood Data',\n",
    "    average_price_by_neighborhood(census_df),\n",
    "    top_most_expensive_neighborhoods(census_df),\n",
    "    most_expensive_neighborhoods_rent_sales(census_df),\n",
    ")\n",
    "\n",
    "map_tab = pn.Column('## Neighborhood Map', neighborhood_map(coords_df))\n",
    "\n",
    "parallel_plots = pn.Column(' ## Housing Data Parallels',\n",
    "    parallel_coordinates(census_df),\n",
    "    parallel_categories(census_df)\n",
    ")\n",
    "\n",
    "\n",
    "# Create the dashboard\n",
    "sfo_dashboard = pn.Tabs(\n",
    "    ('Units/Price/Rent', units_price_rent), \n",
    "    ('By Neighborhood', neighborhood_data), \n",
    "    ('Parallels', parallel_plots), \n",
    "    ('Map', map_tab)\n",
    ")"
   ]
  },
  {
   "cell_type": "markdown",
   "metadata": {},
   "source": [
    "## Serve the Panel Dashboard"
   ]
  },
  {
   "cell_type": "code",
   "execution_count": null,
   "metadata": {},
   "outputs": [],
   "source": [
    "# Serve the dashboard\n",
    "sfo_dashboard.servable(title=dash_title)"
   ]
  },
  {
   "cell_type": "markdown",
   "metadata": {},
   "source": [
    "# Debugging\n",
    "\n",
    "Note: Some of the Plotly express plots may not render in the notebook through the panel functions.\n",
    "\n",
    "However, you can test each plot by uncommenting the following code"
   ]
  },
  {
   "cell_type": "code",
   "execution_count": 78,
   "metadata": {},
   "outputs": [
    {
     "data": {
      "text/plain": [
       "<AxesSubplot:title={'center':'Average Housing Units Sold in San Francisco (2010 - 2016)'}, xlabel='Year', ylabel='Housing Units'>"
      ]
     },
     "execution_count": 78,
     "metadata": {},
     "output_type": "execute_result"
    },
    {
     "data": {
      "image/png": "[encoded data removed]",
      "text/plain": [
       "<Figure size 432x288 with 1 Axes>"
      ]
     },
     "metadata": {
      "needs_background": "light"
     },
     "output_type": "display_data"
    }
   ],
   "source": [
    "# housing_units_per_year()\n",
    "housing_units_per_year(census_df)"
   ]
  },
  {
   "cell_type": "code",
   "execution_count": 79,
   "metadata": {},
   "outputs": [
    {
     "data": {
      "text/plain": [
       "<AxesSubplot:title={'center':'Average San Francisco Rent (2010 - 2016)'}, xlabel='Year', ylabel='Average Rent ($USD)'>"
      ]
     },
     "execution_count": 79,
     "metadata": {},
     "output_type": "execute_result"
    },
    {
     "data": {
      "image/png": "[encoded data removed]",
      "text/plain": [
       "<Figure size 432x288 with 1 Axes>"
      ]
     },
     "metadata": {
      "needs_background": "light"
     },
     "output_type": "display_data"
    }
   ],
   "source": [
    "# average_gross_rent()\n",
    "average_gross_rent(census_df)"
   ]
  },
  {
   "cell_type": "code",
   "execution_count": 80,
   "metadata": {},
   "outputs": [
    {
     "data": {
      "text/plain": [
       "<AxesSubplot:title={'center':'Average Price per ft^2 San Francisco Homes Sold 2010 - 2016'}, xlabel='Year', ylabel='Price per ft^2 ($USD)'>"
      ]
     },
     "execution_count": 80,
     "metadata": {},
     "output_type": "execute_result"
    },
    {
     "data": {
      "image/png": "[encoded data removed]",
      "text/plain": [
       "<Figure size 432x288 with 1 Axes>"
      ]
     },
     "metadata": {
      "needs_background": "light"
     },
     "output_type": "display_data"
    }
   ],
   "source": [
    "# average_sales_price()\n",
    "average_sales_price(census_df)"
   ]
  },
  {
   "cell_type": "code",
   "execution_count": 81,
   "metadata": {},
   "outputs": [
    {
     "data": {
      "application/vnd.jupyter.widget-view+json": {
       "model_id": "bca4648b4a9e45a7a3c8e7ccbe27efbb",
       "version_major": 2,
       "version_minor": 0
      },
      "text/plain": [
       "BokehModel(combine_events=True, render_bundle={'docs_json': {'497594a7-cc1e-44a5-ab61-41fe05c66f15': {'defs': …"
      ]
     },
     "metadata": {},
     "output_type": "display_data"
    },
    {
     "data": {
      "text/html": [
       "<div style=\"display: none\"></div>"
      ],
      "text/plain": [
       ":DynamicMap   [neighborhood]\n",
       "   :Overlay\n",
       "      .Curve.Neighborhood  :Curve   [year]   (sale_price_sqr_foot)\n",
       "      .Curve.San_Francisco :Curve   [year]   (sale_price_sqr_foot)"
      ]
     },
     "execution_count": 81,
     "metadata": {},
     "output_type": "execute_result"
    }
   ],
   "source": [
    "# average_price_by_neighborhood()\n",
    "average_price_by_neighborhood(census_df)"
   ]
  },
  {
   "cell_type": "code",
   "execution_count": 82,
   "metadata": {},
   "outputs": [
    {
     "data": {
      "application/vnd.jupyter.widget-view+json": {
       "model_id": "acd2b975f5154cd7849a036dc0d62ef8",
       "version_major": 2,
       "version_minor": 0
      },
      "text/plain": [
       "BokehModel(combine_events=True, render_bundle={'docs_json': {'42c8409a-f5e6-49b4-9bf1-3f5541b4583b': {'defs': …"
      ]
     },
     "metadata": {},
     "output_type": "display_data"
    },
    {
     "data": {
      "text/html": [
       "<div style=\"display: none\"></div>"
      ],
      "text/plain": [
       ":DynamicMap   [neighborhood]\n",
       "   :Bars   [year]   (sale_price_sqr_foot)"
      ]
     },
     "execution_count": 82,
     "metadata": {},
     "output_type": "execute_result"
    }
   ],
   "source": [
    "# top_most_expensive_neighborhoods()\n",
    "top_most_expensive_neighborhoods(census_df)"
   ]
  },
  {
   "cell_type": "code",
   "execution_count": 83,
   "metadata": {},
   "outputs": [
    {
     "data": {
      "application/vnd.jupyter.widget-view+json": {
       "model_id": "2d6715252f954789af26b29ffeb84ff7",
       "version_major": 2,
       "version_minor": 0
      },
      "text/plain": [
       "BokehModel(combine_events=True, render_bundle={'docs_json': {'3779e39f-e092-4a4b-a38c-94c2295be88f': {'defs': …"
      ]
     },
     "metadata": {},
     "output_type": "display_data"
    },
    {
     "data": {
      "text/html": [
       "<div style=\"display: none\"></div>"
      ],
      "text/plain": [
       ":Layout\n",
       "   .DynamicMap.I  :DynamicMap   [neighborhood]\n",
       "      :Bars   [year]   (sale_price_sqr_foot)\n",
       "   .DynamicMap.II :DynamicMap   [neighborhood]\n",
       "      :Bars   [year]   (gross_rent)"
      ]
     },
     "execution_count": 83,
     "metadata": {},
     "output_type": "execute_result"
    }
   ],
   "source": [
    "# most_expensive_neighborhoods_rent_sales()\n",
    "most_expensive_neighborhoods_rent_sales(census_df)"
   ]
  },
  {
   "cell_type": "code",
   "execution_count": 84,
   "metadata": {},
   "outputs": [
    {
     "data": {
      "application/vnd.plotly.v1+json": {
       "config": {
        "plotlyServerURL": "https://plot.ly"
       },
       "data": [
        {
         "customdata": [
          [
           "Alamo Square",
           366.02071152857144,
           2817.285714285714
          ]
         ],
         "hovertemplate": "neighborhood=%{customdata[0]}<br>sale_price_sqr_foot=%{customdata[1]}<br>Lat=%{lat}<br>Lon=%{lon}<br>gross_rent=%{customdata[2]}<extra></extra>",
         "lat": [
          37.791012
         ],
         "legendgroup": "Alamo Square",
         "lon": [
          -122.4021
         ],
         "marker": {
          "color": "#636efa",
          "size": [
           366.02071152857144
          ],
          "sizemode": "area",
          "sizeref": 2.259983144291667
         },
         "mode": "markers",
         "name": "Alamo Square",
         "showlegend": true,
         "subplot": "mapbox",
         "type": "scattermapbox"
        },
        {
         "customdata": [
          [
           "Anza Vista",
           373.3821978416667,
           3031.8333333333335
          ]
         ],
         "hovertemplate": "neighborhood=%{customdata[0]}<br>sale_price_sqr_foot=%{customdata[1]}<br>Lat=%{lat}<br>Lon=%{lon}<br>gross_rent=%{customdata[2]}<extra></extra>",
         "lat": [
          37.779598
         ],
         "legendgroup": "Anza Vista",
         "lon": [
          -122.443451
         ],
         "marker": {
          "color": "#EF553B",
          "size": [
           373.3821978416667
          ],
          "sizemode": "area",
          "sizeref": 2.259983144291667
         },
         "mode": "markers",
         "name": "Anza Vista",
         "showlegend": true,
         "subplot": "mapbox",
         "type": "scattermapbox"
        },
        {
         "customdata": [
          [
           "Bayview",
           204.58862288,
           2318.4
          ]
         ],
         "hovertemplate": "neighborhood=%{customdata[0]}<br>sale_price_sqr_foot=%{customdata[1]}<br>Lat=%{lat}<br>Lon=%{lon}<br>gross_rent=%{customdata[2]}<extra></extra>",
         "lat": [
          37.73467
         ],
         "legendgroup": "Bayview",
         "lon": [
          -122.40106
         ],
         "marker": {
          "color": "#00cc96",
          "size": [
           204.58862288
          ],
          "sizemode": "area",
          "sizeref": 2.259983144291667
         },
         "mode": "markers",
         "name": "Bayview",
         "showlegend": true,
         "subplot": "mapbox",
         "type": "scattermapbox"
        },
        {
         "customdata": [
          [
           "Bayview Heights",
           590.7928389,
           3739
          ]
         ],
         "hovertemplate": "neighborhood=%{customdata[0]}<br>sale_price_sqr_foot=%{customdata[1]}<br>Lat=%{lat}<br>Lon=%{lon}<br>gross_rent=%{customdata[2]}<extra></extra>",
         "lat": [
          37.72874
         ],
         "legendgroup": "Bayview Heights",
         "lon": [
          -122.41098
         ],
         "marker": {
          "color": "#ab63fa",
          "size": [
           590.7928389
          ],
          "sizemode": "area",
          "sizeref": 2.259983144291667
         },
         "mode": "markers",
         "name": "Bayview Heights",
         "showlegend": true,
         "subplot": "mapbox",
         "type": "scattermapbox"
        },
        {
         "customdata": [
          [
           "Buena Vista Park",
           452.6805909166667,
           2698.8333333333335
          ]
         ],
         "hovertemplate": "neighborhood=%{customdata[0]}<br>sale_price_sqr_foot=%{customdata[1]}<br>Lat=%{lat}<br>Lon=%{lon}<br>gross_rent=%{customdata[2]}<extra></extra>",
         "lat": [
          37.76816
         ],
         "legendgroup": "Buena Vista Park",
         "lon": [
          -122.43933
         ],
         "marker": {
          "color": "#FFA15A",
          "size": [
           452.6805909166667
          ],
          "sizemode": "area",
          "sizeref": 2.259983144291667
         },
         "mode": "markers",
         "name": "Buena Vista Park",
         "showlegend": true,
         "subplot": "mapbox",
         "type": "scattermapbox"
        },
        {
         "customdata": [
          [
           "Central Richmond",
           394.4223987857143,
           2817.285714285714
          ]
         ],
         "hovertemplate": "neighborhood=%{customdata[0]}<br>sale_price_sqr_foot=%{customdata[1]}<br>Lat=%{lat}<br>Lon=%{lon}<br>gross_rent=%{customdata[2]}<extra></extra>",
         "lat": [
          37.77789
         ],
         "legendgroup": "Central Richmond",
         "lon": [
          -122.44517
         ],
         "marker": {
          "color": "#19d3f3",
          "size": [
           394.4223987857143
          ],
          "sizemode": "area",
          "sizeref": 2.259983144291667
         },
         "mode": "markers",
         "name": "Central Richmond",
         "showlegend": true,
         "subplot": "mapbox",
         "type": "scattermapbox"
        },
        {
         "customdata": [
          [
           "Central Sunset",
           423.6879277,
           2817.285714285714
          ]
         ],
         "hovertemplate": "neighborhood=%{customdata[0]}<br>sale_price_sqr_foot=%{customdata[1]}<br>Lat=%{lat}<br>Lon=%{lon}<br>gross_rent=%{customdata[2]}<extra></extra>",
         "lat": [
          37.74961
         ],
         "legendgroup": "Central Sunset",
         "lon": [
          -122.48999
         ],
         "marker": {
          "color": "#FF6692",
          "size": [
           423.6879277
          ],
          "sizemode": "area",
          "sizeref": 2.259983144291667
         },
         "mode": "markers",
         "name": "Central Sunset",
         "showlegend": true,
         "subplot": "mapbox",
         "type": "scattermapbox"
        },
        {
         "customdata": [
          [
           "Clarendon Heights",
           487.24488600000006,
           2250.5
          ]
         ],
         "hovertemplate": "neighborhood=%{customdata[0]}<br>sale_price_sqr_foot=%{customdata[1]}<br>Lat=%{lat}<br>Lon=%{lon}<br>gross_rent=%{customdata[2]}<extra></extra>",
         "lat": [
          37.75331
         ],
         "legendgroup": "Clarendon Heights",
         "lon": [
          -122.44703
         ],
         "marker": {
          "color": "#B6E880",
          "size": [
           487.24488600000006
          ],
          "sizemode": "area",
          "sizeref": 2.259983144291667
         },
         "mode": "markers",
         "name": "Clarendon Heights",
         "showlegend": true,
         "subplot": "mapbox",
         "type": "scattermapbox"
        },
        {
         "customdata": [
          [
           "Corona Heights",
           587.53906742,
           2472
          ]
         ],
         "hovertemplate": "neighborhood=%{customdata[0]}<br>sale_price_sqr_foot=%{customdata[1]}<br>Lat=%{lat}<br>Lon=%{lon}<br>gross_rent=%{customdata[2]}<extra></extra>",
         "lat": [
          37.78553
         ],
         "legendgroup": "Corona Heights",
         "lon": [
          -122.456
         ],
         "marker": {
          "color": "#FF97FF",
          "size": [
           587.53906742
          ],
          "sizemode": "area",
          "sizeref": 2.259983144291667
         },
         "mode": "markers",
         "name": "Corona Heights",
         "showlegend": true,
         "subplot": "mapbox",
         "type": "scattermapbox"
        },
        {
         "customdata": [
          [
           "Cow Hollow",
           665.9640416428572,
           2817.285714285714
          ]
         ],
         "hovertemplate": "neighborhood=%{customdata[0]}<br>sale_price_sqr_foot=%{customdata[1]}<br>Lat=%{lat}<br>Lon=%{lon}<br>gross_rent=%{customdata[2]}<extra></extra>",
         "lat": [
          37.79298
         ],
         "legendgroup": "Cow Hollow",
         "lon": [
          -122.43579
         ],
         "marker": {
          "color": "#FECB52",
          "size": [
           665.9640416428572
          ],
          "sizemode": "area",
          "sizeref": 2.259983144291667
         },
         "mode": "markers",
         "name": "Cow Hollow",
         "showlegend": true,
         "subplot": "mapbox",
         "type": "scattermapbox"
        },
        {
         "customdata": [
          [
           "Croker Amazon",
           303.00418441666665,
           2698.8333333333335
          ]
         ],
         "hovertemplate": "neighborhood=%{customdata[0]}<br>sale_price_sqr_foot=%{customdata[1]}<br>Lat=%{lat}<br>Lon=%{lon}<br>gross_rent=%{customdata[2]}<extra></extra>",
         "lat": [
          37.7228
         ],
         "legendgroup": "Croker Amazon",
         "lon": [
          -122.43869
         ],
         "marker": {
          "color": "#636efa",
          "size": [
           303.00418441666665
          ],
          "sizemode": "area",
          "sizeref": 2.259983144291667
         },
         "mode": "markers",
         "name": "Croker Amazon",
         "showlegend": true,
         "subplot": "mapbox",
         "type": "scattermapbox"
        },
        {
         "customdata": [
          [
           "Diamond Heights",
           434.99173945,
           2016
          ]
         ],
         "hovertemplate": "neighborhood=%{customdata[0]}<br>sale_price_sqr_foot=%{customdata[1]}<br>Lat=%{lat}<br>Lon=%{lon}<br>gross_rent=%{customdata[2]}<extra></extra>",
         "lat": [
          37.72863
         ],
         "legendgroup": "Diamond Heights",
         "lon": [
          -122.44305
         ],
         "marker": {
          "color": "#EF553B",
          "size": [
           434.99173945
          ],
          "sizemode": "area",
          "sizeref": 2.259983144291667
         },
         "mode": "markers",
         "name": "Diamond Heights",
         "showlegend": true,
         "subplot": "mapbox",
         "type": "scattermapbox"
        },
        {
         "customdata": [
          [
           "Duboce Triangle",
           502.599155525,
           2780.25
          ]
         ],
         "hovertemplate": "neighborhood=%{customdata[0]}<br>sale_price_sqr_foot=%{customdata[1]}<br>Lat=%{lat}<br>Lon=%{lon}<br>gross_rent=%{customdata[2]}<extra></extra>",
         "lat": [
          37.76964
         ],
         "legendgroup": "Duboce Triangle",
         "lon": [
          -122.42611
         ],
         "marker": {
          "color": "#00cc96",
          "size": [
           502.599155525
          ],
          "sizemode": "area",
          "sizeref": 2.259983144291667
         },
         "mode": "markers",
         "name": "Duboce Triangle",
         "showlegend": true,
         "subplot": "mapbox",
         "type": "scattermapbox"
        },
        {
         "customdata": [
          [
           "Eureka Valley/Dolores Heights",
           642.2486706857143,
           2817.285714285714
          ]
         ],
         "hovertemplate": "neighborhood=%{customdata[0]}<br>sale_price_sqr_foot=%{customdata[1]}<br>Lat=%{lat}<br>Lon=%{lon}<br>gross_rent=%{customdata[2]}<extra></extra>",
         "lat": [
          37.75554
         ],
         "legendgroup": "Eureka Valley/Dolores Heights",
         "lon": [
          -122.43779
         ],
         "marker": {
          "color": "#ab63fa",
          "size": [
           642.2486706857143
          ],
          "sizemode": "area",
          "sizeref": 2.259983144291667
         },
         "mode": "markers",
         "name": "Eureka Valley/Dolores Heights",
         "showlegend": true,
         "subplot": "mapbox",
         "type": "scattermapbox"
        },
        {
         "customdata": [
          [
           "Excelsior",
           388.765927,
           3031.8333333333335
          ]
         ],
         "hovertemplate": "neighborhood=%{customdata[0]}<br>sale_price_sqr_foot=%{customdata[1]}<br>Lat=%{lat}<br>Lon=%{lon}<br>gross_rent=%{customdata[2]}<extra></extra>",
         "lat": [
          37.72874
         ],
         "legendgroup": "Excelsior",
         "lon": [
          -122.41098
         ],
         "marker": {
          "color": "#FFA15A",
          "size": [
           388.765927
          ],
          "sizemode": "area",
          "sizeref": 2.259983144291667
         },
         "mode": "markers",
         "name": "Excelsior",
         "showlegend": true,
         "subplot": "mapbox",
         "type": "scattermapbox"
        },
        {
         "customdata": [
          [
           "Financial District North",
           391.3625331,
           2817.285714285714
          ]
         ],
         "hovertemplate": "neighborhood=%{customdata[0]}<br>sale_price_sqr_foot=%{customdata[1]}<br>Lat=%{lat}<br>Lon=%{lon}<br>gross_rent=%{customdata[2]}<extra></extra>",
         "lat": [
          37.79101
         ],
         "legendgroup": "Financial District North",
         "lon": [
          -122.4021
         ],
         "marker": {
          "color": "#19d3f3",
          "size": [
           391.3625331
          ],
          "sizemode": "area",
          "sizeref": 2.259983144291667
         },
         "mode": "markers",
         "name": "Financial District North",
         "showlegend": true,
         "subplot": "mapbox",
         "type": "scattermapbox"
        },
        {
         "customdata": [
          [
           "Financial District South",
           455.83621222,
           2472
          ]
         ],
         "hovertemplate": "neighborhood=%{customdata[0]}<br>sale_price_sqr_foot=%{customdata[1]}<br>Lat=%{lat}<br>Lon=%{lon}<br>gross_rent=%{customdata[2]}<extra></extra>",
         "lat": [
          37.79101
         ],
         "legendgroup": "Financial District South",
         "lon": [
          -122.4021
         ],
         "marker": {
          "color": "#FF6692",
          "size": [
           455.83621222
          ],
          "sizemode": "area",
          "sizeref": 2.259983144291667
         },
         "mode": "markers",
         "name": "Financial District South",
         "showlegend": true,
         "subplot": "mapbox",
         "type": "scattermapbox"
        },
        {
         "customdata": [
          [
           "Forest Knolls",
           321.84083655,
           1781.5
          ]
         ],
         "hovertemplate": "neighborhood=%{customdata[0]}<br>sale_price_sqr_foot=%{customdata[1]}<br>Lat=%{lat}<br>Lon=%{lon}<br>gross_rent=%{customdata[2]}<extra></extra>",
         "lat": [
          37.75706
         ],
         "legendgroup": "Forest Knolls",
         "lon": [
          -122.45509
         ],
         "marker": {
          "color": "#B6E880",
          "size": [
           321.84083655
          ],
          "sizemode": "area",
          "sizeref": 2.259983144291667
         },
         "mode": "markers",
         "name": "Forest Knolls",
         "showlegend": true,
         "subplot": "mapbox",
         "type": "scattermapbox"
        },
        {
         "customdata": [
          [
           "Glen Park",
           623.82617755,
           2899.5
          ]
         ],
         "hovertemplate": "neighborhood=%{customdata[0]}<br>sale_price_sqr_foot=%{customdata[1]}<br>Lat=%{lat}<br>Lon=%{lon}<br>gross_rent=%{customdata[2]}<extra></extra>",
         "lat": [
          37.72863
         ],
         "legendgroup": "Glen Park",
         "lon": [
          -122.44305
         ],
         "marker": {
          "color": "#FF97FF",
          "size": [
           623.82617755
          ],
          "sizemode": "area",
          "sizeref": 2.259983144291667
         },
         "mode": "markers",
         "name": "Glen Park",
         "showlegend": true,
         "subplot": "mapbox",
         "type": "scattermapbox"
        },
        {
         "customdata": [
          [
           "Golden Gate Heights",
           639.39355748,
           2601.4
          ]
         ],
         "hovertemplate": "neighborhood=%{customdata[0]}<br>sale_price_sqr_foot=%{customdata[1]}<br>Lat=%{lat}<br>Lon=%{lon}<br>gross_rent=%{customdata[2]}<extra></extra>",
         "lat": [
          37.757912
         ],
         "legendgroup": "Golden Gate Heights",
         "lon": [
          -122.46402
         ],
         "marker": {
          "color": "#FECB52",
          "size": [
           639.39355748
          ],
          "sizemode": "area",
          "sizeref": 2.259983144291667
         },
         "mode": "markers",
         "name": "Golden Gate Heights",
         "showlegend": true,
         "subplot": "mapbox",
         "type": "scattermapbox"
        },
        {
         "customdata": [
          [
           "Haight Ashbury",
           449.54476227142857,
           2817.285714285714
          ]
         ],
         "hovertemplate": "neighborhood=%{customdata[0]}<br>sale_price_sqr_foot=%{customdata[1]}<br>Lat=%{lat}<br>Lon=%{lon}<br>gross_rent=%{customdata[2]}<extra></extra>",
         "lat": [
          37.76525
         ],
         "legendgroup": "Haight Ashbury",
         "lon": [
          -122.43596
         ],
         "marker": {
          "color": "#636efa",
          "size": [
           449.54476227142857
          ],
          "sizemode": "area",
          "sizeref": 2.259983144291667
         },
         "mode": "markers",
         "name": "Haight Ashbury",
         "showlegend": true,
         "subplot": "mapbox",
         "type": "scattermapbox"
        },
        {
         "customdata": [
          [
           "Hayes Valley",
           355.9328279714286,
           2817.285714285714
          ]
         ],
         "hovertemplate": "neighborhood=%{customdata[0]}<br>sale_price_sqr_foot=%{customdata[1]}<br>Lat=%{lat}<br>Lon=%{lon}<br>gross_rent=%{customdata[2]}<extra></extra>",
         "lat": [
          37.76525
         ],
         "legendgroup": "Hayes Valley",
         "lon": [
          -122.43596
         ],
         "marker": {
          "color": "#EF553B",
          "size": [
           355.9328279714286
          ],
          "sizemode": "area",
          "sizeref": 2.259983144291667
         },
         "mode": "markers",
         "name": "Hayes Valley",
         "showlegend": true,
         "subplot": "mapbox",
         "type": "scattermapbox"
        },
        {
         "customdata": [
          [
           "Hunters Point",
           170.6249199,
           2489
          ]
         ],
         "hovertemplate": "neighborhood=%{customdata[0]}<br>sale_price_sqr_foot=%{customdata[1]}<br>Lat=%{lat}<br>Lon=%{lon}<br>gross_rent=%{customdata[2]}<extra></extra>",
         "lat": [
          37.72551
         ],
         "legendgroup": "Hunters Point",
         "lon": [
          -122.37178
         ],
         "marker": {
          "color": "#00cc96",
          "size": [
           170.6249199
          ],
          "sizemode": "area",
          "sizeref": 2.259983144291667
         },
         "mode": "markers",
         "name": "Hunters Point",
         "showlegend": true,
         "subplot": "mapbox",
         "type": "scattermapbox"
        },
        {
         "customdata": [
          [
           "Ingleside Heights",
           384.7979281,
           2960
          ]
         ],
         "hovertemplate": "neighborhood=%{customdata[0]}<br>sale_price_sqr_foot=%{customdata[1]}<br>Lat=%{lat}<br>Lon=%{lon}<br>gross_rent=%{customdata[2]}<extra></extra>",
         "lat": [
          37.72116
         ],
         "legendgroup": "Ingleside Heights",
         "lon": [
          -122.48707
         ],
         "marker": {
          "color": "#ab63fa",
          "size": [
           384.7979281
          ],
          "sizemode": "area",
          "sizeref": 2.259983144291667
         },
         "mode": "markers",
         "name": "Ingleside Heights",
         "showlegend": true,
         "subplot": "mapbox",
         "type": "scattermapbox"
        },
        {
         "customdata": [
          [
           "Inner Mission",
           397.67371474285716,
           2817.285714285714
          ]
         ],
         "hovertemplate": "neighborhood=%{customdata[0]}<br>sale_price_sqr_foot=%{customdata[1]}<br>Lat=%{lat}<br>Lon=%{lon}<br>gross_rent=%{customdata[2]}<extra></extra>",
         "lat": [
          37.75416
         ],
         "legendgroup": "Inner Mission",
         "lon": [
          -122.41947
         ],
         "marker": {
          "color": "#FFA15A",
          "size": [
           397.67371474285716
          ],
          "sizemode": "area",
          "sizeref": 2.259983144291667
         },
         "mode": "markers",
         "name": "Inner Mission",
         "showlegend": true,
         "subplot": "mapbox",
         "type": "scattermapbox"
        },
        {
         "customdata": [
          [
           "Inner Parkside",
           519.38560385,
           3224
          ]
         ],
         "hovertemplate": "neighborhood=%{customdata[0]}<br>sale_price_sqr_foot=%{customdata[1]}<br>Lat=%{lat}<br>Lon=%{lon}<br>gross_rent=%{customdata[2]}<extra></extra>",
         "lat": [
          37.74961
         ],
         "legendgroup": "Inner Parkside",
         "lon": [
          -122.48999
         ],
         "marker": {
          "color": "#19d3f3",
          "size": [
           519.38560385
          ],
          "sizemode": "area",
          "sizeref": 2.259983144291667
         },
         "mode": "markers",
         "name": "Inner Parkside",
         "showlegend": true,
         "subplot": "mapbox",
         "type": "scattermapbox"
        },
        {
         "customdata": [
          [
           "Inner Richmond",
           378.5943139428572,
           2817.285714285714
          ]
         ],
         "hovertemplate": "neighborhood=%{customdata[0]}<br>sale_price_sqr_foot=%{customdata[1]}<br>Lat=%{lat}<br>Lon=%{lon}<br>gross_rent=%{customdata[2]}<extra></extra>",
         "lat": [
          37.769112
         ],
         "legendgroup": "Inner Richmond",
         "lon": [
          -122.483566
         ],
         "marker": {
          "color": "#FF6692",
          "size": [
           378.5943139428572
          ],
          "sizemode": "area",
          "sizeref": 2.259983144291667
         },
         "mode": "markers",
         "name": "Inner Richmond",
         "showlegend": true,
         "subplot": "mapbox",
         "type": "scattermapbox"
        },
        {
         "customdata": [
          [
           "Inner Sunset",
           413.6675154857143,
           2817.285714285714
          ]
         ],
         "hovertemplate": "neighborhood=%{customdata[0]}<br>sale_price_sqr_foot=%{customdata[1]}<br>Lat=%{lat}<br>Lon=%{lon}<br>gross_rent=%{customdata[2]}<extra></extra>",
         "lat": [
          37.74961
         ],
         "legendgroup": "Inner Sunset",
         "lon": [
          -122.48997
         ],
         "marker": {
          "color": "#B6E880",
          "size": [
           413.6675154857143
          ],
          "sizemode": "area",
          "sizeref": 2.259983144291667
         },
         "mode": "markers",
         "name": "Inner Sunset",
         "showlegend": true,
         "subplot": "mapbox",
         "type": "scattermapbox"
        },
        {
         "customdata": [
          [
           "Jordan Park/Laurel Heights",
           529.3841850714285,
           2817.285714285714
          ]
         ],
         "hovertemplate": "neighborhood=%{customdata[0]}<br>sale_price_sqr_foot=%{customdata[1]}<br>Lat=%{lat}<br>Lon=%{lon}<br>gross_rent=%{customdata[2]}<extra></extra>",
         "lat": [
          37.78553
         ],
         "legendgroup": "Jordan Park/Laurel Heights",
         "lon": [
          -122.456
         ],
         "marker": {
          "color": "#FF97FF",
          "size": [
           529.3841850714285
          ],
          "sizemode": "area",
          "sizeref": 2.259983144291667
         },
         "mode": "markers",
         "name": "Jordan Park/Laurel Heights",
         "showlegend": true,
         "subplot": "mapbox",
         "type": "scattermapbox"
        },
        {
         "customdata": [
          [
           "Lake --The Presidio",
           409.9543522166667,
           2555.1666666666665
          ]
         ],
         "hovertemplate": "neighborhood=%{customdata[0]}<br>sale_price_sqr_foot=%{customdata[1]}<br>Lat=%{lat}<br>Lon=%{lon}<br>gross_rent=%{customdata[2]}<extra></extra>",
         "lat": [
          37.80152
         ],
         "legendgroup": "Lake --The Presidio",
         "lon": [
          -122.45457
         ],
         "marker": {
          "color": "#FECB52",
          "size": [
           409.9543522166667
          ],
          "sizemode": "area",
          "sizeref": 2.259983144291667
         },
         "mode": "markers",
         "name": "Lake --The Presidio",
         "showlegend": true,
         "subplot": "mapbox",
         "type": "scattermapbox"
        },
        {
         "customdata": [
          [
           "Lone Mountain",
           478.228553,
           2555.1666666666665
          ]
         ],
         "hovertemplate": "neighborhood=%{customdata[0]}<br>sale_price_sqr_foot=%{customdata[1]}<br>Lat=%{lat}<br>Lon=%{lon}<br>gross_rent=%{customdata[2]}<extra></extra>",
         "lat": [
          37.7789
         ],
         "legendgroup": "Lone Mountain",
         "lon": [
          -122.45496
         ],
         "marker": {
          "color": "#636efa",
          "size": [
           478.228553
          ],
          "sizemode": "area",
          "sizeref": 2.259983144291667
         },
         "mode": "markers",
         "name": "Lone Mountain",
         "showlegend": true,
         "subplot": "mapbox",
         "type": "scattermapbox"
        },
        {
         "customdata": [
          [
           "Lower Pacific Heights",
           539.2379688714285,
           2817.285714285714
          ]
         ],
         "hovertemplate": "neighborhood=%{customdata[0]}<br>sale_price_sqr_foot=%{customdata[1]}<br>Lat=%{lat}<br>Lon=%{lon}<br>gross_rent=%{customdata[2]}<extra></extra>",
         "lat": [
          37.79298
         ],
         "legendgroup": "Lower Pacific Heights",
         "lon": [
          -122.43579
         ],
         "marker": {
          "color": "#EF553B",
          "size": [
           539.2379688714285
          ],
          "sizemode": "area",
          "sizeref": 2.259983144291667
         },
         "mode": "markers",
         "name": "Lower Pacific Heights",
         "showlegend": true,
         "subplot": "mapbox",
         "type": "scattermapbox"
        },
        {
         "customdata": [
          [
           "Marina",
           583.7492695428572,
           2817.285714285714
          ]
         ],
         "hovertemplate": "neighborhood=%{customdata[0]}<br>sale_price_sqr_foot=%{customdata[1]}<br>Lat=%{lat}<br>Lon=%{lon}<br>gross_rent=%{customdata[2]}<extra></extra>",
         "lat": [
          37.79972
         ],
         "legendgroup": "Marina",
         "lon": [
          -122.46689
         ],
         "marker": {
          "color": "#00cc96",
          "size": [
           583.7492695428572
          ],
          "sizemode": "area",
          "sizeref": 2.259983144291667
         },
         "mode": "markers",
         "name": "Marina",
         "showlegend": true,
         "subplot": "mapbox",
         "type": "scattermapbox"
        },
        {
         "customdata": [
          [
           "Merced Heights",
           788.8448177,
           3414
          ]
         ],
         "hovertemplate": "neighborhood=%{customdata[0]}<br>sale_price_sqr_foot=%{customdata[1]}<br>Lat=%{lat}<br>Lon=%{lon}<br>gross_rent=%{customdata[2]}<extra></extra>",
         "lat": [
          37.71993
         ],
         "legendgroup": "Merced Heights",
         "lon": [
          -122.46595
         ],
         "marker": {
          "color": "#ab63fa",
          "size": [
           788.8448177
          ],
          "sizemode": "area",
          "sizeref": 2.259983144291667
         },
         "mode": "markers",
         "name": "Merced Heights",
         "showlegend": true,
         "subplot": "mapbox",
         "type": "scattermapbox"
        },
        {
         "customdata": [
          [
           "Midtown Terrace",
           550.5103483,
           2647.5
          ]
         ],
         "hovertemplate": "neighborhood=%{customdata[0]}<br>sale_price_sqr_foot=%{customdata[1]}<br>Lat=%{lat}<br>Lon=%{lon}<br>gross_rent=%{customdata[2]}<extra></extra>",
         "lat": [
          37.75331
         ],
         "legendgroup": "Midtown Terrace",
         "lon": [
          -122.44703
         ],
         "marker": {
          "color": "#FFA15A",
          "size": [
           550.5103483
          ],
          "sizemode": "area",
          "sizeref": 2.259983144291667
         },
         "mode": "markers",
         "name": "Midtown Terrace",
         "showlegend": true,
         "subplot": "mapbox",
         "type": "scattermapbox"
        },
        {
         "customdata": [
          [
           "Miraloma Park",
           779.81084235,
           2155.25
          ]
         ],
         "hovertemplate": "neighborhood=%{customdata[0]}<br>sale_price_sqr_foot=%{customdata[1]}<br>Lat=%{lat}<br>Lon=%{lon}<br>gross_rent=%{customdata[2]}<extra></extra>",
         "lat": [
          37.73415
         ],
         "legendgroup": "Miraloma Park",
         "lon": [
          -122.457
         ],
         "marker": {
          "color": "#19d3f3",
          "size": [
           779.81084235
          ],
          "sizemode": "area",
          "sizeref": 2.259983144291667
         },
         "mode": "markers",
         "name": "Miraloma Park",
         "showlegend": true,
         "subplot": "mapbox",
         "type": "scattermapbox"
        },
        {
         "customdata": [
          [
           "Mission Bay",
           566.19221356,
           2663.6666666666665
          ]
         ],
         "hovertemplate": "neighborhood=%{customdata[0]}<br>sale_price_sqr_foot=%{customdata[1]}<br>Lat=%{lat}<br>Lon=%{lon}<br>gross_rent=%{customdata[2]}<extra></extra>",
         "lat": [
          37.78323
         ],
         "legendgroup": "Mission Bay",
         "lon": [
          -122.40065
         ],
         "marker": {
          "color": "#FF6692",
          "size": [
           566.19221356
          ],
          "sizemode": "area",
          "sizeref": 2.259983144291667
         },
         "mode": "markers",
         "name": "Mission Bay",
         "showlegend": true,
         "subplot": "mapbox",
         "type": "scattermapbox"
        },
        {
         "customdata": [
          [
           "Mission Dolores",
           418.9156225,
           2555.1666666666665
          ]
         ],
         "hovertemplate": "neighborhood=%{customdata[0]}<br>sale_price_sqr_foot=%{customdata[1]}<br>Lat=%{lat}<br>Lon=%{lon}<br>gross_rent=%{customdata[2]}<extra></extra>",
         "lat": [
          37.75184
         ],
         "legendgroup": "Mission Dolores",
         "lon": [
          -122.42522
         ],
         "marker": {
          "color": "#B6E880",
          "size": [
           418.9156225
          ],
          "sizemode": "area",
          "sizeref": 2.259983144291667
         },
         "mode": "markers",
         "name": "Mission Dolores",
         "showlegend": true,
         "subplot": "mapbox",
         "type": "scattermapbox"
        },
        {
         "customdata": [
          [
           "Mission Terrace",
           523.4662013,
           3173.4
          ]
         ],
         "hovertemplate": "neighborhood=%{customdata[0]}<br>sale_price_sqr_foot=%{customdata[1]}<br>Lat=%{lat}<br>Lon=%{lon}<br>gross_rent=%{customdata[2]}<extra></extra>",
         "lat": [
          37.72863
         ],
         "legendgroup": "Mission Terrace",
         "lon": [
          -122.44305
         ],
         "marker": {
          "color": "#FF97FF",
          "size": [
           523.4662013
          ],
          "sizemode": "area",
          "sizeref": 2.259983144291667
         },
         "mode": "markers",
         "name": "Mission Terrace",
         "showlegend": true,
         "subplot": "mapbox",
         "type": "scattermapbox"
        },
        {
         "customdata": [
          [
           "Nob Hill",
           458.20409448571434,
           2817.285714285714
          ]
         ],
         "hovertemplate": "neighborhood=%{customdata[0]}<br>sale_price_sqr_foot=%{customdata[1]}<br>Lat=%{lat}<br>Lon=%{lon}<br>gross_rent=%{customdata[2]}<extra></extra>",
         "lat": [
          37.79298
         ],
         "legendgroup": "Nob Hill",
         "lon": [
          -122.43579
         ],
         "marker": {
          "color": "#FECB52",
          "size": [
           458.20409448571434
          ],
          "sizemode": "area",
          "sizeref": 2.259983144291667
         },
         "mode": "markers",
         "name": "Nob Hill",
         "showlegend": true,
         "subplot": "mapbox",
         "type": "scattermapbox"
        },
        {
         "customdata": [
          [
           "Noe Valley",
           542.4429128142857,
           2817.285714285714
          ]
         ],
         "hovertemplate": "neighborhood=%{customdata[0]}<br>sale_price_sqr_foot=%{customdata[1]}<br>Lat=%{lat}<br>Lon=%{lon}<br>gross_rent=%{customdata[2]}<extra></extra>",
         "lat": [
          37.75331
         ],
         "legendgroup": "Noe Valley",
         "lon": [
          -122.44703
         ],
         "marker": {
          "color": "#636efa",
          "size": [
           542.4429128142857
          ],
          "sizemode": "area",
          "sizeref": 2.259983144291667
         },
         "mode": "markers",
         "name": "Noe Valley",
         "showlegend": true,
         "subplot": "mapbox",
         "type": "scattermapbox"
        },
        {
         "customdata": [
          [
           "North Beach",
           411.64687588,
           2990.8
          ]
         ],
         "hovertemplate": "neighborhood=%{customdata[0]}<br>sale_price_sqr_foot=%{customdata[1]}<br>Lat=%{lat}<br>Lon=%{lon}<br>gross_rent=%{customdata[2]}<extra></extra>",
         "lat": [
          37.80055
         ],
         "legendgroup": "North Beach",
         "lon": [
          -122.40433
         ],
         "marker": {
          "color": "#EF553B",
          "size": [
           411.64687588
          ],
          "sizemode": "area",
          "sizeref": 2.259983144291667
         },
         "mode": "markers",
         "name": "North Beach",
         "showlegend": true,
         "subplot": "mapbox",
         "type": "scattermapbox"
        },
        {
         "customdata": [
          [
           "North Waterfront",
           498.269755,
           2818.4
          ]
         ],
         "hovertemplate": "neighborhood=%{customdata[0]}<br>sale_price_sqr_foot=%{customdata[1]}<br>Lat=%{lat}<br>Lon=%{lon}<br>gross_rent=%{customdata[2]}<extra></extra>",
         "lat": [
          37.80055
         ],
         "legendgroup": "North Waterfront",
         "lon": [
          -122.40433
         ],
         "marker": {
          "color": "#00cc96",
          "size": [
           498.269755
          ],
          "sizemode": "area",
          "sizeref": 2.259983144291667
         },
         "mode": "markers",
         "name": "North Waterfront",
         "showlegend": true,
         "subplot": "mapbox",
         "type": "scattermapbox"
        },
        {
         "customdata": [
          [
           "Oceanview",
           330.09738466666664,
           2434
          ]
         ],
         "hovertemplate": "neighborhood=%{customdata[0]}<br>sale_price_sqr_foot=%{customdata[1]}<br>Lat=%{lat}<br>Lon=%{lon}<br>gross_rent=%{customdata[2]}<extra></extra>",
         "lat": [
          37.71993
         ],
         "legendgroup": "Oceanview",
         "lon": [
          -122.46595
         ],
         "marker": {
          "color": "#ab63fa",
          "size": [
           330.09738466666664
          ],
          "sizemode": "area",
          "sizeref": 2.259983144291667
         },
         "mode": "markers",
         "name": "Oceanview",
         "showlegend": true,
         "subplot": "mapbox",
         "type": "scattermapbox"
        },
        {
         "customdata": [
          [
           "Outer Mission",
           242.3709520125,
           2995.75
          ]
         ],
         "hovertemplate": "neighborhood=%{customdata[0]}<br>sale_price_sqr_foot=%{customdata[1]}<br>Lat=%{lat}<br>Lon=%{lon}<br>gross_rent=%{customdata[2]}<extra></extra>",
         "lat": [
          37.7228
         ],
         "legendgroup": "Outer Mission",
         "lon": [
          -122.43869
         ],
         "marker": {
          "color": "#FFA15A",
          "size": [
           242.3709520125
          ],
          "sizemode": "area",
          "sizeref": 2.259983144291667
         },
         "mode": "markers",
         "name": "Outer Mission",
         "showlegend": true,
         "subplot": "mapbox",
         "type": "scattermapbox"
        },
        {
         "customdata": [
          [
           "Outer Parkside",
           485.02701261428575,
           2817.285714285714
          ]
         ],
         "hovertemplate": "neighborhood=%{customdata[0]}<br>sale_price_sqr_foot=%{customdata[1]}<br>Lat=%{lat}<br>Lon=%{lon}<br>gross_rent=%{customdata[2]}<extra></extra>",
         "lat": [
          37.7517
         ],
         "legendgroup": "Outer Parkside",
         "lon": [
          -122.446
         ],
         "marker": {
          "color": "#19d3f3",
          "size": [
           485.02701261428575
          ],
          "sizemode": "area",
          "sizeref": 2.259983144291667
         },
         "mode": "markers",
         "name": "Outer Parkside",
         "showlegend": true,
         "subplot": "mapbox",
         "type": "scattermapbox"
        },
        {
         "customdata": [
          [
           "Outer Sunset",
           394.21903227142855,
           2817.285714285714
          ]
         ],
         "hovertemplate": "neighborhood=%{customdata[0]}<br>sale_price_sqr_foot=%{customdata[1]}<br>Lat=%{lat}<br>Lon=%{lon}<br>gross_rent=%{customdata[2]}<extra></extra>",
         "lat": [
          37.74961
         ],
         "legendgroup": "Outer Sunset",
         "lon": [
          -122.48999
         ],
         "marker": {
          "color": "#FF6692",
          "size": [
           394.21903227142855
          ],
          "sizemode": "area",
          "sizeref": 2.259983144291667
         },
         "mode": "markers",
         "name": "Outer Sunset",
         "showlegend": true,
         "subplot": "mapbox",
         "type": "scattermapbox"
        },
        {
         "customdata": [
          [
           "Pacific Heights",
           689.5558168,
           2817.285714285714
          ]
         ],
         "hovertemplate": "neighborhood=%{customdata[0]}<br>sale_price_sqr_foot=%{customdata[1]}<br>Lat=%{lat}<br>Lon=%{lon}<br>gross_rent=%{customdata[2]}<extra></extra>",
         "lat": [
          37.79298
         ],
         "legendgroup": "Pacific Heights",
         "lon": [
          -122.43579
         ],
         "marker": {
          "color": "#B6E880",
          "size": [
           689.5558168
          ],
          "sizemode": "area",
          "sizeref": 2.259983144291667
         },
         "mode": "markers",
         "name": "Pacific Heights",
         "showlegend": true,
         "subplot": "mapbox",
         "type": "scattermapbox"
        },
        {
         "customdata": [
          [
           "Park North",
           373.73285638571423,
           2817.285714285714
          ]
         ],
         "hovertemplate": "neighborhood=%{customdata[0]}<br>sale_price_sqr_foot=%{customdata[1]}<br>Lat=%{lat}<br>Lon=%{lon}<br>gross_rent=%{customdata[2]}<extra></extra>",
         "lat": [
          37.72838
         ],
         "legendgroup": "Park North",
         "lon": [
          -122.47851
         ],
         "marker": {
          "color": "#FF97FF",
          "size": [
           373.73285638571423
          ],
          "sizemode": "area",
          "sizeref": 2.259983144291667
         },
         "mode": "markers",
         "name": "Park North",
         "showlegend": true,
         "subplot": "mapbox",
         "type": "scattermapbox"
        },
        {
         "customdata": [
          [
           "Parkside",
           336.17266102,
           2555.1666666666665
          ]
         ],
         "hovertemplate": "neighborhood=%{customdata[0]}<br>sale_price_sqr_foot=%{customdata[1]}<br>Lat=%{lat}<br>Lon=%{lon}<br>gross_rent=%{customdata[2]}<extra></extra>",
         "lat": [
          37.74961
         ],
         "legendgroup": "Parkside",
         "lon": [
          -122.48999
         ],
         "marker": {
          "color": "#FECB52",
          "size": [
           336.17266102
          ],
          "sizemode": "area",
          "sizeref": 2.259983144291667
         },
         "mode": "markers",
         "name": "Parkside",
         "showlegend": true,
         "subplot": "mapbox",
         "type": "scattermapbox"
        },
        {
         "customdata": [
          [
           "Parnassus/Ashbury Heights",
           632.7404535428572,
           2817.285714285714
          ]
         ],
         "hovertemplate": "neighborhood=%{customdata[0]}<br>sale_price_sqr_foot=%{customdata[1]}<br>Lat=%{lat}<br>Lon=%{lon}<br>gross_rent=%{customdata[2]}<extra></extra>",
         "lat": [
          37.76355
         ],
         "legendgroup": "Parnassus/Ashbury Heights",
         "lon": [
          -122.45765
         ],
         "marker": {
          "color": "#636efa",
          "size": [
           632.7404535428572
          ],
          "sizemode": "area",
          "sizeref": 2.259983144291667
         },
         "mode": "markers",
         "name": "Parnassus/Ashbury Heights",
         "showlegend": true,
         "subplot": "mapbox",
         "type": "scattermapbox"
        },
        {
         "customdata": [
          [
           "Portola",
           327.11392534000004,
           2318.4
          ]
         ],
         "hovertemplate": "neighborhood=%{customdata[0]}<br>sale_price_sqr_foot=%{customdata[1]}<br>Lat=%{lat}<br>Lon=%{lon}<br>gross_rent=%{customdata[2]}<extra></extra>",
         "lat": [
          37.73467
         ],
         "legendgroup": "Portola",
         "lon": [
          -122.40106
         ],
         "marker": {
          "color": "#EF553B",
          "size": [
           327.11392534000004
          ],
          "sizemode": "area",
          "sizeref": 2.259983144291667
         },
         "mode": "markers",
         "name": "Portola",
         "showlegend": true,
         "subplot": "mapbox",
         "type": "scattermapbox"
        },
        {
         "customdata": [
          [
           "Potrero Hill",
           662.0136128428572,
           2817.285714285714
          ]
         ],
         "hovertemplate": "neighborhood=%{customdata[0]}<br>sale_price_sqr_foot=%{customdata[1]}<br>Lat=%{lat}<br>Lon=%{lon}<br>gross_rent=%{customdata[2]}<extra></extra>",
         "lat": [
          37.73196
         ],
         "legendgroup": "Potrero Hill",
         "lon": [
          -122.38324
         ],
         "marker": {
          "color": "#00cc96",
          "size": [
           662.0136128428572
          ],
          "sizemode": "area",
          "sizeref": 2.259983144291667
         },
         "mode": "markers",
         "name": "Potrero Hill",
         "showlegend": true,
         "subplot": "mapbox",
         "type": "scattermapbox"
        },
        {
         "customdata": [
          [
           "Presidio Heights",
           675.3502119833333,
           2817.285714285714
          ]
         ],
         "hovertemplate": "neighborhood=%{customdata[0]}<br>sale_price_sqr_foot=%{customdata[1]}<br>Lat=%{lat}<br>Lon=%{lon}<br>gross_rent=%{customdata[2]}<extra></extra>",
         "lat": [
          37.78553
         ],
         "legendgroup": "Presidio Heights",
         "lon": [
          -122.456
         ],
         "marker": {
          "color": "#ab63fa",
          "size": [
           675.3502119833333
          ],
          "sizemode": "area",
          "sizeref": 2.259983144291667
         },
         "mode": "markers",
         "name": "Presidio Heights",
         "showlegend": true,
         "subplot": "mapbox",
         "type": "scattermapbox"
        },
        {
         "customdata": [
          [
           "Russian Hill",
           608.9832172285714,
           2817.285714285714
          ]
         ],
         "hovertemplate": "neighborhood=%{customdata[0]}<br>sale_price_sqr_foot=%{customdata[1]}<br>Lat=%{lat}<br>Lon=%{lon}<br>gross_rent=%{customdata[2]}<extra></extra>",
         "lat": [
          37.79298
         ],
         "legendgroup": "Russian Hill",
         "lon": [
          -122.43579
         ],
         "marker": {
          "color": "#FFA15A",
          "size": [
           608.9832172285714
          ],
          "sizemode": "area",
          "sizeref": 2.259983144291667
         },
         "mode": "markers",
         "name": "Russian Hill",
         "showlegend": true,
         "subplot": "mapbox",
         "type": "scattermapbox"
        },
        {
         "customdata": [
          [
           "Silver Terrace",
           170.2925485,
           3528
          ]
         ],
         "hovertemplate": "neighborhood=%{customdata[0]}<br>sale_price_sqr_foot=%{customdata[1]}<br>Lat=%{lat}<br>Lon=%{lon}<br>gross_rent=%{customdata[2]}<extra></extra>",
         "lat": [
          37.73467
         ],
         "legendgroup": "Silver Terrace",
         "lon": [
          -122.40106
         ],
         "marker": {
          "color": "#19d3f3",
          "size": [
           170.2925485
          ],
          "sizemode": "area",
          "sizeref": 2.259983144291667
         },
         "mode": "markers",
         "name": "Silver Terrace",
         "showlegend": true,
         "subplot": "mapbox",
         "type": "scattermapbox"
        },
        {
         "customdata": [
          [
           "South Beach",
           650.1244793000001,
           2099
          ]
         ],
         "hovertemplate": "neighborhood=%{customdata[0]}<br>sale_price_sqr_foot=%{customdata[1]}<br>Lat=%{lat}<br>Lon=%{lon}<br>gross_rent=%{customdata[2]}<extra></extra>",
         "lat": [
          37.78323
         ],
         "legendgroup": "South Beach",
         "lon": [
          -122.40065
         ],
         "marker": {
          "color": "#FF6692",
          "size": [
           650.1244793000001
          ],
          "sizemode": "area",
          "sizeref": 2.259983144291667
         },
         "mode": "markers",
         "name": "South Beach",
         "showlegend": true,
         "subplot": "mapbox",
         "type": "scattermapbox"
        },
        {
         "customdata": [
          [
           "South of Market",
           570.2714266428571,
           2817.285714285714
          ]
         ],
         "hovertemplate": "neighborhood=%{customdata[0]}<br>sale_price_sqr_foot=%{customdata[1]}<br>Lat=%{lat}<br>Lon=%{lon}<br>gross_rent=%{customdata[2]}<extra></extra>",
         "lat": [
          37.79101
         ],
         "legendgroup": "South of Market",
         "lon": [
          -122.4021
         ],
         "marker": {
          "color": "#B6E880",
          "size": [
           570.2714266428571
          ],
          "sizemode": "area",
          "sizeref": 2.259983144291667
         },
         "mode": "markers",
         "name": "South of Market",
         "showlegend": true,
         "subplot": "mapbox",
         "type": "scattermapbox"
        },
        {
         "customdata": [
          [
           "Sunnyside",
           528.3183316999999,
           2899.5
          ]
         ],
         "hovertemplate": "neighborhood=%{customdata[0]}<br>sale_price_sqr_foot=%{customdata[1]}<br>Lat=%{lat}<br>Lon=%{lon}<br>gross_rent=%{customdata[2]}<extra></extra>",
         "lat": [
          37.73415
         ],
         "legendgroup": "Sunnyside",
         "lon": [
          -122.457
         ],
         "marker": {
          "color": "#FF97FF",
          "size": [
           528.3183316999999
          ],
          "sizemode": "area",
          "sizeref": 2.259983144291667
         },
         "mode": "markers",
         "name": "Sunnyside",
         "showlegend": true,
         "subplot": "mapbox",
         "type": "scattermapbox"
        },
        {
         "customdata": [
          [
           "Telegraph Hill",
           676.5065775285714,
           2817.285714285714
          ]
         ],
         "hovertemplate": "neighborhood=%{customdata[0]}<br>sale_price_sqr_foot=%{customdata[1]}<br>Lat=%{lat}<br>Lon=%{lon}<br>gross_rent=%{customdata[2]}<extra></extra>",
         "lat": [
          37.80055
         ],
         "legendgroup": "Telegraph Hill",
         "lon": [
          -122.40433
         ],
         "marker": {
          "color": "#FECB52",
          "size": [
           676.5065775285714
          ],
          "sizemode": "area",
          "sizeref": 2.259983144291667
         },
         "mode": "markers",
         "name": "Telegraph Hill",
         "showlegend": true,
         "subplot": "mapbox",
         "type": "scattermapbox"
        },
        {
         "customdata": [
          [
           "Twin Peaks",
           469.3986264857143,
           2817.285714285714
          ]
         ],
         "hovertemplate": "neighborhood=%{customdata[0]}<br>sale_price_sqr_foot=%{customdata[1]}<br>Lat=%{lat}<br>Lon=%{lon}<br>gross_rent=%{customdata[2]}<extra></extra>",
         "lat": [
          37.753311
         ],
         "legendgroup": "Twin Peaks",
         "lon": [
          -122.447029
         ],
         "marker": {
          "color": "#636efa",
          "size": [
           469.3986264857143
          ],
          "sizemode": "area",
          "sizeref": 2.259983144291667
         },
         "mode": "markers",
         "name": "Twin Peaks",
         "showlegend": true,
         "subplot": "mapbox",
         "type": "scattermapbox"
        },
        {
         "customdata": [
          [
           "Union Square District",
           903.9932577166668,
           2555.1666666666665
          ]
         ],
         "hovertemplate": "neighborhood=%{customdata[0]}<br>sale_price_sqr_foot=%{customdata[1]}<br>Lat=%{lat}<br>Lon=%{lon}<br>gross_rent=%{customdata[2]}<extra></extra>",
         "lat": [
          37.79101
         ],
         "legendgroup": "Union Square District",
         "lon": [
          -122.4021
         ],
         "marker": {
          "color": "#EF553B",
          "size": [
           903.9932577166668
          ],
          "sizemode": "area",
          "sizeref": 2.259983144291667
         },
         "mode": "markers",
         "name": "Union Square District",
         "showlegend": true,
         "subplot": "mapbox",
         "type": "scattermapbox"
        },
        {
         "customdata": [
          [
           "Van Ness/ Civic Center",
           404.1501801571429,
           2817.285714285714
          ]
         ],
         "hovertemplate": "neighborhood=%{customdata[0]}<br>sale_price_sqr_foot=%{customdata[1]}<br>Lat=%{lat}<br>Lon=%{lon}<br>gross_rent=%{customdata[2]}<extra></extra>",
         "lat": [
          37.77951
         ],
         "legendgroup": "Van Ness/ Civic Center",
         "lon": [
          -122.42022
         ],
         "marker": {
          "color": "#00cc96",
          "size": [
           404.1501801571429
          ],
          "sizemode": "area",
          "sizeref": 2.259983144291667
         },
         "mode": "markers",
         "name": "Van Ness/ Civic Center",
         "showlegend": true,
         "subplot": "mapbox",
         "type": "scattermapbox"
        },
        {
         "customdata": [
          [
           "Visitacion Valley",
           301.466179975,
           3657
          ]
         ],
         "hovertemplate": "neighborhood=%{customdata[0]}<br>sale_price_sqr_foot=%{customdata[1]}<br>Lat=%{lat}<br>Lon=%{lon}<br>gross_rent=%{customdata[2]}<extra></extra>",
         "lat": [
          37.72874
         ],
         "legendgroup": "Visitacion Valley",
         "lon": [
          -122.41098
         ],
         "marker": {
          "color": "#ab63fa",
          "size": [
           301.466179975
          ],
          "sizemode": "area",
          "sizeref": 2.259983144291667
         },
         "mode": "markers",
         "name": "Visitacion Valley",
         "showlegend": true,
         "subplot": "mapbox",
         "type": "scattermapbox"
        },
        {
         "customdata": [
          [
           "West Portal",
           498.48848484999996,
           2515.5
          ]
         ],
         "hovertemplate": "neighborhood=%{customdata[0]}<br>sale_price_sqr_foot=%{customdata[1]}<br>Lat=%{lat}<br>Lon=%{lon}<br>gross_rent=%{customdata[2]}<extra></extra>",
         "lat": [
          37.74026
         ],
         "legendgroup": "West Portal",
         "lon": [
          -122.46388
         ],
         "marker": {
          "color": "#FFA15A",
          "size": [
           498.48848484999996
          ],
          "sizemode": "area",
          "sizeref": 2.259983144291667
         },
         "mode": "markers",
         "name": "West Portal",
         "showlegend": true,
         "subplot": "mapbox",
         "type": "scattermapbox"
        },
        {
         "customdata": [
          [
           "Western Addition",
           307.5622009833333,
           2555.1666666666665
          ]
         ],
         "hovertemplate": "neighborhood=%{customdata[0]}<br>sale_price_sqr_foot=%{customdata[1]}<br>Lat=%{lat}<br>Lon=%{lon}<br>gross_rent=%{customdata[2]}<extra></extra>",
         "lat": [
          37.79298
         ],
         "legendgroup": "Western Addition",
         "lon": [
          -122.43579
         ],
         "marker": {
          "color": "#19d3f3",
          "size": [
           307.5622009833333
          ],
          "sizemode": "area",
          "sizeref": 2.259983144291667
         },
         "mode": "markers",
         "name": "Western Addition",
         "showlegend": true,
         "subplot": "mapbox",
         "type": "scattermapbox"
        },
        {
         "customdata": [
          [
           "Westwood Highlands",
           533.70393545,
           2250.5
          ]
         ],
         "hovertemplate": "neighborhood=%{customdata[0]}<br>sale_price_sqr_foot=%{customdata[1]}<br>Lat=%{lat}<br>Lon=%{lon}<br>gross_rent=%{customdata[2]}<extra></extra>",
         "lat": [
          37.7347
         ],
         "legendgroup": "Westwood Highlands",
         "lon": [
          -122.456854
         ],
         "marker": {
          "color": "#FF6692",
          "size": [
           533.70393545
          ],
          "sizemode": "area",
          "sizeref": 2.259983144291667
         },
         "mode": "markers",
         "name": "Westwood Highlands",
         "showlegend": true,
         "subplot": "mapbox",
         "type": "scattermapbox"
        },
        {
         "customdata": [
          [
           "Westwood Park",
           687.08757455,
           3959
          ]
         ],
         "hovertemplate": "neighborhood=%{customdata[0]}<br>sale_price_sqr_foot=%{customdata[1]}<br>Lat=%{lat}<br>Lon=%{lon}<br>gross_rent=%{customdata[2]}<extra></extra>",
         "lat": [
          37.73415
         ],
         "legendgroup": "Westwood Park",
         "lon": [
          -122.457
         ],
         "marker": {
          "color": "#B6E880",
          "size": [
           687.08757455
          ],
          "sizemode": "area",
          "sizeref": 2.259983144291667
         },
         "mode": "markers",
         "name": "Westwood Park",
         "showlegend": true,
         "subplot": "mapbox",
         "type": "scattermapbox"
        },
        {
         "customdata": [
          [
           "Yerba Buena",
           576.7098483833333,
           2555.1666666666665
          ]
         ],
         "hovertemplate": "neighborhood=%{customdata[0]}<br>sale_price_sqr_foot=%{customdata[1]}<br>Lat=%{lat}<br>Lon=%{lon}<br>gross_rent=%{customdata[2]}<extra></extra>",
         "lat": [
          37.79298
         ],
         "legendgroup": "Yerba Buena",
         "lon": [
          -122.39636
         ],
         "marker": {
          "color": "#FF97FF",
          "size": [
           576.7098483833333
          ],
          "sizemode": "area",
          "sizeref": 2.259983144291667
         },
         "mode": "markers",
         "name": "Yerba Buena",
         "showlegend": true,
         "subplot": "mapbox",
         "type": "scattermapbox"
        }
       ],
       "layout": {
        "legend": {
         "itemsizing": "constant",
         "title": {
          "text": "neighborhood"
         },
         "tracegroupgap": 0
        },
        "mapbox": {
         "accesstoken": "pk.eyJ1IjoiYS1hbHRtYW4iLCJhIjoiY2wwdTR2Mm1mMGpwdjNpcGZ6dmc2OTBjMyJ9.5lgrxg5rFxYvyH_az91QpA",
         "center": {
          "lat": 37.76064079710145,
          "lon": -122.43826449275363
         },
         "domain": {
          "x": [
           0,
           1
          ],
          "y": [
           0,
           1
          ]
         },
         "zoom": 10
        },
        "margin": {
         "t": 60
        },
        "template": {
         "data": {
          "bar": [
           {
            "error_x": {
             "color": "#2a3f5f"
            },
            "error_y": {
             "color": "#2a3f5f"
            },
            "marker": {
             "line": {
              "color": "#E5ECF6",
              "width": 0.5
             },
             "pattern": {
              "fillmode": "overlay",
              "size": 10,
              "solidity": 0.2
             }
            },
            "type": "bar"
           }
          ],
          "barpolar": [
           {
            "marker": {
             "line": {
              "color": "#E5ECF6",
              "width": 0.5
             },
             "pattern": {
              "fillmode": "overlay",
              "size": 10,
              "solidity": 0.2
             }
            },
            "type": "barpolar"
           }
          ],
          "carpet": [
           {
            "aaxis": {
             "endlinecolor": "#2a3f5f",
             "gridcolor": "white",
             "linecolor": "white",
             "minorgridcolor": "white",
             "startlinecolor": "#2a3f5f"
            },
            "baxis": {
             "endlinecolor": "#2a3f5f",
             "gridcolor": "white",
             "linecolor": "white",
             "minorgridcolor": "white",
             "startlinecolor": "#2a3f5f"
            },
            "type": "carpet"
           }
          ],
          "choropleth": [
           {
            "colorbar": {
             "outlinewidth": 0,
             "ticks": ""
            },
            "type": "choropleth"
           }
          ],
          "contour": [
           {
            "colorbar": {
             "outlinewidth": 0,
             "ticks": ""
            },
            "colorscale": [
             [
              0,
              "#0d0887"
             ],
             [
              0.1111111111111111,
              "#46039f"
             ],
             [
              0.2222222222222222,
              "#7201a8"
             ],
             [
              0.3333333333333333,
              "#9c179e"
             ],
             [
              0.4444444444444444,
              "#bd3786"
             ],
             [
              0.5555555555555556,
              "#d8576b"
             ],
             [
              0.6666666666666666,
              "#ed7953"
             ],
             [
              0.7777777777777778,
              "#fb9f3a"
             ],
             [
              0.8888888888888888,
              "#fdca26"
             ],
             [
              1,
              "#f0f921"
             ]
            ],
            "type": "contour"
           }
          ],
          "contourcarpet": [
           {
            "colorbar": {
             "outlinewidth": 0,
             "ticks": ""
            },
            "type": "contourcarpet"
           }
          ],
          "heatmap": [
           {
            "colorbar": {
             "outlinewidth": 0,
             "ticks": ""
            },
            "colorscale": [
             [
              0,
              "#0d0887"
             ],
             [
              0.1111111111111111,
              "#46039f"
             ],
             [
              0.2222222222222222,
              "#7201a8"
             ],
             [
              0.3333333333333333,
              "#9c179e"
             ],
             [
              0.4444444444444444,
              "#bd3786"
             ],
             [
              0.5555555555555556,
              "#d8576b"
             ],
             [
              0.6666666666666666,
              "#ed7953"
             ],
             [
              0.7777777777777778,
              "#fb9f3a"
             ],
             [
              0.8888888888888888,
              "#fdca26"
             ],
             [
              1,
              "#f0f921"
             ]
            ],
            "type": "heatmap"
           }
          ],
          "heatmapgl": [
           {
            "colorbar": {
             "outlinewidth": 0,
             "ticks": ""
            },
            "colorscale": [
             [
              0,
              "#0d0887"
             ],
             [
              0.1111111111111111,
              "#46039f"
             ],
             [
              0.2222222222222222,
              "#7201a8"
             ],
             [
              0.3333333333333333,
              "#9c179e"
             ],
             [
              0.4444444444444444,
              "#bd3786"
             ],
             [
              0.5555555555555556,
              "#d8576b"
             ],
             [
              0.6666666666666666,
              "#ed7953"
             ],
             [
              0.7777777777777778,
              "#fb9f3a"
             ],
             [
              0.8888888888888888,
              "#fdca26"
             ],
             [
              1,
              "#f0f921"
             ]
            ],
            "type": "heatmapgl"
           }
          ],
          "histogram": [
           {
            "marker": {
             "pattern": {
              "fillmode": "overlay",
              "size": 10,
              "solidity": 0.2
             }
            },
            "type": "histogram"
           }
          ],
          "histogram2d": [
           {
            "colorbar": {
             "outlinewidth": 0,
             "ticks": ""
            },
            "colorscale": [
             [
              0,
              "#0d0887"
             ],
             [
              0.1111111111111111,
              "#46039f"
             ],
             [
              0.2222222222222222,
              "#7201a8"
             ],
             [
              0.3333333333333333,
              "#9c179e"
             ],
             [
              0.4444444444444444,
              "#bd3786"
             ],
             [
              0.5555555555555556,
              "#d8576b"
             ],
             [
              0.6666666666666666,
              "#ed7953"
             ],
             [
              0.7777777777777778,
              "#fb9f3a"
             ],
             [
              0.8888888888888888,
              "#fdca26"
             ],
             [
              1,
              "#f0f921"
             ]
            ],
            "type": "histogram2d"
           }
          ],
          "histogram2dcontour": [
           {
            "colorbar": {
             "outlinewidth": 0,
             "ticks": ""
            },
            "colorscale": [
             [
              0,
              "#0d0887"
             ],
             [
              0.1111111111111111,
              "#46039f"
             ],
             [
              0.2222222222222222,
              "#7201a8"
             ],
             [
              0.3333333333333333,
              "#9c179e"
             ],
             [
              0.4444444444444444,
              "#bd3786"
             ],
             [
              0.5555555555555556,
              "#d8576b"
             ],
             [
              0.6666666666666666,
              "#ed7953"
             ],
             [
              0.7777777777777778,
              "#fb9f3a"
             ],
             [
              0.8888888888888888,
              "#fdca26"
             ],
             [
              1,
              "#f0f921"
             ]
            ],
            "type": "histogram2dcontour"
           }
          ],
          "mesh3d": [
           {
            "colorbar": {
             "outlinewidth": 0,
             "ticks": ""
            },
            "type": "mesh3d"
           }
          ],
          "parcoords": [
           {
            "line": {
             "colorbar": {
              "outlinewidth": 0,
              "ticks": ""
             }
            },
            "type": "parcoords"
           }
          ],
          "pie": [
           {
            "automargin": true,
            "type": "pie"
           }
          ],
          "scatter": [
           {
            "marker": {
             "colorbar": {
              "outlinewidth": 0,
              "ticks": ""
             }
            },
            "type": "scatter"
           }
          ],
          "scatter3d": [
           {
            "line": {
             "colorbar": {
              "outlinewidth": 0,
              "ticks": ""
             }
            },
            "marker": {
             "colorbar": {
              "outlinewidth": 0,
              "ticks": ""
             }
            },
            "type": "scatter3d"
           }
          ],
          "scattercarpet": [
           {
            "marker": {
             "colorbar": {
              "outlinewidth": 0,
              "ticks": ""
             }
            },
            "type": "scattercarpet"
           }
          ],
          "scattergeo": [
           {
            "marker": {
             "colorbar": {
              "outlinewidth": 0,
              "ticks": ""
             }
            },
            "type": "scattergeo"
           }
          ],
          "scattergl": [
           {
            "marker": {
             "colorbar": {
              "outlinewidth": 0,
              "ticks": ""
             }
            },
            "type": "scattergl"
           }
          ],
          "scattermapbox": [
           {
            "marker": {
             "colorbar": {
              "outlinewidth": 0,
              "ticks": ""
             }
            },
            "type": "scattermapbox"
           }
          ],
          "scatterpolar": [
           {
            "marker": {
             "colorbar": {
              "outlinewidth": 0,
              "ticks": ""
             }
            },
            "type": "scatterpolar"
           }
          ],
          "scatterpolargl": [
           {
            "marker": {
             "colorbar": {
              "outlinewidth": 0,
              "ticks": ""
             }
            },
            "type": "scatterpolargl"
           }
          ],
          "scatterternary": [
           {
            "marker": {
             "colorbar": {
              "outlinewidth": 0,
              "ticks": ""
             }
            },
            "type": "scatterternary"
           }
          ],
          "surface": [
           {
            "colorbar": {
             "outlinewidth": 0,
             "ticks": ""
            },
            "colorscale": [
             [
              0,
              "#0d0887"
             ],
             [
              0.1111111111111111,
              "#46039f"
             ],
             [
              0.2222222222222222,
              "#7201a8"
             ],
             [
              0.3333333333333333,
              "#9c179e"
             ],
             [
              0.4444444444444444,
              "#bd3786"
             ],
             [
              0.5555555555555556,
              "#d8576b"
             ],
             [
              0.6666666666666666,
              "#ed7953"
             ],
             [
              0.7777777777777778,
              "#fb9f3a"
             ],
             [
              0.8888888888888888,
              "#fdca26"
             ],
             [
              1,
              "#f0f921"
             ]
            ],
            "type": "surface"
           }
          ],
          "table": [
           {
            "cells": {
             "fill": {
              "color": "#EBF0F8"
             },
             "line": {
              "color": "white"
             }
            },
            "header": {
             "fill": {
              "color": "#C8D4E3"
             },
             "line": {
              "color": "white"
             }
            },
            "type": "table"
           }
          ]
         },
         "layout": {
          "annotationdefaults": {
           "arrowcolor": "#2a3f5f",
           "arrowhead": 0,
           "arrowwidth": 1
          },
          "autotypenumbers": "strict",
          "coloraxis": {
           "colorbar": {
            "outlinewidth": 0,
            "ticks": ""
           }
          },
          "colorscale": {
           "diverging": [
            [
             0,
             "#8e0152"
            ],
            [
             0.1,
             "#c51b7d"
            ],
            [
             0.2,
             "#de77ae"
            ],
            [
             0.3,
             "#f1b6da"
            ],
            [
             0.4,
             "#fde0ef"
            ],
            [
             0.5,
             "#f7f7f7"
            ],
            [
             0.6,
             "#e6f5d0"
            ],
            [
             0.7,
             "#b8e186"
            ],
            [
             0.8,
             "#7fbc41"
            ],
            [
             0.9,
             "#4d9221"
            ],
            [
             1,
             "#276419"
            ]
           ],
           "sequential": [
            [
             0,
             "#0d0887"
            ],
            [
             0.1111111111111111,
             "#46039f"
            ],
            [
             0.2222222222222222,
             "#7201a8"
            ],
            [
             0.3333333333333333,
             "#9c179e"
            ],
            [
             0.4444444444444444,
             "#bd3786"
            ],
            [
             0.5555555555555556,
             "#d8576b"
            ],
            [
             0.6666666666666666,
             "#ed7953"
            ],
            [
             0.7777777777777778,
             "#fb9f3a"
            ],
            [
             0.8888888888888888,
             "#fdca26"
            ],
            [
             1,
             "#f0f921"
            ]
           ],
           "sequentialminus": [
            [
             0,
             "#0d0887"
            ],
            [
             0.1111111111111111,
             "#46039f"
            ],
            [
             0.2222222222222222,
             "#7201a8"
            ],
            [
             0.3333333333333333,
             "#9c179e"
            ],
            [
             0.4444444444444444,
             "#bd3786"
            ],
            [
             0.5555555555555556,
             "#d8576b"
            ],
            [
             0.6666666666666666,
             "#ed7953"
            ],
            [
             0.7777777777777778,
             "#fb9f3a"
            ],
            [
             0.8888888888888888,
             "#fdca26"
            ],
            [
             1,
             "#f0f921"
            ]
           ]
          },
          "colorway": [
           "#636efa",
           "#EF553B",
           "#00cc96",
           "#ab63fa",
           "#FFA15A",
           "#19d3f3",
           "#FF6692",
           "#B6E880",
           "#FF97FF",
           "#FECB52"
          ],
          "font": {
           "color": "#2a3f5f"
          },
          "geo": {
           "bgcolor": "white",
           "lakecolor": "white",
           "landcolor": "#E5ECF6",
           "showlakes": true,
           "showland": true,
           "subunitcolor": "white"
          },
          "hoverlabel": {
           "align": "left"
          },
          "hovermode": "closest",
          "mapbox": {
           "style": "light"
          },
          "paper_bgcolor": "white",
          "plot_bgcolor": "#E5ECF6",
          "polar": {
           "angularaxis": {
            "gridcolor": "white",
            "linecolor": "white",
            "ticks": ""
           },
           "bgcolor": "#E5ECF6",
           "radialaxis": {
            "gridcolor": "white",
            "linecolor": "white",
            "ticks": ""
           }
          },
          "scene": {
           "xaxis": {
            "backgroundcolor": "#E5ECF6",
            "gridcolor": "white",
            "gridwidth": 2,
            "linecolor": "white",
            "showbackground": true,
            "ticks": "",
            "zerolinecolor": "white"
           },
           "yaxis": {
            "backgroundcolor": "#E5ECF6",
            "gridcolor": "white",
            "gridwidth": 2,
            "linecolor": "white",
            "showbackground": true,
            "ticks": "",
            "zerolinecolor": "white"
           },
           "zaxis": {
            "backgroundcolor": "#E5ECF6",
            "gridcolor": "white",
            "gridwidth": 2,
            "linecolor": "white",
            "showbackground": true,
            "ticks": "",
            "zerolinecolor": "white"
           }
          },
          "shapedefaults": {
           "line": {
            "color": "#2a3f5f"
           }
          },
          "ternary": {
           "aaxis": {
            "gridcolor": "white",
            "linecolor": "white",
            "ticks": ""
           },
           "baxis": {
            "gridcolor": "white",
            "linecolor": "white",
            "ticks": ""
           },
           "bgcolor": "#E5ECF6",
           "caxis": {
            "gridcolor": "white",
            "linecolor": "white",
            "ticks": ""
           }
          },
          "title": {
           "x": 0.05
          },
          "xaxis": {
           "automargin": true,
           "gridcolor": "white",
           "linecolor": "white",
           "ticks": "",
           "title": {
            "standoff": 15
           },
           "zerolinecolor": "white",
           "zerolinewidth": 2
          },
          "yaxis": {
           "automargin": true,
           "gridcolor": "white",
           "linecolor": "white",
           "ticks": "",
           "title": {
            "standoff": 15
           },
           "zerolinecolor": "white",
           "zerolinewidth": 2
          }
         }
        }
       }
      }
     },
     "metadata": {},
     "output_type": "display_data"
    }
   ],
   "source": [
    "# neighborhood_map()\n",
    "neighborhood_map(coords_df)"
   ]
  },
  {
   "cell_type": "code",
   "execution_count": 85,
   "metadata": {},
   "outputs": [
    {
     "data": {
      "application/vnd.plotly.v1+json": {
       "config": {
        "plotlyServerURL": "https://plot.ly"
       },
       "data": [
        {
         "dimensions": [
          {
           "label": "neighborhood",
           "values": [
            "Union Square District",
            "Merced Heights",
            "Miraloma Park",
            "Pacific Heights",
            "Westwood Park",
            "Telegraph Hill",
            "Presidio Heights",
            "Cow Hollow",
            "Potrero Hill",
            "South Beach"
           ]
          },
          {
           "label": "price per square foot",
           "values": [
            903.9932577166668,
            788.8448177,
            779.81084235,
            689.5558168,
            687.08757455,
            676.5065775285714,
            675.3502119833333,
            665.9640416428572,
            662.0136128428572,
            650.1244793000001
           ]
          },
          {
           "label": "housing units",
           "values": [
            377427.5,
            380348,
            375967.25,
            378401,
            382295,
            378401,
            378401,
            378401,
            378401,
            375805
           ]
          },
          {
           "label": "gross rent",
           "values": [
            2555.1666666666665,
            3414,
            2155.25,
            2817.285714285714,
            3959,
            2817.285714285714,
            2817.285714285714,
            2817.285714285714,
            2817.285714285714,
            2099
           ]
          }
         ],
         "domain": {
          "x": [
           0,
           1
          ],
          "y": [
           0,
           1
          ]
         },
         "line": {
          "color": [
           903.9932577166668,
           788.8448177,
           779.81084235,
           689.5558168,
           687.08757455,
           676.5065775285714,
           675.3502119833333,
           665.9640416428572,
           662.0136128428572,
           650.1244793000001
          ],
          "coloraxis": "coloraxis"
         },
         "name": "",
         "type": "parcats"
        }
       ],
       "layout": {
        "coloraxis": {
         "colorbar": {
          "title": {
           "text": "price per square foot"
          }
         },
         "colorscale": [
          [
           0,
           "#000004"
          ],
          [
           0.1111111111111111,
           "#1b0c41"
          ],
          [
           0.2222222222222222,
           "#4a0c6b"
          ],
          [
           0.3333333333333333,
           "#781c6d"
          ],
          [
           0.4444444444444444,
           "#a52c60"
          ],
          [
           0.5555555555555556,
           "#cf4446"
          ],
          [
           0.6666666666666666,
           "#ed6925"
          ],
          [
           0.7777777777777778,
           "#fb9b06"
          ],
          [
           0.8888888888888888,
           "#f7d13d"
          ],
          [
           1,
           "#fcffa4"
          ]
         ]
        },
        "legend": {
         "tracegroupgap": 0
        },
        "margin": {
         "t": 60
        },
        "template": {
         "data": {
          "bar": [
           {
            "error_x": {
             "color": "#2a3f5f"
            },
            "error_y": {
             "color": "#2a3f5f"
            },
            "marker": {
             "line": {
              "color": "#E5ECF6",
              "width": 0.5
             },
             "pattern": {
              "fillmode": "overlay",
              "size": 10,
              "solidity": 0.2
             }
            },
            "type": "bar"
           }
          ],
          "barpolar": [
           {
            "marker": {
             "line": {
              "color": "#E5ECF6",
              "width": 0.5
             },
             "pattern": {
              "fillmode": "overlay",
              "size": 10,
              "solidity": 0.2
             }
            },
            "type": "barpolar"
           }
          ],
          "carpet": [
           {
            "aaxis": {
             "endlinecolor": "#2a3f5f",
             "gridcolor": "white",
             "linecolor": "white",
             "minorgridcolor": "white",
             "startlinecolor": "#2a3f5f"
            },
            "baxis": {
             "endlinecolor": "#2a3f5f",
             "gridcolor": "white",
             "linecolor": "white",
             "minorgridcolor": "white",
             "startlinecolor": "#2a3f5f"
            },
            "type": "carpet"
           }
          ],
          "choropleth": [
           {
            "colorbar": {
             "outlinewidth": 0,
             "ticks": ""
            },
            "type": "choropleth"
           }
          ],
          "contour": [
           {
            "colorbar": {
             "outlinewidth": 0,
             "ticks": ""
            },
            "colorscale": [
             [
              0,
              "#0d0887"
             ],
             [
              0.1111111111111111,
              "#46039f"
             ],
             [
              0.2222222222222222,
              "#7201a8"
             ],
             [
              0.3333333333333333,
              "#9c179e"
             ],
             [
              0.4444444444444444,
              "#bd3786"
             ],
             [
              0.5555555555555556,
              "#d8576b"
             ],
             [
              0.6666666666666666,
              "#ed7953"
             ],
             [
              0.7777777777777778,
              "#fb9f3a"
             ],
             [
              0.8888888888888888,
              "#fdca26"
             ],
             [
              1,
              "#f0f921"
             ]
            ],
            "type": "contour"
           }
          ],
          "contourcarpet": [
           {
            "colorbar": {
             "outlinewidth": 0,
             "ticks": ""
            },
            "type": "contourcarpet"
           }
          ],
          "heatmap": [
           {
            "colorbar": {
             "outlinewidth": 0,
             "ticks": ""
            },
            "colorscale": [
             [
              0,
              "#0d0887"
             ],
             [
              0.1111111111111111,
              "#46039f"
             ],
             [
              0.2222222222222222,
              "#7201a8"
             ],
             [
              0.3333333333333333,
              "#9c179e"
             ],
             [
              0.4444444444444444,
              "#bd3786"
             ],
             [
              0.5555555555555556,
              "#d8576b"
             ],
             [
              0.6666666666666666,
              "#ed7953"
             ],
             [
              0.7777777777777778,
              "#fb9f3a"
             ],
             [
              0.8888888888888888,
              "#fdca26"
             ],
             [
              1,
              "#f0f921"
             ]
            ],
            "type": "heatmap"
           }
          ],
          "heatmapgl": [
           {
            "colorbar": {
             "outlinewidth": 0,
             "ticks": ""
            },
            "colorscale": [
             [
              0,
              "#0d0887"
             ],
             [
              0.1111111111111111,
              "#46039f"
             ],
             [
              0.2222222222222222,
              "#7201a8"
             ],
             [
              0.3333333333333333,
              "#9c179e"
             ],
             [
              0.4444444444444444,
              "#bd3786"
             ],
             [
              0.5555555555555556,
              "#d8576b"
             ],
             [
              0.6666666666666666,
              "#ed7953"
             ],
             [
              0.7777777777777778,
              "#fb9f3a"
             ],
             [
              0.8888888888888888,
              "#fdca26"
             ],
             [
              1,
              "#f0f921"
             ]
            ],
            "type": "heatmapgl"
           }
          ],
          "histogram": [
           {
            "marker": {
             "pattern": {
              "fillmode": "overlay",
              "size": 10,
              "solidity": 0.2
             }
            },
            "type": "histogram"
           }
          ],
          "histogram2d": [
           {
            "colorbar": {
             "outlinewidth": 0,
             "ticks": ""
            },
            "colorscale": [
             [
              0,
              "#0d0887"
             ],
             [
              0.1111111111111111,
              "#46039f"
             ],
             [
              0.2222222222222222,
              "#7201a8"
             ],
             [
              0.3333333333333333,
              "#9c179e"
             ],
             [
              0.4444444444444444,
              "#bd3786"
             ],
             [
              0.5555555555555556,
              "#d8576b"
             ],
             [
              0.6666666666666666,
              "#ed7953"
             ],
             [
              0.7777777777777778,
              "#fb9f3a"
             ],
             [
              0.8888888888888888,
              "#fdca26"
             ],
             [
              1,
              "#f0f921"
             ]
            ],
            "type": "histogram2d"
           }
          ],
          "histogram2dcontour": [
           {
            "colorbar": {
             "outlinewidth": 0,
             "ticks": ""
            },
            "colorscale": [
             [
              0,
              "#0d0887"
             ],
             [
              0.1111111111111111,
              "#46039f"
             ],
             [
              0.2222222222222222,
              "#7201a8"
             ],
             [
              0.3333333333333333,
              "#9c179e"
             ],
             [
              0.4444444444444444,
              "#bd3786"
             ],
             [
              0.5555555555555556,
              "#d8576b"
             ],
             [
              0.6666666666666666,
              "#ed7953"
             ],
             [
              0.7777777777777778,
              "#fb9f3a"
             ],
             [
              0.8888888888888888,
              "#fdca26"
             ],
             [
              1,
              "#f0f921"
             ]
            ],
            "type": "histogram2dcontour"
           }
          ],
          "mesh3d": [
           {
            "colorbar": {
             "outlinewidth": 0,
             "ticks": ""
            },
            "type": "mesh3d"
           }
          ],
          "parcoords": [
           {
            "line": {
             "colorbar": {
              "outlinewidth": 0,
              "ticks": ""
             }
            },
            "type": "parcoords"
           }
          ],
          "pie": [
           {
            "automargin": true,
            "type": "pie"
           }
          ],
          "scatter": [
           {
            "marker": {
             "colorbar": {
              "outlinewidth": 0,
              "ticks": ""
             }
            },
            "type": "scatter"
           }
          ],
          "scatter3d": [
           {
            "line": {
             "colorbar": {
              "outlinewidth": 0,
              "ticks": ""
             }
            },
            "marker": {
             "colorbar": {
              "outlinewidth": 0,
              "ticks": ""
             }
            },
            "type": "scatter3d"
           }
          ],
          "scattercarpet": [
           {
            "marker": {
             "colorbar": {
              "outlinewidth": 0,
              "ticks": ""
             }
            },
            "type": "scattercarpet"
           }
          ],
          "scattergeo": [
           {
            "marker": {
             "colorbar": {
              "outlinewidth": 0,
              "ticks": ""
             }
            },
            "type": "scattergeo"
           }
          ],
          "scattergl": [
           {
            "marker": {
             "colorbar": {
              "outlinewidth": 0,
              "ticks": ""
             }
            },
            "type": "scattergl"
           }
          ],
          "scattermapbox": [
           {
            "marker": {
             "colorbar": {
              "outlinewidth": 0,
              "ticks": ""
             }
            },
            "type": "scattermapbox"
           }
          ],
          "scatterpolar": [
           {
            "marker": {
             "colorbar": {
              "outlinewidth": 0,
              "ticks": ""
             }
            },
            "type": "scatterpolar"
           }
          ],
          "scatterpolargl": [
           {
            "marker": {
             "colorbar": {
              "outlinewidth": 0,
              "ticks": ""
             }
            },
            "type": "scatterpolargl"
           }
          ],
          "scatterternary": [
           {
            "marker": {
             "colorbar": {
              "outlinewidth": 0,
              "ticks": ""
             }
            },
            "type": "scatterternary"
           }
          ],
          "surface": [
           {
            "colorbar": {
             "outlinewidth": 0,
             "ticks": ""
            },
            "colorscale": [
             [
              0,
              "#0d0887"
             ],
             [
              0.1111111111111111,
              "#46039f"
             ],
             [
              0.2222222222222222,
              "#7201a8"
             ],
             [
              0.3333333333333333,
              "#9c179e"
             ],
             [
              0.4444444444444444,
              "#bd3786"
             ],
             [
              0.5555555555555556,
              "#d8576b"
             ],
             [
              0.6666666666666666,
              "#ed7953"
             ],
             [
              0.7777777777777778,
              "#fb9f3a"
             ],
             [
              0.8888888888888888,
              "#fdca26"
             ],
             [
              1,
              "#f0f921"
             ]
            ],
            "type": "surface"
           }
          ],
          "table": [
           {
            "cells": {
             "fill": {
              "color": "#EBF0F8"
             },
             "line": {
              "color": "white"
             }
            },
            "header": {
             "fill": {
              "color": "#C8D4E3"
             },
             "line": {
              "color": "white"
             }
            },
            "type": "table"
           }
          ]
         },
         "layout": {
          "annotationdefaults": {
           "arrowcolor": "#2a3f5f",
           "arrowhead": 0,
           "arrowwidth": 1
          },
          "autotypenumbers": "strict",
          "coloraxis": {
           "colorbar": {
            "outlinewidth": 0,
            "ticks": ""
           }
          },
          "colorscale": {
           "diverging": [
            [
             0,
             "#8e0152"
            ],
            [
             0.1,
             "#c51b7d"
            ],
            [
             0.2,
             "#de77ae"
            ],
            [
             0.3,
             "#f1b6da"
            ],
            [
             0.4,
             "#fde0ef"
            ],
            [
             0.5,
             "#f7f7f7"
            ],
            [
             0.6,
             "#e6f5d0"
            ],
            [
             0.7,
             "#b8e186"
            ],
            [
             0.8,
             "#7fbc41"
            ],
            [
             0.9,
             "#4d9221"
            ],
            [
             1,
             "#276419"
            ]
           ],
           "sequential": [
            [
             0,
             "#0d0887"
            ],
            [
             0.1111111111111111,
             "#46039f"
            ],
            [
             0.2222222222222222,
             "#7201a8"
            ],
            [
             0.3333333333333333,
             "#9c179e"
            ],
            [
             0.4444444444444444,
             "#bd3786"
            ],
            [
             0.5555555555555556,
             "#d8576b"
            ],
            [
             0.6666666666666666,
             "#ed7953"
            ],
            [
             0.7777777777777778,
             "#fb9f3a"
            ],
            [
             0.8888888888888888,
             "#fdca26"
            ],
            [
             1,
             "#f0f921"
            ]
           ],
           "sequentialminus": [
            [
             0,
             "#0d0887"
            ],
            [
             0.1111111111111111,
             "#46039f"
            ],
            [
             0.2222222222222222,
             "#7201a8"
            ],
            [
             0.3333333333333333,
             "#9c179e"
            ],
            [
             0.4444444444444444,
             "#bd3786"
            ],
            [
             0.5555555555555556,
             "#d8576b"
            ],
            [
             0.6666666666666666,
             "#ed7953"
            ],
            [
             0.7777777777777778,
             "#fb9f3a"
            ],
            [
             0.8888888888888888,
             "#fdca26"
            ],
            [
             1,
             "#f0f921"
            ]
           ]
          },
          "colorway": [
           "#636efa",
           "#EF553B",
           "#00cc96",
           "#ab63fa",
           "#FFA15A",
           "#19d3f3",
           "#FF6692",
           "#B6E880",
           "#FF97FF",
           "#FECB52"
          ],
          "font": {
           "color": "#2a3f5f"
          },
          "geo": {
           "bgcolor": "white",
           "lakecolor": "white",
           "landcolor": "#E5ECF6",
           "showlakes": true,
           "showland": true,
           "subunitcolor": "white"
          },
          "hoverlabel": {
           "align": "left"
          },
          "hovermode": "closest",
          "mapbox": {
           "style": "light"
          },
          "paper_bgcolor": "white",
          "plot_bgcolor": "#E5ECF6",
          "polar": {
           "angularaxis": {
            "gridcolor": "white",
            "linecolor": "white",
            "ticks": ""
           },
           "bgcolor": "#E5ECF6",
           "radialaxis": {
            "gridcolor": "white",
            "linecolor": "white",
            "ticks": ""
           }
          },
          "scene": {
           "xaxis": {
            "backgroundcolor": "#E5ECF6",
            "gridcolor": "white",
            "gridwidth": 2,
            "linecolor": "white",
            "showbackground": true,
            "ticks": "",
            "zerolinecolor": "white"
           },
           "yaxis": {
            "backgroundcolor": "#E5ECF6",
            "gridcolor": "white",
            "gridwidth": 2,
            "linecolor": "white",
            "showbackground": true,
            "ticks": "",
            "zerolinecolor": "white"
           },
           "zaxis": {
            "backgroundcolor": "#E5ECF6",
            "gridcolor": "white",
            "gridwidth": 2,
            "linecolor": "white",
            "showbackground": true,
            "ticks": "",
            "zerolinecolor": "white"
           }
          },
          "shapedefaults": {
           "line": {
            "color": "#2a3f5f"
           }
          },
          "ternary": {
           "aaxis": {
            "gridcolor": "white",
            "linecolor": "white",
            "ticks": ""
           },
           "baxis": {
            "gridcolor": "white",
            "linecolor": "white",
            "ticks": ""
           },
           "bgcolor": "#E5ECF6",
           "caxis": {
            "gridcolor": "white",
            "linecolor": "white",
            "ticks": ""
           }
          },
          "title": {
           "x": 0.05
          },
          "xaxis": {
           "automargin": true,
           "gridcolor": "white",
           "linecolor": "white",
           "ticks": "",
           "title": {
            "standoff": 15
           },
           "zerolinecolor": "white",
           "zerolinewidth": 2
          },
          "yaxis": {
           "automargin": true,
           "gridcolor": "white",
           "linecolor": "white",
           "ticks": "",
           "title": {
            "standoff": 15
           },
           "zerolinecolor": "white",
           "zerolinewidth": 2
          }
         }
        }
       }
      }
     },
     "metadata": {},
     "output_type": "display_data"
    }
   ],
   "source": [
    "# parallel_categories()\n",
    "parallel_categories(census_df)"
   ]
  },
  {
   "cell_type": "code",
   "execution_count": 86,
   "metadata": {},
   "outputs": [
    {
     "data": {
      "application/vnd.plotly.v1+json": {
       "config": {
        "plotlyServerURL": "https://plot.ly"
       },
       "data": [
        {
         "dimensions": [
          {
           "label": "price per square foot",
           "values": [
            903.9932577166668,
            788.8448177,
            779.81084235,
            689.5558168,
            687.08757455,
            676.5065775285714,
            675.3502119833333,
            665.9640416428572,
            662.0136128428572,
            650.1244793000001
           ]
          },
          {
           "label": "housing units",
           "values": [
            377427.5,
            380348,
            375967.25,
            378401,
            382295,
            378401,
            378401,
            378401,
            378401,
            375805
           ]
          },
          {
           "label": "gross rent",
           "values": [
            2555.1666666666665,
            3414,
            2155.25,
            2817.285714285714,
            3959,
            2817.285714285714,
            2817.285714285714,
            2817.285714285714,
            2817.285714285714,
            2099
           ]
          }
         ],
         "domain": {
          "x": [
           0,
           1
          ],
          "y": [
           0,
           1
          ]
         },
         "line": {
          "color": [
           903.9932577166668,
           788.8448177,
           779.81084235,
           689.5558168,
           687.08757455,
           676.5065775285714,
           675.3502119833333,
           665.9640416428572,
           662.0136128428572,
           650.1244793000001
          ],
          "coloraxis": "coloraxis"
         },
         "name": "",
         "type": "parcoords"
        }
       ],
       "layout": {
        "coloraxis": {
         "colorbar": {
          "title": {
           "text": "price per square foot"
          }
         },
         "colorscale": [
          [
           0,
           "#0d0887"
          ],
          [
           0.1111111111111111,
           "#46039f"
          ],
          [
           0.2222222222222222,
           "#7201a8"
          ],
          [
           0.3333333333333333,
           "#9c179e"
          ],
          [
           0.4444444444444444,
           "#bd3786"
          ],
          [
           0.5555555555555556,
           "#d8576b"
          ],
          [
           0.6666666666666666,
           "#ed7953"
          ],
          [
           0.7777777777777778,
           "#fb9f3a"
          ],
          [
           0.8888888888888888,
           "#fdca26"
          ],
          [
           1,
           "#f0f921"
          ]
         ]
        },
        "legend": {
         "tracegroupgap": 0
        },
        "margin": {
         "t": 60
        },
        "template": {
         "data": {
          "bar": [
           {
            "error_x": {
             "color": "#2a3f5f"
            },
            "error_y": {
             "color": "#2a3f5f"
            },
            "marker": {
             "line": {
              "color": "#E5ECF6",
              "width": 0.5
             },
             "pattern": {
              "fillmode": "overlay",
              "size": 10,
              "solidity": 0.2
             }
            },
            "type": "bar"
           }
          ],
          "barpolar": [
           {
            "marker": {
             "line": {
              "color": "#E5ECF6",
              "width": 0.5
             },
             "pattern": {
              "fillmode": "overlay",
              "size": 10,
              "solidity": 0.2
             }
            },
            "type": "barpolar"
           }
          ],
          "carpet": [
           {
            "aaxis": {
             "endlinecolor": "#2a3f5f",
             "gridcolor": "white",
             "linecolor": "white",
             "minorgridcolor": "white",
             "startlinecolor": "#2a3f5f"
            },
            "baxis": {
             "endlinecolor": "#2a3f5f",
             "gridcolor": "white",
             "linecolor": "white",
             "minorgridcolor": "white",
             "startlinecolor": "#2a3f5f"
            },
            "type": "carpet"
           }
          ],
          "choropleth": [
           {
            "colorbar": {
             "outlinewidth": 0,
             "ticks": ""
            },
            "type": "choropleth"
           }
          ],
          "contour": [
           {
            "colorbar": {
             "outlinewidth": 0,
             "ticks": ""
            },
            "colorscale": [
             [
              0,
              "#0d0887"
             ],
             [
              0.1111111111111111,
              "#46039f"
             ],
             [
              0.2222222222222222,
              "#7201a8"
             ],
             [
              0.3333333333333333,
              "#9c179e"
             ],
             [
              0.4444444444444444,
              "#bd3786"
             ],
             [
              0.5555555555555556,
              "#d8576b"
             ],
             [
              0.6666666666666666,
              "#ed7953"
             ],
             [
              0.7777777777777778,
              "#fb9f3a"
             ],
             [
              0.8888888888888888,
              "#fdca26"
             ],
             [
              1,
              "#f0f921"
             ]
            ],
            "type": "contour"
           }
          ],
          "contourcarpet": [
           {
            "colorbar": {
             "outlinewidth": 0,
             "ticks": ""
            },
            "type": "contourcarpet"
           }
          ],
          "heatmap": [
           {
            "colorbar": {
             "outlinewidth": 0,
             "ticks": ""
            },
            "colorscale": [
             [
              0,
              "#0d0887"
             ],
             [
              0.1111111111111111,
              "#46039f"
             ],
             [
              0.2222222222222222,
              "#7201a8"
             ],
             [
              0.3333333333333333,
              "#9c179e"
             ],
             [
              0.4444444444444444,
              "#bd3786"
             ],
             [
              0.5555555555555556,
              "#d8576b"
             ],
             [
              0.6666666666666666,
              "#ed7953"
             ],
             [
              0.7777777777777778,
              "#fb9f3a"
             ],
             [
              0.8888888888888888,
              "#fdca26"
             ],
             [
              1,
              "#f0f921"
             ]
            ],
            "type": "heatmap"
           }
          ],
          "heatmapgl": [
           {
            "colorbar": {
             "outlinewidth": 0,
             "ticks": ""
            },
            "colorscale": [
             [
              0,
              "#0d0887"
             ],
             [
              0.1111111111111111,
              "#46039f"
             ],
             [
              0.2222222222222222,
              "#7201a8"
             ],
             [
              0.3333333333333333,
              "#9c179e"
             ],
             [
              0.4444444444444444,
              "#bd3786"
             ],
             [
              0.5555555555555556,
              "#d8576b"
             ],
             [
              0.6666666666666666,
              "#ed7953"
             ],
             [
              0.7777777777777778,
              "#fb9f3a"
             ],
             [
              0.8888888888888888,
              "#fdca26"
             ],
             [
              1,
              "#f0f921"
             ]
            ],
            "type": "heatmapgl"
           }
          ],
          "histogram": [
           {
            "marker": {
             "pattern": {
              "fillmode": "overlay",
              "size": 10,
              "solidity": 0.2
             }
            },
            "type": "histogram"
           }
          ],
          "histogram2d": [
           {
            "colorbar": {
             "outlinewidth": 0,
             "ticks": ""
            },
            "colorscale": [
             [
              0,
              "#0d0887"
             ],
             [
              0.1111111111111111,
              "#46039f"
             ],
             [
              0.2222222222222222,
              "#7201a8"
             ],
             [
              0.3333333333333333,
              "#9c179e"
             ],
             [
              0.4444444444444444,
              "#bd3786"
             ],
             [
              0.5555555555555556,
              "#d8576b"
             ],
             [
              0.6666666666666666,
              "#ed7953"
             ],
             [
              0.7777777777777778,
              "#fb9f3a"
             ],
             [
              0.8888888888888888,
              "#fdca26"
             ],
             [
              1,
              "#f0f921"
             ]
            ],
            "type": "histogram2d"
           }
          ],
          "histogram2dcontour": [
           {
            "colorbar": {
             "outlinewidth": 0,
             "ticks": ""
            },
            "colorscale": [
             [
              0,
              "#0d0887"
             ],
             [
              0.1111111111111111,
              "#46039f"
             ],
             [
              0.2222222222222222,
              "#7201a8"
             ],
             [
              0.3333333333333333,
              "#9c179e"
             ],
             [
              0.4444444444444444,
              "#bd3786"
             ],
             [
              0.5555555555555556,
              "#d8576b"
             ],
             [
              0.6666666666666666,
              "#ed7953"
             ],
             [
              0.7777777777777778,
              "#fb9f3a"
             ],
             [
              0.8888888888888888,
              "#fdca26"
             ],
             [
              1,
              "#f0f921"
             ]
            ],
            "type": "histogram2dcontour"
           }
          ],
          "mesh3d": [
           {
            "colorbar": {
             "outlinewidth": 0,
             "ticks": ""
            },
            "type": "mesh3d"
           }
          ],
          "parcoords": [
           {
            "line": {
             "colorbar": {
              "outlinewidth": 0,
              "ticks": ""
             }
            },
            "type": "parcoords"
           }
          ],
          "pie": [
           {
            "automargin": true,
            "type": "pie"
           }
          ],
          "scatter": [
           {
            "marker": {
             "colorbar": {
              "outlinewidth": 0,
              "ticks": ""
             }
            },
            "type": "scatter"
           }
          ],
          "scatter3d": [
           {
            "line": {
             "colorbar": {
              "outlinewidth": 0,
              "ticks": ""
             }
            },
            "marker": {
             "colorbar": {
              "outlinewidth": 0,
              "ticks": ""
             }
            },
            "type": "scatter3d"
           }
          ],
          "scattercarpet": [
           {
            "marker": {
             "colorbar": {
              "outlinewidth": 0,
              "ticks": ""
             }
            },
            "type": "scattercarpet"
           }
          ],
          "scattergeo": [
           {
            "marker": {
             "colorbar": {
              "outlinewidth": 0,
              "ticks": ""
             }
            },
            "type": "scattergeo"
           }
          ],
          "scattergl": [
           {
            "marker": {
             "colorbar": {
              "outlinewidth": 0,
              "ticks": ""
             }
            },
            "type": "scattergl"
           }
          ],
          "scattermapbox": [
           {
            "marker": {
             "colorbar": {
              "outlinewidth": 0,
              "ticks": ""
             }
            },
            "type": "scattermapbox"
           }
          ],
          "scatterpolar": [
           {
            "marker": {
             "colorbar": {
              "outlinewidth": 0,
              "ticks": ""
             }
            },
            "type": "scatterpolar"
           }
          ],
          "scatterpolargl": [
           {
            "marker": {
             "colorbar": {
              "outlinewidth": 0,
              "ticks": ""
             }
            },
            "type": "scatterpolargl"
           }
          ],
          "scatterternary": [
           {
            "marker": {
             "colorbar": {
              "outlinewidth": 0,
              "ticks": ""
             }
            },
            "type": "scatterternary"
           }
          ],
          "surface": [
           {
            "colorbar": {
             "outlinewidth": 0,
             "ticks": ""
            },
            "colorscale": [
             [
              0,
              "#0d0887"
             ],
             [
              0.1111111111111111,
              "#46039f"
             ],
             [
              0.2222222222222222,
              "#7201a8"
             ],
             [
              0.3333333333333333,
              "#9c179e"
             ],
             [
              0.4444444444444444,
              "#bd3786"
             ],
             [
              0.5555555555555556,
              "#d8576b"
             ],
             [
              0.6666666666666666,
              "#ed7953"
             ],
             [
              0.7777777777777778,
              "#fb9f3a"
             ],
             [
              0.8888888888888888,
              "#fdca26"
             ],
             [
              1,
              "#f0f921"
             ]
            ],
            "type": "surface"
           }
          ],
          "table": [
           {
            "cells": {
             "fill": {
              "color": "#EBF0F8"
             },
             "line": {
              "color": "white"
             }
            },
            "header": {
             "fill": {
              "color": "#C8D4E3"
             },
             "line": {
              "color": "white"
             }
            },
            "type": "table"
           }
          ]
         },
         "layout": {
          "annotationdefaults": {
           "arrowcolor": "#2a3f5f",
           "arrowhead": 0,
           "arrowwidth": 1
          },
          "autotypenumbers": "strict",
          "coloraxis": {
           "colorbar": {
            "outlinewidth": 0,
            "ticks": ""
           }
          },
          "colorscale": {
           "diverging": [
            [
             0,
             "#8e0152"
            ],
            [
             0.1,
             "#c51b7d"
            ],
            [
             0.2,
             "#de77ae"
            ],
            [
             0.3,
             "#f1b6da"
            ],
            [
             0.4,
             "#fde0ef"
            ],
            [
             0.5,
             "#f7f7f7"
            ],
            [
             0.6,
             "#e6f5d0"
            ],
            [
             0.7,
             "#b8e186"
            ],
            [
             0.8,
             "#7fbc41"
            ],
            [
             0.9,
             "#4d9221"
            ],
            [
             1,
             "#276419"
            ]
           ],
           "sequential": [
            [
             0,
             "#0d0887"
            ],
            [
             0.1111111111111111,
             "#46039f"
            ],
            [
             0.2222222222222222,
             "#7201a8"
            ],
            [
             0.3333333333333333,
             "#9c179e"
            ],
            [
             0.4444444444444444,
             "#bd3786"
            ],
            [
             0.5555555555555556,
             "#d8576b"
            ],
            [
             0.6666666666666666,
             "#ed7953"
            ],
            [
             0.7777777777777778,
             "#fb9f3a"
            ],
            [
             0.8888888888888888,
             "#fdca26"
            ],
            [
             1,
             "#f0f921"
            ]
           ],
           "sequentialminus": [
            [
             0,
             "#0d0887"
            ],
            [
             0.1111111111111111,
             "#46039f"
            ],
            [
             0.2222222222222222,
             "#7201a8"
            ],
            [
             0.3333333333333333,
             "#9c179e"
            ],
            [
             0.4444444444444444,
             "#bd3786"
            ],
            [
             0.5555555555555556,
             "#d8576b"
            ],
            [
             0.6666666666666666,
             "#ed7953"
            ],
            [
             0.7777777777777778,
             "#fb9f3a"
            ],
            [
             0.8888888888888888,
             "#fdca26"
            ],
            [
             1,
             "#f0f921"
            ]
           ]
          },
          "colorway": [
           "#636efa",
           "#EF553B",
           "#00cc96",
           "#ab63fa",
           "#FFA15A",
           "#19d3f3",
           "#FF6692",
           "#B6E880",
           "#FF97FF",
           "#FECB52"
          ],
          "font": {
           "color": "#2a3f5f"
          },
          "geo": {
           "bgcolor": "white",
           "lakecolor": "white",
           "landcolor": "#E5ECF6",
           "showlakes": true,
           "showland": true,
           "subunitcolor": "white"
          },
          "hoverlabel": {
           "align": "left"
          },
          "hovermode": "closest",
          "mapbox": {
           "style": "light"
          },
          "paper_bgcolor": "white",
          "plot_bgcolor": "#E5ECF6",
          "polar": {
           "angularaxis": {
            "gridcolor": "white",
            "linecolor": "white",
            "ticks": ""
           },
           "bgcolor": "#E5ECF6",
           "radialaxis": {
            "gridcolor": "white",
            "linecolor": "white",
            "ticks": ""
           }
          },
          "scene": {
           "xaxis": {
            "backgroundcolor": "#E5ECF6",
            "gridcolor": "white",
            "gridwidth": 2,
            "linecolor": "white",
            "showbackground": true,
            "ticks": "",
            "zerolinecolor": "white"
           },
           "yaxis": {
            "backgroundcolor": "#E5ECF6",
            "gridcolor": "white",
            "gridwidth": 2,
            "linecolor": "white",
            "showbackground": true,
            "ticks": "",
            "zerolinecolor": "white"
           },
           "zaxis": {
            "backgroundcolor": "#E5ECF6",
            "gridcolor": "white",
            "gridwidth": 2,
            "linecolor": "white",
            "showbackground": true,
            "ticks": "",
            "zerolinecolor": "white"
           }
          },
          "shapedefaults": {
           "line": {
            "color": "#2a3f5f"
           }
          },
          "ternary": {
           "aaxis": {
            "gridcolor": "white",
            "linecolor": "white",
            "ticks": ""
           },
           "baxis": {
            "gridcolor": "white",
            "linecolor": "white",
            "ticks": ""
           },
           "bgcolor": "#E5ECF6",
           "caxis": {
            "gridcolor": "white",
            "linecolor": "white",
            "ticks": ""
           }
          },
          "title": {
           "x": 0.05
          },
          "xaxis": {
           "automargin": true,
           "gridcolor": "white",
           "linecolor": "white",
           "ticks": "",
           "title": {
            "standoff": 15
           },
           "zerolinecolor": "white",
           "zerolinewidth": 2
          },
          "yaxis": {
           "automargin": true,
           "gridcolor": "white",
           "linecolor": "white",
           "ticks": "",
           "title": {
            "standoff": 15
           },
           "zerolinecolor": "white",
           "zerolinewidth": 2
          }
         }
        }
       }
      }
     },
     "metadata": {},
     "output_type": "display_data"
    }
   ],
   "source": [
    "# parallel_coordinates()\n",
    "parallel_coordinates(census_df)"
   ]
  },
  {
   "cell_type": "code",
   "execution_count": 33,
   "metadata": {},
   "outputs": [],
   "source": []
  },
  {
   "cell_type": "code",
   "execution_count": null,
   "metadata": {},
   "outputs": [],
   "source": []
  }
 ],
 "metadata": {
  "file_extension": ".py",
  "interpreter": {
   "hash": "980205d95e88bc76b4c227990767e8f5c98cdfd04d03f0bcee277900cd335083"
  },
  "kernelspec": {
   "display_name": "Python 3.7.11 ('pyvizenv')",
   "language": "python",
   "name": "python3"
  },
  "language_info": {
   "codemirror_mode": {
    "name": "ipython",
    "version": 3
   },
   "file_extension": ".py",
   "mimetype": "text/x-python",
   "name": "python",
   "nbconvert_exporter": "python",
   "pygments_lexer": "ipython3",
   "version": "3.7.11"
  },
  "mimetype": "text/x-python",
  "name": "python",
  "npconvert_exporter": "python",
  "pygments_lexer": "ipython3",
  "version": 3
 },
 "nbformat": 4,
 "nbformat_minor": 4
}
